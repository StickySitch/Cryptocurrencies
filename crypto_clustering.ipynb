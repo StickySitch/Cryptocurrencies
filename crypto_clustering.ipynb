{
 "cells": [
  {
   "cell_type": "markdown",
   "metadata": {},
   "source": [
    "# Clustering Crypto"
   ]
  },
  {
   "cell_type": "code",
   "execution_count": 27,
   "metadata": {},
   "outputs": [],
   "source": [
    "# Initial imports\n",
    "import pandas as pd\n",
    "import hvplot.pandas\n",
    "from path import Path\n",
    "import plotly.express as px\n",
    "from sklearn.preprocessing import StandardScaler, MinMaxScaler\n",
    "from sklearn.decomposition import PCA\n",
    "from sklearn.cluster import KMeans\n",
    "from sklearn.preprocessing import LabelEncoder\n"
   ]
  },
  {
   "cell_type": "markdown",
   "metadata": {},
   "source": [
    "### Deliverable 1: Preprocessing the Data for PCA"
   ]
  },
  {
   "cell_type": "code",
   "execution_count": 28,
   "metadata": {
    "pycharm": {
     "name": "#%%\n"
    }
   },
   "outputs": [
    {
     "data": {
      "text/plain": "      CoinName Algorithm  IsTrading ProofType  TotalCoinsMined TotalCoinSupply\n42     42 Coin    Scrypt       True   PoW/PoS     4.199995e+01              42\n365    365Coin       X11       True   PoW/PoS              NaN      2300000000\n404    404Coin    Scrypt       True   PoW/PoS     1.055185e+09       532000000\n611  SixEleven   SHA-256       True       PoW              NaN          611000\n808        808   SHA-256       True   PoW/PoS     0.000000e+00               0",
      "text/html": "<div>\n<style scoped>\n    .dataframe tbody tr th:only-of-type {\n        vertical-align: middle;\n    }\n\n    .dataframe tbody tr th {\n        vertical-align: top;\n    }\n\n    .dataframe thead th {\n        text-align: right;\n    }\n</style>\n<table border=\"1\" class=\"dataframe\">\n  <thead>\n    <tr style=\"text-align: right;\">\n      <th></th>\n      <th>CoinName</th>\n      <th>Algorithm</th>\n      <th>IsTrading</th>\n      <th>ProofType</th>\n      <th>TotalCoinsMined</th>\n      <th>TotalCoinSupply</th>\n    </tr>\n  </thead>\n  <tbody>\n    <tr>\n      <th>42</th>\n      <td>42 Coin</td>\n      <td>Scrypt</td>\n      <td>True</td>\n      <td>PoW/PoS</td>\n      <td>4.199995e+01</td>\n      <td>42</td>\n    </tr>\n    <tr>\n      <th>365</th>\n      <td>365Coin</td>\n      <td>X11</td>\n      <td>True</td>\n      <td>PoW/PoS</td>\n      <td>NaN</td>\n      <td>2300000000</td>\n    </tr>\n    <tr>\n      <th>404</th>\n      <td>404Coin</td>\n      <td>Scrypt</td>\n      <td>True</td>\n      <td>PoW/PoS</td>\n      <td>1.055185e+09</td>\n      <td>532000000</td>\n    </tr>\n    <tr>\n      <th>611</th>\n      <td>SixEleven</td>\n      <td>SHA-256</td>\n      <td>True</td>\n      <td>PoW</td>\n      <td>NaN</td>\n      <td>611000</td>\n    </tr>\n    <tr>\n      <th>808</th>\n      <td>808</td>\n      <td>SHA-256</td>\n      <td>True</td>\n      <td>PoW/PoS</td>\n      <td>0.000000e+00</td>\n      <td>0</td>\n    </tr>\n  </tbody>\n</table>\n</div>"
     },
     "execution_count": 28,
     "metadata": {},
     "output_type": "execute_result"
    }
   ],
   "source": [
    "# Loading the crypto_data.csv dataset.\n",
    "filePath = Path('Resources/crypto_data.csv')\n",
    "cryptoDf = pd.read_csv(filePath, index_col=0)\n",
    "cryptoDf.head()"
   ]
  },
  {
   "cell_type": "code",
   "execution_count": 29,
   "metadata": {
    "pycharm": {
     "name": "#%%\n"
    }
   },
   "outputs": [
    {
     "data": {
      "text/plain": "CoinName            object\nAlgorithm           object\nIsTrading             bool\nProofType           object\nTotalCoinsMined    float64\nTotalCoinSupply     object\ndtype: object"
     },
     "execution_count": 29,
     "metadata": {},
     "output_type": "execute_result"
    }
   ],
   "source": [
    "# Checking Value type for each column\n",
    "cryptoDf.dtypes"
   ]
  },
  {
   "cell_type": "code",
   "execution_count": 30,
   "metadata": {
    "pycharm": {
     "name": "#%%\n"
    }
   },
   "outputs": [
    {
     "data": {
      "text/plain": "         CoinName    Algorithm  IsTrading ProofType  TotalCoinsMined  \\\n42        42 Coin       Scrypt       True   PoW/PoS     4.199995e+01   \n365       365Coin          X11       True   PoW/PoS              NaN   \n404       404Coin       Scrypt       True   PoW/PoS     1.055185e+09   \n611     SixEleven      SHA-256       True       PoW              NaN   \n808           808      SHA-256       True   PoW/PoS     0.000000e+00   \n...           ...          ...        ...       ...              ...   \nSERO   Super Zero       Ethash       True       PoW              NaN   \nUOS           UOS      SHA-256       True      DPoI              NaN   \nBDX        Beldex  CryptoNight       True       PoW     9.802226e+08   \nZEN       Horizen     Equihash       True       PoW     7.296538e+06   \nXBC   BitcoinPlus       Scrypt       True       PoS     1.283270e+05   \n\n     TotalCoinSupply  \n42                42  \n365       2300000000  \n404        532000000  \n611           611000  \n808                0  \n...              ...  \nSERO      1000000000  \nUOS       1000000000  \nBDX       1400222610  \nZEN         21000000  \nXBC          1000000  \n\n[1144 rows x 6 columns]",
      "text/html": "<div>\n<style scoped>\n    .dataframe tbody tr th:only-of-type {\n        vertical-align: middle;\n    }\n\n    .dataframe tbody tr th {\n        vertical-align: top;\n    }\n\n    .dataframe thead th {\n        text-align: right;\n    }\n</style>\n<table border=\"1\" class=\"dataframe\">\n  <thead>\n    <tr style=\"text-align: right;\">\n      <th></th>\n      <th>CoinName</th>\n      <th>Algorithm</th>\n      <th>IsTrading</th>\n      <th>ProofType</th>\n      <th>TotalCoinsMined</th>\n      <th>TotalCoinSupply</th>\n    </tr>\n  </thead>\n  <tbody>\n    <tr>\n      <th>42</th>\n      <td>42 Coin</td>\n      <td>Scrypt</td>\n      <td>True</td>\n      <td>PoW/PoS</td>\n      <td>4.199995e+01</td>\n      <td>42</td>\n    </tr>\n    <tr>\n      <th>365</th>\n      <td>365Coin</td>\n      <td>X11</td>\n      <td>True</td>\n      <td>PoW/PoS</td>\n      <td>NaN</td>\n      <td>2300000000</td>\n    </tr>\n    <tr>\n      <th>404</th>\n      <td>404Coin</td>\n      <td>Scrypt</td>\n      <td>True</td>\n      <td>PoW/PoS</td>\n      <td>1.055185e+09</td>\n      <td>532000000</td>\n    </tr>\n    <tr>\n      <th>611</th>\n      <td>SixEleven</td>\n      <td>SHA-256</td>\n      <td>True</td>\n      <td>PoW</td>\n      <td>NaN</td>\n      <td>611000</td>\n    </tr>\n    <tr>\n      <th>808</th>\n      <td>808</td>\n      <td>SHA-256</td>\n      <td>True</td>\n      <td>PoW/PoS</td>\n      <td>0.000000e+00</td>\n      <td>0</td>\n    </tr>\n    <tr>\n      <th>...</th>\n      <td>...</td>\n      <td>...</td>\n      <td>...</td>\n      <td>...</td>\n      <td>...</td>\n      <td>...</td>\n    </tr>\n    <tr>\n      <th>SERO</th>\n      <td>Super Zero</td>\n      <td>Ethash</td>\n      <td>True</td>\n      <td>PoW</td>\n      <td>NaN</td>\n      <td>1000000000</td>\n    </tr>\n    <tr>\n      <th>UOS</th>\n      <td>UOS</td>\n      <td>SHA-256</td>\n      <td>True</td>\n      <td>DPoI</td>\n      <td>NaN</td>\n      <td>1000000000</td>\n    </tr>\n    <tr>\n      <th>BDX</th>\n      <td>Beldex</td>\n      <td>CryptoNight</td>\n      <td>True</td>\n      <td>PoW</td>\n      <td>9.802226e+08</td>\n      <td>1400222610</td>\n    </tr>\n    <tr>\n      <th>ZEN</th>\n      <td>Horizen</td>\n      <td>Equihash</td>\n      <td>True</td>\n      <td>PoW</td>\n      <td>7.296538e+06</td>\n      <td>21000000</td>\n    </tr>\n    <tr>\n      <th>XBC</th>\n      <td>BitcoinPlus</td>\n      <td>Scrypt</td>\n      <td>True</td>\n      <td>PoS</td>\n      <td>1.283270e+05</td>\n      <td>1000000</td>\n    </tr>\n  </tbody>\n</table>\n<p>1144 rows × 6 columns</p>\n</div>"
     },
     "execution_count": 30,
     "metadata": {},
     "output_type": "execute_result"
    }
   ],
   "source": [
    "# Keeping all the cryptocurrencies that are being traded by filtering the data frame\n",
    "cryptoTradingDf = cryptoDf[cryptoDf['IsTrading'] == True]\n",
    "cryptoTradingDf"
   ]
  },
  {
   "cell_type": "code",
   "execution_count": 31,
   "metadata": {
    "pycharm": {
     "name": "#%%\n"
    }
   },
   "outputs": [
    {
     "data": {
      "text/plain": "CoinName  Algorithm  IsTrading  ProofType  TotalCoinsMined  TotalCoinSupply\nFalse     False      False      False      False            False              685\n                                           True             False              459\ndtype: int64"
     },
     "execution_count": 31,
     "metadata": {},
     "output_type": "execute_result"
    }
   ],
   "source": [
    "# Looking for columns with null values\n",
    "cryptoTradingDf.isnull().value_counts()"
   ]
  },
  {
   "cell_type": "code",
   "execution_count": 32,
   "metadata": {
    "pycharm": {
     "name": "#%%\n"
    }
   },
   "outputs": [
    {
     "name": "stderr",
     "output_type": "stream",
     "text": [
      "C:\\Users\\fuzzy\\AppData\\Local\\Temp/ipykernel_37084/1015458321.py:2: SettingWithCopyWarning:\n",
      "\n",
      "\n",
      "A value is trying to be set on a copy of a slice from a DataFrame\n",
      "\n",
      "See the caveats in the documentation: https://pandas.pydata.org/pandas-docs/stable/user_guide/indexing.html#returning-a-view-versus-a-copy\n",
      "\n"
     ]
    },
    {
     "data": {
      "text/plain": "      CoinName Algorithm ProofType  TotalCoinsMined TotalCoinSupply\n42     42 Coin    Scrypt   PoW/PoS     4.199995e+01              42\n365    365Coin       X11   PoW/PoS              NaN      2300000000\n404    404Coin    Scrypt   PoW/PoS     1.055185e+09       532000000\n611  SixEleven   SHA-256       PoW              NaN          611000\n808        808   SHA-256   PoW/PoS     0.000000e+00               0",
      "text/html": "<div>\n<style scoped>\n    .dataframe tbody tr th:only-of-type {\n        vertical-align: middle;\n    }\n\n    .dataframe tbody tr th {\n        vertical-align: top;\n    }\n\n    .dataframe thead th {\n        text-align: right;\n    }\n</style>\n<table border=\"1\" class=\"dataframe\">\n  <thead>\n    <tr style=\"text-align: right;\">\n      <th></th>\n      <th>CoinName</th>\n      <th>Algorithm</th>\n      <th>ProofType</th>\n      <th>TotalCoinsMined</th>\n      <th>TotalCoinSupply</th>\n    </tr>\n  </thead>\n  <tbody>\n    <tr>\n      <th>42</th>\n      <td>42 Coin</td>\n      <td>Scrypt</td>\n      <td>PoW/PoS</td>\n      <td>4.199995e+01</td>\n      <td>42</td>\n    </tr>\n    <tr>\n      <th>365</th>\n      <td>365Coin</td>\n      <td>X11</td>\n      <td>PoW/PoS</td>\n      <td>NaN</td>\n      <td>2300000000</td>\n    </tr>\n    <tr>\n      <th>404</th>\n      <td>404Coin</td>\n      <td>Scrypt</td>\n      <td>PoW/PoS</td>\n      <td>1.055185e+09</td>\n      <td>532000000</td>\n    </tr>\n    <tr>\n      <th>611</th>\n      <td>SixEleven</td>\n      <td>SHA-256</td>\n      <td>PoW</td>\n      <td>NaN</td>\n      <td>611000</td>\n    </tr>\n    <tr>\n      <th>808</th>\n      <td>808</td>\n      <td>SHA-256</td>\n      <td>PoW/PoS</td>\n      <td>0.000000e+00</td>\n      <td>0</td>\n    </tr>\n  </tbody>\n</table>\n</div>"
     },
     "execution_count": 32,
     "metadata": {},
     "output_type": "execute_result"
    }
   ],
   "source": [
    "# Removing the \"IsTrading column.\n",
    "cryptoTradingDf.drop(columns=['IsTrading'], axis=1, inplace=True)\n",
    "cryptoTradingDf.head()\n"
   ]
  },
  {
   "cell_type": "code",
   "execution_count": 33,
   "metadata": {},
   "outputs": [
    {
     "name": "stderr",
     "output_type": "stream",
     "text": [
      "C:\\Users\\fuzzy\\AppData\\Local\\Temp/ipykernel_37084/493071423.py:2: SettingWithCopyWarning:\n",
      "\n",
      "\n",
      "A value is trying to be set on a copy of a slice from a DataFrame\n",
      "\n",
      "See the caveats in the documentation: https://pandas.pydata.org/pandas-docs/stable/user_guide/indexing.html#returning-a-view-versus-a-copy\n",
      "\n"
     ]
    },
    {
     "data": {
      "text/plain": "         CoinName    Algorithm ProofType  TotalCoinsMined TotalCoinSupply\n42        42 Coin       Scrypt   PoW/PoS     4.199995e+01              42\n404       404Coin       Scrypt   PoW/PoS     1.055185e+09       532000000\n808           808      SHA-256   PoW/PoS     0.000000e+00               0\n1337    EliteCoin          X13   PoW/PoS     2.927942e+10    314159265359\nBTC       Bitcoin      SHA-256       PoW     1.792718e+07        21000000\n...           ...          ...       ...              ...             ...\nZEPH       ZEPHYR      SHA-256      DPoS     2.000000e+09      2000000000\nGAP       Gapcoin       Scrypt   PoW/PoS     1.493105e+07       250000000\nBDX        Beldex  CryptoNight       PoW     9.802226e+08      1400222610\nZEN       Horizen     Equihash       PoW     7.296538e+06        21000000\nXBC   BitcoinPlus       Scrypt       PoS     1.283270e+05         1000000\n\n[685 rows x 5 columns]",
      "text/html": "<div>\n<style scoped>\n    .dataframe tbody tr th:only-of-type {\n        vertical-align: middle;\n    }\n\n    .dataframe tbody tr th {\n        vertical-align: top;\n    }\n\n    .dataframe thead th {\n        text-align: right;\n    }\n</style>\n<table border=\"1\" class=\"dataframe\">\n  <thead>\n    <tr style=\"text-align: right;\">\n      <th></th>\n      <th>CoinName</th>\n      <th>Algorithm</th>\n      <th>ProofType</th>\n      <th>TotalCoinsMined</th>\n      <th>TotalCoinSupply</th>\n    </tr>\n  </thead>\n  <tbody>\n    <tr>\n      <th>42</th>\n      <td>42 Coin</td>\n      <td>Scrypt</td>\n      <td>PoW/PoS</td>\n      <td>4.199995e+01</td>\n      <td>42</td>\n    </tr>\n    <tr>\n      <th>404</th>\n      <td>404Coin</td>\n      <td>Scrypt</td>\n      <td>PoW/PoS</td>\n      <td>1.055185e+09</td>\n      <td>532000000</td>\n    </tr>\n    <tr>\n      <th>808</th>\n      <td>808</td>\n      <td>SHA-256</td>\n      <td>PoW/PoS</td>\n      <td>0.000000e+00</td>\n      <td>0</td>\n    </tr>\n    <tr>\n      <th>1337</th>\n      <td>EliteCoin</td>\n      <td>X13</td>\n      <td>PoW/PoS</td>\n      <td>2.927942e+10</td>\n      <td>314159265359</td>\n    </tr>\n    <tr>\n      <th>BTC</th>\n      <td>Bitcoin</td>\n      <td>SHA-256</td>\n      <td>PoW</td>\n      <td>1.792718e+07</td>\n      <td>21000000</td>\n    </tr>\n    <tr>\n      <th>...</th>\n      <td>...</td>\n      <td>...</td>\n      <td>...</td>\n      <td>...</td>\n      <td>...</td>\n    </tr>\n    <tr>\n      <th>ZEPH</th>\n      <td>ZEPHYR</td>\n      <td>SHA-256</td>\n      <td>DPoS</td>\n      <td>2.000000e+09</td>\n      <td>2000000000</td>\n    </tr>\n    <tr>\n      <th>GAP</th>\n      <td>Gapcoin</td>\n      <td>Scrypt</td>\n      <td>PoW/PoS</td>\n      <td>1.493105e+07</td>\n      <td>250000000</td>\n    </tr>\n    <tr>\n      <th>BDX</th>\n      <td>Beldex</td>\n      <td>CryptoNight</td>\n      <td>PoW</td>\n      <td>9.802226e+08</td>\n      <td>1400222610</td>\n    </tr>\n    <tr>\n      <th>ZEN</th>\n      <td>Horizen</td>\n      <td>Equihash</td>\n      <td>PoW</td>\n      <td>7.296538e+06</td>\n      <td>21000000</td>\n    </tr>\n    <tr>\n      <th>XBC</th>\n      <td>BitcoinPlus</td>\n      <td>Scrypt</td>\n      <td>PoS</td>\n      <td>1.283270e+05</td>\n      <td>1000000</td>\n    </tr>\n  </tbody>\n</table>\n<p>685 rows × 5 columns</p>\n</div>"
     },
     "execution_count": 33,
     "metadata": {},
     "output_type": "execute_result"
    }
   ],
   "source": [
    "# Remove rows that have at least 1 null value.\n",
    "cryptoTradingDf.dropna(inplace=True)\n",
    "cryptoTradingDf"
   ]
  },
  {
   "cell_type": "code",
   "execution_count": 34,
   "metadata": {
    "pycharm": {
     "name": "#%%\n"
    }
   },
   "outputs": [
    {
     "data": {
      "text/plain": "         CoinName    Algorithm ProofType  TotalCoinsMined TotalCoinSupply\n42        42 Coin       Scrypt   PoW/PoS     4.199995e+01              42\n404       404Coin       Scrypt   PoW/PoS     1.055185e+09       532000000\n1337    EliteCoin          X13   PoW/PoS     2.927942e+10    314159265359\nBTC       Bitcoin      SHA-256       PoW     1.792718e+07        21000000\nETH      Ethereum       Ethash       PoW     1.076842e+08               0\n...           ...          ...       ...              ...             ...\nZEPH       ZEPHYR      SHA-256      DPoS     2.000000e+09      2000000000\nGAP       Gapcoin       Scrypt   PoW/PoS     1.493105e+07       250000000\nBDX        Beldex  CryptoNight       PoW     9.802226e+08      1400222610\nZEN       Horizen     Equihash       PoW     7.296538e+06        21000000\nXBC   BitcoinPlus       Scrypt       PoS     1.283270e+05         1000000\n\n[532 rows x 5 columns]",
      "text/html": "<div>\n<style scoped>\n    .dataframe tbody tr th:only-of-type {\n        vertical-align: middle;\n    }\n\n    .dataframe tbody tr th {\n        vertical-align: top;\n    }\n\n    .dataframe thead th {\n        text-align: right;\n    }\n</style>\n<table border=\"1\" class=\"dataframe\">\n  <thead>\n    <tr style=\"text-align: right;\">\n      <th></th>\n      <th>CoinName</th>\n      <th>Algorithm</th>\n      <th>ProofType</th>\n      <th>TotalCoinsMined</th>\n      <th>TotalCoinSupply</th>\n    </tr>\n  </thead>\n  <tbody>\n    <tr>\n      <th>42</th>\n      <td>42 Coin</td>\n      <td>Scrypt</td>\n      <td>PoW/PoS</td>\n      <td>4.199995e+01</td>\n      <td>42</td>\n    </tr>\n    <tr>\n      <th>404</th>\n      <td>404Coin</td>\n      <td>Scrypt</td>\n      <td>PoW/PoS</td>\n      <td>1.055185e+09</td>\n      <td>532000000</td>\n    </tr>\n    <tr>\n      <th>1337</th>\n      <td>EliteCoin</td>\n      <td>X13</td>\n      <td>PoW/PoS</td>\n      <td>2.927942e+10</td>\n      <td>314159265359</td>\n    </tr>\n    <tr>\n      <th>BTC</th>\n      <td>Bitcoin</td>\n      <td>SHA-256</td>\n      <td>PoW</td>\n      <td>1.792718e+07</td>\n      <td>21000000</td>\n    </tr>\n    <tr>\n      <th>ETH</th>\n      <td>Ethereum</td>\n      <td>Ethash</td>\n      <td>PoW</td>\n      <td>1.076842e+08</td>\n      <td>0</td>\n    </tr>\n    <tr>\n      <th>...</th>\n      <td>...</td>\n      <td>...</td>\n      <td>...</td>\n      <td>...</td>\n      <td>...</td>\n    </tr>\n    <tr>\n      <th>ZEPH</th>\n      <td>ZEPHYR</td>\n      <td>SHA-256</td>\n      <td>DPoS</td>\n      <td>2.000000e+09</td>\n      <td>2000000000</td>\n    </tr>\n    <tr>\n      <th>GAP</th>\n      <td>Gapcoin</td>\n      <td>Scrypt</td>\n      <td>PoW/PoS</td>\n      <td>1.493105e+07</td>\n      <td>250000000</td>\n    </tr>\n    <tr>\n      <th>BDX</th>\n      <td>Beldex</td>\n      <td>CryptoNight</td>\n      <td>PoW</td>\n      <td>9.802226e+08</td>\n      <td>1400222610</td>\n    </tr>\n    <tr>\n      <th>ZEN</th>\n      <td>Horizen</td>\n      <td>Equihash</td>\n      <td>PoW</td>\n      <td>7.296538e+06</td>\n      <td>21000000</td>\n    </tr>\n    <tr>\n      <th>XBC</th>\n      <td>BitcoinPlus</td>\n      <td>Scrypt</td>\n      <td>PoS</td>\n      <td>1.283270e+05</td>\n      <td>1000000</td>\n    </tr>\n  </tbody>\n</table>\n<p>532 rows × 5 columns</p>\n</div>"
     },
     "execution_count": 34,
     "metadata": {},
     "output_type": "execute_result"
    }
   ],
   "source": [
    "# Keeping the rows where coins are mined.\n",
    "cryptoTradingDf = cryptoTradingDf[cryptoTradingDf['TotalCoinsMined'] > 0]\n",
    "cryptoTradingDf"
   ]
  },
  {
   "cell_type": "code",
   "execution_count": 35,
   "metadata": {
    "pycharm": {
     "name": "#%%\n"
    }
   },
   "outputs": [
    {
     "data": {
      "text/plain": "42          42 Coin\n404         404Coin\n1337      EliteCoin\nBTC         Bitcoin\nETH        Ethereum\n           ...     \nZEPH         ZEPHYR\nGAP         Gapcoin\nBDX          Beldex\nZEN         Horizen\nXBC     BitcoinPlus\nName: CoinName, Length: 532, dtype: object"
     },
     "execution_count": 35,
     "metadata": {},
     "output_type": "execute_result"
    }
   ],
   "source": [
    "# Creating a new DataFrame that holds only the cryptocurrencies names.\n",
    "cryptoNameDf = cryptoTradingDf['CoinName']\n",
    "cryptoNameDf"
   ]
  },
  {
   "cell_type": "code",
   "execution_count": 36,
   "metadata": {},
   "outputs": [
    {
     "name": "stderr",
     "output_type": "stream",
     "text": [
      "C:\\Users\\fuzzy\\AppData\\Local\\Temp/ipykernel_37084/559241217.py:2: SettingWithCopyWarning:\n",
      "\n",
      "\n",
      "A value is trying to be set on a copy of a slice from a DataFrame\n",
      "\n",
      "See the caveats in the documentation: https://pandas.pydata.org/pandas-docs/stable/user_guide/indexing.html#returning-a-view-versus-a-copy\n",
      "\n"
     ]
    },
    {
     "data": {
      "text/plain": "     Algorithm ProofType  TotalCoinsMined TotalCoinSupply\n42      Scrypt   PoW/PoS     4.199995e+01              42\n404     Scrypt   PoW/PoS     1.055185e+09       532000000\n1337       X13   PoW/PoS     2.927942e+10    314159265359\nBTC    SHA-256       PoW     1.792718e+07        21000000\nETH     Ethash       PoW     1.076842e+08               0",
      "text/html": "<div>\n<style scoped>\n    .dataframe tbody tr th:only-of-type {\n        vertical-align: middle;\n    }\n\n    .dataframe tbody tr th {\n        vertical-align: top;\n    }\n\n    .dataframe thead th {\n        text-align: right;\n    }\n</style>\n<table border=\"1\" class=\"dataframe\">\n  <thead>\n    <tr style=\"text-align: right;\">\n      <th></th>\n      <th>Algorithm</th>\n      <th>ProofType</th>\n      <th>TotalCoinsMined</th>\n      <th>TotalCoinSupply</th>\n    </tr>\n  </thead>\n  <tbody>\n    <tr>\n      <th>42</th>\n      <td>Scrypt</td>\n      <td>PoW/PoS</td>\n      <td>4.199995e+01</td>\n      <td>42</td>\n    </tr>\n    <tr>\n      <th>404</th>\n      <td>Scrypt</td>\n      <td>PoW/PoS</td>\n      <td>1.055185e+09</td>\n      <td>532000000</td>\n    </tr>\n    <tr>\n      <th>1337</th>\n      <td>X13</td>\n      <td>PoW/PoS</td>\n      <td>2.927942e+10</td>\n      <td>314159265359</td>\n    </tr>\n    <tr>\n      <th>BTC</th>\n      <td>SHA-256</td>\n      <td>PoW</td>\n      <td>1.792718e+07</td>\n      <td>21000000</td>\n    </tr>\n    <tr>\n      <th>ETH</th>\n      <td>Ethash</td>\n      <td>PoW</td>\n      <td>1.076842e+08</td>\n      <td>0</td>\n    </tr>\n  </tbody>\n</table>\n</div>"
     },
     "execution_count": 36,
     "metadata": {},
     "output_type": "execute_result"
    }
   ],
   "source": [
    "# Dropping the 'CoinName' column since it's not going to be used on the clustering algorithm.\n",
    "cryptoTradingDf.drop(columns=['CoinName'], axis=1, inplace=True)\n",
    "cryptoTradingDf.head()"
   ]
  },
  {
   "cell_type": "code",
   "execution_count": 37,
   "metadata": {
    "pycharm": {
     "name": "#%%\n"
    }
   },
   "outputs": [
    {
     "data": {
      "text/plain": "      TotalCoinsMined TotalCoinSupply  Algorithm_1GB AES Pattern Search  \\\n42       4.199995e+01              42                                 0   \n404      1.055185e+09       532000000                                 0   \n1337     2.927942e+10    314159265359                                 0   \nBTC      1.792718e+07        21000000                                 0   \nETH      1.076842e+08               0                                 0   \n\n      Algorithm_536  Algorithm_Argon2d  Algorithm_BLAKE256  Algorithm_Blake  \\\n42                0                  0                   0                0   \n404               0                  0                   0                0   \n1337              0                  0                   0                0   \nBTC               0                  0                   0                0   \nETH               0                  0                   0                0   \n\n      Algorithm_Blake2S  Algorithm_Blake2b  Algorithm_C11  ...  \\\n42                    0                  0              0  ...   \n404                   0                  0              0  ...   \n1337                  0                  0              0  ...   \nBTC                   0                  0              0  ...   \nETH                   0                  0              0  ...   \n\n      ProofType_PoW/PoS  ProofType_PoW/PoS   ProofType_PoW/PoW  \\\n42                    1                   0                  0   \n404                   1                   0                  0   \n1337                  1                   0                  0   \nBTC                   0                   0                  0   \nETH                   0                   0                  0   \n\n      ProofType_PoW/nPoS  ProofType_Pos  ProofType_Proof of Authority  \\\n42                     0              0                             0   \n404                    0              0                             0   \n1337                   0              0                             0   \nBTC                    0              0                             0   \nETH                    0              0                             0   \n\n      ProofType_Proof of Trust  ProofType_TPoS  \\\n42                           0               0   \n404                          0               0   \n1337                         0               0   \nBTC                          0               0   \nETH                          0               0   \n\n      ProofType_Zero-Knowledge Proof  ProofType_dPoW/PoW  \n42                                 0                   0  \n404                                0                   0  \n1337                               0                   0  \nBTC                                0                   0  \nETH                                0                   0  \n\n[5 rows x 98 columns]",
      "text/html": "<div>\n<style scoped>\n    .dataframe tbody tr th:only-of-type {\n        vertical-align: middle;\n    }\n\n    .dataframe tbody tr th {\n        vertical-align: top;\n    }\n\n    .dataframe thead th {\n        text-align: right;\n    }\n</style>\n<table border=\"1\" class=\"dataframe\">\n  <thead>\n    <tr style=\"text-align: right;\">\n      <th></th>\n      <th>TotalCoinsMined</th>\n      <th>TotalCoinSupply</th>\n      <th>Algorithm_1GB AES Pattern Search</th>\n      <th>Algorithm_536</th>\n      <th>Algorithm_Argon2d</th>\n      <th>Algorithm_BLAKE256</th>\n      <th>Algorithm_Blake</th>\n      <th>Algorithm_Blake2S</th>\n      <th>Algorithm_Blake2b</th>\n      <th>Algorithm_C11</th>\n      <th>...</th>\n      <th>ProofType_PoW/PoS</th>\n      <th>ProofType_PoW/PoS</th>\n      <th>ProofType_PoW/PoW</th>\n      <th>ProofType_PoW/nPoS</th>\n      <th>ProofType_Pos</th>\n      <th>ProofType_Proof of Authority</th>\n      <th>ProofType_Proof of Trust</th>\n      <th>ProofType_TPoS</th>\n      <th>ProofType_Zero-Knowledge Proof</th>\n      <th>ProofType_dPoW/PoW</th>\n    </tr>\n  </thead>\n  <tbody>\n    <tr>\n      <th>42</th>\n      <td>4.199995e+01</td>\n      <td>42</td>\n      <td>0</td>\n      <td>0</td>\n      <td>0</td>\n      <td>0</td>\n      <td>0</td>\n      <td>0</td>\n      <td>0</td>\n      <td>0</td>\n      <td>...</td>\n      <td>1</td>\n      <td>0</td>\n      <td>0</td>\n      <td>0</td>\n      <td>0</td>\n      <td>0</td>\n      <td>0</td>\n      <td>0</td>\n      <td>0</td>\n      <td>0</td>\n    </tr>\n    <tr>\n      <th>404</th>\n      <td>1.055185e+09</td>\n      <td>532000000</td>\n      <td>0</td>\n      <td>0</td>\n      <td>0</td>\n      <td>0</td>\n      <td>0</td>\n      <td>0</td>\n      <td>0</td>\n      <td>0</td>\n      <td>...</td>\n      <td>1</td>\n      <td>0</td>\n      <td>0</td>\n      <td>0</td>\n      <td>0</td>\n      <td>0</td>\n      <td>0</td>\n      <td>0</td>\n      <td>0</td>\n      <td>0</td>\n    </tr>\n    <tr>\n      <th>1337</th>\n      <td>2.927942e+10</td>\n      <td>314159265359</td>\n      <td>0</td>\n      <td>0</td>\n      <td>0</td>\n      <td>0</td>\n      <td>0</td>\n      <td>0</td>\n      <td>0</td>\n      <td>0</td>\n      <td>...</td>\n      <td>1</td>\n      <td>0</td>\n      <td>0</td>\n      <td>0</td>\n      <td>0</td>\n      <td>0</td>\n      <td>0</td>\n      <td>0</td>\n      <td>0</td>\n      <td>0</td>\n    </tr>\n    <tr>\n      <th>BTC</th>\n      <td>1.792718e+07</td>\n      <td>21000000</td>\n      <td>0</td>\n      <td>0</td>\n      <td>0</td>\n      <td>0</td>\n      <td>0</td>\n      <td>0</td>\n      <td>0</td>\n      <td>0</td>\n      <td>...</td>\n      <td>0</td>\n      <td>0</td>\n      <td>0</td>\n      <td>0</td>\n      <td>0</td>\n      <td>0</td>\n      <td>0</td>\n      <td>0</td>\n      <td>0</td>\n      <td>0</td>\n    </tr>\n    <tr>\n      <th>ETH</th>\n      <td>1.076842e+08</td>\n      <td>0</td>\n      <td>0</td>\n      <td>0</td>\n      <td>0</td>\n      <td>0</td>\n      <td>0</td>\n      <td>0</td>\n      <td>0</td>\n      <td>0</td>\n      <td>...</td>\n      <td>0</td>\n      <td>0</td>\n      <td>0</td>\n      <td>0</td>\n      <td>0</td>\n      <td>0</td>\n      <td>0</td>\n      <td>0</td>\n      <td>0</td>\n      <td>0</td>\n    </tr>\n  </tbody>\n</table>\n<p>5 rows × 98 columns</p>\n</div>"
     },
     "execution_count": 37,
     "metadata": {},
     "output_type": "execute_result"
    }
   ],
   "source": [
    "# Using get_dummies() to create variables for text features.\n",
    "\n",
    "\n",
    "cryptoTradingDfEncoded = cryptoTradingDf.copy()\n",
    "\n",
    "\n",
    "X = pd.get_dummies(cryptoTradingDfEncoded, columns=['Algorithm', 'ProofType'])\n",
    "X.head()"
   ]
  },
  {
   "cell_type": "code",
   "execution_count": 38,
   "metadata": {
    "pycharm": {
     "name": "#%%\n"
    }
   },
   "outputs": [
    {
     "name": "stdout",
     "output_type": "stream",
     "text": [
      "[[-0.11710817 -0.1528703  -0.0433963  -0.0433963  -0.0433963  -0.06142951\n",
      "  -0.07530656 -0.0433963  -0.06142951 -0.06142951 -0.0433963  -0.0433963\n",
      "  -0.19245009 -0.06142951 -0.09740465 -0.0433963  -0.11547005 -0.07530656\n",
      "  -0.0433963  -0.0433963  -0.15191091 -0.0433963  -0.13118084 -0.0433963\n",
      "  -0.0433963  -0.08703883 -0.0433963  -0.0433963  -0.0433963  -0.0433963\n",
      "  -0.06142951 -0.0433963  -0.08703883 -0.08703883 -0.08703883 -0.0433963\n",
      "  -0.13118084 -0.13840913 -0.13840913 -0.0433963  -0.06142951 -0.0433963\n",
      "  -0.07530656 -0.18168574 -0.0433963  -0.0433963  -0.0433963  -0.07530656\n",
      "  -0.15826614 -0.31491833 -0.0433963  -0.08703883 -0.07530656 -0.06142951\n",
      "   1.38675049 -0.0433963  -0.0433963  -0.06142951 -0.0433963  -0.0433963\n",
      "  -0.0433963  -0.0433963  -0.0433963  -0.0433963  -0.0433963  -0.0433963\n",
      "  -0.39879994 -0.0433963  -0.18168574 -0.0433963  -0.08703883 -0.08703883\n",
      "  -0.10680283 -0.0433963  -0.13118084 -0.0433963  -0.0433963  -0.0433963\n",
      "  -0.0433963  -0.07530656 -0.43911856 -0.0433963  -0.06142951 -0.0433963\n",
      "  -0.0433963  -0.89632016 -0.0433963  -0.0433963   1.42222617 -0.0433963\n",
      "  -0.0433963  -0.0433963  -0.0433963  -0.0433963  -0.0433963  -0.0433963\n",
      "  -0.0433963  -0.0433963 ]\n",
      " [-0.09396955 -0.145009   -0.0433963  -0.0433963  -0.0433963  -0.06142951\n",
      "  -0.07530656 -0.0433963  -0.06142951 -0.06142951 -0.0433963  -0.0433963\n",
      "  -0.19245009 -0.06142951 -0.09740465 -0.0433963  -0.11547005 -0.07530656\n",
      "  -0.0433963  -0.0433963  -0.15191091 -0.0433963  -0.13118084 -0.0433963\n",
      "  -0.0433963  -0.08703883 -0.0433963  -0.0433963  -0.0433963  -0.0433963\n",
      "  -0.06142951 -0.0433963  -0.08703883 -0.08703883 -0.08703883 -0.0433963\n",
      "  -0.13118084 -0.13840913 -0.13840913 -0.0433963  -0.06142951 -0.0433963\n",
      "  -0.07530656 -0.18168574 -0.0433963  -0.0433963  -0.0433963  -0.07530656\n",
      "  -0.15826614 -0.31491833 -0.0433963  -0.08703883 -0.07530656 -0.06142951\n",
      "   1.38675049 -0.0433963  -0.0433963  -0.06142951 -0.0433963  -0.0433963\n",
      "  -0.0433963  -0.0433963  -0.0433963  -0.0433963  -0.0433963  -0.0433963\n",
      "  -0.39879994 -0.0433963  -0.18168574 -0.0433963  -0.08703883 -0.08703883\n",
      "  -0.10680283 -0.0433963  -0.13118084 -0.0433963  -0.0433963  -0.0433963\n",
      "  -0.0433963  -0.07530656 -0.43911856 -0.0433963  -0.06142951 -0.0433963\n",
      "  -0.0433963  -0.89632016 -0.0433963  -0.0433963   1.42222617 -0.0433963\n",
      "  -0.0433963  -0.0433963  -0.0433963  -0.0433963  -0.0433963  -0.0433963\n",
      "  -0.0433963  -0.0433963 ]\n",
      " [ 0.52494561  4.48942416 -0.0433963  -0.0433963  -0.0433963  -0.06142951\n",
      "  -0.07530656 -0.0433963  -0.06142951 -0.06142951 -0.0433963  -0.0433963\n",
      "  -0.19245009 -0.06142951 -0.09740465 -0.0433963  -0.11547005 -0.07530656\n",
      "  -0.0433963  -0.0433963  -0.15191091 -0.0433963  -0.13118084 -0.0433963\n",
      "  -0.0433963  -0.08703883 -0.0433963  -0.0433963  -0.0433963  -0.0433963\n",
      "  -0.06142951 -0.0433963  -0.08703883 -0.08703883 -0.08703883 -0.0433963\n",
      "  -0.13118084 -0.13840913 -0.13840913 -0.0433963  -0.06142951 -0.0433963\n",
      "  -0.07530656 -0.18168574 -0.0433963  -0.0433963  -0.0433963  -0.07530656\n",
      "  -0.15826614 -0.31491833 -0.0433963  -0.08703883 -0.07530656 -0.06142951\n",
      "  -0.72111026 -0.0433963  -0.0433963  -0.06142951 -0.0433963  -0.0433963\n",
      "  -0.0433963  -0.0433963  -0.0433963  -0.0433963  -0.0433963  -0.0433963\n",
      "  -0.39879994 -0.0433963   5.50400923 -0.0433963  -0.08703883 -0.08703883\n",
      "  -0.10680283 -0.0433963  -0.13118084 -0.0433963  -0.0433963  -0.0433963\n",
      "  -0.0433963  -0.07530656 -0.43911856 -0.0433963  -0.06142951 -0.0433963\n",
      "  -0.0433963  -0.89632016 -0.0433963  -0.0433963   1.42222617 -0.0433963\n",
      "  -0.0433963  -0.0433963  -0.0433963  -0.0433963  -0.0433963  -0.0433963\n",
      "  -0.0433963  -0.0433963 ]\n",
      " [-0.11671506 -0.15255998 -0.0433963  -0.0433963  -0.0433963  -0.06142951\n",
      "  -0.07530656 -0.0433963  -0.06142951 -0.06142951 -0.0433963  -0.0433963\n",
      "  -0.19245009 -0.06142951 -0.09740465 -0.0433963  -0.11547005 -0.07530656\n",
      "  -0.0433963  -0.0433963  -0.15191091 -0.0433963  -0.13118084 -0.0433963\n",
      "  -0.0433963  -0.08703883 -0.0433963  -0.0433963  -0.0433963  -0.0433963\n",
      "  -0.06142951 -0.0433963  -0.08703883 -0.08703883 -0.08703883 -0.0433963\n",
      "  -0.13118084 -0.13840913 -0.13840913 -0.0433963  -0.06142951 -0.0433963\n",
      "  -0.07530656 -0.18168574 -0.0433963  -0.0433963  -0.0433963  -0.07530656\n",
      "  -0.15826614  3.17542648 -0.0433963  -0.08703883 -0.07530656 -0.06142951\n",
      "  -0.72111026 -0.0433963  -0.0433963  -0.06142951 -0.0433963  -0.0433963\n",
      "  -0.0433963  -0.0433963  -0.0433963  -0.0433963  -0.0433963  -0.0433963\n",
      "  -0.39879994 -0.0433963  -0.18168574 -0.0433963  -0.08703883 -0.08703883\n",
      "  -0.10680283 -0.0433963  -0.13118084 -0.0433963  -0.0433963  -0.0433963\n",
      "  -0.0433963  -0.07530656 -0.43911856 -0.0433963  -0.06142951 -0.0433963\n",
      "  -0.0433963   1.11567277 -0.0433963  -0.0433963  -0.70312305 -0.0433963\n",
      "  -0.0433963  -0.0433963  -0.0433963  -0.0433963  -0.0433963  -0.0433963\n",
      "  -0.0433963  -0.0433963 ]\n",
      " [-0.11474682 -0.1528703  -0.0433963  -0.0433963  -0.0433963  -0.06142951\n",
      "  -0.07530656 -0.0433963  -0.06142951 -0.06142951 -0.0433963  -0.0433963\n",
      "  -0.19245009 -0.06142951 -0.09740465 -0.0433963  -0.11547005 -0.07530656\n",
      "  -0.0433963  -0.0433963  -0.15191091 -0.0433963   7.62306442 -0.0433963\n",
      "  -0.0433963  -0.08703883 -0.0433963  -0.0433963  -0.0433963  -0.0433963\n",
      "  -0.06142951 -0.0433963  -0.08703883 -0.08703883 -0.08703883 -0.0433963\n",
      "  -0.13118084 -0.13840913 -0.13840913 -0.0433963  -0.06142951 -0.0433963\n",
      "  -0.07530656 -0.18168574 -0.0433963  -0.0433963  -0.0433963  -0.07530656\n",
      "  -0.15826614 -0.31491833 -0.0433963  -0.08703883 -0.07530656 -0.06142951\n",
      "  -0.72111026 -0.0433963  -0.0433963  -0.06142951 -0.0433963  -0.0433963\n",
      "  -0.0433963  -0.0433963  -0.0433963  -0.0433963  -0.0433963  -0.0433963\n",
      "  -0.39879994 -0.0433963  -0.18168574 -0.0433963  -0.08703883 -0.08703883\n",
      "  -0.10680283 -0.0433963  -0.13118084 -0.0433963  -0.0433963  -0.0433963\n",
      "  -0.0433963  -0.07530656 -0.43911856 -0.0433963  -0.06142951 -0.0433963\n",
      "  -0.0433963   1.11567277 -0.0433963  -0.0433963  -0.70312305 -0.0433963\n",
      "  -0.0433963  -0.0433963  -0.0433963  -0.0433963  -0.0433963  -0.0433963\n",
      "  -0.0433963  -0.0433963 ]]\n"
     ]
    }
   ],
   "source": [
    "# Standardize the data with StandardScaler().\n",
    "cryptoTradingScaled = StandardScaler().fit_transform(X)\n",
    "\n",
    "print(cryptoTradingScaled[0:5])"
   ]
  },
  {
   "cell_type": "markdown",
   "metadata": {},
   "source": [
    "### Deliverable 2: Reducing Data Dimensions Using PCA"
   ]
  },
  {
   "cell_type": "code",
   "execution_count": 39,
   "metadata": {},
   "outputs": [
    {
     "data": {
      "text/plain": "      principal component 1  principal component 2  principal component 3\n42                -0.334232               1.009840              -0.405680\n404               -0.317549               1.009936              -0.405930\n1337               2.309971               1.634033              -0.488289\nBTC               -0.150525              -1.337592               0.209693\nETH               -0.153238              -2.039426               0.304013\n...                     ...                    ...                    ...\nZEPH               2.453460               0.837964               0.252091\nGAP               -0.332275               1.009711              -0.405699\nBDX                0.324726              -2.330784               0.335851\nZEN               -0.138689              -2.032197               0.279947\nXBC               -0.291204               0.822533              -0.215919\n\n[532 rows x 3 columns]",
      "text/html": "<div>\n<style scoped>\n    .dataframe tbody tr th:only-of-type {\n        vertical-align: middle;\n    }\n\n    .dataframe tbody tr th {\n        vertical-align: top;\n    }\n\n    .dataframe thead th {\n        text-align: right;\n    }\n</style>\n<table border=\"1\" class=\"dataframe\">\n  <thead>\n    <tr style=\"text-align: right;\">\n      <th></th>\n      <th>principal component 1</th>\n      <th>principal component 2</th>\n      <th>principal component 3</th>\n    </tr>\n  </thead>\n  <tbody>\n    <tr>\n      <th>42</th>\n      <td>-0.334232</td>\n      <td>1.009840</td>\n      <td>-0.405680</td>\n    </tr>\n    <tr>\n      <th>404</th>\n      <td>-0.317549</td>\n      <td>1.009936</td>\n      <td>-0.405930</td>\n    </tr>\n    <tr>\n      <th>1337</th>\n      <td>2.309971</td>\n      <td>1.634033</td>\n      <td>-0.488289</td>\n    </tr>\n    <tr>\n      <th>BTC</th>\n      <td>-0.150525</td>\n      <td>-1.337592</td>\n      <td>0.209693</td>\n    </tr>\n    <tr>\n      <th>ETH</th>\n      <td>-0.153238</td>\n      <td>-2.039426</td>\n      <td>0.304013</td>\n    </tr>\n    <tr>\n      <th>...</th>\n      <td>...</td>\n      <td>...</td>\n      <td>...</td>\n    </tr>\n    <tr>\n      <th>ZEPH</th>\n      <td>2.453460</td>\n      <td>0.837964</td>\n      <td>0.252091</td>\n    </tr>\n    <tr>\n      <th>GAP</th>\n      <td>-0.332275</td>\n      <td>1.009711</td>\n      <td>-0.405699</td>\n    </tr>\n    <tr>\n      <th>BDX</th>\n      <td>0.324726</td>\n      <td>-2.330784</td>\n      <td>0.335851</td>\n    </tr>\n    <tr>\n      <th>ZEN</th>\n      <td>-0.138689</td>\n      <td>-2.032197</td>\n      <td>0.279947</td>\n    </tr>\n    <tr>\n      <th>XBC</th>\n      <td>-0.291204</td>\n      <td>0.822533</td>\n      <td>-0.215919</td>\n    </tr>\n  </tbody>\n</table>\n<p>532 rows × 3 columns</p>\n</div>"
     },
     "execution_count": 39,
     "metadata": {},
     "output_type": "execute_result"
    }
   ],
   "source": [
    "# Using PCA to reduce dimension to three principal components.\n",
    "indexList = (X.index.to_list())\n",
    "# Initializing PCA model\n",
    "pca = PCA(n_components=3)\n",
    "\n",
    "# getting 3 principal components\n",
    "cryptoPca = pca.fit_transform(cryptoTradingScaled)\n",
    "\n",
    "# Transforming PCA data to a Dataframe\n",
    "cryptoPcaDf = pd.DataFrame(\n",
    "    data=cryptoPca,\n",
    "    columns=['principal component 1', 'principal component 2', 'principal component 3'],\n",
    "    index=indexList\n",
    "\n",
    ")\n",
    "\n",
    "cryptoPcaDf"
   ]
  },
  {
   "cell_type": "markdown",
   "metadata": {},
   "source": [
    "### Deliverable 3: Clustering Crytocurrencies Using K-Means\n",
    "\n",
    "#### Finding the Best Value for `k` Using the Elbow Curve"
   ]
  },
  {
   "cell_type": "code",
   "execution_count": 40,
   "metadata": {},
   "outputs": [
    {
     "name": "stderr",
     "output_type": "stream",
     "text": [
      "C:\\Users\\fuzzy\\anaconda3\\envs\\mlenve\\lib\\site-packages\\sklearn\\cluster\\_kmeans.py:1036: UserWarning:\n",
      "\n",
      "KMeans is known to have a memory leak on Windows with MKL, when there are less chunks than available threads. You can avoid it by setting the environment variable OMP_NUM_THREADS=3.\n",
      "\n"
     ]
    }
   ],
   "source": [
    "# Initializing inertia list and Instantiating a list of K values to test with\n",
    "inertia = []\n",
    "k = list(range(1,11))\n",
    "\n",
    "# Looking for best K value\n",
    "for i in k:\n",
    "    km = KMeans(n_clusters=i, random_state=0)\n",
    "    km.fit(cryptoPcaDf)\n",
    "    inertia.append(km.inertia_)"
   ]
  },
  {
   "cell_type": "code",
   "execution_count": 41,
   "metadata": {
    "pycharm": {
     "name": "#%%\n"
    }
   },
   "outputs": [
    {
     "data": {},
     "metadata": {},
     "output_type": "display_data"
    },
    {
     "data": {
      "text/html": "<div id='1899'>\n\n\n\n\n\n  <div class=\"bk-root\" id=\"863269f8-276a-4616-9a19-ef832d2e1220\" data-root-id=\"1899\"></div>\n</div>\n<script type=\"application/javascript\">(function(root) {\n  function embed_document(root) {\n    var docs_json = {\"66dba0d5-e822-4d0c-9831-680e701753f4\":{\"defs\":[{\"extends\":null,\"module\":null,\"name\":\"ReactiveHTML1\",\"overrides\":[],\"properties\":[]},{\"extends\":null,\"module\":null,\"name\":\"FlexBox1\",\"overrides\":[],\"properties\":[{\"default\":\"flex-start\",\"kind\":null,\"name\":\"align_content\"},{\"default\":\"flex-start\",\"kind\":null,\"name\":\"align_items\"},{\"default\":\"row\",\"kind\":null,\"name\":\"flex_direction\"},{\"default\":\"wrap\",\"kind\":null,\"name\":\"flex_wrap\"},{\"default\":\"flex-start\",\"kind\":null,\"name\":\"justify_content\"}]},{\"extends\":null,\"module\":null,\"name\":\"TemplateActions1\",\"overrides\":[],\"properties\":[{\"default\":0,\"kind\":null,\"name\":\"open_modal\"},{\"default\":0,\"kind\":null,\"name\":\"close_modal\"}]},{\"extends\":null,\"module\":null,\"name\":\"MaterialTemplateActions1\",\"overrides\":[],\"properties\":[{\"default\":0,\"kind\":null,\"name\":\"open_modal\"},{\"default\":0,\"kind\":null,\"name\":\"close_modal\"}]}],\"roots\":{\"references\":[{\"attributes\":{\"children\":[{\"id\":\"1900\"},{\"id\":\"1904\"},{\"id\":\"1970\"}],\"margin\":[0,0,0,0],\"name\":\"Row03465\",\"tags\":[\"embedded\"]},\"id\":\"1899\",\"type\":\"Row\"},{\"attributes\":{},\"id\":\"1925\",\"type\":\"ResetTool\"},{\"attributes\":{\"below\":[{\"id\":\"1913\"}],\"center\":[{\"id\":\"1916\"},{\"id\":\"1920\"}],\"height\":300,\"left\":[{\"id\":\"1917\"}],\"margin\":[5,5,5,5],\"min_border_bottom\":10,\"min_border_left\":10,\"min_border_right\":10,\"min_border_top\":10,\"renderers\":[{\"id\":\"1940\"}],\"sizing_mode\":\"fixed\",\"title\":{\"id\":\"1905\"},\"toolbar\":{\"id\":\"1927\"},\"width\":700,\"x_range\":{\"id\":\"1901\"},\"x_scale\":{\"id\":\"1909\"},\"y_range\":{\"id\":\"1902\"},\"y_scale\":{\"id\":\"1911\"}},\"id\":\"1904\",\"subtype\":\"Figure\",\"type\":\"Plot\"},{\"attributes\":{\"source\":{\"id\":\"1934\"}},\"id\":\"1941\",\"type\":\"CDSView\"},{\"attributes\":{\"bottom_units\":\"screen\",\"coordinates\":null,\"fill_alpha\":0.5,\"fill_color\":\"lightgrey\",\"group\":null,\"left_units\":\"screen\",\"level\":\"overlay\",\"line_alpha\":1.0,\"line_color\":\"black\",\"line_dash\":[4,4],\"line_width\":2,\"right_units\":\"screen\",\"syncable\":false,\"top_units\":\"screen\"},\"id\":\"1926\",\"type\":\"BoxAnnotation\"},{\"attributes\":{},\"id\":\"1945\",\"type\":\"BasicTickFormatter\"},{\"attributes\":{},\"id\":\"1935\",\"type\":\"Selection\"},{\"attributes\":{\"tools\":[{\"id\":\"1903\"},{\"id\":\"1921\"},{\"id\":\"1922\"},{\"id\":\"1923\"},{\"id\":\"1924\"},{\"id\":\"1925\"}]},\"id\":\"1927\",\"type\":\"Toolbar\"},{\"attributes\":{\"data\":{\"inertia\":{\"__ndarray__\":\"Za2l1cxtrECiji5bBlCjQAcVGwUKNJdABbxxP4ExgkDGPJgISMp4QOViN/KfdnJALCUiZ0mdbUCfu9xkaCRnQDvSesQRe2JAzNJqTSJAXUA=\",\"dtype\":\"float64\",\"order\":\"little\",\"shape\":[10]},\"k\":[1,2,3,4,5,6,7,8,9,10]},\"selected\":{\"id\":\"1935\"},\"selection_policy\":{\"id\":\"1958\"}},\"id\":\"1934\",\"type\":\"ColumnDataSource\"},{\"attributes\":{\"line_alpha\":0.2,\"line_color\":\"#30a2da\",\"line_width\":2,\"x\":{\"field\":\"k\"},\"y\":{\"field\":\"inertia\"}},\"id\":\"1939\",\"type\":\"Line\"},{\"attributes\":{\"line_color\":\"#30a2da\",\"line_width\":2,\"x\":{\"field\":\"k\"},\"y\":{\"field\":\"inertia\"}},\"id\":\"1942\",\"type\":\"Line\"},{\"attributes\":{\"coordinates\":null,\"data_source\":{\"id\":\"1934\"},\"glyph\":{\"id\":\"1937\"},\"group\":null,\"hover_glyph\":null,\"muted_glyph\":{\"id\":\"1939\"},\"nonselection_glyph\":{\"id\":\"1938\"},\"selection_glyph\":{\"id\":\"1942\"},\"view\":{\"id\":\"1941\"}},\"id\":\"1940\",\"type\":\"GlyphRenderer\"},{\"attributes\":{\"callback\":null,\"renderers\":[{\"id\":\"1940\"}],\"tags\":[\"hv_created\"],\"tooltips\":[[\"k\",\"@{k}\"],[\"inertia\",\"@{inertia}\"]]},\"id\":\"1903\",\"type\":\"HoverTool\"},{\"attributes\":{\"margin\":[5,5,5,5],\"name\":\"HSpacer03470\",\"sizing_mode\":\"stretch_width\"},\"id\":\"1970\",\"type\":\"Spacer\"},{\"attributes\":{\"line_alpha\":0.1,\"line_color\":\"#30a2da\",\"line_width\":2,\"x\":{\"field\":\"k\"},\"y\":{\"field\":\"inertia\"}},\"id\":\"1938\",\"type\":\"Line\"},{\"attributes\":{\"end\":10.0,\"reset_end\":10.0,\"reset_start\":1.0,\"start\":1.0,\"tags\":[[[\"k\",\"k\",null]]]},\"id\":\"1901\",\"type\":\"Range1d\"},{\"attributes\":{\"end\":3991.0898648831617,\"reset_end\":3991.0898648831617,\"reset_start\":-235.18770373152728,\"start\":-235.18770373152728,\"tags\":[[[\"inertia\",\"inertia\",null]]]},\"id\":\"1902\",\"type\":\"Range1d\"},{\"attributes\":{},\"id\":\"1958\",\"type\":\"UnionRenderers\"},{\"attributes\":{},\"id\":\"1909\",\"type\":\"LinearScale\"},{\"attributes\":{\"coordinates\":null,\"group\":null,\"text\":\"Crypto Elbow Curve\",\"text_color\":\"black\",\"text_font_size\":\"12pt\"},\"id\":\"1905\",\"type\":\"Title\"},{\"attributes\":{\"ticks\":[1,2,3,4,5,6,7,8,9,10]},\"id\":\"1943\",\"type\":\"FixedTicker\"},{\"attributes\":{\"axis\":{\"id\":\"1913\"},\"coordinates\":null,\"grid_line_color\":null,\"group\":null,\"ticker\":null},\"id\":\"1916\",\"type\":\"Grid\"},{\"attributes\":{\"margin\":[5,5,5,5],\"name\":\"HSpacer03469\",\"sizing_mode\":\"stretch_width\"},\"id\":\"1900\",\"type\":\"Spacer\"},{\"attributes\":{},\"id\":\"1946\",\"type\":\"AllLabels\"},{\"attributes\":{},\"id\":\"1911\",\"type\":\"LinearScale\"},{\"attributes\":{},\"id\":\"1950\",\"type\":\"BasicTickFormatter\"},{\"attributes\":{\"axis_label\":\"k\",\"coordinates\":null,\"formatter\":{\"id\":\"1945\"},\"group\":null,\"major_label_policy\":{\"id\":\"1946\"},\"ticker\":{\"id\":\"1943\"}},\"id\":\"1913\",\"type\":\"LinearAxis\"},{\"attributes\":{\"axis\":{\"id\":\"1917\"},\"coordinates\":null,\"dimension\":1,\"grid_line_color\":null,\"group\":null,\"ticker\":null},\"id\":\"1920\",\"type\":\"Grid\"},{\"attributes\":{},\"id\":\"1922\",\"type\":\"PanTool\"},{\"attributes\":{\"axis_label\":\"inertia\",\"coordinates\":null,\"formatter\":{\"id\":\"1950\"},\"group\":null,\"major_label_policy\":{\"id\":\"1951\"},\"ticker\":{\"id\":\"1918\"}},\"id\":\"1917\",\"type\":\"LinearAxis\"},{\"attributes\":{},\"id\":\"1918\",\"type\":\"BasicTicker\"},{\"attributes\":{},\"id\":\"1923\",\"type\":\"WheelZoomTool\"},{\"attributes\":{},\"id\":\"1951\",\"type\":\"AllLabels\"},{\"attributes\":{\"line_color\":\"#30a2da\",\"line_width\":2,\"x\":{\"field\":\"k\"},\"y\":{\"field\":\"inertia\"}},\"id\":\"1937\",\"type\":\"Line\"},{\"attributes\":{},\"id\":\"1921\",\"type\":\"SaveTool\"},{\"attributes\":{\"overlay\":{\"id\":\"1926\"}},\"id\":\"1924\",\"type\":\"BoxZoomTool\"}],\"root_ids\":[\"1899\"]},\"title\":\"Bokeh Application\",\"version\":\"2.4.1\"}};\n    var render_items = [{\"docid\":\"66dba0d5-e822-4d0c-9831-680e701753f4\",\"root_ids\":[\"1899\"],\"roots\":{\"1899\":\"863269f8-276a-4616-9a19-ef832d2e1220\"}}];\n    root.Bokeh.embed.embed_items_notebook(docs_json, render_items);\n  }\n  if (root.Bokeh !== undefined && root.Bokeh.Panel !== undefined) {\n    embed_document(root);\n  } else {\n    var attempts = 0;\n    var timer = setInterval(function(root) {\n      if (root.Bokeh !== undefined && root.Bokeh.Panel !== undefined) {\n        clearInterval(timer);\n        embed_document(root);\n      } else if (document.readyState == \"complete\") {\n        attempts++;\n        if (attempts > 200) {\n          clearInterval(timer);\n          console.log(\"Bokeh: ERROR: Unable to run BokehJS code because BokehJS library is missing\");\n        }\n      }\n    }, 25, root)\n  }\n})(window);</script>",
      "application/vnd.holoviews_exec.v0+json": "",
      "text/plain": ":Curve   [k]   (inertia)"
     },
     "execution_count": 41,
     "metadata": {
      "application/vnd.holoviews_exec.v0+json": {
       "id": "1899"
      }
     },
     "output_type": "execute_result"
    }
   ],
   "source": [
    "# Creating an elbow curve to find the best value for K.\n",
    "elbowData = {'k':k, 'inertia': inertia}\n",
    "dfElbow = pd.DataFrame(elbowData)\n",
    "dfElbow.hvplot.line(x='k', y='inertia', title='Crypto Elbow Curve', xticks=k)"
   ]
  },
  {
   "cell_type": "markdown",
   "metadata": {},
   "source": [
    "Running K-Means with `k=4`"
   ]
  },
  {
   "cell_type": "code",
   "execution_count": 42,
   "metadata": {
    "pycharm": {
     "name": "#%%\n"
    }
   },
   "outputs": [
    {
     "name": "stdout",
     "output_type": "stream",
     "text": [
      "[0 0 0 3 3 3 0 3 3 3 0 3 0 0 3 0 3 3 0 0 3 3 3 3 3 0 3 3 3 0 3 0 3 3 0 0 3\n",
      " 3 3 3 3 3 0 0 3 3 3 3 3 0 0 3 0 3 3 3 3 0 3 3 0 3 0 0 0 3 3 3 0 0 0 0 0 3\n",
      " 3 3 0 0 3 0 3 0 0 3 3 3 3 0 0 3 0 3 3 0 0 3 0 0 3 3 0 0 3 0 0 3 0 3 0 3 0\n",
      " 3 0 0 3 3 0 3 3 3 0 3 3 3 3 3 0 0 3 3 3 0 3 0 3 3 0 3 0 3 0 0 3 3 0 3 3 0\n",
      " 0 3 0 3 0 0 0 3 3 3 3 0 0 0 0 0 3 3 0 0 0 0 0 3 0 0 0 0 0 3 0 3 0 0 3 0 3\n",
      " 0 0 3 0 3 0 3 0 3 0 0 0 0 3 0 0 0 0 0 3 3 0 0 3 3 0 0 0 0 0 3 0 0 0 0 0 0\n",
      " 0 0 3 0 0 0 0 0 0 3 3 3 0 0 0 0 3 0 3 0 0 3 0 3 3 0 3 3 0 3 0 0 0 3 0 0 3\n",
      " 0 0 0 0 0 0 0 3 0 3 0 0 0 0 3 0 3 0 3 3 3 3 0 3 0 0 3 0 3 3 3 0 3 0 3 3 3\n",
      " 0 3 0 3 0 0 0 3 0 3 3 3 3 3 0 0 3 0 0 0 3 0 3 0 3 0 3 0 0 0 0 3 0 0 3 0 0\n",
      " 0 3 3 3 3 0 0 0 0 3 0 3 3 3 0 0 3 3 0 0 3 0 3 3 3 0 3 3 0 0 0 3 3 3 0 0 0\n",
      " 3 3 0 3 3 3 3 0 1 1 3 3 3 0 1 0 0 0 0 3 3 3 3 0 0 0 3 0 3 0 0 0 0 3 0 0 3\n",
      " 0 0 3 3 0 3 0 3 3 3 3 0 0 3 0 3 0 0 0 0 0 0 3 3 3 0 0 0 0 0 0 3 0 3 3 3 3\n",
      " 0 0 0 0 3 0 0 3 0 0 3 0 3 0 3 3 0 0 3 0 3 3 0 3 3 0 3 0 3 0 0 3 0 0 0 0 0\n",
      " 3 3 3 0 0 0 3 0 3 0 3 0 0 0 0 3 0 0 0 3 0 3 0 3 0 0 0 3 3 0 0 0 0 0 0 3 0\n",
      " 3 0 3 0 0 0 0 2 0 0 0 3 3 0]\n"
     ]
    }
   ],
   "source": [
    "# Initializing the K-Means model\n",
    "model = KMeans(n_clusters=4, random_state=0)\n",
    "\n",
    "# fitting the model\n",
    "model.fit(cryptoPcaDf)\n",
    "\n",
    "# Predicting K clusters\n",
    "predictions = model.predict(cryptoPcaDf)\n",
    "print(predictions)\n",
    "\n",
    "\n",
    "# Adding class column to df\n",
    "cryptoPcaDf['Class'] = model.labels_"
   ]
  },
  {
   "cell_type": "code",
   "execution_count": 43,
   "metadata": {
    "pycharm": {
     "name": "#%%\n"
    }
   },
   "outputs": [
    {
     "data": {
      "text/plain": "     Algorithm ProofType  TotalCoinsMined TotalCoinSupply  \\\n42      Scrypt   PoW/PoS     4.199995e+01              42   \n404     Scrypt   PoW/PoS     1.055185e+09       532000000   \n1337       X13   PoW/PoS     2.927942e+10    314159265359   \nBTC    SHA-256       PoW     1.792718e+07        21000000   \nETH     Ethash       PoW     1.076842e+08               0   \n\n      principal component 1  principal component 2  principal component 3  \\\n42                -0.334232               1.009840              -0.405680   \n404               -0.317549               1.009936              -0.405930   \n1337               2.309971               1.634033              -0.488289   \nBTC               -0.150525              -1.337592               0.209693   \nETH               -0.153238              -2.039426               0.304013   \n\n      Class  \n42        0  \n404       0  \n1337      0  \nBTC       3  \nETH       3  ",
      "text/html": "<div>\n<style scoped>\n    .dataframe tbody tr th:only-of-type {\n        vertical-align: middle;\n    }\n\n    .dataframe tbody tr th {\n        vertical-align: top;\n    }\n\n    .dataframe thead th {\n        text-align: right;\n    }\n</style>\n<table border=\"1\" class=\"dataframe\">\n  <thead>\n    <tr style=\"text-align: right;\">\n      <th></th>\n      <th>Algorithm</th>\n      <th>ProofType</th>\n      <th>TotalCoinsMined</th>\n      <th>TotalCoinSupply</th>\n      <th>principal component 1</th>\n      <th>principal component 2</th>\n      <th>principal component 3</th>\n      <th>Class</th>\n    </tr>\n  </thead>\n  <tbody>\n    <tr>\n      <th>42</th>\n      <td>Scrypt</td>\n      <td>PoW/PoS</td>\n      <td>4.199995e+01</td>\n      <td>42</td>\n      <td>-0.334232</td>\n      <td>1.009840</td>\n      <td>-0.405680</td>\n      <td>0</td>\n    </tr>\n    <tr>\n      <th>404</th>\n      <td>Scrypt</td>\n      <td>PoW/PoS</td>\n      <td>1.055185e+09</td>\n      <td>532000000</td>\n      <td>-0.317549</td>\n      <td>1.009936</td>\n      <td>-0.405930</td>\n      <td>0</td>\n    </tr>\n    <tr>\n      <th>1337</th>\n      <td>X13</td>\n      <td>PoW/PoS</td>\n      <td>2.927942e+10</td>\n      <td>314159265359</td>\n      <td>2.309971</td>\n      <td>1.634033</td>\n      <td>-0.488289</td>\n      <td>0</td>\n    </tr>\n    <tr>\n      <th>BTC</th>\n      <td>SHA-256</td>\n      <td>PoW</td>\n      <td>1.792718e+07</td>\n      <td>21000000</td>\n      <td>-0.150525</td>\n      <td>-1.337592</td>\n      <td>0.209693</td>\n      <td>3</td>\n    </tr>\n    <tr>\n      <th>ETH</th>\n      <td>Ethash</td>\n      <td>PoW</td>\n      <td>1.076842e+08</td>\n      <td>0</td>\n      <td>-0.153238</td>\n      <td>-2.039426</td>\n      <td>0.304013</td>\n      <td>3</td>\n    </tr>\n  </tbody>\n</table>\n</div>"
     },
     "execution_count": 43,
     "metadata": {},
     "output_type": "execute_result"
    }
   ],
   "source": [
    "# Creating a new DataFrame including predicted clusters and cryptocurrencies features.\n",
    "# Concatentating the crypto_df and pcs_df DataFrames on the same columns.\n",
    "clustered_df = cryptoTradingDf.join(cryptoPcaDf,how='inner')\n",
    "clustered_df.head()"
   ]
  },
  {
   "cell_type": "code",
   "execution_count": 44,
   "metadata": {
    "pycharm": {
     "name": "#%%\n"
    }
   },
   "outputs": [
    {
     "data": {
      "text/plain": "     Algorithm ProofType  TotalCoinsMined TotalCoinSupply  \\\n42      Scrypt   PoW/PoS     4.199995e+01              42   \n404     Scrypt   PoW/PoS     1.055185e+09       532000000   \n1337       X13   PoW/PoS     2.927942e+10    314159265359   \nBTC    SHA-256       PoW     1.792718e+07        21000000   \nETH     Ethash       PoW     1.076842e+08               0   \n\n      principal component 1  principal component 2  principal component 3  \\\n42                -0.334232               1.009840              -0.405680   \n404               -0.317549               1.009936              -0.405930   \n1337               2.309971               1.634033              -0.488289   \nBTC               -0.150525              -1.337592               0.209693   \nETH               -0.153238              -2.039426               0.304013   \n\n      Class   CoinName  \n42        0    42 Coin  \n404       0    404Coin  \n1337      0  EliteCoin  \nBTC       3    Bitcoin  \nETH       3   Ethereum  ",
      "text/html": "<div>\n<style scoped>\n    .dataframe tbody tr th:only-of-type {\n        vertical-align: middle;\n    }\n\n    .dataframe tbody tr th {\n        vertical-align: top;\n    }\n\n    .dataframe thead th {\n        text-align: right;\n    }\n</style>\n<table border=\"1\" class=\"dataframe\">\n  <thead>\n    <tr style=\"text-align: right;\">\n      <th></th>\n      <th>Algorithm</th>\n      <th>ProofType</th>\n      <th>TotalCoinsMined</th>\n      <th>TotalCoinSupply</th>\n      <th>principal component 1</th>\n      <th>principal component 2</th>\n      <th>principal component 3</th>\n      <th>Class</th>\n      <th>CoinName</th>\n    </tr>\n  </thead>\n  <tbody>\n    <tr>\n      <th>42</th>\n      <td>Scrypt</td>\n      <td>PoW/PoS</td>\n      <td>4.199995e+01</td>\n      <td>42</td>\n      <td>-0.334232</td>\n      <td>1.009840</td>\n      <td>-0.405680</td>\n      <td>0</td>\n      <td>42 Coin</td>\n    </tr>\n    <tr>\n      <th>404</th>\n      <td>Scrypt</td>\n      <td>PoW/PoS</td>\n      <td>1.055185e+09</td>\n      <td>532000000</td>\n      <td>-0.317549</td>\n      <td>1.009936</td>\n      <td>-0.405930</td>\n      <td>0</td>\n      <td>404Coin</td>\n    </tr>\n    <tr>\n      <th>1337</th>\n      <td>X13</td>\n      <td>PoW/PoS</td>\n      <td>2.927942e+10</td>\n      <td>314159265359</td>\n      <td>2.309971</td>\n      <td>1.634033</td>\n      <td>-0.488289</td>\n      <td>0</td>\n      <td>EliteCoin</td>\n    </tr>\n    <tr>\n      <th>BTC</th>\n      <td>SHA-256</td>\n      <td>PoW</td>\n      <td>1.792718e+07</td>\n      <td>21000000</td>\n      <td>-0.150525</td>\n      <td>-1.337592</td>\n      <td>0.209693</td>\n      <td>3</td>\n      <td>Bitcoin</td>\n    </tr>\n    <tr>\n      <th>ETH</th>\n      <td>Ethash</td>\n      <td>PoW</td>\n      <td>1.076842e+08</td>\n      <td>0</td>\n      <td>-0.153238</td>\n      <td>-2.039426</td>\n      <td>0.304013</td>\n      <td>3</td>\n      <td>Ethereum</td>\n    </tr>\n  </tbody>\n</table>\n</div>"
     },
     "execution_count": 44,
     "metadata": {},
     "output_type": "execute_result"
    }
   ],
   "source": [
    "#  Adding a new column, \"CoinName\" to the clustered_df DataFrame that holds the names of the cryptocurrencies.\n",
    "clustered_df = clustered_df.join(cryptoNameDf,how='inner')\n",
    "clustered_df.head()"
   ]
  },
  {
   "cell_type": "code",
   "execution_count": 45,
   "metadata": {},
   "outputs": [
    {
     "name": "stdout",
     "output_type": "stream",
     "text": [
      "(532, 9)\n"
     ]
    },
    {
     "data": {
      "text/plain": "           Algorithm ProofType  TotalCoinsMined TotalCoinSupply  \\\n42            Scrypt   PoW/PoS     4.199995e+01              42   \n404           Scrypt   PoW/PoS     1.055185e+09       532000000   \n1337             X13   PoW/PoS     2.927942e+10    314159265359   \nBTC          SHA-256       PoW     1.792718e+07        21000000   \nETH           Ethash       PoW     1.076842e+08               0   \nLTC           Scrypt       PoW     6.303924e+07        84000000   \nDASH             X11   PoW/PoS     9.031294e+06        22000000   \nXMR   CryptoNight-V7       PoW     1.720114e+07               0   \nETC           Ethash       PoW     1.133597e+08       210000000   \nZEC         Equihash       PoW     7.383056e+06        21000000   \n\n      principal component 1  principal component 2  principal component 3  \\\n42                -0.334232               1.009840              -0.405680   \n404               -0.317549               1.009936              -0.405930   \n1337               2.309971               1.634033              -0.488289   \nBTC               -0.150525              -1.337592               0.209693   \nETH               -0.153238              -2.039426               0.304013   \nLTC               -0.166620              -1.130174               0.011091   \nDASH              -0.394276               1.243601              -0.399694   \nXMR               -0.148786              -2.177410               0.272191   \nETC               -0.151678              -2.039537               0.303998   \nZEC               -0.138688              -2.032197               0.279947   \n\n      Class          CoinName  \n42        0           42 Coin  \n404       0           404Coin  \n1337      0         EliteCoin  \nBTC       3           Bitcoin  \nETH       3          Ethereum  \nLTC       3          Litecoin  \nDASH      0              Dash  \nXMR       3            Monero  \nETC       3  Ethereum Classic  \nZEC       3             ZCash  ",
      "text/html": "<div>\n<style scoped>\n    .dataframe tbody tr th:only-of-type {\n        vertical-align: middle;\n    }\n\n    .dataframe tbody tr th {\n        vertical-align: top;\n    }\n\n    .dataframe thead th {\n        text-align: right;\n    }\n</style>\n<table border=\"1\" class=\"dataframe\">\n  <thead>\n    <tr style=\"text-align: right;\">\n      <th></th>\n      <th>Algorithm</th>\n      <th>ProofType</th>\n      <th>TotalCoinsMined</th>\n      <th>TotalCoinSupply</th>\n      <th>principal component 1</th>\n      <th>principal component 2</th>\n      <th>principal component 3</th>\n      <th>Class</th>\n      <th>CoinName</th>\n    </tr>\n  </thead>\n  <tbody>\n    <tr>\n      <th>42</th>\n      <td>Scrypt</td>\n      <td>PoW/PoS</td>\n      <td>4.199995e+01</td>\n      <td>42</td>\n      <td>-0.334232</td>\n      <td>1.009840</td>\n      <td>-0.405680</td>\n      <td>0</td>\n      <td>42 Coin</td>\n    </tr>\n    <tr>\n      <th>404</th>\n      <td>Scrypt</td>\n      <td>PoW/PoS</td>\n      <td>1.055185e+09</td>\n      <td>532000000</td>\n      <td>-0.317549</td>\n      <td>1.009936</td>\n      <td>-0.405930</td>\n      <td>0</td>\n      <td>404Coin</td>\n    </tr>\n    <tr>\n      <th>1337</th>\n      <td>X13</td>\n      <td>PoW/PoS</td>\n      <td>2.927942e+10</td>\n      <td>314159265359</td>\n      <td>2.309971</td>\n      <td>1.634033</td>\n      <td>-0.488289</td>\n      <td>0</td>\n      <td>EliteCoin</td>\n    </tr>\n    <tr>\n      <th>BTC</th>\n      <td>SHA-256</td>\n      <td>PoW</td>\n      <td>1.792718e+07</td>\n      <td>21000000</td>\n      <td>-0.150525</td>\n      <td>-1.337592</td>\n      <td>0.209693</td>\n      <td>3</td>\n      <td>Bitcoin</td>\n    </tr>\n    <tr>\n      <th>ETH</th>\n      <td>Ethash</td>\n      <td>PoW</td>\n      <td>1.076842e+08</td>\n      <td>0</td>\n      <td>-0.153238</td>\n      <td>-2.039426</td>\n      <td>0.304013</td>\n      <td>3</td>\n      <td>Ethereum</td>\n    </tr>\n    <tr>\n      <th>LTC</th>\n      <td>Scrypt</td>\n      <td>PoW</td>\n      <td>6.303924e+07</td>\n      <td>84000000</td>\n      <td>-0.166620</td>\n      <td>-1.130174</td>\n      <td>0.011091</td>\n      <td>3</td>\n      <td>Litecoin</td>\n    </tr>\n    <tr>\n      <th>DASH</th>\n      <td>X11</td>\n      <td>PoW/PoS</td>\n      <td>9.031294e+06</td>\n      <td>22000000</td>\n      <td>-0.394276</td>\n      <td>1.243601</td>\n      <td>-0.399694</td>\n      <td>0</td>\n      <td>Dash</td>\n    </tr>\n    <tr>\n      <th>XMR</th>\n      <td>CryptoNight-V7</td>\n      <td>PoW</td>\n      <td>1.720114e+07</td>\n      <td>0</td>\n      <td>-0.148786</td>\n      <td>-2.177410</td>\n      <td>0.272191</td>\n      <td>3</td>\n      <td>Monero</td>\n    </tr>\n    <tr>\n      <th>ETC</th>\n      <td>Ethash</td>\n      <td>PoW</td>\n      <td>1.133597e+08</td>\n      <td>210000000</td>\n      <td>-0.151678</td>\n      <td>-2.039537</td>\n      <td>0.303998</td>\n      <td>3</td>\n      <td>Ethereum Classic</td>\n    </tr>\n    <tr>\n      <th>ZEC</th>\n      <td>Equihash</td>\n      <td>PoW</td>\n      <td>7.383056e+06</td>\n      <td>21000000</td>\n      <td>-0.138688</td>\n      <td>-2.032197</td>\n      <td>0.279947</td>\n      <td>3</td>\n      <td>ZCash</td>\n    </tr>\n  </tbody>\n</table>\n</div>"
     },
     "execution_count": 45,
     "metadata": {},
     "output_type": "execute_result"
    }
   ],
   "source": [
    "# Print the shape of the clustered_df\n",
    "print(clustered_df.shape)\n",
    "clustered_df.head(10)"
   ]
  },
  {
   "cell_type": "markdown",
   "metadata": {},
   "source": [
    "### Deliverable 4: Visualizing Cryptocurrencies Results\n",
    "\n",
    "#### 3D-Scatter with Clusters"
   ]
  },
  {
   "cell_type": "code",
   "execution_count": 46,
   "metadata": {
    "pycharm": {
     "name": "#%%\n"
    }
   },
   "outputs": [
    {
     "data": {
      "application/vnd.plotly.v1+json": {
       "data": [
        {
         "customdata": [
          [
           41.99995383,
           "42",
           "Scrypt",
           "PoW/PoS"
          ],
          [
           1.05518490204E9,
           "532000000",
           "Scrypt",
           "PoW/PoS"
          ],
          [
           2.92794246225027E10,
           "314159265359",
           "X13",
           "PoW/PoS"
          ],
          [
           9031294.37563393,
           "22000000",
           "X11",
           "PoW/PoS"
          ],
          [
           2.74157E9,
           "3600570502",
           "SHA-512",
           "PoS"
          ],
          [
           1288862.0,
           "22000000",
           "SHA-256",
           "PoW/PoS"
          ],
          [
           1.19953348847328E7,
           "12500000",
           "SHA-256",
           "PoS"
          ],
          [
           2.55425355881841E7,
           "350000000",
           "X15",
           "PoW/PoS"
          ],
          [
           1.8135099992959E7,
           "16768584",
           "Scrypt",
           "PoW/PoS"
          ],
          [
           6.354239E8,
           "0",
           "Scrypt",
           "PoW/PoS"
          ],
          [
           1.23062801128773E8,
           "0",
           "Scrypt",
           "PoW/PoS"
          ],
          [
           42579.476901,
           "500000",
           "Scrypt",
           "PoW/PoS"
          ],
          [
           1039116.65144562,
           "1000000",
           "Scrypt",
           "PoW/PoS"
          ],
          [
           3.99999972998568E10,
           "40000000000",
           "Scrypt",
           "PoC"
          ],
          [
           3304487.74735637,
           "4380000",
           "Groestl",
           "PoW/PoS"
          ],
          [
           5679705.0,
           "0",
           "PoS",
           "PoS"
          ],
          [
           4.6182990532893E8,
           "0",
           "Scrypt",
           "PoS/PoW/PoT"
          ],
          [
           8.9266933684704E7,
           "120000000",
           "Scrypt",
           "PoW/PoS"
          ],
          [
           1.6785200907713E9,
           "0",
           "X11",
           "PoS"
          ],
          [
           1.76509139743456E7,
           "22000000",
           "X11",
           "PoW/PoS"
          ],
          [
           6.1445805E7,
           "100000000",
           "SHA3",
           "PoW/PoS"
          ],
          [
           2.12939254454969E10,
           "0",
           "Scrypt",
           "PoS"
          ],
          [
           1.61383609999999E9,
           "2419200000",
           "SHA-256",
           "PoW/PoS"
          ],
          [
           1.618E7,
           "16180000",
           "Scrypt",
           "PoS"
          ],
          [
           6.60870962077108E7,
           "0",
           "X13",
           "PoW/PoS"
          ],
          [
           1.51563643306548E7,
           "0",
           "X13",
           "PoW/PoS"
          ],
          [
           3220616.279225,
           "3770000",
           "NeoScrypt",
           "PoW/PoS"
          ],
          [
           2.22677226014206E8,
           "420000000",
           "Scrypt",
           "PoW/PoS"
          ],
          [
           7.3959274625E7,
           "98000000",
           "Scrypt",
           "PoW/PoS"
          ],
          [
           2.93155671690888E10,
           "0",
           "Scrypt",
           "PoW/PoS"
          ],
          [
           5.07076617493518E7,
           "0",
           "X11",
           "PoS"
          ],
          [
           1177.0,
           "1000",
           "X11",
           "PoW/PoS"
          ],
          [
           8.02604637331396E7,
           "100000000",
           "Multiple",
           "PoS"
          ],
          [
           1.62232649046336E9,
           "2300000000",
           "PHI1612",
           "PoS"
          ],
          [
           1431851.00002479,
           "10000000",
           "X11",
           "PoW/PoS"
          ],
          [
           1.0989525926E9,
           "1600000000",
           "Scrypt",
           "PoW/PoS"
          ],
          [
           5.0235211141939E7,
           "100000000",
           "Scrypt",
           "PoW/PoS"
          ],
          [
           3.20211084136696E7,
           "0",
           "Scrypt",
           "PoST"
          ],
          [
           6950831.0970606,
           "5500000",
           "X11",
           "PoW/PoS"
          ],
          [
           1.0E8,
           "0",
           "Multiple",
           "PoS"
          ],
          [
           3.30937254123502E7,
           "0",
           "X13",
           "PoW/PoS"
          ],
          [
           1.47990237978331E8,
           "1000000000",
           "Scrypt",
           "PoW/PoS"
          ],
          [
           1.81303392E9,
           "2158812800",
           "Shabal256",
           "PoC"
          ],
          [
           5.1173144E7,
           "500000000",
           "Counterparty",
           "PoS"
          ],
          [
           3.9121694E7,
           "68000000",
           "SHA-256",
           "PoW/PoS"
          ],
          [
           5.3193831E7,
           "0",
           "Groestl",
           "PoW/PoS"
          ],
          [
           2.71844903918338E7,
           "0",
           "Scrypt",
           "PoS"
          ],
          [
           2022464.886973,
           "12000000",
           "X13",
           "PoW/PoS"
          ],
          [
           1.74646113934655E8,
           "500000000",
           "Scrypt",
           "PoS"
          ],
          [
           1467841.0,
           "0",
           "Scrypt",
           "PoW/PoS"
          ],
          [
           7096834.0,
           "10000000",
           "X13",
           "PoW/PoS"
          ],
          [
           2689812.0,
           "20000000",
           "X11",
           "PoS"
          ],
          [
           1.1604722E7,
           "20000000",
           "Scrypt",
           "PoW/PoS"
          ],
          [
           1513704.0,
           "0",
           "X11",
           "PoW/PoS"
          ],
          [
           6.365722E7,
           "78000000",
           "SHA3",
           "PoW/nPoS"
          ],
          [
           8568038.35935056,
           "5060000",
           "QUAIT",
           "PoW/PoS"
          ],
          [
           329200.01639,
           "0",
           "X11",
           "PoS/PoW"
          ],
          [
           1.0E8,
           "100000000",
           "Scrypt",
           "PoS"
          ],
          [
           2.3042604E7,
           "50000000",
           "X13",
           "PoW/PoS"
          ],
          [
           4.3059794804778E7,
           "1000000000",
           "SHA-256",
           "PoW/PoS"
          ],
          [
           1.35305564180753E7,
           "26298000",
           "X15",
           "PoW/PoS"
          ],
          [
           1.03650469281661E7,
           "21000000",
           "BLAKE256",
           "PoW/PoS"
          ],
          [
           3669691.84494672,
           "22000000",
           "SHA-256",
           "PoW/PoS"
          ],
          [
           1.0996318099E10,
           "26550000000",
           "X11",
           "PoW/PoS"
          ],
          [
           5129014.0,
           "10500000",
           "SHA-256",
           "PoW/PoS"
          ],
          [
           1.00694490319252E10,
           "0",
           "NIST5",
           "PoW/PoS"
          ],
          [
           8998743.2411911,
           "42000000",
           "Scrypt",
           "PoW/PoS"
          ],
          [
           4.0477042E7,
           "221052632",
           "Scrypt",
           "PoS"
          ],
          [
           1.04072697881868E7,
           "384000000",
           "X11",
           "PoW/PoS"
          ],
          [
           3.69712360468073E10,
           " 99000000000",
           "Scrypt",
           "PoS"
          ],
          [
           4377081.60953993,
           "40000000",
           "SHA-256",
           "PoW/PoS"
          ],
          [
           2.147483647E9,
           "2147483647",
           "Scrypt",
           "PoC"
          ],
          [
           2.0E7,
           "20000000",
           "PoS",
           "PoS"
          ],
          [
           1.3455494115119E8,
           "75000000",
           "X11",
           "PoW/PoS"
          ],
          [
           1195525.0,
           "222725000",
           "SHA-256",
           "PoW/PoS"
          ],
          [
           1.666282E7,
           "525000000",
           "SHA-256",
           "PoW/PoS"
          ],
          [
           8.3450403E7,
           "90000000",
           "NIST5",
           "PoW/PoS"
          ],
          [
           2.43877245010828E7,
           "139000000",
           "X11",
           "PoW/PoS"
          ],
          [
           3.85898086658096E7,
           "33500000",
           "POS 3.0",
           "PoS"
          ],
          [
           8.13092338575672E8,
           "2000000000",
           "Scrypt",
           "PoW/PoS"
          ],
          [
           4526324.0,
           "44333333",
           "Scrypt",
           "PoW/PoS"
          ],
          [
           1.0E8,
           "100000000",
           "Scrypt",
           "PoW/PoS"
          ],
          [
           5000000.0,
           "200000000",
           "X13",
           "PoS"
          ],
          [
           6.57E8,
           "657000000",
           "X11",
           "PoS"
          ],
          [
           1.5563873E7,
           "50000000",
           "X11",
           "PoW/PoS"
          ],
          [
           4.31655E7,
           "90000000",
           "Scrypt",
           "PoW/PoS"
          ],
          [
           595429.0,
           "21000000",
           "SHA-256",
           "PoW/PoS"
          ],
          [
           657636.34549789,
           "3000000",
           "X11",
           "PoW/PoS"
          ],
          [
           2581970.0,
           "21000000",
           "Scrypt",
           "PoW/PoS"
          ],
          [
           1939889.0,
           "0",
           "Scrypt",
           "PoW/PoS"
          ],
          [
           1.69598616E8,
           "0",
           "Scrypt",
           "PoS"
          ],
          [
           6.65200057E8,
           "3100000000",
           "Scrypt",
           "PoW/PoW"
          ],
          [
           1.9577787259E10,
           "20000000000",
           "SHA-256D",
           "PoW/PoS"
          ],
          [
           7.40338067949683E7,
           "74000000",
           "PoS",
           "PoS"
          ],
          [
           3.3522957E7,
           "0",
           "Scrypt",
           "PoW/PoS"
          ],
          [
           2.64678458288619E8,
           "1500000000",
           "X11",
           "PoW/PoS"
          ],
          [
           1.48716816E8,
           "39999898",
           "PoS",
           "PoS"
          ],
          [
           2500124.0,
           "2500124",
           "X13",
           "PoS"
          ],
          [
           1.0E8,
           "100000000",
           "X14",
           "PoW/PoS"
          ],
          [
           1.78186821654E7,
           "301000000",
           "PoS",
           "PoS"
          ],
          [
           1.08216263553683E9,
           "7506000000",
           "SHA-256D",
           "PoW/PoS"
          ],
          [
           1.08202084E8,
           "125000000",
           "DPoS",
           "DPoS"
          ],
          [
           1.8342813E7,
           "30000000",
           "X11",
           "PoW/PoS"
          ],
          [
           9.2192822723E10,
           "850000000",
           "X13",
           "PoW/PoS"
          ],
          [
           3853326.77707314,
           "3853326.77707314",
           "X11",
           "PoW/PoS"
          ],
          [
           5.0E7,
           "50000000",
           "PoS",
           "PoS"
          ],
          [
           1.70896E7,
           "38540000 ",
           "Scrypt",
           "PoW/PoS"
          ],
          [
           2449577.41533168,
           "42000000",
           "Scrypt",
           "PoW/PoS"
          ],
          [
           2.0E7,
           "20000000",
           "PoS",
           "PoS"
          ],
          [
           6069482.07721352,
           "60000000",
           "X11",
           "PoW/PoS"
          ],
          [
           1.2416554E7,
           "20000000",
           "SHA-256",
           "PoW/PoS"
          ],
          [
           2.0244023640728E7,
           "33000000",
           "Scrypt",
           "PoW/PoS"
          ],
          [
           7.5590369E7,
           "76500000",
           "X11",
           "TPoS"
          ],
          [
           1.10807223769581E7,
           "28000000",
           "Scrypt",
           "PoW/PoS"
          ],
          [
           1.0914418E7,
           "650659833",
           "Scrypt",
           "PoW/PoS"
          ],
          [
           814671.0,
           "5000000",
           "X11",
           "PoW/PoS"
          ],
          [
           8377873.0,
           "144000000",
           "Scrypt",
           "PoW/PoS"
          ],
          [
           3.38131438218337E10,
           "32514916898",
           "Scrypt",
           "PoS"
          ],
          [
           3472983.0,
           "13000000",
           "Scrypt",
           "PoW/PoS"
          ],
          [
           3315789.0,
           "3315789",
           "Scrypt",
           "PoW/PoS"
          ],
          [
           1.05177727391666E7,
           "15000000",
           "Quark",
           "PoS"
          ],
          [
           3.022775E7,
           "78835200",
           "QuBit",
           "PoW/PoS"
          ],
          [
           2.3965372E7,
           "500000000",
           "Scrypt",
           "PoW/PoS"
          ],
          [
           2526078.47525448,
           "21000000",
           "SHA-256",
           "PoW/PoS"
          ],
          [
           5659096.95728771,
           "9354000",
           "X11",
           "PoW/PoS"
          ],
          [
           1.1821728E7,
           "20000000",
           "Scrypt",
           "PoW/PoS"
          ],
          [
           308179.0,
           "21933333",
           "Scrypt",
           "PoW/PoS"
          ],
          [
           2922613.96424908,
           "55000000",
           "Scrypt",
           "PoS"
          ],
          [
           1.1E8,
           "110000000",
           "Scrypt",
           "PoW/PoS "
          ],
          [
           1.45248514827E7,
           "14524851.4827",
           "X13",
           "PoS"
          ],
          [
           1.0E9,
           "1000000000",
           "Scrypt",
           "PoW/PoS"
          ],
          [
           3.6050365E7,
           "34426423",
           "Scrypt",
           "PoS"
          ],
          [
           1.31627490858027E7,
           "100000000",
           "X11",
           "PoW/PoS"
          ],
          [
           1.21841959258495E7,
           "36900000",
           "Blake2S",
           "PoW/PoS"
          ],
          [
           1.10630387850471E8,
           "110000000",
           "X11",
           "PoW/PoS"
          ],
          [
           1.11135836889E8,
           "110290030",
           "PoS",
           "PoS"
          ],
          [
           2.15213220099142E7,
           "100000000",
           "X11",
           "PoW/PoS"
          ],
          [
           4.01421401E8,
           "400000000",
           "PoS",
           "PoS"
          ],
          [
           1.21665451643876E8,
           "500000000",
           "X11",
           "PoW/PoS"
          ],
          [
           5368934.0,
           "21212121",
           "Scrypt",
           "PoW/PoS"
          ],
          [
           1148324.0,
           "28600000",
           "Scrypt",
           "PoW/PoS"
          ],
          [
           500000.0,
           "1000000000",
           "Scrypt",
           "PoW/PoS"
          ],
          [
           1.00545745E8,
           "75000000000",
           "SHA-256",
           "PoS"
          ],
          [
           1.7171382E7,
           "40000000",
           "X11",
           "PoW/PoS"
          ],
          [
           2.95135466361878E8,
           "2000000000",
           "Scrypt",
           "PoS"
          ],
          [
           1.13902259742772E7,
           "30000000",
           "PoS",
           "PoS"
          ],
          [
           2.1358764E7,
           "105000000",
           "Scrypt",
           "PoW/PoS"
          ],
          [
           4.065902E10,
           "90000000000",
           "X15",
           "PoW/PoS"
          ],
          [
           1.0343113E7,
           "200084200",
           "SHA-256",
           "PoS"
          ],
          [
           1.0E8,
           "100000000",
           "POS 3.0",
           "PoS"
          ],
          [
           2.2801882871E10,
           "50000000000",
           "536",
           "PoW/PoS"
          ],
          [
           4171382.0,
           "10000000",
           "NIST5",
           "PoW/PoS"
          ],
          [
           6.2942075E7,
           "120000000",
           "NIST5",
           "PoW/PoS"
          ],
          [
           6804362.0,
           "100000000",
           "Skein",
           "PoW/PoS"
          ],
          [
           2.1268092E7,
           "30000000",
           "X13",
           "PoW/PoS"
          ],
          [
           9.04493094324243E9,
           "50000000000",
           "Scrypt",
           "PoW/PoS"
          ],
          [
           2.19170180492836E7,
           "18898187.6216583",
           "X13",
           "PoW/PoS"
          ],
          [
           1.07972766E8,
           "137500000",
           "SkunkHash v2 Raptor",
           "PoS"
          ],
          [
           4.73318024774238E7,
           "100000000",
           "Skein",
           "PoW/PoS"
          ],
          [
           1.25692625359307E7,
           "9507271",
           "X11",
           "PoW/PoS"
          ],
          [
           1.86632973489799E7,
           "17405891.19707116",
           "Scrypt",
           "PoS"
          ],
          [
           5.54547348E10,
           "86712634466",
           "VeChainThor Authority",
           "Proof of Authority"
          ],
          [
           4000000.0,
           "61599965",
           "PoS",
           "PoS"
          ],
          [
           1.9539588E7,
           "48252000",
           "Scrypt",
           "PoW/PoS"
          ],
          [
           4200000.0,
           "4200000",
           "Scrypt",
           "PoW/PoS"
          ],
          [
           2.5E7,
           "91388946",
           "SHA-512",
           "PoS"
          ],
          [
           2.5927070538E10,
           "45000000000",
           "Ouroboros",
           "PoS"
          ],
          [
           7262402.04264803,
           "27000000",
           "X11",
           "PoW/PoS"
          ],
          [
           1.826384E8,
           "400000000",
           "NeoScrypt",
           "PoW/PoS"
          ],
          [
           1140734.91680375,
           "15733333",
           "Scrypt",
           "PoW/PoS"
          ],
          [
           2.4E7,
           "24000000",
           "Lyra2REv2",
           "PoS"
          ],
          [
           4.8459472454E10,
           "25000000000",
           "Scrypt",
           "PoW/PoS"
          ],
          [
           9.20508E7,
           "100000000",
           "SHA-256",
           "PoW/PoS"
          ],
          [
           5.6056322E8,
           "1200000000",
           "NIST5",
           "PoW/PoS"
          ],
          [
           8305775.31777569,
           "60000000",
           "PHI1612",
           "PoW/PoS"
          ],
          [
           2149688.0,
           "21000000",
           "Scrypt",
           "PoW/PoS"
          ],
          [
           3.07115505294042E7,
           "200000000",
           "Quark",
           "PoW/PoS"
          ],
          [
           1.233080630517E7,
           "21000000",
           "POS 2.0",
           "PoS"
          ],
          [
           1.6362544992E7,
           "14788275.991",
           "Scrypt",
           "PoW/PoS"
          ],
          [
           8.99999999E9,
           "9000000000",
           "SHA-256",
           "PoS"
          ],
          [
           3.81985948342105E7,
           "144000000",
           "X11",
           "PoW/PoS"
          ],
          [
           2.88090567493887E8,
           "500000000",
           "DPoS",
           "DPoS"
          ],
          [
           2.8399150208E10,
           "30000000000",
           "NIST5",
           "PoW/PoS"
          ],
          [
           1.83534024889807E8,
           "210000000",
           "X13",
           "PoW/PoS"
          ],
          [
           1.1097697729338E8,
           "210000000",
           "Scrypt",
           "PoW/PoS"
          ],
          [
           1.32471788807286E7,
           "27716121",
           "NIST5",
           "PoS"
          ],
          [
           1.6955764902064E7,
           "20000000",
           "Quark",
           "PoS"
          ],
          [
           4.91150026941E9,
           "50000000000",
           "Scrypt",
           "PoW/PoS"
          ],
          [
           8419402.321,
           "150000000",
           "Scrypt",
           "PoW/PoS"
          ],
          [
           4.51742141078625E7,
           "50000000",
           "X11",
           "PoW/PoS"
          ],
          [
           2.729968E7,
           "120000000",
           "Quark",
           "PoS"
          ],
          [
           5.91022748E8,
           "900000000",
           "Scrypt",
           "PoW/PoS"
          ],
          [
           2504486.227718,
           "4000000",
           "Scrypt",
           "PoW/PoS"
          ],
          [
           4407252.0,
           "21000000",
           "X11",
           "PoS"
          ],
          [
           2.04458615344251E7,
           "25000000",
           "POS 3.0",
           "PoS"
          ],
          [
           1618033.0,
           "1618033",
           "Ethash",
           "PoS"
          ],
          [
           9399342.52839847,
           "30000000",
           "Scrypt",
           "PoW and PoS"
          ],
          [
           2.34846265782157E8,
           "232000000",
           "Scrypt",
           "PoW/PoS"
          ],
          [
           2.30298925E8,
           "800000000",
           "X13",
           "PoS"
          ],
          [
           1.12513421879021E7,
           "19340594",
           "C11",
           "PoW/PoS"
          ],
          [
           2167827.1,
           "25000000",
           "X11",
           "PoW/PoS"
          ],
          [
           419275.38,
           "60000000",
           "XEVAN",
           "PoW/PoS"
          ],
          [
           2.55700131348022E7,
           "124000000",
           "Scrypt",
           "PoS"
          ],
          [
           6.50848625E8,
           "1000000000",
           "VBFT",
           "PoS"
          ],
          [
           1.37878546277781E7,
           "50000000",
           "NIST5",
           "PoW/PoS"
          ],
          [
           845637.81347436,
           "3000000",
           "Scrypt",
           "PoW/PoS"
          ],
          [
           1182153.5,
           "5000000",
           "Scrypt",
           "PoW/PoS"
          ],
          [
           2.672976763125E8,
           "500000000",
           "Scrypt",
           "PoS"
          ],
          [
           9803691.3618195,
           "21000000",
           "Green Protocol",
           "PoS"
          ],
          [
           2.18765868530324E7,
           "88000000",
           "PoS",
           "PoS"
          ],
          [
           9880502.37178894,
           "30000000",
           "Scrypt",
           "PoW/PoS"
          ],
          [
           1231147.0,
           "100000000",
           "Semux BFT consensus",
           "DPoS"
          ],
          [
           1.39739596506702E8,
           "200000000",
           "Quark",
           "PoW/PoS"
          ],
          [
           1.10752540929996E7,
           "80000000",
           "PoS",
           "PoS"
          ],
          [
           4403800.0,
           "45000000",
           "X16R",
           "PoS"
          ],
          [
           1.40415752946026E9,
           "5121951220",
           "Scrypt",
           "PoW/PoS"
          ],
          [
           1.09049630923455E7,
           "21000000",
           "XEVAN",
           "PoS/PoW"
          ],
          [
           3.8706809466535E7,
           "26000000",
           "Scrypt",
           "PoS"
          ],
          [
           1.02E10,
           "10200000000",
           "Scrypt",
           "PoW/PoS"
          ],
          [
           7630000.0154,
           "44000000",
           "Scrypt",
           "PoS"
          ],
          [
           3.32381837225834E7,
           "100000000",
           "SHA-256D",
           "PoW/PoS"
          ],
          [
           2.15993396728E7,
           "84000000",
           "Scrypt",
           "PoW/PoS"
          ],
          [
           3.0284196369129E7,
           "90000000",
           "X15",
           "PoS"
          ],
          [
           7.78720597878998E10,
           "92000000000",
           "Scrypt",
           "HPoW"
          ],
          [
           2716264.95302831,
           "650000000 ",
           "Quark",
           "PoS"
          ],
          [
           5.7811001000889E7,
           "100262205",
           "SHA-256",
           "PoS"
          ],
          [
           1.8194936E7,
           "18081806 ",
           "DPoS",
           "PoS"
          ],
          [
           3.69231206205934E7,
           "82546564",
           "X16R",
           "PoW/PoS"
          ],
          [
           7082392.24744494,
           "21000000",
           "Quark",
           "PoS"
          ],
          [
           5919489.76813523,
           "5151000",
           "Quark",
           "PoW/PoS"
          ],
          [
           1042012.45227735,
           "16880000000",
           "Scrypt",
           "PoS"
          ],
          [
           1.33326179413708E7,
           "52500000",
           "Lyra2REv2",
           "PoW/PoS"
          ],
          [
           6.60538776256106E7,
           "100000000",
           "Quark",
           "PoS"
          ],
          [
           5403802.49590733,
           "1000000000",
           "Scrypt",
           "PoW/PoS"
          ],
          [
           1.926950994E7,
           "55000000",
           "X11",
           "PoS"
          ],
          [
           3.07711259760867E7,
           "50000000",
           "X11",
           "PoW/PoS"
          ],
          [
           1.07763867917675E8,
           "260000000",
           "Scrypt",
           "PoS"
          ],
          [
           9327131.59708692,
           "210000000",
           "PoS",
           "PoS"
          ],
          [
           4672513.84432375,
           "366000000",
           "Keccak",
           "PoW/PoS"
          ],
          [
           4504639.0,
           "100000000",
           "X11",
           "PoS"
          ],
          [
           1.05995408043439E9,
           "18000000000",
           "Scrypt",
           "PoW/PoS"
          ],
          [
           1.0E9,
           "1000000000",
           "SHA-512",
           "Zero-Knowledge Proof"
          ],
          [
           1.0E9,
           "1000000000",
           "ECC 256K1",
           "DPOS"
          ],
          [
           6787405.18013774,
           "50000000",
           "XEVAN",
           "PoS"
          ],
          [
           2.08515864367343E8,
           "70000000000",
           "XEVAN",
           "Pos"
          ],
          [
           1.72099237283266E10,
           "0",
           "X11",
           "PoS"
          ],
          [
           3.53121857437239E7,
           "54000000",
           "Quark",
           "PoW/PoS"
          ],
          [
           1.347592E7,
           "105000000",
           "Equihash",
           "PoS"
          ],
          [
           1.47775493940764E7,
           "21000000",
           "Scrypt",
           "PoW/PoS"
          ],
          [
           1.82650112486006E7,
           "19035999",
           "Quark",
           "PoW/PoS"
          ],
          [
           1934701.67524713,
           "13370000",
           "Quark",
           "PoS"
          ],
          [
           3.08257100000296E10,
           "74800000000",
           "Scrypt",
           "PoW/PoS"
          ],
          [
           715659.44237941,
           "19700000",
           "X11",
           "PoS"
          ],
          [
           2.05465282059957E7,
           "84000000",
           "Scrypt",
           "PoW/PoS"
          ],
          [
           1.98938144363399E8,
           "500000000",
           "XEVAN",
           "PoW/PoS"
          ],
          [
           8.96361168E8,
           "5000000000",
           "SHA-256D",
           "PoW/PoS"
          ],
          [
           1.54202345389336E7,
           "420000000",
           "X11",
           "PoW/PoS"
          ],
          [
           2.37759603207514E7,
           "30000000",
           "X11",
           "PoW/PoS"
          ],
          [
           1.0E9,
           "1000000000",
           "DPoS",
           "DPoS"
          ],
          [
           1.53188870810146E10,
           "35000000000",
           "Scrypt",
           "PoW/PoS"
          ],
          [
           2.4257410522384E8,
           "0",
           "X11",
           "PoW/PoS"
          ],
          [
           3537150.0,
           "200000000",
           "Scrypt",
           "PoW/PoS"
          ],
          [
           2.0576532E7,
           "54256119",
           "Scrypt",
           "PoW/PoS"
          ],
          [
           4392258.24647793,
           "21000000",
           "SHA-256",
           "PoS"
          ],
          [
           9631199.99309942,
           "0",
           "Scrypt",
           "PoW/PoS"
          ],
          [
           4.36353624490312E8,
           "500000000",
           "X11",
           "PoW/PoS"
          ],
          [
           9.8073252897974E8,
           "10500000000",
           "Scrypt",
           "PoW/PoS"
          ],
          [
           1.7939725045334E10,
           "190000000",
           "SHA-256",
           "PoW/PoS"
          ],
          [
           4.94240666028571E8,
           "1000000000",
           "X11",
           "PoW/PoS"
          ],
          [
           6.0E7,
           "15000000",
           "Scrypt",
           "PoW/PoS"
          ],
          [
           4.04316475545465E8,
           "400000000",
           "Scrypt",
           "PoW/PoS"
          ],
          [
           2.01364327427503E8,
           "208000000",
           "X11",
           "PoW/PoS"
          ],
          [
           1.03621876167052E8,
           "160000000",
           "Scrypt",
           "PoW/PoS"
          ],
          [
           3821245.74150193,
           "9000000",
           "PoS",
           "PoS"
          ],
          [
           1.69010166609755E7,
           "16504333",
           "X11",
           "Proof of Trust"
          ],
          [
           7.46760649488608E7,
           "105000000",
           "SHA-256",
           "PoW/PoS"
          ],
          [
           1.2001214E8,
           "159918400",
           "DPoS",
           "DPoS"
          ],
          [
           1.00002446777002E10,
           "10008835635",
           "Scrypt",
           "PoS"
          ],
          [
           2.5200556419257E8,
           "300000000",
           "Scrypt",
           "PoW/PoS"
          ],
          [
           1120385.00502,
           "60168145",
           "NeoScrypt",
           "PoW/PoS"
          ],
          [
           140777.753365,
           "120000",
           "X13",
           "PoW/PoS"
          ],
          [
           1.0205445230722E9,
           "0",
           "DPoS",
           "DPoS"
          ],
          [
           1.12238228337E9,
           "0",
           "DPoS",
           "DPoS"
          ],
          [
           1.0E9,
           "1000000000",
           "SHA-256",
           "PoS"
          ],
          [
           1.0E8,
           "100000000",
           "Leased POS",
           "LPoS"
          ],
          [
           9283137.5558676,
           "8634140",
           "PoS",
           "PoS"
          ],
          [
           1.0E9,
           "1000000000",
           "PoS",
           "PoS/LPoS"
          ],
          [
           1.9999999953056E9,
           "2000000000",
           "SHA-256",
           "DPoS"
          ],
          [
           1.49310461546605E7,
           "250000000",
           "Scrypt",
           "PoW/PoS"
          ],
          [
           128326.99633965,
           "1000000",
           "Scrypt",
           "PoS"
          ]
         ],
         "hovertemplate": "<b>%{hovertext}</b><br><br>Class=%{marker.color}<br>principal component 1=%{x}<br>principal component 2=%{y}<br>principal component 3=%{z}<br>TotalCoinsMined=%{customdata[0]}<br>TotalCoinSupply=%{customdata[1]}<br>Algorithm=%{customdata[2]}<br>ProofType=%{customdata[3]}<extra></extra>",
         "hovertext": [
          "42 Coin",
          "404Coin",
          "EliteCoin",
          "Dash",
          "Bitshares",
          "BitcoinDark",
          "PayCoin",
          "KoboCoin",
          "Aurora Coin",
          "BlueCoin",
          "EnergyCoin",
          "BitBar",
          "CryptoBullion",
          "CasinoCoin",
          "Diamond",
          "Exclusive Coin",
          "FlutterCoin",
          "HoboNickels",
          "HyperStake",
          "IOCoin",
          "MaxCoin",
          "MintCoin",
          "MazaCoin",
          "Nautilus Coin",
          "NavCoin",
          "OpalCoin",
          "Orbitcoin",
          "PotCoin",
          "PhoenixCoin",
          "Reddcoin",
          "SuperCoin",
          "SyncCoin",
          "TeslaCoin",
          "TittieCoin",
          "TorCoin",
          "UnitaryStatus Dollar",
          "UltraCoin",
          "VeriCoin",
          "X11 Coin",
          "Crypti",
          "StealthCoin",
          "ZCC Coin",
          "BurstCoin",
          "StorjCoin",
          "Neutron",
          "FairCoin",
          "RubyCoin",
          "Kore",
          "Dnotes",
          "8BIT Coin",
          "Sativa Coin",
          "Ucoin",
          "Vtorrent",
          "IslaCoin",
          "Nexus",
          "Droidz",
          "Squall Coin",
          "Diggits",
          "Paycon",
          "Emercoin",
          "EverGreenCoin",
          "Decred",
          "EDRCoin",
          "Hitcoin",
          "DubaiCoin",
          "PWR Coin",
          "BillaryCoin",
          "GPU Coin",
          "EuropeCoin",
          "ZeitCoin",
          "SwingCoin",
          "SafeExchangeCoin",
          "Nebuchadnezzar",
          "Ratecoin",
          "Revenu",
          "Clockcoin",
          "VIP Tokens",
          "BitSend",
          "Let it Ride",
          "PutinCoin",
          "iBankCoin",
          "Frankywillcoin",
          "MudraCoin",
          "Lutetium Coin",
          "GoldBlocks",
          "CarterCoin",
          "BitTokens",
          "MustangCoin",
          "ZoneCoin",
          "RootCoin",
          "BitCurrency",
          "Swiscoin",
          "BuzzCoin",
          "Opair",
          "PesoBit",
          "Halloween Coin",
          "CoffeeCoin",
          "RoyalCoin",
          "GanjaCoin V2",
          "TeamUP",
          "LanaCoin",
          "ARK",
          "InsaneCoin",
          "EmberCoin",
          "XenixCoin",
          "FreeCoin",
          "PLNCoin",
          "AquariusCoin",
          "Creatio",
          "Eternity",
          "Eurocoin",
          "BitcoinFast",
          "Stakenet",
          "BitConnect Coin",
          "MoneyCoin",
          "Enigma",
          "Russiacoin",
          "PandaCoin",
          "GameUnits",
          "GAKHcoin",
          "Allsafe",
          "LiteCreed",
          "Klingon Empire Darsek",
          "Internet of People",
          "KushCoin",
          "Printerium",
          "Impeach",
          "Zilbercoin",
          "FirstCoin",
          "FindCoin",
          "OpenChat",
          "RenosCoin",
          "VirtacoinPlus",
          "TajCoin",
          "Impact",
          "Atmos",
          "HappyCoin",
          "MacronCoin",
          "Condensate",
          "Independent Money System",
          "ArgusCoin",
          "LomoCoin",
          "ProCurrency",
          "GoldReserve",
          "GrowthCoin",
          "Phreak",
          "Degas Coin",
          "HTML5 Coin",
          "Ultimate Secure Cash",
          "QTUM",
          "Espers",
          "Denarius",
          "Virta Unique Coin",
          "Bitcoin Planet",
          "BritCoin",
          "Linda",
          "DeepOnion",
          "Signatum",
          "Cream",
          "Monoeci",
          "Draftcoin",
          "Vechain",
          "Stakecoin",
          "CoinonatX",
          "Ethereum Dark",
          "Obsidian",
          "Cardano",
          "Regalcoin",
          "TrezarCoin",
          "TerraNovaCoin",
          "Rupee",
          "WomenCoin",
          "Theresa May Coin",
          "NamoCoin",
          "LUXCoin",
          "Xios",
          "Bitcloud 2.0",
          "KekCoin",
          "BlackholeCoin",
          "Infinity Economics",
          "Magnet",
          "Lamden Tau",
          "Electra",
          "Bitcoin Diamond",
          "Cash & Back Coin",
          "Bulwark",
          "Kalkulus",
          "GermanCoin",
          "LiteCoin Ultra",
          "PhantomX",
          "Digiwage",
          "Trollcoin",
          "Litecoin Plus",
          "Monkey Project",
          "TokenPay",
          "1717 Masonic Commemorative Token",
          "My Big Coin",
          "Unified Society USDEX",
          "Tokyo Coin",
          "Stipend",
          "Pushi",
          "Ellerium",
          "Velox",
          "Ontology",
          "Bitspace",
          "Briacoin",
          "Ignition",
          "MedicCoin",
          "Bitcoin Green",
          "Deviant Coin",
          "Abjcoin",
          "Semux",
          "Carebit",
          "Zealium",
          "Proton",
          "iDealCash",
          "Bitcoin Incognito",
          "HollyWoodCoin",
          "Swisscoin",
          "Xt3ch",
          "TheVig",
          "EmaratCoin",
          "Dekado",
          "Lynx",
          "Poseidon Quark",
          "BitcoinWSpectrum",
          "Muse",
          "Trivechain",
          "Dystem",
          "Giant",
          "Peony Coin",
          "Absolute Coin",
          "Vitae",
          "TPCash",
          "ARENON",
          "EUNO",
          "MMOCoin",
          "Ketan",
          "XDNA",
          "PAXEX",
          "ThunderStake",
          "Kcash",
          "Acute Angle Cloud",
          "Bettex coin",
          "BitMoney",
          "Junson Ming Chan Coin",
          "HerbCoin",
          "PirateCash",
          "Oduwa",
          "Galilel",
          "Crypto Sports",
          "Credit",
          "Dash Platinum",
          "Nasdacoin",
          "Beetle Coin",
          "Titan Coin",
          "Award",
          "Insane Coin",
          "ALAX",
          "LiteDoge",
          "TruckCoin",
          "OrangeCoin",
          "BitstarCoin",
          "NeosCoin",
          "HyperCoin",
          "PinkCoin",
          "AudioCoin",
          "IncaKoin",
          "Piggy Coin",
          "Genstake",
          "XiaoMiCoin",
          "CapriCoin",
          " ClubCoin",
          "Radium",
          "Creditbit ",
          "OKCash",
          "Lisk",
          "HiCoin",
          "WhiteCoin",
          "FriendshipCoin",
          "Triangles Coin",
          "EOS",
          "Oxycoin",
          "TigerCash",
          "Waves",
          "Particl",
          "Nxt",
          "ZEPHYR",
          "Gapcoin",
          "BitcoinPlus"
         ],
         "legendgroup": "0",
         "marker": {
          "color": [
           0,
           0,
           0,
           0,
           0,
           0,
           0,
           0,
           0,
           0,
           0,
           0,
           0,
           0,
           0,
           0,
           0,
           0,
           0,
           0,
           0,
           0,
           0,
           0,
           0,
           0,
           0,
           0,
           0,
           0,
           0,
           0,
           0,
           0,
           0,
           0,
           0,
           0,
           0,
           0,
           0,
           0,
           0,
           0,
           0,
           0,
           0,
           0,
           0,
           0,
           0,
           0,
           0,
           0,
           0,
           0,
           0,
           0,
           0,
           0,
           0,
           0,
           0,
           0,
           0,
           0,
           0,
           0,
           0,
           0,
           0,
           0,
           0,
           0,
           0,
           0,
           0,
           0,
           0,
           0,
           0,
           0,
           0,
           0,
           0,
           0,
           0,
           0,
           0,
           0,
           0,
           0,
           0,
           0,
           0,
           0,
           0,
           0,
           0,
           0,
           0,
           0,
           0,
           0,
           0,
           0,
           0,
           0,
           0,
           0,
           0,
           0,
           0,
           0,
           0,
           0,
           0,
           0,
           0,
           0,
           0,
           0,
           0,
           0,
           0,
           0,
           0,
           0,
           0,
           0,
           0,
           0,
           0,
           0,
           0,
           0,
           0,
           0,
           0,
           0,
           0,
           0,
           0,
           0,
           0,
           0,
           0,
           0,
           0,
           0,
           0,
           0,
           0,
           0,
           0,
           0,
           0,
           0,
           0,
           0,
           0,
           0,
           0,
           0,
           0,
           0,
           0,
           0,
           0,
           0,
           0,
           0,
           0,
           0,
           0,
           0,
           0,
           0,
           0,
           0,
           0,
           0,
           0,
           0,
           0,
           0,
           0,
           0,
           0,
           0,
           0,
           0,
           0,
           0,
           0,
           0,
           0,
           0,
           0,
           0,
           0,
           0,
           0,
           0,
           0,
           0,
           0,
           0,
           0,
           0,
           0,
           0,
           0,
           0,
           0,
           0,
           0,
           0,
           0,
           0,
           0,
           0,
           0,
           0,
           0,
           0,
           0,
           0,
           0,
           0,
           0,
           0,
           0,
           0,
           0,
           0,
           0,
           0,
           0,
           0,
           0,
           0,
           0,
           0,
           0,
           0,
           0,
           0,
           0,
           0,
           0,
           0,
           0,
           0,
           0,
           0,
           0,
           0,
           0,
           0,
           0,
           0,
           0,
           0,
           0,
           0,
           0,
           0,
           0,
           0,
           0,
           0,
           0,
           0,
           0,
           0,
           0,
           0,
           0,
           0,
           0,
           0,
           0,
           0,
           0,
           0,
           0,
           0,
           0,
           0
          ],
          "coloraxis": "coloraxis",
          "symbol": "circle"
         },
         "mode": "markers",
         "name": "0",
         "scene": "scene",
         "showlegend": true,
         "x": [
          -0.3342320162624876,
          -0.31754878015419497,
          2.3099713118634875,
          -0.39427608230020744,
          -0.255919900952621,
          -0.3169662053803771,
          -0.2738834215911403,
          -0.2380280444500427,
          -0.3338911607793043,
          -0.32645958950292286,
          -0.3327267279146167,
          -0.33422794705189185,
          -0.334212208335327,
          0.6436431051254529,
          -0.36483824114596386,
          -0.34992013081319073,
          -0.27943378585842865,
          -0.3322883079182819,
          -0.33099200552366437,
          -0.3941706481655686,
          -0.37468640241511864,
          -0.03074806238016788,
          -0.2802254615004615,
          -0.2908999950885554,
          -0.2773879709429471,
          -0.2780109494375783,
          -0.3450339068176391,
          -0.3285269322067373,
          -0.3326317139373174,
          0.024352421655960788,
          -0.3509032084300353,
          -0.39454269509734113,
          -0.2526253842473754,
          -0.3166154776786567,
          -0.3944542184559333,
          -0.30943233750897847,
          -0.3329077070035605,
          -0.2866585374938698,
          -0.3944186537246906,
          -0.2530937717504769,
          -0.27779154182664295,
          -0.325323427541348,
          -0.054761806552656805,
          -0.33150642611641024,
          -0.31617691281162447,
          -0.36425909174247134,
          -0.2908802414720487,
          -0.27808642100006337,
          -0.2855273133907275,
          -0.33421406262244346,
          -0.2780385487185762,
          -0.3513485890859109,
          -0.3339481017113968,
          -0.3945242011501194,
          -0.32078626857884374,
          -0.3991115974750024,
          -0.3712783123313025,
          -0.2892797319470424,
          -0.2775595663662603,
          -0.30951304202305535,
          -0.2404727368791761,
          -0.06869163322074698,
          -0.3169370833603685,
          -0.0715748147640248,
          -0.3170008646065261,
          -0.2325998468866705,
          -0.3338238131232377,
          -0.28914853058806733,
          -0.3916896339917191,
          0.8637555968698507,
          -0.31680065961696696,
          -0.08805618253727505,
          -0.34960299889281266,
          -0.39236447765346316,
          -0.31554252253190523,
          -0.3132076623255178,
          -0.3541085078213845,
          -0.3932577325736029,
          -0.3454460588748507,
          -0.31008958883445886,
          -0.33386195629940935,
          -0.3322989901815978,
          -0.2336962444098341,
          -0.3388234716726523,
          -0.39399742164772905,
          -0.3330651667572581,
          -0.3169817857591869,
          -0.39451337729213276,
          -0.3340513685213429,
          -0.3342082885889357,
          -0.28913824927370846,
          -0.25215797519654326,
          0.04319304428301527,
          -0.3485587508501326,
          -0.3338219683568611,
          -0.3806576154898035,
          -0.34788658341727235,
          -0.23512875393193494,
          -0.4029320058005867,
          -0.34763503263276707,
          -0.27173047540682793,
          3.690986440142008,
          -0.39410539781308346,
          0.8555286446517015,
          -0.39446823074978543,
          -0.34902309082498423,
          -0.33374940718399676,
          -0.3339039217200891,
          -0.34960299889281266,
          -0.3940425719683201,
          -0.31684428959233385,
          -0.3337501477453088,
          -0.3950218074829467,
          -0.33389772408274415,
          -0.329479875337411,
          -0.39449725968139193,
          -0.3331073716493236,
          0.3531890822008169,
          -0.33409725688717395,
          -0.3341679219812823,
          -0.3561772946772825,
          -0.35299981006370007,
          -0.33038968006532965,
          -0.3169581702905016,
          -0.3944070968600434,
          -0.3339454473204973,
          -0.33407255609269193,
          -0.29078659827710057,
          -0.29087218463233033,
          -0.23489631271591316,
          -0.3149017481467415,
          -0.29052742296470724,
          -0.3936718723518703,
          -0.41424453346179496,
          -0.39240867618338593,
          -0.3478473225248209,
          -0.39356963130828776,
          -0.3422401102968123,
          -0.38950532413676947,
          -0.3340157730001318,
          -0.33401495693252603,
          -0.3271275101265019,
          0.2594903119948098,
          -0.3940487427039768,
          -0.2734059158279846,
          -0.3496373286875143,
          -0.3332254282246825,
          0.89536644525543,
          -0.2725720853688376,
          -0.3442228539093939,
          0.5967418040470988,
          -0.35564611040848426,
          -0.3541464114555308,
          -0.41188705456734176,
          -0.2777232398005876,
          0.13132402445155109,
          -0.27779410722154324,
          -0.35893464980176987,
          -0.41139132786306365,
          -0.3943214845807989,
          -0.29086091784349566,
          4.40836688332486,
          -0.34950341612198593,
          -0.33365049965640015,
          -0.33415082994486345,
          -0.3140581963559797,
          0.6371157247869871,
          -0.3942622272202298,
          -0.34002669492126336,
          -0.3341063823946124,
          -0.31116928461301047,
          0.43597810921098645,
          -0.3153023419364006,
          -0.340393308070507,
          -0.3952776361190896,
          -0.33405665614199337,
          -0.3976363427505436,
          -0.37001701601768594,
          -0.33392689945624615,
          -0.1001464567244121,
          -0.3930533077386924,
          3.6958487107394262,
          0.20455855045264004,
          -0.27446071233751057,
          -0.33138389812444974,
          -0.31239008218044967,
          -0.35606305398805965,
          0.08076440506374137,
          -0.33306427332168576,
          -0.39363523157016594,
          -0.35522668938049035,
          -0.32061414706562885,
          -0.3341729889405375,
          -0.3513204831784895,
          -0.34572832974470113,
          -0.27774966284069647,
          -0.2969913459554962,
          -0.32971257950758054,
          -0.22668138085867615,
          -0.3712746359559567,
          -0.3943387402209937,
          -0.3114294385277253,
          -0.29001978907565595,
          -0.32555259174826123,
          -0.3552445472489366,
          -0.3342003781628351,
          -0.3341820651620219,
          -0.28439401079074317,
          -0.3276424870960114,
          -0.3490973541229176,
          -0.3338982082453053,
          3.8891631220389336,
          -0.39630272500243263,
          -0.3492862618346688,
          -0.30599183168330635,
          -0.2806989211072865,
          -0.2883176385981428,
          -0.29055474370555506,
          -0.13706327401265536,
          -0.2908071004067046,
          -0.337131475059281,
          -0.3333715517436094,
          -0.19679636846199666,
          2.2213470778482525,
          -0.3517652434774539,
          -0.27270003950954963,
          1.0002085383657286,
          -0.3483467973657182,
          -0.3561767254860083,
          -0.39932271060082175,
          -0.1713791728404934,
          -0.35411672081886564,
          -0.35489462058647386,
          -0.3270675274130344,
          -0.3508973445594682,
          -0.39381140838584644,
          -0.28804902270107263,
          -0.3483848538244692,
          -0.37195755323391,
          -0.35075851906289146,
          -0.1934957500028663,
          -0.2719332408859142,
          -0.3428456759741621,
          -0.2684032700169732,
          0.5412006465303331,
          -0.1410137723227295,
          -0.3986164334295525,
          -0.2612433312461665,
          -0.3339021936830465,
          -0.3990731405371696,
          -0.35629385213204867,
          0.5737839518694579,
          -0.35137486619629127,
          -0.33338442960494286,
          -0.3058778879138428,
          -0.2917917441431566,
          -0.391372773942557,
          -0.3940389402183417,
          3.7081058955114754,
          0.10159042486270627,
          -0.39157557975131185,
          -0.33276907288559965,
          -0.33359519629965767,
          -0.27391608517281046,
          -0.3341142094118332,
          -0.3856560968240468,
          -0.24770271091552906,
          -0.09635291424359725,
          -0.3813988340944258,
          -0.3333916285341029,
          -0.3264471109014011,
          -0.3906031873925232,
          -0.3318287843739517,
          -0.3498789777408776,
          -0.3718709735419024,
          -0.3154793756193717,
          3.6913787637618194,
          -0.09784435790382352,
          -0.3290199984756485,
          -0.3446592605047996,
          -0.2781937664525486,
          3.7012588026006954,
          3.7025044696521734,
          -0.2547886080230377,
          -0.3947345411582251,
          -0.3498147655643335,
          -0.3353246655144126,
          2.4534596590303144,
          -0.33227478458837234,
          -0.29120409076864257
         ],
         "y": [
          1.0098395092329504,
          1.0099362016125801,
          1.6340329301047345,
          1.2436005658342875,
          1.4527562693480027,
          0.8023921821388013,
          0.6150955482744399,
          1.7803596772843875,
          1.0098370720944805,
          1.0100699491585403,
          1.0098841386315274,
          1.0098392559074003,
          1.009839348532429,
          0.5875060201670278,
          0.9029643364526493,
          1.6460674153736974,
          0.2754254564598759,
          1.0098073764795064,
          1.0569122177264332,
          1.2436036917860158,
          1.777673531386623,
          0.8302562432710685,
          0.8016883683107828,
          0.8225310561180785,
          1.79231460028511,
          1.7922961299793974,
          0.5008861275111022,
          1.0096944937002474,
          1.009813651155297,
          1.0204709584220748,
          1.0563218827342151,
          1.2436091165570191,
          0.150367775356086,
          1.6806384282048898,
          1.2436042604447675,
          1.0093779717132108,
          1.0098039723969114,
          0.2219672407109727,
          1.243608680903949,
          0.1504286889205414,
          1.7923026350605271,
          1.0093556295541282,
          1.2441044971152018,
          1.447274198605119,
          0.8023811751594174,
          0.9029847835584028,
          0.8225437445013144,
          1.7922849163098735,
          0.8223284476839379,
          1.0098400415607833,
          1.7922878316556061,
          1.056293717818033,
          1.0098329667726231,
          1.2436096656206748,
          1.6797370650881538,
          1.7302620325300018,
          0.9079412823500452,
          0.822516396525444,
          1.7922721125095509,
          0.8018816075276612,
          1.780529326809193,
          0.7766933405882239,
          0.802393045559637,
          1.2333250611105528,
          0.8023997566059138,
          1.5430924844453273,
          1.0098201956190729,
          0.8224297384632832,
          1.2434064720478821,
          0.7827243392669438,
          0.8023836262137132,
          0.5941261890050901,
          1.646061857723278,
          1.2436175975597132,
          0.8022842487370292,
          0.8021273703668009,
          1.5394226285437018,
          1.2435432416765932,
          1.478804469424532,
          1.0090592832851717,
          1.0098173193908515,
          1.009822019867074,
          1.604879313547773,
          1.0561885881440254,
          1.2435878835331788,
          1.009806784019356,
          0.8023924682107162,
          1.2436077425156626,
          1.0098291570736033,
          1.009840212751547,
          0.8225953917551583,
          0.3592361867037116,
          1.9503680385484037,
          1.646052425721956,
          1.0098516665221835,
          1.2428987800228537,
          1.646097786645503,
          1.6049845728441523,
          1.794003225825782,
          1.6459100153461454,
          1.9503766391694044,
          1.9830232395728535,
          1.2435996423137643,
          1.825267943064108,
          1.2436084427450205,
          1.6460566109113113,
          1.0098249897321392,
          1.0098178205286215,
          1.646061857723278,
          1.2435790648494234,
          0.8023972927548578,
          1.0098291117232308,
          0.8584922752441011,
          1.0098284763481433,
          1.009493705774637,
          1.2436067243668354,
          1.0097651404440873,
          0.8173180397536071,
          1.0098337805974718,
          1.0098389293295824,
          1.4724229216528981,
          0.6167458730870139,
          1.0095794258385478,
          0.8023931683712031,
          1.2436061407351549,
          1.0098330454710243,
          1.0098278307586261,
          0.8225053805973416,
          0.3727912850519354,
          1.604982469794684,
          1.0096646155080773,
          0.8225284538644207,
          1.2435601352952215,
          1.9864828736650921,
          1.2435901069707456,
          1.6460463732993975,
          1.2435631665769544,
          1.6459959135838047,
          1.2433844647289172,
          1.0098300537557272,
          1.0098245517805984,
          1.0093021414206447,
          0.574818194872609,
          1.2435938419964963,
          0.821565820079024,
          1.6460533598506302,
          1.0097908124512485,
          1.746904346862116,
          0.6149941133604582,
          1.478790993144665,
          1.8359587301127511,
          1.539436881509218,
          1.5393990646130769,
          1.836672523267929,
          1.7922822199561117,
          0.98624224505849,
          1.792288423062436,
          1.4655798365616606,
          1.83668722076368,
          1.2436085643534256,
          0.8225312977225415,
          2.643833686253291,
          1.64603369321092,
          1.0098206575562356,
          1.0098387746866204,
          1.45365744808025,
          1.604863590531327,
          1.2435972365901717,
          0.5007382012432832,
          1.0098314654942515,
          0.6657618171950102,
          1.0139748706566087,
          0.8023831686136117,
          1.538998976536852,
          1.8685628282841078,
          1.0098290003041952,
          1.6596364217851347,
          1.5900237682726561,
          1.0098374937806927,
          0.6135238738720357,
          1.24354556251777,
          1.9828868961752542,
          1.5336133754139691,
          1.7922443077288424,
          1.009766870321122,
          1.3521250262687352,
          1.4724225686798822,
          0.9847432340415179,
          1.009761930210036,
          1.2435986218837256,
          1.472372565041971,
          1.0095700526077063,
          1.0098382673091992,
          1.0562938031078017,
          1.478802458591606,
          -0.08677987835276946,
          0.3357034019315744,
          1.0097999661081203,
          1.6046384899345336,
          0.8465863175379591,
          1.243596464113275,
          1.3961560429089779,
          0.8224765029081221,
          1.6538064121573932,
          1.5394188670091975,
          1.0098382032679862,
          1.0098372502089275,
          0.8223620482747555,
          1.4001659478328958,
          1.646025984935642,
          1.0098269659835646,
          1.8860946188777894,
          1.6596759613964103,
          1.6460263681670049,
          0.6416727318017762,
          1.00759543406094,
          1.0605128563133086,
          0.8225339468548901,
          1.0080555931716666,
          0.822513000797005,
          1.95397733002222,
          1.0098021882294137,
          1.5931955363100296,
          0.4390739571335691,
          1.4720787486852807,
          0.6150649870753869,
          1.7598321387879152,
          0.8289699653276613,
          1.4724184504986757,
          1.6597321717238611,
          0.8134604341827067,
          0.8530482518020716,
          1.4723973704445465,
          1.0093039198111746,
          1.0562809163151148,
          1.24359339852582,
          0.8224332042706095,
          1.6459558528117588,
          1.0157992638421607,
          1.056251372043083,
          1.0005480226749064,
          1.4021498624037163,
          3.2971603099343554,
          1.2088581044955768,
          0.8661573961500649,
          1.0625447653603213,
          1.6597165724059224,
          -0.07955462692441237,
          1.0098335798665117,
          1.659729185024705,
          1.4724206851608088,
          0.9808099436749083,
          1.056293163145662,
          1.0098018064216339,
          1.395991515226984,
          1.9516563554243422,
          1.24338893825739,
          1.2436016126740623,
          1.9828762994123617,
          0.9965807664365887,
          1.2436970874805553,
          1.0097332821774259,
          1.0098178061005432,
          0.6150882218097725,
          1.0098430020471274,
          1.2434985880988803,
          1.0045509111554665,
          0.8088073449030793,
          1.2432508065742813,
          1.009853205327994,
          1.0097711171406394,
          1.2435703323088299,
          1.0097910804112376,
          1.646061903451057,
          0.759003155431688,
          0.8023741798261217,
          1.9830087521974678,
          0.8207802877221125,
          1.0097696356785877,
          0.5008550490761005,
          1.7922906199897162,
          1.983421299142264,
          1.983458231157502,
          0.6149230237334108,
          3.256471414010034,
          1.6460640809034315,
          2.071270033654304,
          0.8379640629888253,
          1.0097105367781978,
          0.8225333948879985
         ],
         "z": [
          -0.4056798295671965,
          -0.405930041745046,
          -0.4882892223390079,
          -0.39969418976226095,
          0.19010756058853986,
          -0.20709296443329733,
          -0.017333988049090362,
          -0.43452567165963885,
          -0.4056846352336607,
          -0.4058092730113296,
          -0.40570489892171513,
          -0.4056798713674047,
          -0.40568010751154404,
          -0.7092102627334081,
          -0.27206407945056466,
          -0.23339077961101906,
          -0.17100897133609866,
          -0.40570596731977365,
          -0.21027229875595257,
          -0.39969594568198236,
          -0.3676696473588743,
          -0.22025712928438784,
          -0.20758033445687238,
          -0.21592367014112337,
          -0.4615171558665851,
          -0.4615067806667804,
          -0.2679238488771636,
          -0.4057530271455704,
          -0.4057013909125444,
          -0.4116517615420013,
          -0.2099406938766668,
          -0.39969089223171844,
          0.004872621183790407,
          -0.2699714674152453,
          -0.3996918463626017,
          -0.40600973963314196,
          -0.4056966905871456,
          -0.022539598957343268,
          -0.3996926724066366,
          0.0048752275213117535,
          -0.46151043472197095,
          -0.4057762521127453,
          -1.4537046234035607,
          -0.16357192917121952,
          -0.2071037200920859,
          -0.272073952221779,
          -0.21592483955524658,
          -0.46150490043631426,
          -0.21598801684017332,
          -0.4056801285726524,
          -0.4615058015957035,
          -0.20993223756929769,
          -0.40568351908014133,
          -0.3996912002853006,
          -0.12582129073422207,
          -0.48892121336428707,
          -0.2733707270981982,
          -0.2159463004636434,
          -0.4615117009468975,
          -0.2071662907922752,
          -0.4345017712693948,
          -0.20069380654311716,
          -0.20709344943683933,
          -0.4036905794281405,
          -0.20709298455373473,
          -0.38365086045483804,
          -0.40568444626489236,
          -0.21594219770872977,
          -0.39971846167783126,
          -0.23001202733471054,
          -0.20709478649372964,
          -0.6989905704506036,
          -0.23339502233002304,
          -0.399723273016052,
          -0.20710624850367856,
          -0.2071294327049753,
          -0.38162255775153486,
          -0.39970507224626267,
          -0.029584983330511197,
          -0.4059780165466863,
          -0.40568368982160063,
          -0.40570682827039933,
          -0.27175743892176574,
          -0.21010774567338464,
          -0.3996973762316148,
          -0.4056945876506129,
          -0.2070927568975201,
          -0.3996912247195921,
          -0.405681747312716,
          -0.40568022473448145,
          -0.21595385101755535,
          -0.2262550686422051,
          -0.5472811807664902,
          -0.23340960852271672,
          -0.4056866585835326,
          -0.3998442228568332,
          -0.2334225689830996,
          -0.27174384032850496,
          -0.5977548649058522,
          -0.23341320129328197,
          -0.5426853585882611,
          0.4002702364866645,
          -0.3996966168314865,
          -0.4803408087144278,
          -0.39969193227437066,
          -0.23340312194438043,
          -0.4056858651571732,
          -0.40568311212140995,
          -0.23339502233002304,
          -0.3996961048622578,
          -0.20709509872702642,
          -0.4056861405865699,
          -0.09343143461153115,
          -0.4056839425365346,
          -0.4057251755469449,
          -0.3996913892597785,
          -0.4056910798539113,
          -0.22496237570853514,
          -0.4056813986213411,
          -0.40568072477627515,
          -0.20151950899882892,
          -0.2398746863079104,
          -0.4057178491759099,
          -0.2070931501939311,
          -0.3996926646894479,
          -0.4056835632868615,
          -0.40568134597107547,
          -0.2159235422551198,
          -0.1277846103166217,
          -0.2717470868503509,
          -0.40594981670117614,
          -0.215928927257208,
          -0.39970020085261465,
          -0.5436502169774282,
          -0.3997207189292102,
          -0.23341957177845998,
          -0.39970190359398416,
          -0.23349790700163908,
          -0.39974881422156394,
          -0.40568232910900365,
          -0.40568195895318293,
          -0.4057462065855773,
          -0.022321836417280756,
          -0.3996970409487051,
          -0.2161119747242958,
          -0.23339393116771656,
          -0.40569113948503466,
          -0.44874476679052466,
          -0.017346083647155425,
          -0.029601900620717613,
          -0.7481847048623637,
          -0.3816011056519638,
          -0.3816203682148157,
          -0.4702618120286961,
          -0.4615100139540847,
          -0.4108361489573174,
          -0.4615094103735463,
          -0.035792856636892086,
          -0.47027006795349935,
          -0.39969408253096433,
          -0.21592425726467412,
          -2.7800312393757305,
          -0.23339451998338387,
          -0.40568700791354656,
          -0.40568096350187877,
          0.1908935300364355,
          -0.03282652990153556,
          -0.3996941607936037,
          -0.267986658639707,
          -0.40568110466660534,
          -0.05335705809578927,
          -0.4172084835744951,
          -0.20711662319018273,
          -0.3817933167869867,
          -0.45925474349080214,
          -0.4056816592516973,
          -0.39129641142701144,
          -0.13355263310182708,
          -0.40568414289772964,
          -0.019760600321830857,
          -0.39970821706175585,
          0.4002087378588795,
          -0.3893730952316642,
          -0.4615549989984652,
          -0.4057163546811952,
          -0.1918436008326802,
          -0.20152115187077382,
          -0.40999411964534327,
          -0.4056914859649735,
          -0.39970340821258127,
          -0.20152988656748497,
          -0.4058598756214656,
          -0.40568060485039065,
          -0.2099326537075595,
          -0.0295807238522934,
          0.07700554633021647,
          -0.3213355876168412,
          -0.40574304639199393,
          -0.2718431001142071,
          -0.25047602628676574,
          -0.39969299041735007,
          -0.3545606710322304,
          -0.21593272878844316,
          -0.2382880309228277,
          -0.3816057156495114,
          -0.4056802006479357,
          -0.4056804017505572,
          -0.21600689107261548,
          -0.10533508586057036,
          -0.2333999113250426,
          -0.4056838305876985,
          0.38519227163262715,
          -0.3913186217452154,
          -0.23339718076286034,
          -0.08781134645895061,
          -0.40630533146151687,
          -0.2282399904711092,
          -0.21592890994409927,
          -0.40843369843800603,
          -0.21592377217910208,
          -0.5419808461835455,
          -0.405689796714531,
          -0.24474887824078004,
          -0.28774912017638815,
          -0.20156000447361072,
          -0.017349137704146974,
          0.13033361276995123,
          -0.277580987245677,
          -0.20151920682173827,
          -0.3912784473361092,
          -0.21703823895196867,
          -0.243117301671566,
          -0.2015364557580159,
          -0.40574720554885213,
          -0.20993793468333374,
          -0.399700474131101,
          -0.21595848608427964,
          -0.23340544042196434,
          -0.17388204511314073,
          -0.20993790928518147,
          -0.4070887080183984,
          0.7886550669574756,
          -3.6205013335185647,
          -0.16480077773801327,
          -0.10406360019734881,
          -0.21343623161243372,
          -0.3912876724561178,
          0.052911819529243495,
          -0.4056842316982392,
          -0.3912818824973513,
          -0.20151765249596726,
          -0.416916778709955,
          -0.20993181552823573,
          -0.4056895822442314,
          -0.3546302727788668,
          -0.5424814230196363,
          -0.3997218687850183,
          -0.3996977236286391,
          0.4000305757979335,
          -0.4111201013259307,
          -0.399740307174905,
          -0.40569380515041337,
          -0.4056876170754831,
          -0.017333002550334865,
          -0.4056817915466077,
          -0.3998129199696888,
          -0.4065755058370366,
          -0.2107583728645326,
          -0.39985784983991135,
          -0.40569304640176973,
          -0.4057887037317352,
          -0.39974569748595606,
          -0.4057115426003578,
          -0.2333909974971826,
          -0.44236006275007667,
          -0.20711341512451822,
          0.4002655164138449,
          -0.21861980862920963,
          -0.4057510486583172,
          -0.2679271588317673,
          -0.4615037297650548,
          0.40009266580635694,
          0.4000719202354248,
          -0.01760070316140739,
          5.424838081879954,
          -0.23339208590249802,
          -0.587175123957838,
          0.25209135496641194,
          -0.4056994399821494,
          -0.2159193941660315
         ],
         "type": "scatter3d"
        },
        {
         "customdata": [
          [
           1.7927175E7,
           "21000000",
           "SHA-256",
           "PoW"
          ],
          [
           1.076842226865E8,
           "0",
           "Ethash",
           "PoW"
          ],
          [
           6.30392433000049E7,
           "84000000",
           "Scrypt",
           "PoW"
          ],
          [
           1.72011431449131E7,
           "0",
           "CryptoNight-V7",
           "PoW"
          ],
          [
           1.13359703E8,
           "210000000",
           "Ethash",
           "PoW"
          ],
          [
           7383056.25,
           "21000000",
           "Equihash",
           "PoW"
          ],
          [
           1.1406219141E10,
           "21000000000",
           "Multiple",
           "PoW"
          ],
          [
           5768310.0,
           "21000000",
           "Scrypt",
           "PoW"
          ],
          [
           1.11497339976203E7,
           "20000000",
           "X11",
           "PoW"
          ],
          [
           1.22057954449549E7,
           "64000000",
           "Scrypt",
           "PoW"
          ],
          [
           1.68825425E9,
           "2000000000",
           "Multiple",
           "PoW"
          ],
          [
           88.0,
           "384000000000",
           "Scrypt",
           "PoW"
          ],
          [
           1.70204389754849E8,
           "169795588",
           "SHA-256",
           "PoW"
          ],
          [
           1.28940951183046E8,
           "250000000",
           "Scrypt",
           "PoW"
          ],
          [
           7357794.7925,
           "100000000",
           "Scrypt",
           "PoW"
          ],
          [
           2.5955716491477E8,
           "247000000",
           "Quark",
           "PoW"
          ],
          [
           4.95485851412917E7,
           "84000000",
           "Groestl",
           "PoW"
          ],
          [
           3.34429883440364E7,
           "48166000",
           "Scrypt",
           "PoW"
          ],
          [
           7219956.64626131,
           "21000000 ",
           "Scrypt",
           "PoW"
          ],
          [
           4703879.51824446,
           "13140000",
           "Scrypt",
           "PoW"
          ],
          [
           4996986.20575291,
           "18000000",
           "X11",
           "PoW"
          ],
          [
           1.59295306691206E10,
           "16555000000",
           "Multiple",
           "PoW"
          ],
          [
           1.87738575E10,
           "21000000000",
           "SHA-256",
           "PoW"
          ],
          [
           1.2539015186822E10,
           "13500000000",
           "Scrypt",
           "PoW"
          ],
          [
           2.09104788062499E7,
           "21000000 ",
           "Scrypt",
           "PoW"
          ],
          [
           2.18871896499999E8,
           "299792458",
           "Scrypt",
           "PoW"
          ],
          [
           1.949678631025E7,
           "32000000",
           "Scrypt",
           "PoW"
          ],
          [
           1142732.14912776,
           "11235813",
           "Scrypt",
           "PoW"
          ],
          [
           2.0866909300773E8,
           "336000000",
           "NeoScrypt",
           "PoW"
          ],
          [
           8.84125802E8,
           "1420609614",
           "Scrypt",
           "PoW"
          ],
          [
           6.56727204708748E7,
           "70000000",
           "Scrypt",
           "PoW"
          ],
          [
           4.16586479999715E7,
           "72245700",
           "Scrypt",
           "PoW"
          ],
          [
           9.05957530186314E10,
           "90600000000",
           "Scrypt",
           "PoW"
          ],
          [
           2.1089348999E7,
           "21000000",
           "SHA-256",
           "PoW"
          ],
          [
           1.514476498E8,
           "265420800",
           "Scrypt",
           "PoW"
          ],
          [
           1.932631914375E7,
           "20000000",
           "Scrypt",
           "PoW"
          ],
          [
           1104344.22938102,
           "1350000",
           "Scrypt",
           "PoW"
          ],
          [
           3.81519999930997E7,
           "42000000",
           "Scrypt",
           "PoW"
          ],
          [
           4.04318569E7,
           "200000000",
           "HybridScryptHash256",
           "PoW"
          ],
          [
           5804204.88794916,
           "10000000",
           "Scrypt",
           "PoW"
          ],
          [
           2.36606630576482E9,
           "15000000000",
           "Scrypt",
           "PoW"
          ],
          [
           1.47364E7,
           "21000000",
           "SHA-256",
           "PoW"
          ],
          [
           3.34709223483138E8,
           "337000000",
           "Scrypt",
           "PoW"
          ],
          [
           1104157.42169891,
           "21000000",
           "Scrypt",
           "PoW"
          ],
          [
           2.4215181725E7,
           "250000000",
           "Scrypt",
           "PoW"
          ],
          [
           2.55937371355044E7,
           "51200000",
           "Scrypt",
           "PoW"
          ],
          [
           5.63336541299966E8,
           "888000000",
           "SHA-256",
           "PoW"
          ],
          [
           4.35368E7,
           "47011968",
           "SHA-256",
           "PoW"
          ],
          [
           2.2935396E7,
           "42000000",
           "SHA-256",
           "PoW"
          ],
          [
           2278150.0,
           "80000000",
           "SHA-256",
           "PoW"
          ],
          [
           200911.79151896,
           "250000",
           "SHA-256",
           "PoW"
          ],
          [
           1207310.0,
           "0",
           "X11",
           "PoW"
          ],
          [
           2.31508921679687E7,
           "23000000",
           "Scrypt",
           "PoW"
          ],
          [
           5.11737238166347E7,
           "84000000",
           "Lyra2REv2",
           "PoW"
          ],
          [
           1.19606941E8,
           "265420800",
           "Scrypt",
           "PoW"
          ],
          [
           3.9195739362088E7,
           "45000000",
           "SHA-256",
           "PoW"
          ],
          [
           1.84066828814E11,
           "184467440735",
           "CryptoNight",
           "PoW"
          ],
          [
           6.90658761038292E9,
           "10000000000",
           "CryptoNight",
           "PoW"
          ],
          [
           6.81946748711679E7,
           "105120000",
           "Scrypt",
           "PoW"
          ],
          [
           4.1503242E8,
           "1680000000",
           "Scrypt",
           "PoW"
          ],
          [
           1.3751765441397E8,
           "166386000",
           "Scrypt",
           "PoW"
          ],
          [
           181919.2435974,
           "2628000",
           "Scrypt",
           "PoW"
          ],
          [
           1.52270664860648E8,
           "160000000",
           "Scrypt",
           "PoW"
          ],
          [
           7.9253725E8,
           "1000000000",
           "Scrypt",
           "PoW"
          ],
          [
           7.1941699E8,
           "1000000000",
           "Stanford Folding",
           "PoW"
          ],
          [
           6.5113302E7,
           "0",
           "Multiple",
           "PoW"
          ],
          [
           6365285.0,
           "0",
           "QuBit",
           "PoW"
          ],
          [
           1.01400444430293E7,
           "3371337",
           "Scrypt",
           "PoW"
          ],
          [
           4.61034064089E9,
           "10000000000",
           "Scrypt",
           "PoW"
          ],
          [
           7.0850652E8,
           "1840000000",
           "M7 POW",
           "PoW"
          ],
          [
           619478.0,
           "619478",
           "Scrypt",
           "PoW"
          ],
          [
           1.246262E7,
           "21000000",
           "SHA-256",
           "PoW"
          ],
          [
           88213.0,
           "92000000000",
           "Scrypt",
           "PoW"
          ],
          [
           3.2221574820996E7,
           "33000000",
           "X11",
           "PoW"
          ],
          [
           1.3742738E7,
           "65789100",
           "Lyra2RE",
           "PoW"
          ],
          [
           1.47472000002E7,
           "53760000",
           "SHA-256",
           "PoW"
          ],
          [
           1.58638375E7,
           "21000000",
           "X11",
           "PoW"
          ],
          [
           3.25653E7,
           "210240000",
           "Scrypt",
           "PoW"
          ],
          [
           7.56145E7,
           "250000000",
           "Scrypt",
           "PoW"
          ],
          [
           1.0495278E7,
           "16906397",
           "Ethash",
           "PoW"
          ],
          [
           3.309829653E10,
           "0",
           "Blake2b",
           "PoW"
          ],
          [
           1.5867695E7,
           "16000000",
           "X11",
           "PoW"
          ],
          [
           2.09974768650231E7,
           "21000000",
           "SHA-256",
           "PoW"
          ],
          [
           2.1E8,
           "210000000",
           "Scrypt",
           "PoW"
          ],
          [
           1.1448949E7,
           "81962100",
           "1GB AES Pattern Search",
           "PoW"
          ],
          [
           6.98361E7,
           "84000000",
           "Scrypt",
           "PoW"
          ],
          [
           2.1739971929E10,
           "21626280000 ",
           "SHA-256",
           "PoW"
          ],
          [
           4.5110324E7,
           "84000000",
           "X11",
           "PoW"
          ],
          [
           5702048.0,
           "30000000",
           "Dagger",
           "PoW"
          ],
          [
           636462.55983338,
           "168351300",
           "Scrypt",
           "PoW"
          ],
          [
           1.7263355E7,
           "24000000",
           "X11GOST",
           "PoW"
          ],
          [
           6570807.65677618,
           "20000000",
           "Scrypt",
           "PoW"
          ],
          [
           1.36540824987998E7,
           "25000000",
           "X11",
           "PoW"
          ],
          [
           616448.0,
           "616448",
           "Scrypt",
           "PoW"
          ],
          [
           1377917.0,
           "25000000",
           "X11",
           "PoW"
          ],
          [
           1.15898131E8,
           "200000000",
           "Equihash",
           "dPoW/PoW"
          ],
          [
           7822432.72439746,
           "10000000",
           "CryptoNight",
           "PoW"
          ],
          [
           6243840.0,
           "9736000",
           "SHA-256",
           "PoW"
          ],
          [
           1.0E9,
           "1200000000",
           "Multiple",
           "PoW"
          ],
          [
           1.16845228E8,
           "200000000",
           "Scrypt",
           "PoW"
          ],
          [
           9106714.0,
           "10638298",
           "SHA-256",
           "PoW"
          ],
          [
           1.11192E7,
           "30000000",
           "Scrypt",
           "PoW"
          ],
          [
           7568281.24956067,
           "21400000",
           "Lyra2Z",
           "PoW"
          ],
          [
           2.6205539E7,
           "26205539",
           "Ethash",
           "PoW"
          ],
          [
           5613550.0,
           "21000000",
           "Equihash",
           "PoW"
          ],
          [
           1.96297971E8,
           "10000000000",
           "Scrypt",
           "PoW"
          ],
          [
           8.24E8,
           "500000000",
           "X11",
           "PoW"
          ],
          [
           6.1364813E7,
           "228000000",
           "X11",
           "PoW"
          ],
          [
           978145.0,
           "21000000",
           "CryptoNight",
           "PoW"
          ],
          [
           894026.0,
           "2714286",
           "Scrypt",
           "PoW"
          ],
          [
           9357088.0,
           "25000000",
           "CryptoNight",
           "PoW"
          ],
          [
           1876146.443596,
           "9999999",
           "Lyra2RE",
           "PoW"
          ],
          [
           5.36982074E8,
           "100000000000",
           "X11",
           "PoW"
          ],
          [
           1.0969318522954E7,
           "185000000",
           "CryptoNight-V7",
           "PoW"
          ],
          [
           3115258.0,
           "3360000",
           "Scrypt",
           "PoW"
          ],
          [
           3.038554E7,
           "1000000000",
           "X11",
           "PoW"
          ],
          [
           6921653.89980891,
           "17000000",
           "Equihash",
           "PoW"
          ],
          [
           9.98434083158479E7,
           "100000000 ",
           "Scrypt",
           "PoW"
          ],
          [
           1.85457575E7,
           "21000000",
           "Lyra2RE",
           "PoW"
          ],
          [
           2232901.0,
           "2232901",
           "Dagger-Hashimoto",
           "PoW"
          ],
          [
           6.4096052E7,
           "4000000000",
           "Scrypt",
           "PoW"
          ],
          [
           1.01232E7,
           "48252000",
           "NIST5",
           "PoW"
          ],
          [
           2.0276099146524E7,
           "35520400",
           "Scrypt",
           "PoW"
          ],
          [
           1.3177475E9,
           "2500000000",
           "SHA-256",
           "PoW"
          ],
          [
           1.36734064325268E7,
           "72000000",
           "Scrypt",
           "PoW"
          ],
          [
           6.90360168340164E7,
           "105000000",
           "CryptoNight-V7",
           "PoW"
          ],
          [
           1.97842246512734E7,
           "0",
           "Argon2d",
           "PoW"
          ],
          [
           1.33248297E8,
           "340282367",
           "Blake2b",
           "PoW"
          ],
          [
           1.84072590885883E7,
           "30000000",
           "Cloverhash",
           "PoW"
          ],
          [
           1.809467143E9,
           "2000000000",
           "CryptoNight",
           "PoW"
          ],
          [
           3.5138975E7,
           "100000000",
           "X11",
           "PoW"
          ],
          [
           1.8133195E7,
           "19276800",
           "Scrypt",
           "PoW"
          ],
          [
           5167775.0,
           " 75000000",
           "Scrypt",
           "PoW"
          ],
          [
           2.60423643735553E7,
           "60000000",
           "X11",
           "PoW"
          ],
          [
           2622886.0,
           "18900000",
           "X11",
           "PoW"
          ],
          [
           1.4161803E7,
           "54000000",
           "CryptoNight",
           "PoW"
          ],
          [
           1.78018651605478E7,
           "21000000",
           "Time Travel",
           "PoW"
          ],
          [
           1.630550975E11,
           "200000000000",
           "Scrypt",
           "PoW"
          ],
          [
           2.24100914922257E9,
           "5000000000",
           "Keccak",
           "PoW"
          ],
          [
           1.22475638389743E8,
           "1100000000",
           "X11",
           "PoW"
          ],
          [
           1.79955896469082E7,
           "21000000",
           "SHA-256",
           "PoW"
          ],
          [
           485214.0,
           "10500000000",
           "Scrypt",
           "PoW"
          ],
          [
           1.43006669741687E11,
           "0",
           "Scrypt",
           "PoW"
          ],
          [
           9704042.0,
           "20000000",
           "Scrypt",
           "PoW"
          ],
          [
           1.74537494042601E7,
           "84000000",
           "Scrypt",
           "PoW"
          ],
          [
           3.2646731063036E7,
           "100000000",
           "Scrypt",
           "PoW"
          ],
          [
           3.3716526E7,
           "100000000",
           "Scrypt",
           "PoW"
          ],
          [
           8946653.0,
           "88888888",
           "CryptoNight",
           "PoW"
          ],
          [
           5.21155325801514E9,
           "21000000000",
           "Equihash",
           "PoW"
          ],
          [
           2.70285566885288E9,
           "1800000000",
           "X11",
           "PoW"
          ],
          [
           4165967.57499639,
           "27000000",
           "NeoScrypt",
           "PoW"
          ],
          [
           1.7202361088994E7,
           "21000000",
           "Equihash",
           "PoW"
          ],
          [
           3.398698E7,
           "156306732.71",
           "Dagger",
           "PoW"
          ],
          [
           9.9990001493466E7,
           "100000000",
           "Scrypt",
           "PoW"
          ],
          [
           1.75215859E8,
           "350000000",
           "X11",
           "PoW"
          ],
          [
           6375259.04,
           "45000000",
           "NeoScrypt",
           "PoW"
          ],
          [
           1.2756367E7,
           "280000000",
           "Ethash",
           "PoW"
          ],
          [
           5832306.875,
           "31800000",
           "NeoScrypt",
           "PoW"
          ],
          [
           4.81730566566176E8,
           "660000000",
           "Multiple",
           "PoW"
          ],
          [
           1.92818214134924E10,
           "85000000000",
           "CryptoNight",
           "PoW"
          ],
          [
           4500000.0,
           "12500000",
           "CryptoNight",
           "PoW"
          ],
          [
           5.2089178E8,
           "10000000000",
           "Ethash",
           "PoW"
          ],
          [
           8.0316207E7,
           "550000000",
           "X11",
           "PoW"
          ],
          [
           4.41250233377E8,
           "999481516",
           "CryptoNight-V7",
           "PoW"
          ],
          [
           3.96420124887125E9,
           "4999999999",
           "Scrypt",
           "PoW"
          ],
          [
           3.00896715305228E10,
           " 90000000000",
           "BLAKE256",
           "PoW"
          ],
          [
           4229040.50393462,
           "19800000",
           "X11",
           "PoW"
          ],
          [
           7847417.33355824,
           "21000000",
           "NeoScrypt",
           "PoW"
          ],
          [
           2.99797953E8,
           "500000000",
           "NeoScrypt",
           "PoW"
          ],
          [
           4.54830493398182E7,
           "64000000",
           "Scrypt",
           "PoW"
          ],
          [
           8478104.33969947,
           "23000000",
           "X11",
           "PoW"
          ],
          [
           2.0166E7,
           "20166000",
           "SHA-256",
           "PoW"
          ],
          [
           1.191658809471E7,
           "23000000",
           "C11",
           "PoW"
          ],
          [
           5.313983521377E10,
           "1000000000000",
           "CryptoNight",
           "PoW"
          ],
          [
           4818338.98949984,
           "16600000",
           "SkunkHash",
           "PoW"
          ],
          [
           1.33932467774108E8,
           "336000000",
           "CryptoNight",
           "PoW"
          ],
          [
           1.0E10,
           "10000000000",
           "Scrypt",
           "PoW"
          ],
          [
           1.07325266027783E8,
           "100000000",
           "Dagger",
           "PoW"
          ],
          [
           6.43795911540095E8,
           "1100000000",
           "Lyra2REv2",
           "PoW"
          ],
          [
           1.244610000278E7,
           "40000000",
           "Scrypt",
           "PoW"
          ],
          [
           1.4491014421E10,
           "18406979840",
           "Scrypt",
           "PoW"
          ],
          [
           2.11297638500483E8,
           "500000000",
           "X11",
           "PoW"
          ],
          [
           2.47612453E8,
           "6500000000",
           "Ethash",
           "PoW"
          ],
          [
           8.00490829057215E7,
           "1000000000",
           "CryptoNight",
           "PoW"
          ],
          [
           4070212.1493016,
           "21000000",
           "Scrypt",
           "PoW"
          ],
          [
           2.5E7,
           "25000000",
           "IMesh",
           "PoW"
          ],
          [
           7.1355477E7,
           "70000000",
           "Equihash",
           "PoW"
          ],
          [
           2.73405016514783E7,
           "300000000",
           "Lyra2Z",
           "PoW"
          ],
          [
           3.18014611867843E7,
           "100000000",
           "X11",
           "PoW"
          ],
          [
           1.6016864E7,
           "18400000",
           "CryptoNight",
           "PoW"
          ],
          [
           2.10693462522598E7,
           "21000000",
           "NIST5",
           "PoW"
          ],
          [
           5097689.71077377,
           "26280000",
           "Lyra2RE",
           "PoW"
          ],
          [
           795447.0,
           "18000000",
           "Tribus",
           "PoW"
          ],
          [
           6986399.70430446,
           "10500000",
           "Lyra2Z",
           "PoW"
          ],
          [
           84300.0,
           "600000518",
           "CryptoNight",
           "PoW"
          ],
          [
           1.9153632E7,
           "150000000",
           "CryptoNight Heavy",
           "PoW"
          ],
          [
           4.1294520017E10,
           "184000000000",
           "CryptoNight",
           "PoW"
          ],
          [
           1.35862416039898E8,
           "168000000",
           "Jump Consistent Hash",
           "PoW"
          ],
          [
           5.60085952404637E8,
           "1000000000",
           "CryptoNight",
           "PoW"
          ],
          [
           8125865.02097646,
           "22075700",
           "X16R",
           "PoW"
          ],
          [
           8645406.16776286,
           "21000000",
           "HMQ1725",
           "PoW"
          ],
          [
           4993030.69736615,
           "21000000",
           "X11",
           "PoW"
          ],
          [
           1416663.06600024,
           "22105263",
           "Scrypt",
           "PoW"
          ],
          [
           1.55801993087496E7,
           "1750000000",
           "CryptoNight-V7",
           "PoW"
          ],
          [
           4890897.0,
           "88188888",
           "Cryptonight-GPU",
           "PoW"
          ],
          [
           1.47461530962884E7,
           "210000000",
           "XEVAN",
           "PoW"
          ],
          [
           9.95531105288022E10,
           "184470000000",
           "CryptoNight Heavy",
           "PoW"
          ],
          [
           2.1E9,
           "2100000000",
           "SHA-256",
           "PoW"
          ],
          [
           5015881.37315389,
           "25000000",
           "X11",
           "PoW"
          ],
          [
           9753753.61515394,
           "100000000",
           "X16R",
           "PoW"
          ],
          [
           4.235111504E9,
           "7600000000",
           "Equihash",
           "PoW"
          ],
          [
           1.363485E7,
           "84000000",
           "Lyra2Z",
           "PoW"
          ],
          [
           1.79925146469233E7,
           "21000000",
           "SHA-256",
           "PoW"
          ],
          [
           1.86705487328397E9,
           "8080000000",
           "CryptoNight",
           "PoW"
          ],
          [
           1578281.31341127,
           "105120001.44",
           "Blake",
           "PoW"
          ],
          [
           1.58467212482747E7,
           "25228800",
           "Blake",
           "PoW"
          ],
          [
           406091.925,
           "21000000",
           "Exosis",
           "PoW"
          ],
          [
           3.5284717173946E7,
           "120000000",
           "Scrypt",
           "PoW"
          ],
          [
           3.568752E7,
           "262800000",
           "Equihash",
           "PoW"
          ],
          [
           2.51507875E7,
           "30886000",
           "Equihash",
           "PoW"
          ],
          [
           1.29257904226959E7,
           "100000000",
           "QuBit",
           "PoW"
          ],
          [
           5.22938366277958E7,
           "64000000",
           "SHA-256",
           "PoW"
          ],
          [
           1170292.5,
           "2100000",
           "X13",
           "PoW"
          ],
          [
           8.46130999999955E7,
           "168000000",
           "SHA-256",
           "PoW"
          ],
          [
           5.55650763863525E7,
           "98100000000",
           "Scrypt",
           "PoW"
          ],
          [
           3.824685012E9,
           "4000000000",
           "NeoScrypt",
           "PoW"
          ],
          [
           2.33567901494191E7,
           "7000000000",
           "Blake",
           "PoW"
          ],
          [
           7.802107E8,
           "1000000000",
           "Scrypt",
           "PoW"
          ],
          [
           2.29869290854247E7,
           "42000000",
           "SHA-256",
           "PoW"
          ],
          [
           2.95839893229213E10,
           "50000000000",
           "Scrypt",
           "PoW"
          ],
          [
           7.32982038873662E7,
           "105000000",
           "Groestl",
           "PoW"
          ],
          [
           5052555.91981545,
           "5000000",
           "Scrypt",
           "PoW"
          ],
          [
           6.96844554387001E7,
           "182000000",
           "Scrypt",
           "PoW"
          ],
          [
           3332922.5,
           "2800000",
           "Multiple",
           "PoW"
          ],
          [
           1.0E8,
           "2100000000",
           "Equihash+Scrypt",
           "PoW"
          ],
          [
           2.44879440958204E7,
           "24487944",
           "Ethash",
           "PoW"
          ],
          [
           9.80222595E8,
           "1400222610",
           "CryptoNight",
           "PoW"
          ],
          [
           7296537.5,
           "21000000",
           "Equihash",
           "PoW"
          ]
         ],
         "hovertemplate": "<b>%{hovertext}</b><br><br>Class=%{marker.color}<br>principal component 1=%{x}<br>principal component 2=%{y}<br>principal component 3=%{z}<br>TotalCoinsMined=%{customdata[0]}<br>TotalCoinSupply=%{customdata[1]}<br>Algorithm=%{customdata[2]}<br>ProofType=%{customdata[3]}<extra></extra>",
         "hovertext": [
          "Bitcoin",
          "Ethereum",
          "Litecoin",
          "Monero",
          "Ethereum Classic",
          "ZCash",
          "DigiByte",
          "ProsperCoin",
          "Spreadcoin",
          "Argentum",
          "MyriadCoin",
          "MoonCoin",
          "ZetaCoin",
          "SexCoin",
          "Quatloo",
          "QuarkCoin",
          "Riecoin",
          "Digitalcoin ",
          "Catcoin",
          "CannaCoin",
          "CryptCoin",
          "Verge",
          "DevCoin",
          "EarthCoin",
          "E-Gulden",
          "Einsteinium",
          "Emerald",
          "Franko",
          "FeatherCoin",
          "GrandCoin",
          "GlobalCoin",
          "GoldCoin",
          "Infinite Coin",
          "IXcoin",
          "KrugerCoin",
          "LuckyCoin",
          "Litebar ",
          "MegaCoin",
          "MediterraneanCoin",
          "MinCoin",
          "NobleCoin",
          "Namecoin",
          "NyanCoin",
          "RonPaulCoin",
          "StableCoin",
          "SmartCoin",
          "SysCoin",
          "TigerCoin",
          "TerraCoin",
          "UnbreakableCoin",
          "Unobtanium",
          "UroCoin",
          "ViaCoin",
          "Vertcoin",
          "WorldCoin",
          "JouleCoin",
          "ByteCoin",
          "DigitalNote ",
          "MonaCoin",
          "Gulden",
          "PesetaCoin",
          "Wild Beast Coin",
          "Flo",
          "ArtByte",
          "Folding Coin",
          "Unitus",
          "CypherPunkCoin",
          "OmniCron",
          "GreenCoin",
          "Cryptonite",
          "MasterCoin",
          "SoonCoin",
          "1Credit",
          "MarsCoin ",
          "Crypto",
          "Anarchists Prime",
          "BowsCoin",
          "Song Coin",
          "BitZeny",
          "Expanse",
          "Siacoin",
          "MindCoin",
          "I0coin",
          "Revolution VR",
          "HOdlcoin",
          "Gamecredits",
          "CarpeDiemCoin",
          "Adzcoin",
          "SoilCoin",
          "YoCoin",
          "SibCoin",
          "Francs",
          "BolivarCoin",
          "Omni",
          "PizzaCoin",
          "Komodo",
          "Karbo",
          "ZayedCoin",
          "Circuits of Value",
          "DopeCoin",
          "DollarCoin",
          "Shilling",
          "ZCoin",
          "Elementrem",
          "ZClassic",
          "KiloCoin",
          "ArtexCoin",
          "Kurrent",
          "Cannabis Industry Coin",
          "OsmiumCoin",
          "Bikercoins",
          "HexxCoin",
          "PacCoin",
          "Citadel",
          "BeaverCoin",
          "VaultCoin",
          "Zero",
          "Canada eCoin",
          "Zoin",
          "DubaiCoin",
          "EB3coin",
          "Coinonat",
          "BenjiRolls",
          "ILCoin",
          "EquiTrader",
          "Quantum Resistant Ledger",
          "Dynamic",
          "Nano",
          "ChanCoin",
          "Dinastycoin",
          "DigitalPrice",
          "Unify",
          "SocialCoin",
          "ArcticCoin",
          "DAS",
          "LeviarCoin",
          "Bitcore",
          "gCn Coin",
          "SmartCash",
          "Onix",
          "Bitcoin Cash",
          "Sojourn Coin",
          "NewYorkCoin",
          "FrazCoin",
          "Kronecoin",
          "AdCoin",
          "Linx",
          "Sumokoin",
          "BitcoinZ",
          "Elements",
          "VIVO Coin",
          "Bitcoin Gold",
          "Pirl",
          "eBoost",
          "Pura",
          "Innova",
          "Ellaism",
          "GoByte",
          "SHIELD",
          "UltraNote",
          "BitCoal",
          "DaxxCoin",
          "AC3",
          "Lethean",
          "PopularCoin",
          "Photon",
          "Sucre",
          "SparksPay",
          "GunCoin",
          "IrishCoin",
          "Pioneer Coin",
          "UnitedBitcoin",
          "Interzone",
          "TurtleCoin",
          "MUNcoin",
          "Niobio Cash",
          "ShareChain",
          "Travelflex",
          "KREDS",
          "BitFlip",
          "LottoCoin",
          "Crypto Improvement Fund",
          "Callisto Network",
          "BitTube",
          "Poseidon",
          "Aidos Kuneen",
          "Bitrolium",
          "Alpenschillling",
          "FuturoCoin",
          "Monero Classic",
          "Jumpcoin",
          "Infinex",
          "KEYCO",
          "GINcoin",
          "PlatinCoin",
          "Loki",
          "Newton Coin",
          "MassGrid",
          "PluraCoin",
          "Motion",
          "PlusOneCoin",
          "Axe",
          "HexCoin",
          "Webchain",
          "Ryo",
          "Urals Coin",
          "Qwertycoin",
          "Project Pai",
          "Azart",
          "Xchange",
          "CrypticCoin",
          "Actinium",
          "Bitcoin SV",
          "FREDEnergy",
          "Universal Molecule",
          "Lithium",
          "Exosis",
          "Block-Logic",
          "Beam",
          "Bithereum",
          "SLICE",
          "BLAST",
          "Bitcoin Rhodium",
          "GlobalToken",
          "SolarCoin",
          "UFO Coin",
          "BlakeCoin",
          "Crypto Escudo",
          "Crown Coin",
          "SmileyCoin",
          "Groestlcoin",
          "Bata",
          "Pakcoin",
          "JoinCoin",
          "Vollar",
          "Reality Clash",
          "Beldex",
          "Horizen"
         ],
         "legendgroup": "3",
         "marker": {
          "color": [
           3,
           3,
           3,
           3,
           3,
           3,
           3,
           3,
           3,
           3,
           3,
           3,
           3,
           3,
           3,
           3,
           3,
           3,
           3,
           3,
           3,
           3,
           3,
           3,
           3,
           3,
           3,
           3,
           3,
           3,
           3,
           3,
           3,
           3,
           3,
           3,
           3,
           3,
           3,
           3,
           3,
           3,
           3,
           3,
           3,
           3,
           3,
           3,
           3,
           3,
           3,
           3,
           3,
           3,
           3,
           3,
           3,
           3,
           3,
           3,
           3,
           3,
           3,
           3,
           3,
           3,
           3,
           3,
           3,
           3,
           3,
           3,
           3,
           3,
           3,
           3,
           3,
           3,
           3,
           3,
           3,
           3,
           3,
           3,
           3,
           3,
           3,
           3,
           3,
           3,
           3,
           3,
           3,
           3,
           3,
           3,
           3,
           3,
           3,
           3,
           3,
           3,
           3,
           3,
           3,
           3,
           3,
           3,
           3,
           3,
           3,
           3,
           3,
           3,
           3,
           3,
           3,
           3,
           3,
           3,
           3,
           3,
           3,
           3,
           3,
           3,
           3,
           3,
           3,
           3,
           3,
           3,
           3,
           3,
           3,
           3,
           3,
           3,
           3,
           3,
           3,
           3,
           3,
           3,
           3,
           3,
           3,
           3,
           3,
           3,
           3,
           3,
           3,
           3,
           3,
           3,
           3,
           3,
           3,
           3,
           3,
           3,
           3,
           3,
           3,
           3,
           3,
           3,
           3,
           3,
           3,
           3,
           3,
           3,
           3,
           3,
           3,
           3,
           3,
           3,
           3,
           3,
           3,
           3,
           3,
           3,
           3,
           3,
           3,
           3,
           3,
           3,
           3,
           3,
           3,
           3,
           3,
           3,
           3,
           3,
           3,
           3,
           3,
           3,
           3,
           3,
           3,
           3,
           3,
           3,
           3,
           3,
           3,
           3,
           3,
           3,
           3,
           3,
           3,
           3,
           3,
           3,
           3,
           3,
           3,
           3,
           3,
           3,
           3,
           3,
           3,
           3,
           3,
           3,
           3,
           3,
           3,
           3
          ],
          "coloraxis": "coloraxis",
          "symbol": "diamond"
         },
         "mode": "markers",
         "name": "3",
         "scene": "scene",
         "showlegend": true,
         "x": [
          -0.15052462773387995,
          -0.15323785959848493,
          -0.16661950567736236,
          -0.14878629649414143,
          -0.15167777570429122,
          -0.1386882232669176,
          0.15749463168095484,
          -0.16776723537533836,
          -0.22801920836327227,
          -0.16738326202588938,
          -0.09624375765323033,
          2.557795289643142,
          -0.14760578216917247,
          -0.16463507112442327,
          -0.1671870201016998,
          -0.22825834853161217,
          -0.19746225687593424,
          -0.16723588719824642,
          -0.16774947901078027,
          -0.167836048712374,
          -0.228108664805145,
          0.18127087804670974,
          0.22781276722921182,
          0.08121712275606431,
          -0.16758201821507565,
          -0.1631816004440132,
          -0.16752122802800345,
          -0.1678931248961237,
          -0.17391742946270572,
          -0.14708829746421623,
          -0.16668667078022967,
          -0.1669644671263364,
          1.5832835574343296,
          -0.150485948407566,
          -0.16425030906651727,
          -0.16760849385367996,
          -0.1679637678185865,
          -0.1672220558215981,
          -0.13790809889863734,
          -0.16784487861454883,
          -0.03256955951705525,
          -0.15056365690414553,
          -0.1615005787203286,
          -0.1678242867202704,
          -0.16591606395137806,
          -0.16731036176246158,
          -0.13769894194485713,
          -0.1500267308075604,
          -0.15031430157483053,
          -0.1502972396277014,
          -0.1508887448348353,
          -0.22828279070000548,
          -0.16754041697032987,
          -0.1871850954905926,
          -0.16463978072940444,
          -0.1500941118668825,
          3.863702137752567,
          0.45826158264015954,
          -0.16640652704965614,
          -0.1509849360615425,
          -0.1651236868033757,
          -0.16796597906469238,
          -0.16498856010564106,
          -0.15119424895330644,
          -0.14524981397888465,
          -0.13029460159183823,
          -0.1876061376731673,
          -0.16783889599627624,
          -0.04060982487818034,
          -0.11105838836577317,
          -0.16797488417390785,
          -0.15059146950351956,
          0.48506619297905607,
          -0.22766918109568243,
          -0.14554498286088882,
          -0.15033098151041008,
          -0.22795444763372624,
          -0.1660961583505453,
          -0.16528735376513287,
          -0.15430665468848181,
          0.37614586651072046,
          -0.22798989240430168,
          -0.15048707217629284,
          -0.1639275023754428,
          -0.1535261505996485,
          -0.1665363673559756,
          0.2685394971387456,
          -0.22714950954774615,
          -0.14039174707759797,
          -0.16678405036365443,
          -0.1492315671117653,
          -0.1677645177129795,
          -0.2279530835230955,
          -0.16797494274462263,
          -0.2281032440807867,
          -0.2052542778682508,
          0.30296380301823106,
          -0.1507474931376071,
          -0.11034111242338905,
          -0.16513794408418186,
          -0.15070606994833188,
          -0.1676378984230218,
          -0.15652820323674507,
          -0.1540484797478954,
          -0.1387098676513439,
          -0.09460185594429417,
          -0.21466929545906127,
          -0.22592851831738553,
          0.3029581668274435,
          -0.16795665617001646,
          0.30308905059934305,
          -0.1460861464130511,
          0.48810984169501215,
          -0.14754932107548202,
          -0.16792490280091138,
          -0.2208274951438626,
          -0.13872226064817195,
          -0.16605574736784437,
          -0.14580416345746036,
          -0.13003411599959855,
          -0.13880927973151308,
          -0.1890566226203243,
          -0.1674867063928219,
          -0.11702847289114973,
          -0.16730852325938603,
          -0.1474069275913097,
          -0.16680219518577813,
          -0.024663121765641505,
          -0.14739428770577312,
          0.3391270992749371,
          -0.22715790361525665,
          -0.16762822155892587,
          -0.16739126793166362,
          -0.2275531078862693,
          -0.2281313159571205,
          0.3033536746259153,
          -0.15194825360573597,
          3.246161389574365,
          -0.14546385436545084,
          -0.2189912212019466,
          -0.1505237908942706,
          -0.09344781817839695,
          1.5812532669927346,
          -0.1677261923730024,
          -0.16717710187355828,
          -0.1668776889205443,
          -0.16686460331947736,
          0.30353753851667703,
          0.07388569628499159,
          -0.18245945397919056,
          -0.17861228954874495,
          -0.13856811472888006,
          -0.13914919466660253,
          -0.166053954257992,
          -0.22366990251870944,
          -0.17845749472709801,
          -0.15241145605783632,
          -0.17855783481301352,
          -0.12051365200696083,
          1.1420132574027864,
          0.30294090940427515,
          -0.07719964511335013,
          -0.22341102527472276,
          -0.13650466918414397,
          -0.08400527809141982,
          1.1041860543801203,
          -0.22810528111940181,
          -0.1786098488507878,
          -0.17163861624694876,
          -0.1669762187187773,
          -0.22803059223806535,
          -0.1505031627578995,
          -0.20499536463047346,
          8.051188121920129,
          -0.1552838438055803,
          0.30682044104018547,
          0.025315830425938043,
          -0.1386518169103517,
          -0.17272424797339403,
          -0.16755068403408846,
          0.1399254006630655,
          -0.2221637959454346,
          -0.10538673301006833,
          0.31087467768453647,
          -0.16778800630094207,
          -0.15281233003313993,
          -0.13755789926670248,
          -0.1543087401155277,
          -0.22719872767677196,
          0.3031236627856822,
          -0.18911617604746078,
          -0.14593117907637382,
          -0.1412711227358731,
          -0.156612693202767,
          0.3070572054956441,
          0.5801051232071415,
          2.1140106092634023,
          -0.1486580964638735,
          0.31674643006873154,
          -0.18288312949380772,
          -0.15984983032772757,
          -0.22808741801541402,
          -0.16781261860043867,
          -0.13638393941568616,
          -0.1685823309456943,
          -0.1439442770330914,
          3.105967763496082,
          -0.11029941221309598,
          -0.22805874494470185,
          -0.18231008020876374,
          -0.03317645956410033,
          -0.15600963843124707,
          -0.1505238285072951,
          0.382989722695489,
          -0.14348912552548507,
          -0.1438816946961029,
          -0.17578225355580265,
          -0.16670345357630648,
          -0.13662561557582104,
          -0.13840071585386077,
          -0.18681605127086215,
          -0.1497990281109917,
          -0.11192196051553767,
          -0.14866547016207446,
          0.5290449643535916,
          -0.10367825953284136,
          -0.09428017927493951,
          -0.15134502580806528,
          -0.15031367122842096,
          0.548800437341356,
          -0.19702268822762906,
          -0.1678895646480094,
          -0.16584257993486437,
          -0.13103041615682948,
          -0.1334824777672957,
          -0.15408168131998184,
          0.32472642676652064,
          -0.13868928155370527
         ],
         "y": [
          -1.3375923240305705,
          -2.0394259974536513,
          -1.1301738610579604,
          -2.1774096204520004,
          -2.0395368245309276,
          -2.032197136757265,
          -1.8094450359289447,
          -1.1301607650757663,
          -0.8963886684966381,
          -1.1301815451001465,
          -1.8027558747209902,
          -1.3365704410064154,
          -1.3376170848154958,
          -1.130239194605189,
          -1.1302026550231405,
          -0.48029692861632833,
          -1.2370527702309513,
          -1.1301653317639397,
          -1.1301602386282488,
          -1.1301569259609467,
          -0.8963898247256483,
          -1.8054152265488943,
          -1.3420676278946557,
          -1.1328611401838469,
          -1.130155273686252,
          -1.1302333465542245,
          -1.1301616994101116,
          -1.1301571938362254,
          -1.6392090331323332,
          -1.1305945829295048,
          -1.130165380325139,
          -1.1301752963326803,
          -1.1459984807823236,
          -1.3375911772510445,
          -1.1302393218669504,
          -1.1301553106411844,
          -1.130151893647463,
          -1.130160309487323,
          -2.2610877048568487,
          -1.1301548390176699,
          -1.1373567389045454,
          -1.3375934811824015,
          -1.1302113384027954,
          -1.1301624565559556,
          -1.1302771739725879,
          -1.130169809261508,
          -1.3378605834811725,
          -1.3375970192726025,
          -1.3376017963041984,
          -1.3376297146339218,
          -1.3375875984111043,
          -0.8963815231875932,
          -1.1301555362865088,
          -1.2869460354069353,
          -1.130250869072419,
          -1.337597512050067,
          -2.362794073443557,
          -2.3332573702546275,
          -1.130183344450774,
          -1.1309041372655206,
          -1.1301911375829112,
          -1.1301529151576895,
          -1.1301823545349279,
          -1.1304016996744755,
          -2.118381045669901,
          -1.8022694172806009,
          -1.5232114806634212,
          -1.1301497033698322,
          -1.1338550949270578,
          -2.213016890883649,
          -1.1301516767953488,
          -1.3375943057810311,
          -1.179606058018622,
          -0.896388014818372,
          -2.2327371701103047,
          -1.3376110873757905,
          -0.8963874964506229,
          -1.1302527728028795,
          -1.1302585337314806,
          -2.039470331570027,
          -2.1707739416496725,
          -0.8963848073059426,
          -1.3375912105689711,
          -1.1301882961362952,
          -2.148492944342673,
          -1.130171396141071,
          -1.3413286067150605,
          -0.8964107556502032,
          -2.260475762511779,
          -1.1302418347337075,
          -2.2440368264841664,
          -1.130159936496498,
          -0.8963904480268293,
          -1.1301516762654211,
          -0.8963949000447251,
          -1.3917904633731946,
          -2.330389128821971,
          -1.337590506101678,
          -1.8025754345338592,
          -1.1302167037273336,
          -1.33758995289444,
          -1.130163662488858,
          -2.2166173947986914,
          -2.0394696329046553,
          -2.0321977784782863,
          -1.135455871403954,
          -0.8963519075367065,
          -0.8964822679489669,
          -2.3303975239805967,
          -1.1301527032912841,
          -2.330396635508135,
          -2.2327114842103173,
          -0.9499421363040184,
          -2.177511327049205,
          -1.1301522448524817,
          -0.8969084906918384,
          -2.032195153890734,
          -1.1301691146145738,
          -2.2327113519267576,
          -2.1810005626048308,
          -1.132278520261618,
          -0.6005726000545641,
          -1.1301633091761103,
          -1.3384535214873012,
          -1.1301853132562532,
          -2.1774472649148344,
          -2.056761975360807,
          -2.1829118133979715,
          -2.197967163128134,
          -2.330805475414875,
          -0.8964229726002724,
          -1.1301553545785725,
          -1.1301900105169933,
          -0.8964047695694809,
          -0.8963911695001765,
          -2.3304104819774953,
          -2.121898084518009,
          -1.1785285838496984,
          -1.1258717970086294,
          -0.8969288486337124,
          -1.3375922992196272,
          -1.1357956585343125,
          -1.0782894252695299,
          -1.1301588002120966,
          -1.130190392884172,
          -1.130193483853459,
          -1.1301930958865318,
          -2.3304311277718797,
          -2.041587059814722,
          -0.896369344245696,
          -1.6391170946116504,
          -2.03219357573319,
          -2.260533400904497,
          -1.1301690614517639,
          -0.8965065602465933,
          -1.6391259692847895,
          -2.039610937315826,
          -1.6391190705405871,
          -1.8024731112108214,
          -2.3690856107542153,
          -2.3303916775930573,
          -2.044651636969004,
          -0.8966484859487581,
          -2.177793107189867,
          -1.131401675139177,
          -1.4007574484548648,
          -0.8963910708137807,
          -1.6391125342190758,
          -1.6392641428179482,
          -1.13016947692382,
          -0.8963912500250433,
          -1.3375910637925703,
          -1.2934064860104109,
          -2.848664288536999,
          -2.180515703695907,
          -2.3305186353568947,
          -1.131900505774715,
          -2.2604765367417734,
          -1.2872772676951416,
          -1.1301685567728599,
          -1.1347909799203217,
          -0.8965741073659736,
          -2.0428693211810307,
          -2.3308951090920504,
          -1.1301613809001474,
          -2.1805836734390067,
          -2.032200276720679,
          -2.2167599854883466,
          -0.8964241829677297,
          -2.3303906724799317,
          -0.600553981085987,
          -2.232719067200863,
          -2.2203883322402307,
          -2.216611746535478,
          -2.330709089373099,
          -2.2598202376146292,
          -2.414319951992328,
          -2.2034636366792673,
          -2.330721021121859,
          -1.3109990497844648,
          -2.2234543162929707,
          -0.8963914388075768,
          -1.1301629373572748,
          -2.178350919303937,
          -2.1105331049707545,
          -0.7439104714361652,
          -2.322804767996849,
          -1.337954813723225,
          -0.8963935807172451,
          -1.3110403475628747,
          -2.0347380131297768,
          -2.216648845301307,
          -1.3375923003347923,
          -2.334052889728583,
          -2.1382447166481287,
          -2.1381965966739056,
          -2.0670093344679272,
          -1.1302032781564575,
          -2.0323168513740426,
          -2.0321960074041807,
          -1.5232628563753392,
          -1.3376029753879664,
          -0.34770114869132296,
          -1.3376471597434159,
          -1.1828649888325888,
          -1.6398672454539993,
          -2.141943155418333,
          -1.1304061699645833,
          -1.3376017776154456,
          -1.1463002318910627,
          -1.2370554458352006,
          -1.1301524238615017,
          -1.1302241309522327,
          -1.8022933274073878,
          -2.0685318542801454,
          -2.0394693325080206,
          -2.3307837956160817,
          -2.032197168133756
         ],
         "z": [
          0.20969301786261327,
          0.3040128242505277,
          0.011091066925303114,
          0.27219084187093373,
          0.30399775030076653,
          0.2799474054706469,
          0.22820901431826698,
          0.011106909035956096,
          0.01709481668083135,
          0.011102747810634169,
          0.23144790840674007,
          -0.014340190839191972,
          0.20965213571751787,
          0.011066640279592843,
          0.01110134950015128,
          0.02544316049280427,
          0.144710528688125,
          0.011099470941298302,
          0.011106613318155692,
          0.011107646796053567,
          0.017096202619562247,
          0.2275821547559814,
          0.20448182344766283,
          0.00766041353770978,
          0.011103824394894586,
          0.011045020265611926,
          0.011103383354069152,
          0.011108498444729515,
          0.14880158565189314,
          0.010835217729192563,
          0.011091458306880077,
          0.011096201426771384,
          -0.013350494315514005,
          0.20969237368990715,
          0.01106103337944471,
          0.011104213382356431,
          0.011109161448782278,
          0.011098920311972465,
          0.3626752240457434,
          0.01110763075064877,
          0.009633352250513445,
          0.20969366786167318,
          0.011018956879039352,
          0.011107859179673529,
          0.011087974172564897,
          0.011100868848860444,
          0.20952445086965948,
          0.2096860769277088,
          0.2096906058493849,
          0.2096922955210935,
          0.2096980041244889,
          0.017098167575100864,
          0.0111032354455239,
          0.1736622074184525,
          0.01106751971301125,
          0.20968709459725868,
          0.2864212922738241,
          0.33407381423953614,
          0.01108861697047584,
          0.010913586524002669,
          0.011070434634843817,
          0.011109264658122776,
          0.011067852503257992,
          0.010881751388932374,
          0.4008032258086468,
          0.231911111996863,
          0.17692470502273303,
          0.011107186804016287,
          0.009507542569544171,
          0.29711544567290754,
          0.01110930863731019,
          0.2096941310578799,
          0.005012141935837041,
          0.01708966251733387,
          0.32691913402073713,
          0.20969149448689273,
          0.017093790086339024,
          0.011088908254415162,
          0.01107750351610062,
          0.30403150232767506,
          0.24055973845584552,
          0.017094120676388713,
          0.20969239240536083,
          0.011052778587892664,
          0.24328398589422653,
          0.01108968232419573,
          0.20383608361358665,
          0.017083656890967476,
          0.24415800680797897,
          0.011098188721710174,
          0.22687390913191796,
          0.011106811832749877,
          0.01709397513919197,
          0.011109309455371386,
          0.017096475941069215,
          0.230195858402042,
          0.33614126428086943,
          0.20969614442137147,
          0.23164113417593724,
          0.011072418081896294,
          0.2096955014197077,
          0.011105222519040786,
          0.3512289856336783,
          0.3040276856571811,
          0.2799477659402498,
          0.010406735904485511,
          0.016897417267153943,
          0.01707080203195006,
          0.3361419295173047,
          0.0111091138748318,
          0.3361399575256117,
          0.32692524881986007,
          0.010361506469290618,
          0.2721798504610718,
          0.01110861858847417,
          0.017025948446616992,
          0.2799477645645205,
          0.011082509073477029,
          0.3269211239935487,
          0.16492493700153452,
          0.010831318060391205,
          0.035184452177787,
          0.011102991283593206,
          0.20926393274583605,
          0.011101918639316357,
          0.2721733235933732,
          0.3066052553859438,
          0.24725256115178013,
          0.3993397517359791,
          0.3356423600891354,
          0.01708462777135208,
          0.011104504366233732,
          0.011103452512743845,
          0.017089131866786456,
          0.017096626604539426,
          0.33613705676760813,
          0.1957486935621307,
          -0.03536183424484137,
          0.24214457263098313,
          0.01700056107373838,
          0.20969300392572449,
          0.010413487720413929,
          -0.018022694754405193,
          0.011106173555404447,
          0.011100353236111558,
          0.011096197841084133,
          0.011095979911048518,
          0.3361358068889835,
          0.2774968668288429,
          0.016428514148689195,
          0.1488637244154507,
          0.27994540516069477,
          0.2441438738280623,
          0.011082479210691663,
          0.017039523639708308,
          0.1488620814032032,
          0.30401360514253273,
          0.1488630668413527,
          0.2317825004578447,
          0.3265821929334526,
          0.3361417754122558,
          0.30326589718713004,
          0.017045600800175437,
          0.2720382171836047,
          0.009970544767692515,
          0.20400461021705987,
          0.01709623976398263,
          0.1488633721111043,
          0.14877215248366518,
          0.011095968835634051,
          0.01709516209825525,
          0.20969261706064715,
          0.16631290111118618,
          0.2590431262316217,
          0.343323306412095,
          0.3360939684503591,
          0.008409604435331012,
          0.24413266567971553,
          0.17347414760768398,
          0.011104289461888033,
          0.006937556983831988,
          0.01702223207320953,
          0.3035535305656574,
          0.33606093842557444,
          0.011107254958817212,
          0.30247656270146206,
          0.27993112603917253,
          0.35120649353227845,
          0.017085307662871294,
          0.3361390382656592,
          0.035184028447786925,
          0.326923513593035,
          0.1679484622595933,
          0.3512298265693088,
          0.3361037382443157,
          0.29884085602714017,
          0.31553670050244953,
          0.22309641128929467,
          0.33596314916845527,
          0.1392181922613296,
          0.3766113477797292,
          0.017096004599825406,
          0.011107722267035311,
          0.2720751905225798,
          0.3021411158649217,
          0.0622157745794803,
          0.2663487574074436,
          0.20913108861627336,
          0.01709573484417429,
          0.1392126961944147,
          0.2785838670315807,
          0.35122360097512234,
          0.2096930045521388,
          0.3352276757228237,
          0.3049849865548277,
          0.3049873747060514,
          0.434184047613792,
          0.01109433494825807,
          0.27992561417552175,
          0.2799431307747121,
          0.17691674105186644,
          0.20968316712973994,
          -0.04471476527010215,
          0.20966969069081107,
          0.004596562074908484,
          0.14782212768323294,
          0.30452359064214923,
          0.010884262454735802,
          0.2096905953514784,
          0.0017691044099448468,
          0.14470429882781763,
          0.011108115246410541,
          0.01108321824898326,
          0.23192351182928947,
          0.37959765485525976,
          0.3040281493857322,
          0.3358510374816518,
          0.27994742309554815
         ],
         "type": "scatter3d"
        },
        {
         "customdata": [
          [
           1.77209154988818E9,
           "5200000000",
           "Proof-of-BibleHash",
           "POBh"
          ],
          [
           6.38382332208514E8,
           "840000000",
           "SHA-256 + Hive",
           "PoW + Hive"
          ],
          [
           2.04479039E8,
           "252460800",
           "Proof-of-Authority",
           "PoA"
          ]
         ],
         "hovertemplate": "<b>%{hovertext}</b><br><br>Class=%{marker.color}<br>principal component 1=%{x}<br>principal component 2=%{y}<br>principal component 3=%{z}<br>TotalCoinsMined=%{customdata[0]}<br>TotalCoinSupply=%{customdata[1]}<br>Algorithm=%{customdata[2]}<br>ProofType=%{customdata[3]}<extra></extra>",
         "hovertext": [
          "BiblePay",
          "LitecoinCash",
          "Poa Network"
         ],
         "legendgroup": "1",
         "marker": {
          "color": [
           1,
           1,
           1
          ],
          "coloraxis": "coloraxis",
          "symbol": "square"
         },
         "mode": "markers",
         "name": "1",
         "scene": "scene",
         "showlegend": true,
         "x": [
          -0.21160533751926025,
          -0.34544960203556174,
          -0.4072245786787384
         ],
         "y": [
          3.3876261809369588,
          3.2031707888313514,
          3.3642744581114115
         ],
         "z": [
          13.463945180021046,
          12.345239006423844,
          25.22600430530325
         ],
         "type": "scatter3d"
        },
        {
         "customdata": [
          [
           9.89988713439649E11,
           "990000000000",
           "TRC10",
           "DPoS"
          ]
         ],
         "hovertemplate": "<b>%{hovertext}</b><br><br>Class=%{marker.color}<br>principal component 1=%{x}<br>principal component 2=%{y}<br>principal component 3=%{z}<br>TotalCoinsMined=%{customdata[0]}<br>TotalCoinSupply=%{customdata[1]}<br>Algorithm=%{customdata[2]}<br>ProofType=%{customdata[3]}<extra></extra>",
         "hovertext": [
          "BitTorrent"
         ],
         "legendgroup": "2",
         "marker": {
          "color": [
           2
          ],
          "coloraxis": "coloraxis",
          "symbol": "x"
         },
         "mode": "markers",
         "name": "2",
         "scene": "scene",
         "showlegend": true,
         "x": [
          34.08786375277892
         ],
         "y": [
          1.6385469965946202
         ],
         "z": [
          -0.16420643707143545
         ],
         "type": "scatter3d"
        }
       ],
       "layout": {
        "template": {
         "data": {
          "bar": [
           {
            "error_x": {
             "color": "#2a3f5f"
            },
            "error_y": {
             "color": "#2a3f5f"
            },
            "marker": {
             "line": {
              "color": "#E5ECF6",
              "width": 0.5
             },
             "pattern": {
              "fillmode": "overlay",
              "size": 10,
              "solidity": 0.2
             }
            },
            "type": "bar"
           }
          ],
          "barpolar": [
           {
            "marker": {
             "line": {
              "color": "#E5ECF6",
              "width": 0.5
             },
             "pattern": {
              "fillmode": "overlay",
              "size": 10,
              "solidity": 0.2
             }
            },
            "type": "barpolar"
           }
          ],
          "carpet": [
           {
            "aaxis": {
             "endlinecolor": "#2a3f5f",
             "gridcolor": "white",
             "linecolor": "white",
             "minorgridcolor": "white",
             "startlinecolor": "#2a3f5f"
            },
            "baxis": {
             "endlinecolor": "#2a3f5f",
             "gridcolor": "white",
             "linecolor": "white",
             "minorgridcolor": "white",
             "startlinecolor": "#2a3f5f"
            },
            "type": "carpet"
           }
          ],
          "choropleth": [
           {
            "colorbar": {
             "outlinewidth": 0,
             "ticks": ""
            },
            "type": "choropleth"
           }
          ],
          "contour": [
           {
            "colorbar": {
             "outlinewidth": 0,
             "ticks": ""
            },
            "colorscale": [
             [
              0.0,
              "#0d0887"
             ],
             [
              0.1111111111111111,
              "#46039f"
             ],
             [
              0.2222222222222222,
              "#7201a8"
             ],
             [
              0.3333333333333333,
              "#9c179e"
             ],
             [
              0.4444444444444444,
              "#bd3786"
             ],
             [
              0.5555555555555556,
              "#d8576b"
             ],
             [
              0.6666666666666666,
              "#ed7953"
             ],
             [
              0.7777777777777778,
              "#fb9f3a"
             ],
             [
              0.8888888888888888,
              "#fdca26"
             ],
             [
              1.0,
              "#f0f921"
             ]
            ],
            "type": "contour"
           }
          ],
          "contourcarpet": [
           {
            "colorbar": {
             "outlinewidth": 0,
             "ticks": ""
            },
            "type": "contourcarpet"
           }
          ],
          "heatmap": [
           {
            "colorbar": {
             "outlinewidth": 0,
             "ticks": ""
            },
            "colorscale": [
             [
              0.0,
              "#0d0887"
             ],
             [
              0.1111111111111111,
              "#46039f"
             ],
             [
              0.2222222222222222,
              "#7201a8"
             ],
             [
              0.3333333333333333,
              "#9c179e"
             ],
             [
              0.4444444444444444,
              "#bd3786"
             ],
             [
              0.5555555555555556,
              "#d8576b"
             ],
             [
              0.6666666666666666,
              "#ed7953"
             ],
             [
              0.7777777777777778,
              "#fb9f3a"
             ],
             [
              0.8888888888888888,
              "#fdca26"
             ],
             [
              1.0,
              "#f0f921"
             ]
            ],
            "type": "heatmap"
           }
          ],
          "heatmapgl": [
           {
            "colorbar": {
             "outlinewidth": 0,
             "ticks": ""
            },
            "colorscale": [
             [
              0.0,
              "#0d0887"
             ],
             [
              0.1111111111111111,
              "#46039f"
             ],
             [
              0.2222222222222222,
              "#7201a8"
             ],
             [
              0.3333333333333333,
              "#9c179e"
             ],
             [
              0.4444444444444444,
              "#bd3786"
             ],
             [
              0.5555555555555556,
              "#d8576b"
             ],
             [
              0.6666666666666666,
              "#ed7953"
             ],
             [
              0.7777777777777778,
              "#fb9f3a"
             ],
             [
              0.8888888888888888,
              "#fdca26"
             ],
             [
              1.0,
              "#f0f921"
             ]
            ],
            "type": "heatmapgl"
           }
          ],
          "histogram": [
           {
            "marker": {
             "pattern": {
              "fillmode": "overlay",
              "size": 10,
              "solidity": 0.2
             }
            },
            "type": "histogram"
           }
          ],
          "histogram2d": [
           {
            "colorbar": {
             "outlinewidth": 0,
             "ticks": ""
            },
            "colorscale": [
             [
              0.0,
              "#0d0887"
             ],
             [
              0.1111111111111111,
              "#46039f"
             ],
             [
              0.2222222222222222,
              "#7201a8"
             ],
             [
              0.3333333333333333,
              "#9c179e"
             ],
             [
              0.4444444444444444,
              "#bd3786"
             ],
             [
              0.5555555555555556,
              "#d8576b"
             ],
             [
              0.6666666666666666,
              "#ed7953"
             ],
             [
              0.7777777777777778,
              "#fb9f3a"
             ],
             [
              0.8888888888888888,
              "#fdca26"
             ],
             [
              1.0,
              "#f0f921"
             ]
            ],
            "type": "histogram2d"
           }
          ],
          "histogram2dcontour": [
           {
            "colorbar": {
             "outlinewidth": 0,
             "ticks": ""
            },
            "colorscale": [
             [
              0.0,
              "#0d0887"
             ],
             [
              0.1111111111111111,
              "#46039f"
             ],
             [
              0.2222222222222222,
              "#7201a8"
             ],
             [
              0.3333333333333333,
              "#9c179e"
             ],
             [
              0.4444444444444444,
              "#bd3786"
             ],
             [
              0.5555555555555556,
              "#d8576b"
             ],
             [
              0.6666666666666666,
              "#ed7953"
             ],
             [
              0.7777777777777778,
              "#fb9f3a"
             ],
             [
              0.8888888888888888,
              "#fdca26"
             ],
             [
              1.0,
              "#f0f921"
             ]
            ],
            "type": "histogram2dcontour"
           }
          ],
          "mesh3d": [
           {
            "colorbar": {
             "outlinewidth": 0,
             "ticks": ""
            },
            "type": "mesh3d"
           }
          ],
          "parcoords": [
           {
            "line": {
             "colorbar": {
              "outlinewidth": 0,
              "ticks": ""
             }
            },
            "type": "parcoords"
           }
          ],
          "pie": [
           {
            "automargin": true,
            "type": "pie"
           }
          ],
          "scatter": [
           {
            "marker": {
             "colorbar": {
              "outlinewidth": 0,
              "ticks": ""
             }
            },
            "type": "scatter"
           }
          ],
          "scatter3d": [
           {
            "line": {
             "colorbar": {
              "outlinewidth": 0,
              "ticks": ""
             }
            },
            "marker": {
             "colorbar": {
              "outlinewidth": 0,
              "ticks": ""
             }
            },
            "type": "scatter3d"
           }
          ],
          "scattercarpet": [
           {
            "marker": {
             "colorbar": {
              "outlinewidth": 0,
              "ticks": ""
             }
            },
            "type": "scattercarpet"
           }
          ],
          "scattergeo": [
           {
            "marker": {
             "colorbar": {
              "outlinewidth": 0,
              "ticks": ""
             }
            },
            "type": "scattergeo"
           }
          ],
          "scattergl": [
           {
            "marker": {
             "colorbar": {
              "outlinewidth": 0,
              "ticks": ""
             }
            },
            "type": "scattergl"
           }
          ],
          "scattermapbox": [
           {
            "marker": {
             "colorbar": {
              "outlinewidth": 0,
              "ticks": ""
             }
            },
            "type": "scattermapbox"
           }
          ],
          "scatterpolar": [
           {
            "marker": {
             "colorbar": {
              "outlinewidth": 0,
              "ticks": ""
             }
            },
            "type": "scatterpolar"
           }
          ],
          "scatterpolargl": [
           {
            "marker": {
             "colorbar": {
              "outlinewidth": 0,
              "ticks": ""
             }
            },
            "type": "scatterpolargl"
           }
          ],
          "scatterternary": [
           {
            "marker": {
             "colorbar": {
              "outlinewidth": 0,
              "ticks": ""
             }
            },
            "type": "scatterternary"
           }
          ],
          "surface": [
           {
            "colorbar": {
             "outlinewidth": 0,
             "ticks": ""
            },
            "colorscale": [
             [
              0.0,
              "#0d0887"
             ],
             [
              0.1111111111111111,
              "#46039f"
             ],
             [
              0.2222222222222222,
              "#7201a8"
             ],
             [
              0.3333333333333333,
              "#9c179e"
             ],
             [
              0.4444444444444444,
              "#bd3786"
             ],
             [
              0.5555555555555556,
              "#d8576b"
             ],
             [
              0.6666666666666666,
              "#ed7953"
             ],
             [
              0.7777777777777778,
              "#fb9f3a"
             ],
             [
              0.8888888888888888,
              "#fdca26"
             ],
             [
              1.0,
              "#f0f921"
             ]
            ],
            "type": "surface"
           }
          ],
          "table": [
           {
            "cells": {
             "fill": {
              "color": "#EBF0F8"
             },
             "line": {
              "color": "white"
             }
            },
            "header": {
             "fill": {
              "color": "#C8D4E3"
             },
             "line": {
              "color": "white"
             }
            },
            "type": "table"
           }
          ]
         },
         "layout": {
          "annotationdefaults": {
           "arrowcolor": "#2a3f5f",
           "arrowhead": 0,
           "arrowwidth": 1
          },
          "autotypenumbers": "strict",
          "coloraxis": {
           "colorbar": {
            "outlinewidth": 0,
            "ticks": ""
           }
          },
          "colorscale": {
           "diverging": [
            [
             0,
             "#8e0152"
            ],
            [
             0.1,
             "#c51b7d"
            ],
            [
             0.2,
             "#de77ae"
            ],
            [
             0.3,
             "#f1b6da"
            ],
            [
             0.4,
             "#fde0ef"
            ],
            [
             0.5,
             "#f7f7f7"
            ],
            [
             0.6,
             "#e6f5d0"
            ],
            [
             0.7,
             "#b8e186"
            ],
            [
             0.8,
             "#7fbc41"
            ],
            [
             0.9,
             "#4d9221"
            ],
            [
             1,
             "#276419"
            ]
           ],
           "sequential": [
            [
             0.0,
             "#0d0887"
            ],
            [
             0.1111111111111111,
             "#46039f"
            ],
            [
             0.2222222222222222,
             "#7201a8"
            ],
            [
             0.3333333333333333,
             "#9c179e"
            ],
            [
             0.4444444444444444,
             "#bd3786"
            ],
            [
             0.5555555555555556,
             "#d8576b"
            ],
            [
             0.6666666666666666,
             "#ed7953"
            ],
            [
             0.7777777777777778,
             "#fb9f3a"
            ],
            [
             0.8888888888888888,
             "#fdca26"
            ],
            [
             1.0,
             "#f0f921"
            ]
           ],
           "sequentialminus": [
            [
             0.0,
             "#0d0887"
            ],
            [
             0.1111111111111111,
             "#46039f"
            ],
            [
             0.2222222222222222,
             "#7201a8"
            ],
            [
             0.3333333333333333,
             "#9c179e"
            ],
            [
             0.4444444444444444,
             "#bd3786"
            ],
            [
             0.5555555555555556,
             "#d8576b"
            ],
            [
             0.6666666666666666,
             "#ed7953"
            ],
            [
             0.7777777777777778,
             "#fb9f3a"
            ],
            [
             0.8888888888888888,
             "#fdca26"
            ],
            [
             1.0,
             "#f0f921"
            ]
           ]
          },
          "colorway": [
           "#636efa",
           "#EF553B",
           "#00cc96",
           "#ab63fa",
           "#FFA15A",
           "#19d3f3",
           "#FF6692",
           "#B6E880",
           "#FF97FF",
           "#FECB52"
          ],
          "font": {
           "color": "#2a3f5f"
          },
          "geo": {
           "bgcolor": "white",
           "lakecolor": "white",
           "landcolor": "#E5ECF6",
           "showlakes": true,
           "showland": true,
           "subunitcolor": "white"
          },
          "hoverlabel": {
           "align": "left"
          },
          "hovermode": "closest",
          "mapbox": {
           "style": "light"
          },
          "paper_bgcolor": "white",
          "plot_bgcolor": "#E5ECF6",
          "polar": {
           "angularaxis": {
            "gridcolor": "white",
            "linecolor": "white",
            "ticks": ""
           },
           "bgcolor": "#E5ECF6",
           "radialaxis": {
            "gridcolor": "white",
            "linecolor": "white",
            "ticks": ""
           }
          },
          "scene": {
           "xaxis": {
            "backgroundcolor": "#E5ECF6",
            "gridcolor": "white",
            "gridwidth": 2,
            "linecolor": "white",
            "showbackground": true,
            "ticks": "",
            "zerolinecolor": "white"
           },
           "yaxis": {
            "backgroundcolor": "#E5ECF6",
            "gridcolor": "white",
            "gridwidth": 2,
            "linecolor": "white",
            "showbackground": true,
            "ticks": "",
            "zerolinecolor": "white"
           },
           "zaxis": {
            "backgroundcolor": "#E5ECF6",
            "gridcolor": "white",
            "gridwidth": 2,
            "linecolor": "white",
            "showbackground": true,
            "ticks": "",
            "zerolinecolor": "white"
           }
          },
          "shapedefaults": {
           "line": {
            "color": "#2a3f5f"
           }
          },
          "ternary": {
           "aaxis": {
            "gridcolor": "white",
            "linecolor": "white",
            "ticks": ""
           },
           "baxis": {
            "gridcolor": "white",
            "linecolor": "white",
            "ticks": ""
           },
           "bgcolor": "#E5ECF6",
           "caxis": {
            "gridcolor": "white",
            "linecolor": "white",
            "ticks": ""
           }
          },
          "title": {
           "x": 0.05
          },
          "xaxis": {
           "automargin": true,
           "gridcolor": "white",
           "linecolor": "white",
           "ticks": "",
           "title": {
            "standoff": 15
           },
           "zerolinecolor": "white",
           "zerolinewidth": 2
          },
          "yaxis": {
           "automargin": true,
           "gridcolor": "white",
           "linecolor": "white",
           "ticks": "",
           "title": {
            "standoff": 15
           },
           "zerolinecolor": "white",
           "zerolinewidth": 2
          }
         }
        },
        "scene": {
         "domain": {
          "x": [
           0.0,
           1.0
          ],
          "y": [
           0.0,
           1.0
          ]
         },
         "xaxis": {
          "title": {
           "text": "principal component 1"
          }
         },
         "yaxis": {
          "title": {
           "text": "principal component 2"
          }
         },
         "zaxis": {
          "title": {
           "text": "principal component 3"
          }
         }
        },
        "coloraxis": {
         "colorbar": {
          "title": {
           "text": "Class"
          }
         },
         "colorscale": [
          [
           0.0,
           "#0d0887"
          ],
          [
           0.1111111111111111,
           "#46039f"
          ],
          [
           0.2222222222222222,
           "#7201a8"
          ],
          [
           0.3333333333333333,
           "#9c179e"
          ],
          [
           0.4444444444444444,
           "#bd3786"
          ],
          [
           0.5555555555555556,
           "#d8576b"
          ],
          [
           0.6666666666666666,
           "#ed7953"
          ],
          [
           0.7777777777777778,
           "#fb9f3a"
          ],
          [
           0.8888888888888888,
           "#fdca26"
          ],
          [
           1.0,
           "#f0f921"
          ]
         ]
        },
        "legend": {
         "title": {
          "text": "Class"
         },
         "tracegroupgap": 0,
         "x": 0,
         "y": 1
        },
        "margin": {
         "t": 60
        }
       },
       "config": {
        "plotlyServerURL": "https://plot.ly"
       }
      },
      "text/html": "<div>                            <div id=\"97446c10-1df0-4afc-a3b1-0b3d15d709ec\" class=\"plotly-graph-div\" style=\"height:525px; width:100%;\"></div>            <script type=\"text/javascript\">                require([\"plotly\"], function(Plotly) {                    window.PLOTLYENV=window.PLOTLYENV || {};                                    if (document.getElementById(\"97446c10-1df0-4afc-a3b1-0b3d15d709ec\")) {                    Plotly.newPlot(                        \"97446c10-1df0-4afc-a3b1-0b3d15d709ec\",                        [{\"customdata\":[[41.99995383,\"42\",\"Scrypt\",\"PoW/PoS\"],[1055184902.04,\"532000000\",\"Scrypt\",\"PoW/PoS\"],[29279424622.5027,\"314159265359\",\"X13\",\"PoW/PoS\"],[9031294.37563393,\"22000000\",\"X11\",\"PoW/PoS\"],[2741570000.0,\"3600570502\",\"SHA-512\",\"PoS\"],[1288862.0,\"22000000\",\"SHA-256\",\"PoW/PoS\"],[11995334.8847328,\"12500000\",\"SHA-256\",\"PoS\"],[25542535.5881841,\"350000000\",\"X15\",\"PoW/PoS\"],[18135099.992959,\"16768584\",\"Scrypt\",\"PoW/PoS\"],[635423900.0,\"0\",\"Scrypt\",\"PoW/PoS\"],[123062801.128773,\"0\",\"Scrypt\",\"PoW/PoS\"],[42579.476901,\"500000\",\"Scrypt\",\"PoW/PoS\"],[1039116.65144562,\"1000000\",\"Scrypt\",\"PoW/PoS\"],[39999997299.8568,\"40000000000\",\"Scrypt\",\"PoC\"],[3304487.74735637,\"4380000\",\"Groestl\",\"PoW/PoS\"],[5679705.0,\"0\",\"PoS\",\"PoS\"],[461829905.32893,\"0\",\"Scrypt\",\"PoS/PoW/PoT\"],[89266933.684704,\"120000000\",\"Scrypt\",\"PoW/PoS\"],[1678520090.7713,\"0\",\"X11\",\"PoS\"],[17650913.9743456,\"22000000\",\"X11\",\"PoW/PoS\"],[61445805.0,\"100000000\",\"SHA3\",\"PoW/PoS\"],[21293925445.4969,\"0\",\"Scrypt\",\"PoS\"],[1613836099.99999,\"2419200000\",\"SHA-256\",\"PoW/PoS\"],[16180000.0,\"16180000\",\"Scrypt\",\"PoS\"],[66087096.2077108,\"0\",\"X13\",\"PoW/PoS\"],[15156364.3306548,\"0\",\"X13\",\"PoW/PoS\"],[3220616.279225,\"3770000\",\"NeoScrypt\",\"PoW/PoS\"],[222677226.014206,\"420000000\",\"Scrypt\",\"PoW/PoS\"],[73959274.625,\"98000000\",\"Scrypt\",\"PoW/PoS\"],[29315567169.0888,\"0\",\"Scrypt\",\"PoW/PoS\"],[50707661.7493518,\"0\",\"X11\",\"PoS\"],[1177.0,\"1000\",\"X11\",\"PoW/PoS\"],[80260463.7331396,\"100000000\",\"Multiple\",\"PoS\"],[1622326490.46336,\"2300000000\",\"PHI1612\",\"PoS\"],[1431851.00002479,\"10000000\",\"X11\",\"PoW/PoS\"],[1098952592.6,\"1600000000\",\"Scrypt\",\"PoW/PoS\"],[50235211.141939,\"100000000\",\"Scrypt\",\"PoW/PoS\"],[32021108.4136696,\"0\",\"Scrypt\",\"PoST\"],[6950831.0970606,\"5500000\",\"X11\",\"PoW/PoS\"],[100000000.0,\"0\",\"Multiple\",\"PoS\"],[33093725.4123502,\"0\",\"X13\",\"PoW/PoS\"],[147990237.978331,\"1000000000\",\"Scrypt\",\"PoW/PoS\"],[1813033920.0,\"2158812800\",\"Shabal256\",\"PoC\"],[51173144.0,\"500000000\",\"Counterparty\",\"PoS\"],[39121694.0,\"68000000\",\"SHA-256\",\"PoW/PoS\"],[53193831.0,\"0\",\"Groestl\",\"PoW/PoS\"],[27184490.3918338,\"0\",\"Scrypt\",\"PoS\"],[2022464.886973,\"12000000\",\"X13\",\"PoW/PoS\"],[174646113.934655,\"500000000\",\"Scrypt\",\"PoS\"],[1467841.0,\"0\",\"Scrypt\",\"PoW/PoS\"],[7096834.0,\"10000000\",\"X13\",\"PoW/PoS\"],[2689812.0,\"20000000\",\"X11\",\"PoS\"],[11604722.0,\"20000000\",\"Scrypt\",\"PoW/PoS\"],[1513704.0,\"0\",\"X11\",\"PoW/PoS\"],[63657220.0,\"78000000\",\"SHA3\",\"PoW/nPoS\"],[8568038.35935056,\"5060000\",\"QUAIT\",\"PoW/PoS\"],[329200.01639,\"0\",\"X11\",\"PoS/PoW\"],[100000000.0,\"100000000\",\"Scrypt\",\"PoS\"],[23042604.0,\"50000000\",\"X13\",\"PoW/PoS\"],[43059794.804778,\"1000000000\",\"SHA-256\",\"PoW/PoS\"],[13530556.4180753,\"26298000\",\"X15\",\"PoW/PoS\"],[10365046.9281661,\"21000000\",\"BLAKE256\",\"PoW/PoS\"],[3669691.84494672,\"22000000\",\"SHA-256\",\"PoW/PoS\"],[10996318099.0,\"26550000000\",\"X11\",\"PoW/PoS\"],[5129014.0,\"10500000\",\"SHA-256\",\"PoW/PoS\"],[10069449031.9252,\"0\",\"NIST5\",\"PoW/PoS\"],[8998743.2411911,\"42000000\",\"Scrypt\",\"PoW/PoS\"],[40477042.0,\"221052632\",\"Scrypt\",\"PoS\"],[10407269.7881868,\"384000000\",\"X11\",\"PoW/PoS\"],[36971236046.8073,\" 99000000000\",\"Scrypt\",\"PoS\"],[4377081.60953993,\"40000000\",\"SHA-256\",\"PoW/PoS\"],[2147483647.0,\"2147483647\",\"Scrypt\",\"PoC\"],[20000000.0,\"20000000\",\"PoS\",\"PoS\"],[134554941.15119,\"75000000\",\"X11\",\"PoW/PoS\"],[1195525.0,\"222725000\",\"SHA-256\",\"PoW/PoS\"],[16662820.0,\"525000000\",\"SHA-256\",\"PoW/PoS\"],[83450403.0,\"90000000\",\"NIST5\",\"PoW/PoS\"],[24387724.5010828,\"139000000\",\"X11\",\"PoW/PoS\"],[38589808.6658096,\"33500000\",\"POS 3.0\",\"PoS\"],[813092338.575672,\"2000000000\",\"Scrypt\",\"PoW/PoS\"],[4526324.0,\"44333333\",\"Scrypt\",\"PoW/PoS\"],[100000000.0,\"100000000\",\"Scrypt\",\"PoW/PoS\"],[5000000.0,\"200000000\",\"X13\",\"PoS\"],[657000000.0,\"657000000\",\"X11\",\"PoS\"],[15563873.0,\"50000000\",\"X11\",\"PoW/PoS\"],[43165500.0,\"90000000\",\"Scrypt\",\"PoW/PoS\"],[595429.0,\"21000000\",\"SHA-256\",\"PoW/PoS\"],[657636.34549789,\"3000000\",\"X11\",\"PoW/PoS\"],[2581970.0,\"21000000\",\"Scrypt\",\"PoW/PoS\"],[1939889.0,\"0\",\"Scrypt\",\"PoW/PoS\"],[169598616.0,\"0\",\"Scrypt\",\"PoS\"],[665200057.0,\"3100000000\",\"Scrypt\",\"PoW/PoW\"],[19577787259.0,\"20000000000\",\"SHA-256D\",\"PoW/PoS\"],[74033806.7949683,\"74000000\",\"PoS\",\"PoS\"],[33522957.0,\"0\",\"Scrypt\",\"PoW/PoS\"],[264678458.288619,\"1500000000\",\"X11\",\"PoW/PoS\"],[148716816.0,\"39999898\",\"PoS\",\"PoS\"],[2500124.0,\"2500124\",\"X13\",\"PoS\"],[100000000.0,\"100000000\",\"X14\",\"PoW/PoS\"],[17818682.1654,\"301000000\",\"PoS\",\"PoS\"],[1082162635.53683,\"7506000000\",\"SHA-256D\",\"PoW/PoS\"],[108202084.0,\"125000000\",\"DPoS\",\"DPoS\"],[18342813.0,\"30000000\",\"X11\",\"PoW/PoS\"],[92192822723.0,\"850000000\",\"X13\",\"PoW/PoS\"],[3853326.77707314,\"3853326.77707314\",\"X11\",\"PoW/PoS\"],[50000000.0,\"50000000\",\"PoS\",\"PoS\"],[17089600.0,\"38540000 \",\"Scrypt\",\"PoW/PoS\"],[2449577.41533168,\"42000000\",\"Scrypt\",\"PoW/PoS\"],[20000000.0,\"20000000\",\"PoS\",\"PoS\"],[6069482.07721352,\"60000000\",\"X11\",\"PoW/PoS\"],[12416554.0,\"20000000\",\"SHA-256\",\"PoW/PoS\"],[20244023.640728,\"33000000\",\"Scrypt\",\"PoW/PoS\"],[75590369.0,\"76500000\",\"X11\",\"TPoS\"],[11080722.3769581,\"28000000\",\"Scrypt\",\"PoW/PoS\"],[10914418.0,\"650659833\",\"Scrypt\",\"PoW/PoS\"],[814671.0,\"5000000\",\"X11\",\"PoW/PoS\"],[8377873.0,\"144000000\",\"Scrypt\",\"PoW/PoS\"],[33813143821.8337,\"32514916898\",\"Scrypt\",\"PoS\"],[3472983.0,\"13000000\",\"Scrypt\",\"PoW/PoS\"],[3315789.0,\"3315789\",\"Scrypt\",\"PoW/PoS\"],[10517772.7391666,\"15000000\",\"Quark\",\"PoS\"],[30227750.0,\"78835200\",\"QuBit\",\"PoW/PoS\"],[23965372.0,\"500000000\",\"Scrypt\",\"PoW/PoS\"],[2526078.47525448,\"21000000\",\"SHA-256\",\"PoW/PoS\"],[5659096.95728771,\"9354000\",\"X11\",\"PoW/PoS\"],[11821728.0,\"20000000\",\"Scrypt\",\"PoW/PoS\"],[308179.0,\"21933333\",\"Scrypt\",\"PoW/PoS\"],[2922613.96424908,\"55000000\",\"Scrypt\",\"PoS\"],[110000000.0,\"110000000\",\"Scrypt\",\"PoW/PoS \"],[14524851.4827,\"14524851.4827\",\"X13\",\"PoS\"],[1000000000.0,\"1000000000\",\"Scrypt\",\"PoW/PoS\"],[36050365.0,\"34426423\",\"Scrypt\",\"PoS\"],[13162749.0858027,\"100000000\",\"X11\",\"PoW/PoS\"],[12184195.9258495,\"36900000\",\"Blake2S\",\"PoW/PoS\"],[110630387.850471,\"110000000\",\"X11\",\"PoW/PoS\"],[111135836.889,\"110290030\",\"PoS\",\"PoS\"],[21521322.0099142,\"100000000\",\"X11\",\"PoW/PoS\"],[401421401.0,\"400000000\",\"PoS\",\"PoS\"],[121665451.643876,\"500000000\",\"X11\",\"PoW/PoS\"],[5368934.0,\"21212121\",\"Scrypt\",\"PoW/PoS\"],[1148324.0,\"28600000\",\"Scrypt\",\"PoW/PoS\"],[500000.0,\"1000000000\",\"Scrypt\",\"PoW/PoS\"],[100545745.0,\"75000000000\",\"SHA-256\",\"PoS\"],[17171382.0,\"40000000\",\"X11\",\"PoW/PoS\"],[295135466.361878,\"2000000000\",\"Scrypt\",\"PoS\"],[11390225.9742772,\"30000000\",\"PoS\",\"PoS\"],[21358764.0,\"105000000\",\"Scrypt\",\"PoW/PoS\"],[40659020000.0,\"90000000000\",\"X15\",\"PoW/PoS\"],[10343113.0,\"200084200\",\"SHA-256\",\"PoS\"],[100000000.0,\"100000000\",\"POS 3.0\",\"PoS\"],[22801882871.0,\"50000000000\",\"536\",\"PoW/PoS\"],[4171382.0,\"10000000\",\"NIST5\",\"PoW/PoS\"],[62942075.0,\"120000000\",\"NIST5\",\"PoW/PoS\"],[6804362.0,\"100000000\",\"Skein\",\"PoW/PoS\"],[21268092.0,\"30000000\",\"X13\",\"PoW/PoS\"],[9044930943.24243,\"50000000000\",\"Scrypt\",\"PoW/PoS\"],[21917018.0492836,\"18898187.6216583\",\"X13\",\"PoW/PoS\"],[107972766.0,\"137500000\",\"SkunkHash v2 Raptor\",\"PoS\"],[47331802.4774238,\"100000000\",\"Skein\",\"PoW/PoS\"],[12569262.5359307,\"9507271\",\"X11\",\"PoW/PoS\"],[18663297.3489799,\"17405891.19707116\",\"Scrypt\",\"PoS\"],[55454734800.0,\"86712634466\",\"VeChainThor Authority\",\"Proof of Authority\"],[4000000.0,\"61599965\",\"PoS\",\"PoS\"],[19539588.0,\"48252000\",\"Scrypt\",\"PoW/PoS\"],[4200000.0,\"4200000\",\"Scrypt\",\"PoW/PoS\"],[25000000.0,\"91388946\",\"SHA-512\",\"PoS\"],[25927070538.0,\"45000000000\",\"Ouroboros\",\"PoS\"],[7262402.04264803,\"27000000\",\"X11\",\"PoW/PoS\"],[182638400.0,\"400000000\",\"NeoScrypt\",\"PoW/PoS\"],[1140734.91680375,\"15733333\",\"Scrypt\",\"PoW/PoS\"],[24000000.0,\"24000000\",\"Lyra2REv2\",\"PoS\"],[48459472454.0,\"25000000000\",\"Scrypt\",\"PoW/PoS\"],[92050800.0,\"100000000\",\"SHA-256\",\"PoW/PoS\"],[560563220.0,\"1200000000\",\"NIST5\",\"PoW/PoS\"],[8305775.31777569,\"60000000\",\"PHI1612\",\"PoW/PoS\"],[2149688.0,\"21000000\",\"Scrypt\",\"PoW/PoS\"],[30711550.5294042,\"200000000\",\"Quark\",\"PoW/PoS\"],[12330806.30517,\"21000000\",\"POS 2.0\",\"PoS\"],[16362544.992,\"14788275.991\",\"Scrypt\",\"PoW/PoS\"],[8999999990.0,\"9000000000\",\"SHA-256\",\"PoS\"],[38198594.8342105,\"144000000\",\"X11\",\"PoW/PoS\"],[288090567.493887,\"500000000\",\"DPoS\",\"DPoS\"],[28399150208.0,\"30000000000\",\"NIST5\",\"PoW/PoS\"],[183534024.889807,\"210000000\",\"X13\",\"PoW/PoS\"],[110976977.29338,\"210000000\",\"Scrypt\",\"PoW/PoS\"],[13247178.8807286,\"27716121\",\"NIST5\",\"PoS\"],[16955764.902064,\"20000000\",\"Quark\",\"PoS\"],[4911500269.41,\"50000000000\",\"Scrypt\",\"PoW/PoS\"],[8419402.321,\"150000000\",\"Scrypt\",\"PoW/PoS\"],[45174214.1078625,\"50000000\",\"X11\",\"PoW/PoS\"],[27299680.0,\"120000000\",\"Quark\",\"PoS\"],[591022748.0,\"900000000\",\"Scrypt\",\"PoW/PoS\"],[2504486.227718,\"4000000\",\"Scrypt\",\"PoW/PoS\"],[4407252.0,\"21000000\",\"X11\",\"PoS\"],[20445861.5344251,\"25000000\",\"POS 3.0\",\"PoS\"],[1618033.0,\"1618033\",\"Ethash\",\"PoS\"],[9399342.52839847,\"30000000\",\"Scrypt\",\"PoW and PoS\"],[234846265.782157,\"232000000\",\"Scrypt\",\"PoW/PoS\"],[230298925.0,\"800000000\",\"X13\",\"PoS\"],[11251342.1879021,\"19340594\",\"C11\",\"PoW/PoS\"],[2167827.1,\"25000000\",\"X11\",\"PoW/PoS\"],[419275.38,\"60000000\",\"XEVAN\",\"PoW/PoS\"],[25570013.1348022,\"124000000\",\"Scrypt\",\"PoS\"],[650848625.0,\"1000000000\",\"VBFT\",\"PoS\"],[13787854.6277781,\"50000000\",\"NIST5\",\"PoW/PoS\"],[845637.81347436,\"3000000\",\"Scrypt\",\"PoW/PoS\"],[1182153.5,\"5000000\",\"Scrypt\",\"PoW/PoS\"],[267297676.3125,\"500000000\",\"Scrypt\",\"PoS\"],[9803691.3618195,\"21000000\",\"Green Protocol\",\"PoS\"],[21876586.8530324,\"88000000\",\"PoS\",\"PoS\"],[9880502.37178894,\"30000000\",\"Scrypt\",\"PoW/PoS\"],[1231147.0,\"100000000\",\"Semux BFT consensus\",\"DPoS\"],[139739596.506702,\"200000000\",\"Quark\",\"PoW/PoS\"],[11075254.0929996,\"80000000\",\"PoS\",\"PoS\"],[4403800.0,\"45000000\",\"X16R\",\"PoS\"],[1404157529.46026,\"5121951220\",\"Scrypt\",\"PoW/PoS\"],[10904963.0923455,\"21000000\",\"XEVAN\",\"PoS/PoW\"],[38706809.466535,\"26000000\",\"Scrypt\",\"PoS\"],[10200000000.0,\"10200000000\",\"Scrypt\",\"PoW/PoS\"],[7630000.0154,\"44000000\",\"Scrypt\",\"PoS\"],[33238183.7225834,\"100000000\",\"SHA-256D\",\"PoW/PoS\"],[21599339.6728,\"84000000\",\"Scrypt\",\"PoW/PoS\"],[30284196.369129,\"90000000\",\"X15\",\"PoS\"],[77872059787.8998,\"92000000000\",\"Scrypt\",\"HPoW\"],[2716264.95302831,\"650000000 \",\"Quark\",\"PoS\"],[57811001.000889,\"100262205\",\"SHA-256\",\"PoS\"],[18194936.0,\"18081806 \",\"DPoS\",\"PoS\"],[36923120.6205934,\"82546564\",\"X16R\",\"PoW/PoS\"],[7082392.24744494,\"21000000\",\"Quark\",\"PoS\"],[5919489.76813523,\"5151000\",\"Quark\",\"PoW/PoS\"],[1042012.45227735,\"16880000000\",\"Scrypt\",\"PoS\"],[13332617.9413708,\"52500000\",\"Lyra2REv2\",\"PoW/PoS\"],[66053877.6256106,\"100000000\",\"Quark\",\"PoS\"],[5403802.49590733,\"1000000000\",\"Scrypt\",\"PoW/PoS\"],[19269509.94,\"55000000\",\"X11\",\"PoS\"],[30771125.9760867,\"50000000\",\"X11\",\"PoW/PoS\"],[107763867.917675,\"260000000\",\"Scrypt\",\"PoS\"],[9327131.59708692,\"210000000\",\"PoS\",\"PoS\"],[4672513.84432375,\"366000000\",\"Keccak\",\"PoW/PoS\"],[4504639.0,\"100000000\",\"X11\",\"PoS\"],[1059954080.43439,\"18000000000\",\"Scrypt\",\"PoW/PoS\"],[1000000000.0,\"1000000000\",\"SHA-512\",\"Zero-Knowledge Proof\"],[1000000000.0,\"1000000000\",\"ECC 256K1\",\"DPOS\"],[6787405.18013774,\"50000000\",\"XEVAN\",\"PoS\"],[208515864.367343,\"70000000000\",\"XEVAN\",\"Pos\"],[17209923728.3266,\"0\",\"X11\",\"PoS\"],[35312185.7437239,\"54000000\",\"Quark\",\"PoW/PoS\"],[13475920.0,\"105000000\",\"Equihash\",\"PoS\"],[14777549.3940764,\"21000000\",\"Scrypt\",\"PoW/PoS\"],[18265011.2486006,\"19035999\",\"Quark\",\"PoW/PoS\"],[1934701.67524713,\"13370000\",\"Quark\",\"PoS\"],[30825710000.0296,\"74800000000\",\"Scrypt\",\"PoW/PoS\"],[715659.44237941,\"19700000\",\"X11\",\"PoS\"],[20546528.2059957,\"84000000\",\"Scrypt\",\"PoW/PoS\"],[198938144.363399,\"500000000\",\"XEVAN\",\"PoW/PoS\"],[896361168.0,\"5000000000\",\"SHA-256D\",\"PoW/PoS\"],[15420234.5389336,\"420000000\",\"X11\",\"PoW/PoS\"],[23775960.3207514,\"30000000\",\"X11\",\"PoW/PoS\"],[1000000000.0,\"1000000000\",\"DPoS\",\"DPoS\"],[15318887081.0146,\"35000000000\",\"Scrypt\",\"PoW/PoS\"],[242574105.22384,\"0\",\"X11\",\"PoW/PoS\"],[3537150.0,\"200000000\",\"Scrypt\",\"PoW/PoS\"],[20576532.0,\"54256119\",\"Scrypt\",\"PoW/PoS\"],[4392258.24647793,\"21000000\",\"SHA-256\",\"PoS\"],[9631199.99309942,\"0\",\"Scrypt\",\"PoW/PoS\"],[436353624.490312,\"500000000\",\"X11\",\"PoW/PoS\"],[980732528.97974,\"10500000000\",\"Scrypt\",\"PoW/PoS\"],[17939725045.334,\"190000000\",\"SHA-256\",\"PoW/PoS\"],[494240666.028571,\"1000000000\",\"X11\",\"PoW/PoS\"],[60000000.0,\"15000000\",\"Scrypt\",\"PoW/PoS\"],[404316475.545465,\"400000000\",\"Scrypt\",\"PoW/PoS\"],[201364327.427503,\"208000000\",\"X11\",\"PoW/PoS\"],[103621876.167052,\"160000000\",\"Scrypt\",\"PoW/PoS\"],[3821245.74150193,\"9000000\",\"PoS\",\"PoS\"],[16901016.6609755,\"16504333\",\"X11\",\"Proof of Trust\"],[74676064.9488608,\"105000000\",\"SHA-256\",\"PoW/PoS\"],[120012140.0,\"159918400\",\"DPoS\",\"DPoS\"],[10000244677.7002,\"10008835635\",\"Scrypt\",\"PoS\"],[252005564.19257,\"300000000\",\"Scrypt\",\"PoW/PoS\"],[1120385.00502,\"60168145\",\"NeoScrypt\",\"PoW/PoS\"],[140777.753365,\"120000\",\"X13\",\"PoW/PoS\"],[1020544523.0722,\"0\",\"DPoS\",\"DPoS\"],[1122382283.37,\"0\",\"DPoS\",\"DPoS\"],[1000000000.0,\"1000000000\",\"SHA-256\",\"PoS\"],[100000000.0,\"100000000\",\"Leased POS\",\"LPoS\"],[9283137.5558676,\"8634140\",\"PoS\",\"PoS\"],[1000000000.0,\"1000000000\",\"PoS\",\"PoS/LPoS\"],[1999999995.3056,\"2000000000\",\"SHA-256\",\"DPoS\"],[14931046.1546605,\"250000000\",\"Scrypt\",\"PoW/PoS\"],[128326.99633965,\"1000000\",\"Scrypt\",\"PoS\"]],\"hovertemplate\":\"<b>%{hovertext}</b><br><br>Class=%{marker.color}<br>principal component 1=%{x}<br>principal component 2=%{y}<br>principal component 3=%{z}<br>TotalCoinsMined=%{customdata[0]}<br>TotalCoinSupply=%{customdata[1]}<br>Algorithm=%{customdata[2]}<br>ProofType=%{customdata[3]}<extra></extra>\",\"hovertext\":[\"42 Coin\",\"404Coin\",\"EliteCoin\",\"Dash\",\"Bitshares\",\"BitcoinDark\",\"PayCoin\",\"KoboCoin\",\"Aurora Coin\",\"BlueCoin\",\"EnergyCoin\",\"BitBar\",\"CryptoBullion\",\"CasinoCoin\",\"Diamond\",\"Exclusive Coin\",\"FlutterCoin\",\"HoboNickels\",\"HyperStake\",\"IOCoin\",\"MaxCoin\",\"MintCoin\",\"MazaCoin\",\"Nautilus Coin\",\"NavCoin\",\"OpalCoin\",\"Orbitcoin\",\"PotCoin\",\"PhoenixCoin\",\"Reddcoin\",\"SuperCoin\",\"SyncCoin\",\"TeslaCoin\",\"TittieCoin\",\"TorCoin\",\"UnitaryStatus Dollar\",\"UltraCoin\",\"VeriCoin\",\"X11 Coin\",\"Crypti\",\"StealthCoin\",\"ZCC Coin\",\"BurstCoin\",\"StorjCoin\",\"Neutron\",\"FairCoin\",\"RubyCoin\",\"Kore\",\"Dnotes\",\"8BIT Coin\",\"Sativa Coin\",\"Ucoin\",\"Vtorrent\",\"IslaCoin\",\"Nexus\",\"Droidz\",\"Squall Coin\",\"Diggits\",\"Paycon\",\"Emercoin\",\"EverGreenCoin\",\"Decred\",\"EDRCoin\",\"Hitcoin\",\"DubaiCoin\",\"PWR Coin\",\"BillaryCoin\",\"GPU Coin\",\"EuropeCoin\",\"ZeitCoin\",\"SwingCoin\",\"SafeExchangeCoin\",\"Nebuchadnezzar\",\"Ratecoin\",\"Revenu\",\"Clockcoin\",\"VIP Tokens\",\"BitSend\",\"Let it Ride\",\"PutinCoin\",\"iBankCoin\",\"Frankywillcoin\",\"MudraCoin\",\"Lutetium Coin\",\"GoldBlocks\",\"CarterCoin\",\"BitTokens\",\"MustangCoin\",\"ZoneCoin\",\"RootCoin\",\"BitCurrency\",\"Swiscoin\",\"BuzzCoin\",\"Opair\",\"PesoBit\",\"Halloween Coin\",\"CoffeeCoin\",\"RoyalCoin\",\"GanjaCoin V2\",\"TeamUP\",\"LanaCoin\",\"ARK\",\"InsaneCoin\",\"EmberCoin\",\"XenixCoin\",\"FreeCoin\",\"PLNCoin\",\"AquariusCoin\",\"Creatio\",\"Eternity\",\"Eurocoin\",\"BitcoinFast\",\"Stakenet\",\"BitConnect Coin\",\"MoneyCoin\",\"Enigma\",\"Russiacoin\",\"PandaCoin\",\"GameUnits\",\"GAKHcoin\",\"Allsafe\",\"LiteCreed\",\"Klingon Empire Darsek\",\"Internet of People\",\"KushCoin\",\"Printerium\",\"Impeach\",\"Zilbercoin\",\"FirstCoin\",\"FindCoin\",\"OpenChat\",\"RenosCoin\",\"VirtacoinPlus\",\"TajCoin\",\"Impact\",\"Atmos\",\"HappyCoin\",\"MacronCoin\",\"Condensate\",\"Independent Money System\",\"ArgusCoin\",\"LomoCoin\",\"ProCurrency\",\"GoldReserve\",\"GrowthCoin\",\"Phreak\",\"Degas Coin\",\"HTML5 Coin\",\"Ultimate Secure Cash\",\"QTUM\",\"Espers\",\"Denarius\",\"Virta Unique Coin\",\"Bitcoin Planet\",\"BritCoin\",\"Linda\",\"DeepOnion\",\"Signatum\",\"Cream\",\"Monoeci\",\"Draftcoin\",\"Vechain\",\"Stakecoin\",\"CoinonatX\",\"Ethereum Dark\",\"Obsidian\",\"Cardano\",\"Regalcoin\",\"TrezarCoin\",\"TerraNovaCoin\",\"Rupee\",\"WomenCoin\",\"Theresa May Coin\",\"NamoCoin\",\"LUXCoin\",\"Xios\",\"Bitcloud 2.0\",\"KekCoin\",\"BlackholeCoin\",\"Infinity Economics\",\"Magnet\",\"Lamden Tau\",\"Electra\",\"Bitcoin Diamond\",\"Cash & Back Coin\",\"Bulwark\",\"Kalkulus\",\"GermanCoin\",\"LiteCoin Ultra\",\"PhantomX\",\"Digiwage\",\"Trollcoin\",\"Litecoin Plus\",\"Monkey Project\",\"TokenPay\",\"1717 Masonic Commemorative Token\",\"My Big Coin\",\"Unified Society USDEX\",\"Tokyo Coin\",\"Stipend\",\"Pushi\",\"Ellerium\",\"Velox\",\"Ontology\",\"Bitspace\",\"Briacoin\",\"Ignition\",\"MedicCoin\",\"Bitcoin Green\",\"Deviant Coin\",\"Abjcoin\",\"Semux\",\"Carebit\",\"Zealium\",\"Proton\",\"iDealCash\",\"Bitcoin Incognito\",\"HollyWoodCoin\",\"Swisscoin\",\"Xt3ch\",\"TheVig\",\"EmaratCoin\",\"Dekado\",\"Lynx\",\"Poseidon Quark\",\"BitcoinWSpectrum\",\"Muse\",\"Trivechain\",\"Dystem\",\"Giant\",\"Peony Coin\",\"Absolute Coin\",\"Vitae\",\"TPCash\",\"ARENON\",\"EUNO\",\"MMOCoin\",\"Ketan\",\"XDNA\",\"PAXEX\",\"ThunderStake\",\"Kcash\",\"Acute Angle Cloud\",\"Bettex coin\",\"BitMoney\",\"Junson Ming Chan Coin\",\"HerbCoin\",\"PirateCash\",\"Oduwa\",\"Galilel\",\"Crypto Sports\",\"Credit\",\"Dash Platinum\",\"Nasdacoin\",\"Beetle Coin\",\"Titan Coin\",\"Award\",\"Insane Coin\",\"ALAX\",\"LiteDoge\",\"TruckCoin\",\"OrangeCoin\",\"BitstarCoin\",\"NeosCoin\",\"HyperCoin\",\"PinkCoin\",\"AudioCoin\",\"IncaKoin\",\"Piggy Coin\",\"Genstake\",\"XiaoMiCoin\",\"CapriCoin\",\" ClubCoin\",\"Radium\",\"Creditbit \",\"OKCash\",\"Lisk\",\"HiCoin\",\"WhiteCoin\",\"FriendshipCoin\",\"Triangles Coin\",\"EOS\",\"Oxycoin\",\"TigerCash\",\"Waves\",\"Particl\",\"Nxt\",\"ZEPHYR\",\"Gapcoin\",\"BitcoinPlus\"],\"legendgroup\":\"0\",\"marker\":{\"color\":[0,0,0,0,0,0,0,0,0,0,0,0,0,0,0,0,0,0,0,0,0,0,0,0,0,0,0,0,0,0,0,0,0,0,0,0,0,0,0,0,0,0,0,0,0,0,0,0,0,0,0,0,0,0,0,0,0,0,0,0,0,0,0,0,0,0,0,0,0,0,0,0,0,0,0,0,0,0,0,0,0,0,0,0,0,0,0,0,0,0,0,0,0,0,0,0,0,0,0,0,0,0,0,0,0,0,0,0,0,0,0,0,0,0,0,0,0,0,0,0,0,0,0,0,0,0,0,0,0,0,0,0,0,0,0,0,0,0,0,0,0,0,0,0,0,0,0,0,0,0,0,0,0,0,0,0,0,0,0,0,0,0,0,0,0,0,0,0,0,0,0,0,0,0,0,0,0,0,0,0,0,0,0,0,0,0,0,0,0,0,0,0,0,0,0,0,0,0,0,0,0,0,0,0,0,0,0,0,0,0,0,0,0,0,0,0,0,0,0,0,0,0,0,0,0,0,0,0,0,0,0,0,0,0,0,0,0,0,0,0,0,0,0,0,0,0,0,0,0,0,0,0,0,0,0,0,0,0,0,0,0,0,0,0,0,0,0,0,0,0,0,0,0,0,0,0,0,0,0,0,0,0,0,0,0,0,0,0,0,0],\"coloraxis\":\"coloraxis\",\"symbol\":\"circle\"},\"mode\":\"markers\",\"name\":\"0\",\"scene\":\"scene\",\"showlegend\":true,\"x\":[-0.3342320162624876,-0.31754878015419497,2.3099713118634875,-0.39427608230020744,-0.255919900952621,-0.3169662053803771,-0.2738834215911403,-0.2380280444500427,-0.3338911607793043,-0.32645958950292286,-0.3327267279146167,-0.33422794705189185,-0.334212208335327,0.6436431051254529,-0.36483824114596386,-0.34992013081319073,-0.27943378585842865,-0.3322883079182819,-0.33099200552366437,-0.3941706481655686,-0.37468640241511864,-0.03074806238016788,-0.2802254615004615,-0.2908999950885554,-0.2773879709429471,-0.2780109494375783,-0.3450339068176391,-0.3285269322067373,-0.3326317139373174,0.024352421655960788,-0.3509032084300353,-0.39454269509734113,-0.2526253842473754,-0.3166154776786567,-0.3944542184559333,-0.30943233750897847,-0.3329077070035605,-0.2866585374938698,-0.3944186537246906,-0.2530937717504769,-0.27779154182664295,-0.325323427541348,-0.054761806552656805,-0.33150642611641024,-0.31617691281162447,-0.36425909174247134,-0.2908802414720487,-0.27808642100006337,-0.2855273133907275,-0.33421406262244346,-0.2780385487185762,-0.3513485890859109,-0.3339481017113968,-0.3945242011501194,-0.32078626857884374,-0.3991115974750024,-0.3712783123313025,-0.2892797319470424,-0.2775595663662603,-0.30951304202305535,-0.2404727368791761,-0.06869163322074698,-0.3169370833603685,-0.0715748147640248,-0.3170008646065261,-0.2325998468866705,-0.3338238131232377,-0.28914853058806733,-0.3916896339917191,0.8637555968698507,-0.31680065961696696,-0.08805618253727505,-0.34960299889281266,-0.39236447765346316,-0.31554252253190523,-0.3132076623255178,-0.3541085078213845,-0.3932577325736029,-0.3454460588748507,-0.31008958883445886,-0.33386195629940935,-0.3322989901815978,-0.2336962444098341,-0.3388234716726523,-0.39399742164772905,-0.3330651667572581,-0.3169817857591869,-0.39451337729213276,-0.3340513685213429,-0.3342082885889357,-0.28913824927370846,-0.25215797519654326,0.04319304428301527,-0.3485587508501326,-0.3338219683568611,-0.3806576154898035,-0.34788658341727235,-0.23512875393193494,-0.4029320058005867,-0.34763503263276707,-0.27173047540682793,3.690986440142008,-0.39410539781308346,0.8555286446517015,-0.39446823074978543,-0.34902309082498423,-0.33374940718399676,-0.3339039217200891,-0.34960299889281266,-0.3940425719683201,-0.31684428959233385,-0.3337501477453088,-0.3950218074829467,-0.33389772408274415,-0.329479875337411,-0.39449725968139193,-0.3331073716493236,0.3531890822008169,-0.33409725688717395,-0.3341679219812823,-0.3561772946772825,-0.35299981006370007,-0.33038968006532965,-0.3169581702905016,-0.3944070968600434,-0.3339454473204973,-0.33407255609269193,-0.29078659827710057,-0.29087218463233033,-0.23489631271591316,-0.3149017481467415,-0.29052742296470724,-0.3936718723518703,-0.41424453346179496,-0.39240867618338593,-0.3478473225248209,-0.39356963130828776,-0.3422401102968123,-0.38950532413676947,-0.3340157730001318,-0.33401495693252603,-0.3271275101265019,0.2594903119948098,-0.3940487427039768,-0.2734059158279846,-0.3496373286875143,-0.3332254282246825,0.89536644525543,-0.2725720853688376,-0.3442228539093939,0.5967418040470988,-0.35564611040848426,-0.3541464114555308,-0.41188705456734176,-0.2777232398005876,0.13132402445155109,-0.27779410722154324,-0.35893464980176987,-0.41139132786306365,-0.3943214845807989,-0.29086091784349566,4.40836688332486,-0.34950341612198593,-0.33365049965640015,-0.33415082994486345,-0.3140581963559797,0.6371157247869871,-0.3942622272202298,-0.34002669492126336,-0.3341063823946124,-0.31116928461301047,0.43597810921098645,-0.3153023419364006,-0.340393308070507,-0.3952776361190896,-0.33405665614199337,-0.3976363427505436,-0.37001701601768594,-0.33392689945624615,-0.1001464567244121,-0.3930533077386924,3.6958487107394262,0.20455855045264004,-0.27446071233751057,-0.33138389812444974,-0.31239008218044967,-0.35606305398805965,0.08076440506374137,-0.33306427332168576,-0.39363523157016594,-0.35522668938049035,-0.32061414706562885,-0.3341729889405375,-0.3513204831784895,-0.34572832974470113,-0.27774966284069647,-0.2969913459554962,-0.32971257950758054,-0.22668138085867615,-0.3712746359559567,-0.3943387402209937,-0.3114294385277253,-0.29001978907565595,-0.32555259174826123,-0.3552445472489366,-0.3342003781628351,-0.3341820651620219,-0.28439401079074317,-0.3276424870960114,-0.3490973541229176,-0.3338982082453053,3.8891631220389336,-0.39630272500243263,-0.3492862618346688,-0.30599183168330635,-0.2806989211072865,-0.2883176385981428,-0.29055474370555506,-0.13706327401265536,-0.2908071004067046,-0.337131475059281,-0.3333715517436094,-0.19679636846199666,2.2213470778482525,-0.3517652434774539,-0.27270003950954963,1.0002085383657286,-0.3483467973657182,-0.3561767254860083,-0.39932271060082175,-0.1713791728404934,-0.35411672081886564,-0.35489462058647386,-0.3270675274130344,-0.3508973445594682,-0.39381140838584644,-0.28804902270107263,-0.3483848538244692,-0.37195755323391,-0.35075851906289146,-0.1934957500028663,-0.2719332408859142,-0.3428456759741621,-0.2684032700169732,0.5412006465303331,-0.1410137723227295,-0.3986164334295525,-0.2612433312461665,-0.3339021936830465,-0.3990731405371696,-0.35629385213204867,0.5737839518694579,-0.35137486619629127,-0.33338442960494286,-0.3058778879138428,-0.2917917441431566,-0.391372773942557,-0.3940389402183417,3.7081058955114754,0.10159042486270627,-0.39157557975131185,-0.33276907288559965,-0.33359519629965767,-0.27391608517281046,-0.3341142094118332,-0.3856560968240468,-0.24770271091552906,-0.09635291424359725,-0.3813988340944258,-0.3333916285341029,-0.3264471109014011,-0.3906031873925232,-0.3318287843739517,-0.3498789777408776,-0.3718709735419024,-0.3154793756193717,3.6913787637618194,-0.09784435790382352,-0.3290199984756485,-0.3446592605047996,-0.2781937664525486,3.7012588026006954,3.7025044696521734,-0.2547886080230377,-0.3947345411582251,-0.3498147655643335,-0.3353246655144126,2.4534596590303144,-0.33227478458837234,-0.29120409076864257],\"y\":[1.0098395092329504,1.0099362016125801,1.6340329301047345,1.2436005658342875,1.4527562693480027,0.8023921821388013,0.6150955482744399,1.7803596772843875,1.0098370720944805,1.0100699491585403,1.0098841386315274,1.0098392559074003,1.009839348532429,0.5875060201670278,0.9029643364526493,1.6460674153736974,0.2754254564598759,1.0098073764795064,1.0569122177264332,1.2436036917860158,1.777673531386623,0.8302562432710685,0.8016883683107828,0.8225310561180785,1.79231460028511,1.7922961299793974,0.5008861275111022,1.0096944937002474,1.009813651155297,1.0204709584220748,1.0563218827342151,1.2436091165570191,0.150367775356086,1.6806384282048898,1.2436042604447675,1.0093779717132108,1.0098039723969114,0.2219672407109727,1.243608680903949,0.1504286889205414,1.7923026350605271,1.0093556295541282,1.2441044971152018,1.447274198605119,0.8023811751594174,0.9029847835584028,0.8225437445013144,1.7922849163098735,0.8223284476839379,1.0098400415607833,1.7922878316556061,1.056293717818033,1.0098329667726231,1.2436096656206748,1.6797370650881538,1.7302620325300018,0.9079412823500452,0.822516396525444,1.7922721125095509,0.8018816075276612,1.780529326809193,0.7766933405882239,0.802393045559637,1.2333250611105528,0.8023997566059138,1.5430924844453273,1.0098201956190729,0.8224297384632832,1.2434064720478821,0.7827243392669438,0.8023836262137132,0.5941261890050901,1.646061857723278,1.2436175975597132,0.8022842487370292,0.8021273703668009,1.5394226285437018,1.2435432416765932,1.478804469424532,1.0090592832851717,1.0098173193908515,1.009822019867074,1.604879313547773,1.0561885881440254,1.2435878835331788,1.009806784019356,0.8023924682107162,1.2436077425156626,1.0098291570736033,1.009840212751547,0.8225953917551583,0.3592361867037116,1.9503680385484037,1.646052425721956,1.0098516665221835,1.2428987800228537,1.646097786645503,1.6049845728441523,1.794003225825782,1.6459100153461454,1.9503766391694044,1.9830232395728535,1.2435996423137643,1.825267943064108,1.2436084427450205,1.6460566109113113,1.0098249897321392,1.0098178205286215,1.646061857723278,1.2435790648494234,0.8023972927548578,1.0098291117232308,0.8584922752441011,1.0098284763481433,1.009493705774637,1.2436067243668354,1.0097651404440873,0.8173180397536071,1.0098337805974718,1.0098389293295824,1.4724229216528981,0.6167458730870139,1.0095794258385478,0.8023931683712031,1.2436061407351549,1.0098330454710243,1.0098278307586261,0.8225053805973416,0.3727912850519354,1.604982469794684,1.0096646155080773,0.8225284538644207,1.2435601352952215,1.9864828736650921,1.2435901069707456,1.6460463732993975,1.2435631665769544,1.6459959135838047,1.2433844647289172,1.0098300537557272,1.0098245517805984,1.0093021414206447,0.574818194872609,1.2435938419964963,0.821565820079024,1.6460533598506302,1.0097908124512485,1.746904346862116,0.6149941133604582,1.478790993144665,1.8359587301127511,1.539436881509218,1.5393990646130769,1.836672523267929,1.7922822199561117,0.98624224505849,1.792288423062436,1.4655798365616606,1.83668722076368,1.2436085643534256,0.8225312977225415,2.643833686253291,1.64603369321092,1.0098206575562356,1.0098387746866204,1.45365744808025,1.604863590531327,1.2435972365901717,0.5007382012432832,1.0098314654942515,0.6657618171950102,1.0139748706566087,0.8023831686136117,1.538998976536852,1.8685628282841078,1.0098290003041952,1.6596364217851347,1.5900237682726561,1.0098374937806927,0.6135238738720357,1.24354556251777,1.9828868961752542,1.5336133754139691,1.7922443077288424,1.009766870321122,1.3521250262687352,1.4724225686798822,0.9847432340415179,1.009761930210036,1.2435986218837256,1.472372565041971,1.0095700526077063,1.0098382673091992,1.0562938031078017,1.478802458591606,-0.08677987835276946,0.3357034019315744,1.0097999661081203,1.6046384899345336,0.8465863175379591,1.243596464113275,1.3961560429089779,0.8224765029081221,1.6538064121573932,1.5394188670091975,1.0098382032679862,1.0098372502089275,0.8223620482747555,1.4001659478328958,1.646025984935642,1.0098269659835646,1.8860946188777894,1.6596759613964103,1.6460263681670049,0.6416727318017762,1.00759543406094,1.0605128563133086,0.8225339468548901,1.0080555931716666,0.822513000797005,1.95397733002222,1.0098021882294137,1.5931955363100296,0.4390739571335691,1.4720787486852807,0.6150649870753869,1.7598321387879152,0.8289699653276613,1.4724184504986757,1.6597321717238611,0.8134604341827067,0.8530482518020716,1.4723973704445465,1.0093039198111746,1.0562809163151148,1.24359339852582,0.8224332042706095,1.6459558528117588,1.0157992638421607,1.056251372043083,1.0005480226749064,1.4021498624037163,3.2971603099343554,1.2088581044955768,0.8661573961500649,1.0625447653603213,1.6597165724059224,-0.07955462692441237,1.0098335798665117,1.659729185024705,1.4724206851608088,0.9808099436749083,1.056293163145662,1.0098018064216339,1.395991515226984,1.9516563554243422,1.24338893825739,1.2436016126740623,1.9828762994123617,0.9965807664365887,1.2436970874805553,1.0097332821774259,1.0098178061005432,0.6150882218097725,1.0098430020471274,1.2434985880988803,1.0045509111554665,0.8088073449030793,1.2432508065742813,1.009853205327994,1.0097711171406394,1.2435703323088299,1.0097910804112376,1.646061903451057,0.759003155431688,0.8023741798261217,1.9830087521974678,0.8207802877221125,1.0097696356785877,0.5008550490761005,1.7922906199897162,1.983421299142264,1.983458231157502,0.6149230237334108,3.256471414010034,1.6460640809034315,2.071270033654304,0.8379640629888253,1.0097105367781978,0.8225333948879985],\"z\":[-0.4056798295671965,-0.405930041745046,-0.4882892223390079,-0.39969418976226095,0.19010756058853986,-0.20709296443329733,-0.017333988049090362,-0.43452567165963885,-0.4056846352336607,-0.4058092730113296,-0.40570489892171513,-0.4056798713674047,-0.40568010751154404,-0.7092102627334081,-0.27206407945056466,-0.23339077961101906,-0.17100897133609866,-0.40570596731977365,-0.21027229875595257,-0.39969594568198236,-0.3676696473588743,-0.22025712928438784,-0.20758033445687238,-0.21592367014112337,-0.4615171558665851,-0.4615067806667804,-0.2679238488771636,-0.4057530271455704,-0.4057013909125444,-0.4116517615420013,-0.2099406938766668,-0.39969089223171844,0.004872621183790407,-0.2699714674152453,-0.3996918463626017,-0.40600973963314196,-0.4056966905871456,-0.022539598957343268,-0.3996926724066366,0.0048752275213117535,-0.46151043472197095,-0.4057762521127453,-1.4537046234035607,-0.16357192917121952,-0.2071037200920859,-0.272073952221779,-0.21592483955524658,-0.46150490043631426,-0.21598801684017332,-0.4056801285726524,-0.4615058015957035,-0.20993223756929769,-0.40568351908014133,-0.3996912002853006,-0.12582129073422207,-0.48892121336428707,-0.2733707270981982,-0.2159463004636434,-0.4615117009468975,-0.2071662907922752,-0.4345017712693948,-0.20069380654311716,-0.20709344943683933,-0.4036905794281405,-0.20709298455373473,-0.38365086045483804,-0.40568444626489236,-0.21594219770872977,-0.39971846167783126,-0.23001202733471054,-0.20709478649372964,-0.6989905704506036,-0.23339502233002304,-0.399723273016052,-0.20710624850367856,-0.2071294327049753,-0.38162255775153486,-0.39970507224626267,-0.029584983330511197,-0.4059780165466863,-0.40568368982160063,-0.40570682827039933,-0.27175743892176574,-0.21010774567338464,-0.3996973762316148,-0.4056945876506129,-0.2070927568975201,-0.3996912247195921,-0.405681747312716,-0.40568022473448145,-0.21595385101755535,-0.2262550686422051,-0.5472811807664902,-0.23340960852271672,-0.4056866585835326,-0.3998442228568332,-0.2334225689830996,-0.27174384032850496,-0.5977548649058522,-0.23341320129328197,-0.5426853585882611,0.4002702364866645,-0.3996966168314865,-0.4803408087144278,-0.39969193227437066,-0.23340312194438043,-0.4056858651571732,-0.40568311212140995,-0.23339502233002304,-0.3996961048622578,-0.20709509872702642,-0.4056861405865699,-0.09343143461153115,-0.4056839425365346,-0.4057251755469449,-0.3996913892597785,-0.4056910798539113,-0.22496237570853514,-0.4056813986213411,-0.40568072477627515,-0.20151950899882892,-0.2398746863079104,-0.4057178491759099,-0.2070931501939311,-0.3996926646894479,-0.4056835632868615,-0.40568134597107547,-0.2159235422551198,-0.1277846103166217,-0.2717470868503509,-0.40594981670117614,-0.215928927257208,-0.39970020085261465,-0.5436502169774282,-0.3997207189292102,-0.23341957177845998,-0.39970190359398416,-0.23349790700163908,-0.39974881422156394,-0.40568232910900365,-0.40568195895318293,-0.4057462065855773,-0.022321836417280756,-0.3996970409487051,-0.2161119747242958,-0.23339393116771656,-0.40569113948503466,-0.44874476679052466,-0.017346083647155425,-0.029601900620717613,-0.7481847048623637,-0.3816011056519638,-0.3816203682148157,-0.4702618120286961,-0.4615100139540847,-0.4108361489573174,-0.4615094103735463,-0.035792856636892086,-0.47027006795349935,-0.39969408253096433,-0.21592425726467412,-2.7800312393757305,-0.23339451998338387,-0.40568700791354656,-0.40568096350187877,0.1908935300364355,-0.03282652990153556,-0.3996941607936037,-0.267986658639707,-0.40568110466660534,-0.05335705809578927,-0.4172084835744951,-0.20711662319018273,-0.3817933167869867,-0.45925474349080214,-0.4056816592516973,-0.39129641142701144,-0.13355263310182708,-0.40568414289772964,-0.019760600321830857,-0.39970821706175585,0.4002087378588795,-0.3893730952316642,-0.4615549989984652,-0.4057163546811952,-0.1918436008326802,-0.20152115187077382,-0.40999411964534327,-0.4056914859649735,-0.39970340821258127,-0.20152988656748497,-0.4058598756214656,-0.40568060485039065,-0.2099326537075595,-0.0295807238522934,0.07700554633021647,-0.3213355876168412,-0.40574304639199393,-0.2718431001142071,-0.25047602628676574,-0.39969299041735007,-0.3545606710322304,-0.21593272878844316,-0.2382880309228277,-0.3816057156495114,-0.4056802006479357,-0.4056804017505572,-0.21600689107261548,-0.10533508586057036,-0.2333999113250426,-0.4056838305876985,0.38519227163262715,-0.3913186217452154,-0.23339718076286034,-0.08781134645895061,-0.40630533146151687,-0.2282399904711092,-0.21592890994409927,-0.40843369843800603,-0.21592377217910208,-0.5419808461835455,-0.405689796714531,-0.24474887824078004,-0.28774912017638815,-0.20156000447361072,-0.017349137704146974,0.13033361276995123,-0.277580987245677,-0.20151920682173827,-0.3912784473361092,-0.21703823895196867,-0.243117301671566,-0.2015364557580159,-0.40574720554885213,-0.20993793468333374,-0.399700474131101,-0.21595848608427964,-0.23340544042196434,-0.17388204511314073,-0.20993790928518147,-0.4070887080183984,0.7886550669574756,-3.6205013335185647,-0.16480077773801327,-0.10406360019734881,-0.21343623161243372,-0.3912876724561178,0.052911819529243495,-0.4056842316982392,-0.3912818824973513,-0.20151765249596726,-0.416916778709955,-0.20993181552823573,-0.4056895822442314,-0.3546302727788668,-0.5424814230196363,-0.3997218687850183,-0.3996977236286391,0.4000305757979335,-0.4111201013259307,-0.399740307174905,-0.40569380515041337,-0.4056876170754831,-0.017333002550334865,-0.4056817915466077,-0.3998129199696888,-0.4065755058370366,-0.2107583728645326,-0.39985784983991135,-0.40569304640176973,-0.4057887037317352,-0.39974569748595606,-0.4057115426003578,-0.2333909974971826,-0.44236006275007667,-0.20711341512451822,0.4002655164138449,-0.21861980862920963,-0.4057510486583172,-0.2679271588317673,-0.4615037297650548,0.40009266580635694,0.4000719202354248,-0.01760070316140739,5.424838081879954,-0.23339208590249802,-0.587175123957838,0.25209135496641194,-0.4056994399821494,-0.2159193941660315],\"type\":\"scatter3d\"},{\"customdata\":[[17927175.0,\"21000000\",\"SHA-256\",\"PoW\"],[107684222.6865,\"0\",\"Ethash\",\"PoW\"],[63039243.3000049,\"84000000\",\"Scrypt\",\"PoW\"],[17201143.1449131,\"0\",\"CryptoNight-V7\",\"PoW\"],[113359703.0,\"210000000\",\"Ethash\",\"PoW\"],[7383056.25,\"21000000\",\"Equihash\",\"PoW\"],[11406219141.0,\"21000000000\",\"Multiple\",\"PoW\"],[5768310.0,\"21000000\",\"Scrypt\",\"PoW\"],[11149733.9976203,\"20000000\",\"X11\",\"PoW\"],[12205795.4449549,\"64000000\",\"Scrypt\",\"PoW\"],[1688254250.0,\"2000000000\",\"Multiple\",\"PoW\"],[88.0,\"384000000000\",\"Scrypt\",\"PoW\"],[170204389.754849,\"169795588\",\"SHA-256\",\"PoW\"],[128940951.183046,\"250000000\",\"Scrypt\",\"PoW\"],[7357794.7925,\"100000000\",\"Scrypt\",\"PoW\"],[259557164.91477,\"247000000\",\"Quark\",\"PoW\"],[49548585.1412917,\"84000000\",\"Groestl\",\"PoW\"],[33442988.3440364,\"48166000\",\"Scrypt\",\"PoW\"],[7219956.64626131,\"21000000 \",\"Scrypt\",\"PoW\"],[4703879.51824446,\"13140000\",\"Scrypt\",\"PoW\"],[4996986.20575291,\"18000000\",\"X11\",\"PoW\"],[15929530669.1206,\"16555000000\",\"Multiple\",\"PoW\"],[18773857500.0,\"21000000000\",\"SHA-256\",\"PoW\"],[12539015186.822,\"13500000000\",\"Scrypt\",\"PoW\"],[20910478.8062499,\"21000000 \",\"Scrypt\",\"PoW\"],[218871896.499999,\"299792458\",\"Scrypt\",\"PoW\"],[19496786.31025,\"32000000\",\"Scrypt\",\"PoW\"],[1142732.14912776,\"11235813\",\"Scrypt\",\"PoW\"],[208669093.00773,\"336000000\",\"NeoScrypt\",\"PoW\"],[884125802.0,\"1420609614\",\"Scrypt\",\"PoW\"],[65672720.4708748,\"70000000\",\"Scrypt\",\"PoW\"],[41658647.9999715,\"72245700\",\"Scrypt\",\"PoW\"],[90595753018.6314,\"90600000000\",\"Scrypt\",\"PoW\"],[21089348.999,\"21000000\",\"SHA-256\",\"PoW\"],[151447649.8,\"265420800\",\"Scrypt\",\"PoW\"],[19326319.14375,\"20000000\",\"Scrypt\",\"PoW\"],[1104344.22938102,\"1350000\",\"Scrypt\",\"PoW\"],[38151999.9930997,\"42000000\",\"Scrypt\",\"PoW\"],[40431856.9,\"200000000\",\"HybridScryptHash256\",\"PoW\"],[5804204.88794916,\"10000000\",\"Scrypt\",\"PoW\"],[2366066305.76482,\"15000000000\",\"Scrypt\",\"PoW\"],[14736400.0,\"21000000\",\"SHA-256\",\"PoW\"],[334709223.483138,\"337000000\",\"Scrypt\",\"PoW\"],[1104157.42169891,\"21000000\",\"Scrypt\",\"PoW\"],[24215181.725,\"250000000\",\"Scrypt\",\"PoW\"],[25593737.1355044,\"51200000\",\"Scrypt\",\"PoW\"],[563336541.299966,\"888000000\",\"SHA-256\",\"PoW\"],[43536800.0,\"47011968\",\"SHA-256\",\"PoW\"],[22935396.0,\"42000000\",\"SHA-256\",\"PoW\"],[2278150.0,\"80000000\",\"SHA-256\",\"PoW\"],[200911.79151896,\"250000\",\"SHA-256\",\"PoW\"],[1207310.0,\"0\",\"X11\",\"PoW\"],[23150892.1679687,\"23000000\",\"Scrypt\",\"PoW\"],[51173723.8166347,\"84000000\",\"Lyra2REv2\",\"PoW\"],[119606941.0,\"265420800\",\"Scrypt\",\"PoW\"],[39195739.362088,\"45000000\",\"SHA-256\",\"PoW\"],[184066828814.0,\"184467440735\",\"CryptoNight\",\"PoW\"],[6906587610.38292,\"10000000000\",\"CryptoNight\",\"PoW\"],[68194674.8711679,\"105120000\",\"Scrypt\",\"PoW\"],[415032420.0,\"1680000000\",\"Scrypt\",\"PoW\"],[137517654.41397,\"166386000\",\"Scrypt\",\"PoW\"],[181919.2435974,\"2628000\",\"Scrypt\",\"PoW\"],[152270664.860648,\"160000000\",\"Scrypt\",\"PoW\"],[792537250.0,\"1000000000\",\"Scrypt\",\"PoW\"],[719416990.0,\"1000000000\",\"Stanford Folding\",\"PoW\"],[65113302.0,\"0\",\"Multiple\",\"PoW\"],[6365285.0,\"0\",\"QuBit\",\"PoW\"],[10140044.4430293,\"3371337\",\"Scrypt\",\"PoW\"],[4610340640.89,\"10000000000\",\"Scrypt\",\"PoW\"],[708506520.0,\"1840000000\",\"M7 POW\",\"PoW\"],[619478.0,\"619478\",\"Scrypt\",\"PoW\"],[12462620.0,\"21000000\",\"SHA-256\",\"PoW\"],[88213.0,\"92000000000\",\"Scrypt\",\"PoW\"],[32221574.820996,\"33000000\",\"X11\",\"PoW\"],[13742738.0,\"65789100\",\"Lyra2RE\",\"PoW\"],[14747200.0002,\"53760000\",\"SHA-256\",\"PoW\"],[15863837.5,\"21000000\",\"X11\",\"PoW\"],[32565300.0,\"210240000\",\"Scrypt\",\"PoW\"],[75614500.0,\"250000000\",\"Scrypt\",\"PoW\"],[10495278.0,\"16906397\",\"Ethash\",\"PoW\"],[33098296530.0,\"0\",\"Blake2b\",\"PoW\"],[15867695.0,\"16000000\",\"X11\",\"PoW\"],[20997476.8650231,\"21000000\",\"SHA-256\",\"PoW\"],[210000000.0,\"210000000\",\"Scrypt\",\"PoW\"],[11448949.0,\"81962100\",\"1GB AES Pattern Search\",\"PoW\"],[69836100.0,\"84000000\",\"Scrypt\",\"PoW\"],[21739971929.0,\"21626280000 \",\"SHA-256\",\"PoW\"],[45110324.0,\"84000000\",\"X11\",\"PoW\"],[5702048.0,\"30000000\",\"Dagger\",\"PoW\"],[636462.55983338,\"168351300\",\"Scrypt\",\"PoW\"],[17263355.0,\"24000000\",\"X11GOST\",\"PoW\"],[6570807.65677618,\"20000000\",\"Scrypt\",\"PoW\"],[13654082.4987998,\"25000000\",\"X11\",\"PoW\"],[616448.0,\"616448\",\"Scrypt\",\"PoW\"],[1377917.0,\"25000000\",\"X11\",\"PoW\"],[115898131.0,\"200000000\",\"Equihash\",\"dPoW/PoW\"],[7822432.72439746,\"10000000\",\"CryptoNight\",\"PoW\"],[6243840.0,\"9736000\",\"SHA-256\",\"PoW\"],[1000000000.0,\"1200000000\",\"Multiple\",\"PoW\"],[116845228.0,\"200000000\",\"Scrypt\",\"PoW\"],[9106714.0,\"10638298\",\"SHA-256\",\"PoW\"],[11119200.0,\"30000000\",\"Scrypt\",\"PoW\"],[7568281.24956067,\"21400000\",\"Lyra2Z\",\"PoW\"],[26205539.0,\"26205539\",\"Ethash\",\"PoW\"],[5613550.0,\"21000000\",\"Equihash\",\"PoW\"],[196297971.0,\"10000000000\",\"Scrypt\",\"PoW\"],[824000000.0,\"500000000\",\"X11\",\"PoW\"],[61364813.0,\"228000000\",\"X11\",\"PoW\"],[978145.0,\"21000000\",\"CryptoNight\",\"PoW\"],[894026.0,\"2714286\",\"Scrypt\",\"PoW\"],[9357088.0,\"25000000\",\"CryptoNight\",\"PoW\"],[1876146.443596,\"9999999\",\"Lyra2RE\",\"PoW\"],[536982074.0,\"100000000000\",\"X11\",\"PoW\"],[10969318.522954,\"185000000\",\"CryptoNight-V7\",\"PoW\"],[3115258.0,\"3360000\",\"Scrypt\",\"PoW\"],[30385540.0,\"1000000000\",\"X11\",\"PoW\"],[6921653.89980891,\"17000000\",\"Equihash\",\"PoW\"],[99843408.3158479,\"100000000 \",\"Scrypt\",\"PoW\"],[18545757.5,\"21000000\",\"Lyra2RE\",\"PoW\"],[2232901.0,\"2232901\",\"Dagger-Hashimoto\",\"PoW\"],[64096052.0,\"4000000000\",\"Scrypt\",\"PoW\"],[10123200.0,\"48252000\",\"NIST5\",\"PoW\"],[20276099.146524,\"35520400\",\"Scrypt\",\"PoW\"],[1317747500.0,\"2500000000\",\"SHA-256\",\"PoW\"],[13673406.4325268,\"72000000\",\"Scrypt\",\"PoW\"],[69036016.8340164,\"105000000\",\"CryptoNight-V7\",\"PoW\"],[19784224.6512734,\"0\",\"Argon2d\",\"PoW\"],[133248297.0,\"340282367\",\"Blake2b\",\"PoW\"],[18407259.0885883,\"30000000\",\"Cloverhash\",\"PoW\"],[1809467143.0,\"2000000000\",\"CryptoNight\",\"PoW\"],[35138975.0,\"100000000\",\"X11\",\"PoW\"],[18133195.0,\"19276800\",\"Scrypt\",\"PoW\"],[5167775.0,\" 75000000\",\"Scrypt\",\"PoW\"],[26042364.3735553,\"60000000\",\"X11\",\"PoW\"],[2622886.0,\"18900000\",\"X11\",\"PoW\"],[14161803.0,\"54000000\",\"CryptoNight\",\"PoW\"],[17801865.1605478,\"21000000\",\"Time Travel\",\"PoW\"],[163055097500.0,\"200000000000\",\"Scrypt\",\"PoW\"],[2241009149.22257,\"5000000000\",\"Keccak\",\"PoW\"],[122475638.389743,\"1100000000\",\"X11\",\"PoW\"],[17995589.6469082,\"21000000\",\"SHA-256\",\"PoW\"],[485214.0,\"10500000000\",\"Scrypt\",\"PoW\"],[143006669741.687,\"0\",\"Scrypt\",\"PoW\"],[9704042.0,\"20000000\",\"Scrypt\",\"PoW\"],[17453749.4042601,\"84000000\",\"Scrypt\",\"PoW\"],[32646731.063036,\"100000000\",\"Scrypt\",\"PoW\"],[33716526.0,\"100000000\",\"Scrypt\",\"PoW\"],[8946653.0,\"88888888\",\"CryptoNight\",\"PoW\"],[5211553258.01514,\"21000000000\",\"Equihash\",\"PoW\"],[2702855668.85288,\"1800000000\",\"X11\",\"PoW\"],[4165967.57499639,\"27000000\",\"NeoScrypt\",\"PoW\"],[17202361.088994,\"21000000\",\"Equihash\",\"PoW\"],[33986980.0,\"156306732.71\",\"Dagger\",\"PoW\"],[99990001.493466,\"100000000\",\"Scrypt\",\"PoW\"],[175215859.0,\"350000000\",\"X11\",\"PoW\"],[6375259.04,\"45000000\",\"NeoScrypt\",\"PoW\"],[12756367.0,\"280000000\",\"Ethash\",\"PoW\"],[5832306.875,\"31800000\",\"NeoScrypt\",\"PoW\"],[481730566.566176,\"660000000\",\"Multiple\",\"PoW\"],[19281821413.4924,\"85000000000\",\"CryptoNight\",\"PoW\"],[4500000.0,\"12500000\",\"CryptoNight\",\"PoW\"],[520891780.0,\"10000000000\",\"Ethash\",\"PoW\"],[80316207.0,\"550000000\",\"X11\",\"PoW\"],[441250233.377,\"999481516\",\"CryptoNight-V7\",\"PoW\"],[3964201248.87125,\"4999999999\",\"Scrypt\",\"PoW\"],[30089671530.5228,\" 90000000000\",\"BLAKE256\",\"PoW\"],[4229040.50393462,\"19800000\",\"X11\",\"PoW\"],[7847417.33355824,\"21000000\",\"NeoScrypt\",\"PoW\"],[299797953.0,\"500000000\",\"NeoScrypt\",\"PoW\"],[45483049.3398182,\"64000000\",\"Scrypt\",\"PoW\"],[8478104.33969947,\"23000000\",\"X11\",\"PoW\"],[20166000.0,\"20166000\",\"SHA-256\",\"PoW\"],[11916588.09471,\"23000000\",\"C11\",\"PoW\"],[53139835213.77,\"1000000000000\",\"CryptoNight\",\"PoW\"],[4818338.98949984,\"16600000\",\"SkunkHash\",\"PoW\"],[133932467.774108,\"336000000\",\"CryptoNight\",\"PoW\"],[10000000000.0,\"10000000000\",\"Scrypt\",\"PoW\"],[107325266.027783,\"100000000\",\"Dagger\",\"PoW\"],[643795911.540095,\"1100000000\",\"Lyra2REv2\",\"PoW\"],[12446100.00278,\"40000000\",\"Scrypt\",\"PoW\"],[14491014421.0,\"18406979840\",\"Scrypt\",\"PoW\"],[211297638.500483,\"500000000\",\"X11\",\"PoW\"],[247612453.0,\"6500000000\",\"Ethash\",\"PoW\"],[80049082.9057215,\"1000000000\",\"CryptoNight\",\"PoW\"],[4070212.1493016,\"21000000\",\"Scrypt\",\"PoW\"],[25000000.0,\"25000000\",\"IMesh\",\"PoW\"],[71355477.0,\"70000000\",\"Equihash\",\"PoW\"],[27340501.6514783,\"300000000\",\"Lyra2Z\",\"PoW\"],[31801461.1867843,\"100000000\",\"X11\",\"PoW\"],[16016864.0,\"18400000\",\"CryptoNight\",\"PoW\"],[21069346.2522598,\"21000000\",\"NIST5\",\"PoW\"],[5097689.71077377,\"26280000\",\"Lyra2RE\",\"PoW\"],[795447.0,\"18000000\",\"Tribus\",\"PoW\"],[6986399.70430446,\"10500000\",\"Lyra2Z\",\"PoW\"],[84300.0,\"600000518\",\"CryptoNight\",\"PoW\"],[19153632.0,\"150000000\",\"CryptoNight Heavy\",\"PoW\"],[41294520017.0,\"184000000000\",\"CryptoNight\",\"PoW\"],[135862416.039898,\"168000000\",\"Jump Consistent Hash\",\"PoW\"],[560085952.404637,\"1000000000\",\"CryptoNight\",\"PoW\"],[8125865.02097646,\"22075700\",\"X16R\",\"PoW\"],[8645406.16776286,\"21000000\",\"HMQ1725\",\"PoW\"],[4993030.69736615,\"21000000\",\"X11\",\"PoW\"],[1416663.06600024,\"22105263\",\"Scrypt\",\"PoW\"],[15580199.3087496,\"1750000000\",\"CryptoNight-V7\",\"PoW\"],[4890897.0,\"88188888\",\"Cryptonight-GPU\",\"PoW\"],[14746153.0962884,\"210000000\",\"XEVAN\",\"PoW\"],[99553110528.8022,\"184470000000\",\"CryptoNight Heavy\",\"PoW\"],[2100000000.0,\"2100000000\",\"SHA-256\",\"PoW\"],[5015881.37315389,\"25000000\",\"X11\",\"PoW\"],[9753753.61515394,\"100000000\",\"X16R\",\"PoW\"],[4235111504.0,\"7600000000\",\"Equihash\",\"PoW\"],[13634850.0,\"84000000\",\"Lyra2Z\",\"PoW\"],[17992514.6469233,\"21000000\",\"SHA-256\",\"PoW\"],[1867054873.28397,\"8080000000\",\"CryptoNight\",\"PoW\"],[1578281.31341127,\"105120001.44\",\"Blake\",\"PoW\"],[15846721.2482747,\"25228800\",\"Blake\",\"PoW\"],[406091.925,\"21000000\",\"Exosis\",\"PoW\"],[35284717.173946,\"120000000\",\"Scrypt\",\"PoW\"],[35687520.0,\"262800000\",\"Equihash\",\"PoW\"],[25150787.5,\"30886000\",\"Equihash\",\"PoW\"],[12925790.4226959,\"100000000\",\"QuBit\",\"PoW\"],[52293836.6277958,\"64000000\",\"SHA-256\",\"PoW\"],[1170292.5,\"2100000\",\"X13\",\"PoW\"],[84613099.9999955,\"168000000\",\"SHA-256\",\"PoW\"],[55565076.3863525,\"98100000000\",\"Scrypt\",\"PoW\"],[3824685012.0,\"4000000000\",\"NeoScrypt\",\"PoW\"],[23356790.1494191,\"7000000000\",\"Blake\",\"PoW\"],[780210700.0,\"1000000000\",\"Scrypt\",\"PoW\"],[22986929.0854247,\"42000000\",\"SHA-256\",\"PoW\"],[29583989322.9213,\"50000000000\",\"Scrypt\",\"PoW\"],[73298203.8873662,\"105000000\",\"Groestl\",\"PoW\"],[5052555.91981545,\"5000000\",\"Scrypt\",\"PoW\"],[69684455.4387001,\"182000000\",\"Scrypt\",\"PoW\"],[3332922.5,\"2800000\",\"Multiple\",\"PoW\"],[100000000.0,\"2100000000\",\"Equihash+Scrypt\",\"PoW\"],[24487944.0958204,\"24487944\",\"Ethash\",\"PoW\"],[980222595.0,\"1400222610\",\"CryptoNight\",\"PoW\"],[7296537.5,\"21000000\",\"Equihash\",\"PoW\"]],\"hovertemplate\":\"<b>%{hovertext}</b><br><br>Class=%{marker.color}<br>principal component 1=%{x}<br>principal component 2=%{y}<br>principal component 3=%{z}<br>TotalCoinsMined=%{customdata[0]}<br>TotalCoinSupply=%{customdata[1]}<br>Algorithm=%{customdata[2]}<br>ProofType=%{customdata[3]}<extra></extra>\",\"hovertext\":[\"Bitcoin\",\"Ethereum\",\"Litecoin\",\"Monero\",\"Ethereum Classic\",\"ZCash\",\"DigiByte\",\"ProsperCoin\",\"Spreadcoin\",\"Argentum\",\"MyriadCoin\",\"MoonCoin\",\"ZetaCoin\",\"SexCoin\",\"Quatloo\",\"QuarkCoin\",\"Riecoin\",\"Digitalcoin \",\"Catcoin\",\"CannaCoin\",\"CryptCoin\",\"Verge\",\"DevCoin\",\"EarthCoin\",\"E-Gulden\",\"Einsteinium\",\"Emerald\",\"Franko\",\"FeatherCoin\",\"GrandCoin\",\"GlobalCoin\",\"GoldCoin\",\"Infinite Coin\",\"IXcoin\",\"KrugerCoin\",\"LuckyCoin\",\"Litebar \",\"MegaCoin\",\"MediterraneanCoin\",\"MinCoin\",\"NobleCoin\",\"Namecoin\",\"NyanCoin\",\"RonPaulCoin\",\"StableCoin\",\"SmartCoin\",\"SysCoin\",\"TigerCoin\",\"TerraCoin\",\"UnbreakableCoin\",\"Unobtanium\",\"UroCoin\",\"ViaCoin\",\"Vertcoin\",\"WorldCoin\",\"JouleCoin\",\"ByteCoin\",\"DigitalNote \",\"MonaCoin\",\"Gulden\",\"PesetaCoin\",\"Wild Beast Coin\",\"Flo\",\"ArtByte\",\"Folding Coin\",\"Unitus\",\"CypherPunkCoin\",\"OmniCron\",\"GreenCoin\",\"Cryptonite\",\"MasterCoin\",\"SoonCoin\",\"1Credit\",\"MarsCoin \",\"Crypto\",\"Anarchists Prime\",\"BowsCoin\",\"Song Coin\",\"BitZeny\",\"Expanse\",\"Siacoin\",\"MindCoin\",\"I0coin\",\"Revolution VR\",\"HOdlcoin\",\"Gamecredits\",\"CarpeDiemCoin\",\"Adzcoin\",\"SoilCoin\",\"YoCoin\",\"SibCoin\",\"Francs\",\"BolivarCoin\",\"Omni\",\"PizzaCoin\",\"Komodo\",\"Karbo\",\"ZayedCoin\",\"Circuits of Value\",\"DopeCoin\",\"DollarCoin\",\"Shilling\",\"ZCoin\",\"Elementrem\",\"ZClassic\",\"KiloCoin\",\"ArtexCoin\",\"Kurrent\",\"Cannabis Industry Coin\",\"OsmiumCoin\",\"Bikercoins\",\"HexxCoin\",\"PacCoin\",\"Citadel\",\"BeaverCoin\",\"VaultCoin\",\"Zero\",\"Canada eCoin\",\"Zoin\",\"DubaiCoin\",\"EB3coin\",\"Coinonat\",\"BenjiRolls\",\"ILCoin\",\"EquiTrader\",\"Quantum Resistant Ledger\",\"Dynamic\",\"Nano\",\"ChanCoin\",\"Dinastycoin\",\"DigitalPrice\",\"Unify\",\"SocialCoin\",\"ArcticCoin\",\"DAS\",\"LeviarCoin\",\"Bitcore\",\"gCn Coin\",\"SmartCash\",\"Onix\",\"Bitcoin Cash\",\"Sojourn Coin\",\"NewYorkCoin\",\"FrazCoin\",\"Kronecoin\",\"AdCoin\",\"Linx\",\"Sumokoin\",\"BitcoinZ\",\"Elements\",\"VIVO Coin\",\"Bitcoin Gold\",\"Pirl\",\"eBoost\",\"Pura\",\"Innova\",\"Ellaism\",\"GoByte\",\"SHIELD\",\"UltraNote\",\"BitCoal\",\"DaxxCoin\",\"AC3\",\"Lethean\",\"PopularCoin\",\"Photon\",\"Sucre\",\"SparksPay\",\"GunCoin\",\"IrishCoin\",\"Pioneer Coin\",\"UnitedBitcoin\",\"Interzone\",\"TurtleCoin\",\"MUNcoin\",\"Niobio Cash\",\"ShareChain\",\"Travelflex\",\"KREDS\",\"BitFlip\",\"LottoCoin\",\"Crypto Improvement Fund\",\"Callisto Network\",\"BitTube\",\"Poseidon\",\"Aidos Kuneen\",\"Bitrolium\",\"Alpenschillling\",\"FuturoCoin\",\"Monero Classic\",\"Jumpcoin\",\"Infinex\",\"KEYCO\",\"GINcoin\",\"PlatinCoin\",\"Loki\",\"Newton Coin\",\"MassGrid\",\"PluraCoin\",\"Motion\",\"PlusOneCoin\",\"Axe\",\"HexCoin\",\"Webchain\",\"Ryo\",\"Urals Coin\",\"Qwertycoin\",\"Project Pai\",\"Azart\",\"Xchange\",\"CrypticCoin\",\"Actinium\",\"Bitcoin SV\",\"FREDEnergy\",\"Universal Molecule\",\"Lithium\",\"Exosis\",\"Block-Logic\",\"Beam\",\"Bithereum\",\"SLICE\",\"BLAST\",\"Bitcoin Rhodium\",\"GlobalToken\",\"SolarCoin\",\"UFO Coin\",\"BlakeCoin\",\"Crypto Escudo\",\"Crown Coin\",\"SmileyCoin\",\"Groestlcoin\",\"Bata\",\"Pakcoin\",\"JoinCoin\",\"Vollar\",\"Reality Clash\",\"Beldex\",\"Horizen\"],\"legendgroup\":\"3\",\"marker\":{\"color\":[3,3,3,3,3,3,3,3,3,3,3,3,3,3,3,3,3,3,3,3,3,3,3,3,3,3,3,3,3,3,3,3,3,3,3,3,3,3,3,3,3,3,3,3,3,3,3,3,3,3,3,3,3,3,3,3,3,3,3,3,3,3,3,3,3,3,3,3,3,3,3,3,3,3,3,3,3,3,3,3,3,3,3,3,3,3,3,3,3,3,3,3,3,3,3,3,3,3,3,3,3,3,3,3,3,3,3,3,3,3,3,3,3,3,3,3,3,3,3,3,3,3,3,3,3,3,3,3,3,3,3,3,3,3,3,3,3,3,3,3,3,3,3,3,3,3,3,3,3,3,3,3,3,3,3,3,3,3,3,3,3,3,3,3,3,3,3,3,3,3,3,3,3,3,3,3,3,3,3,3,3,3,3,3,3,3,3,3,3,3,3,3,3,3,3,3,3,3,3,3,3,3,3,3,3,3,3,3,3,3,3,3,3,3,3,3,3,3,3,3,3,3,3,3,3,3,3,3,3,3,3,3,3,3,3,3,3,3],\"coloraxis\":\"coloraxis\",\"symbol\":\"diamond\"},\"mode\":\"markers\",\"name\":\"3\",\"scene\":\"scene\",\"showlegend\":true,\"x\":[-0.15052462773387995,-0.15323785959848493,-0.16661950567736236,-0.14878629649414143,-0.15167777570429122,-0.1386882232669176,0.15749463168095484,-0.16776723537533836,-0.22801920836327227,-0.16738326202588938,-0.09624375765323033,2.557795289643142,-0.14760578216917247,-0.16463507112442327,-0.1671870201016998,-0.22825834853161217,-0.19746225687593424,-0.16723588719824642,-0.16774947901078027,-0.167836048712374,-0.228108664805145,0.18127087804670974,0.22781276722921182,0.08121712275606431,-0.16758201821507565,-0.1631816004440132,-0.16752122802800345,-0.1678931248961237,-0.17391742946270572,-0.14708829746421623,-0.16668667078022967,-0.1669644671263364,1.5832835574343296,-0.150485948407566,-0.16425030906651727,-0.16760849385367996,-0.1679637678185865,-0.1672220558215981,-0.13790809889863734,-0.16784487861454883,-0.03256955951705525,-0.15056365690414553,-0.1615005787203286,-0.1678242867202704,-0.16591606395137806,-0.16731036176246158,-0.13769894194485713,-0.1500267308075604,-0.15031430157483053,-0.1502972396277014,-0.1508887448348353,-0.22828279070000548,-0.16754041697032987,-0.1871850954905926,-0.16463978072940444,-0.1500941118668825,3.863702137752567,0.45826158264015954,-0.16640652704965614,-0.1509849360615425,-0.1651236868033757,-0.16796597906469238,-0.16498856010564106,-0.15119424895330644,-0.14524981397888465,-0.13029460159183823,-0.1876061376731673,-0.16783889599627624,-0.04060982487818034,-0.11105838836577317,-0.16797488417390785,-0.15059146950351956,0.48506619297905607,-0.22766918109568243,-0.14554498286088882,-0.15033098151041008,-0.22795444763372624,-0.1660961583505453,-0.16528735376513287,-0.15430665468848181,0.37614586651072046,-0.22798989240430168,-0.15048707217629284,-0.1639275023754428,-0.1535261505996485,-0.1665363673559756,0.2685394971387456,-0.22714950954774615,-0.14039174707759797,-0.16678405036365443,-0.1492315671117653,-0.1677645177129795,-0.2279530835230955,-0.16797494274462263,-0.2281032440807867,-0.2052542778682508,0.30296380301823106,-0.1507474931376071,-0.11034111242338905,-0.16513794408418186,-0.15070606994833188,-0.1676378984230218,-0.15652820323674507,-0.1540484797478954,-0.1387098676513439,-0.09460185594429417,-0.21466929545906127,-0.22592851831738553,0.3029581668274435,-0.16795665617001646,0.30308905059934305,-0.1460861464130511,0.48810984169501215,-0.14754932107548202,-0.16792490280091138,-0.2208274951438626,-0.13872226064817195,-0.16605574736784437,-0.14580416345746036,-0.13003411599959855,-0.13880927973151308,-0.1890566226203243,-0.1674867063928219,-0.11702847289114973,-0.16730852325938603,-0.1474069275913097,-0.16680219518577813,-0.024663121765641505,-0.14739428770577312,0.3391270992749371,-0.22715790361525665,-0.16762822155892587,-0.16739126793166362,-0.2275531078862693,-0.2281313159571205,0.3033536746259153,-0.15194825360573597,3.246161389574365,-0.14546385436545084,-0.2189912212019466,-0.1505237908942706,-0.09344781817839695,1.5812532669927346,-0.1677261923730024,-0.16717710187355828,-0.1668776889205443,-0.16686460331947736,0.30353753851667703,0.07388569628499159,-0.18245945397919056,-0.17861228954874495,-0.13856811472888006,-0.13914919466660253,-0.166053954257992,-0.22366990251870944,-0.17845749472709801,-0.15241145605783632,-0.17855783481301352,-0.12051365200696083,1.1420132574027864,0.30294090940427515,-0.07719964511335013,-0.22341102527472276,-0.13650466918414397,-0.08400527809141982,1.1041860543801203,-0.22810528111940181,-0.1786098488507878,-0.17163861624694876,-0.1669762187187773,-0.22803059223806535,-0.1505031627578995,-0.20499536463047346,8.051188121920129,-0.1552838438055803,0.30682044104018547,0.025315830425938043,-0.1386518169103517,-0.17272424797339403,-0.16755068403408846,0.1399254006630655,-0.2221637959454346,-0.10538673301006833,0.31087467768453647,-0.16778800630094207,-0.15281233003313993,-0.13755789926670248,-0.1543087401155277,-0.22719872767677196,0.3031236627856822,-0.18911617604746078,-0.14593117907637382,-0.1412711227358731,-0.156612693202767,0.3070572054956441,0.5801051232071415,2.1140106092634023,-0.1486580964638735,0.31674643006873154,-0.18288312949380772,-0.15984983032772757,-0.22808741801541402,-0.16781261860043867,-0.13638393941568616,-0.1685823309456943,-0.1439442770330914,3.105967763496082,-0.11029941221309598,-0.22805874494470185,-0.18231008020876374,-0.03317645956410033,-0.15600963843124707,-0.1505238285072951,0.382989722695489,-0.14348912552548507,-0.1438816946961029,-0.17578225355580265,-0.16670345357630648,-0.13662561557582104,-0.13840071585386077,-0.18681605127086215,-0.1497990281109917,-0.11192196051553767,-0.14866547016207446,0.5290449643535916,-0.10367825953284136,-0.09428017927493951,-0.15134502580806528,-0.15031367122842096,0.548800437341356,-0.19702268822762906,-0.1678895646480094,-0.16584257993486437,-0.13103041615682948,-0.1334824777672957,-0.15408168131998184,0.32472642676652064,-0.13868928155370527],\"y\":[-1.3375923240305705,-2.0394259974536513,-1.1301738610579604,-2.1774096204520004,-2.0395368245309276,-2.032197136757265,-1.8094450359289447,-1.1301607650757663,-0.8963886684966381,-1.1301815451001465,-1.8027558747209902,-1.3365704410064154,-1.3376170848154958,-1.130239194605189,-1.1302026550231405,-0.48029692861632833,-1.2370527702309513,-1.1301653317639397,-1.1301602386282488,-1.1301569259609467,-0.8963898247256483,-1.8054152265488943,-1.3420676278946557,-1.1328611401838469,-1.130155273686252,-1.1302333465542245,-1.1301616994101116,-1.1301571938362254,-1.6392090331323332,-1.1305945829295048,-1.130165380325139,-1.1301752963326803,-1.1459984807823236,-1.3375911772510445,-1.1302393218669504,-1.1301553106411844,-1.130151893647463,-1.130160309487323,-2.2610877048568487,-1.1301548390176699,-1.1373567389045454,-1.3375934811824015,-1.1302113384027954,-1.1301624565559556,-1.1302771739725879,-1.130169809261508,-1.3378605834811725,-1.3375970192726025,-1.3376017963041984,-1.3376297146339218,-1.3375875984111043,-0.8963815231875932,-1.1301555362865088,-1.2869460354069353,-1.130250869072419,-1.337597512050067,-2.362794073443557,-2.3332573702546275,-1.130183344450774,-1.1309041372655206,-1.1301911375829112,-1.1301529151576895,-1.1301823545349279,-1.1304016996744755,-2.118381045669901,-1.8022694172806009,-1.5232114806634212,-1.1301497033698322,-1.1338550949270578,-2.213016890883649,-1.1301516767953488,-1.3375943057810311,-1.179606058018622,-0.896388014818372,-2.2327371701103047,-1.3376110873757905,-0.8963874964506229,-1.1302527728028795,-1.1302585337314806,-2.039470331570027,-2.1707739416496725,-0.8963848073059426,-1.3375912105689711,-1.1301882961362952,-2.148492944342673,-1.130171396141071,-1.3413286067150605,-0.8964107556502032,-2.260475762511779,-1.1302418347337075,-2.2440368264841664,-1.130159936496498,-0.8963904480268293,-1.1301516762654211,-0.8963949000447251,-1.3917904633731946,-2.330389128821971,-1.337590506101678,-1.8025754345338592,-1.1302167037273336,-1.33758995289444,-1.130163662488858,-2.2166173947986914,-2.0394696329046553,-2.0321977784782863,-1.135455871403954,-0.8963519075367065,-0.8964822679489669,-2.3303975239805967,-1.1301527032912841,-2.330396635508135,-2.2327114842103173,-0.9499421363040184,-2.177511327049205,-1.1301522448524817,-0.8969084906918384,-2.032195153890734,-1.1301691146145738,-2.2327113519267576,-2.1810005626048308,-1.132278520261618,-0.6005726000545641,-1.1301633091761103,-1.3384535214873012,-1.1301853132562532,-2.1774472649148344,-2.056761975360807,-2.1829118133979715,-2.197967163128134,-2.330805475414875,-0.8964229726002724,-1.1301553545785725,-1.1301900105169933,-0.8964047695694809,-0.8963911695001765,-2.3304104819774953,-2.121898084518009,-1.1785285838496984,-1.1258717970086294,-0.8969288486337124,-1.3375922992196272,-1.1357956585343125,-1.0782894252695299,-1.1301588002120966,-1.130190392884172,-1.130193483853459,-1.1301930958865318,-2.3304311277718797,-2.041587059814722,-0.896369344245696,-1.6391170946116504,-2.03219357573319,-2.260533400904497,-1.1301690614517639,-0.8965065602465933,-1.6391259692847895,-2.039610937315826,-1.6391190705405871,-1.8024731112108214,-2.3690856107542153,-2.3303916775930573,-2.044651636969004,-0.8966484859487581,-2.177793107189867,-1.131401675139177,-1.4007574484548648,-0.8963910708137807,-1.6391125342190758,-1.6392641428179482,-1.13016947692382,-0.8963912500250433,-1.3375910637925703,-1.2934064860104109,-2.848664288536999,-2.180515703695907,-2.3305186353568947,-1.131900505774715,-2.2604765367417734,-1.2872772676951416,-1.1301685567728599,-1.1347909799203217,-0.8965741073659736,-2.0428693211810307,-2.3308951090920504,-1.1301613809001474,-2.1805836734390067,-2.032200276720679,-2.2167599854883466,-0.8964241829677297,-2.3303906724799317,-0.600553981085987,-2.232719067200863,-2.2203883322402307,-2.216611746535478,-2.330709089373099,-2.2598202376146292,-2.414319951992328,-2.2034636366792673,-2.330721021121859,-1.3109990497844648,-2.2234543162929707,-0.8963914388075768,-1.1301629373572748,-2.178350919303937,-2.1105331049707545,-0.7439104714361652,-2.322804767996849,-1.337954813723225,-0.8963935807172451,-1.3110403475628747,-2.0347380131297768,-2.216648845301307,-1.3375923003347923,-2.334052889728583,-2.1382447166481287,-2.1381965966739056,-2.0670093344679272,-1.1302032781564575,-2.0323168513740426,-2.0321960074041807,-1.5232628563753392,-1.3376029753879664,-0.34770114869132296,-1.3376471597434159,-1.1828649888325888,-1.6398672454539993,-2.141943155418333,-1.1304061699645833,-1.3376017776154456,-1.1463002318910627,-1.2370554458352006,-1.1301524238615017,-1.1302241309522327,-1.8022933274073878,-2.0685318542801454,-2.0394693325080206,-2.3307837956160817,-2.032197168133756],\"z\":[0.20969301786261327,0.3040128242505277,0.011091066925303114,0.27219084187093373,0.30399775030076653,0.2799474054706469,0.22820901431826698,0.011106909035956096,0.01709481668083135,0.011102747810634169,0.23144790840674007,-0.014340190839191972,0.20965213571751787,0.011066640279592843,0.01110134950015128,0.02544316049280427,0.144710528688125,0.011099470941298302,0.011106613318155692,0.011107646796053567,0.017096202619562247,0.2275821547559814,0.20448182344766283,0.00766041353770978,0.011103824394894586,0.011045020265611926,0.011103383354069152,0.011108498444729515,0.14880158565189314,0.010835217729192563,0.011091458306880077,0.011096201426771384,-0.013350494315514005,0.20969237368990715,0.01106103337944471,0.011104213382356431,0.011109161448782278,0.011098920311972465,0.3626752240457434,0.01110763075064877,0.009633352250513445,0.20969366786167318,0.011018956879039352,0.011107859179673529,0.011087974172564897,0.011100868848860444,0.20952445086965948,0.2096860769277088,0.2096906058493849,0.2096922955210935,0.2096980041244889,0.017098167575100864,0.0111032354455239,0.1736622074184525,0.01106751971301125,0.20968709459725868,0.2864212922738241,0.33407381423953614,0.01108861697047584,0.010913586524002669,0.011070434634843817,0.011109264658122776,0.011067852503257992,0.010881751388932374,0.4008032258086468,0.231911111996863,0.17692470502273303,0.011107186804016287,0.009507542569544171,0.29711544567290754,0.01110930863731019,0.2096941310578799,0.005012141935837041,0.01708966251733387,0.32691913402073713,0.20969149448689273,0.017093790086339024,0.011088908254415162,0.01107750351610062,0.30403150232767506,0.24055973845584552,0.017094120676388713,0.20969239240536083,0.011052778587892664,0.24328398589422653,0.01108968232419573,0.20383608361358665,0.017083656890967476,0.24415800680797897,0.011098188721710174,0.22687390913191796,0.011106811832749877,0.01709397513919197,0.011109309455371386,0.017096475941069215,0.230195858402042,0.33614126428086943,0.20969614442137147,0.23164113417593724,0.011072418081896294,0.2096955014197077,0.011105222519040786,0.3512289856336783,0.3040276856571811,0.2799477659402498,0.010406735904485511,0.016897417267153943,0.01707080203195006,0.3361419295173047,0.0111091138748318,0.3361399575256117,0.32692524881986007,0.010361506469290618,0.2721798504610718,0.01110861858847417,0.017025948446616992,0.2799477645645205,0.011082509073477029,0.3269211239935487,0.16492493700153452,0.010831318060391205,0.035184452177787,0.011102991283593206,0.20926393274583605,0.011101918639316357,0.2721733235933732,0.3066052553859438,0.24725256115178013,0.3993397517359791,0.3356423600891354,0.01708462777135208,0.011104504366233732,0.011103452512743845,0.017089131866786456,0.017096626604539426,0.33613705676760813,0.1957486935621307,-0.03536183424484137,0.24214457263098313,0.01700056107373838,0.20969300392572449,0.010413487720413929,-0.018022694754405193,0.011106173555404447,0.011100353236111558,0.011096197841084133,0.011095979911048518,0.3361358068889835,0.2774968668288429,0.016428514148689195,0.1488637244154507,0.27994540516069477,0.2441438738280623,0.011082479210691663,0.017039523639708308,0.1488620814032032,0.30401360514253273,0.1488630668413527,0.2317825004578447,0.3265821929334526,0.3361417754122558,0.30326589718713004,0.017045600800175437,0.2720382171836047,0.009970544767692515,0.20400461021705987,0.01709623976398263,0.1488633721111043,0.14877215248366518,0.011095968835634051,0.01709516209825525,0.20969261706064715,0.16631290111118618,0.2590431262316217,0.343323306412095,0.3360939684503591,0.008409604435331012,0.24413266567971553,0.17347414760768398,0.011104289461888033,0.006937556983831988,0.01702223207320953,0.3035535305656574,0.33606093842557444,0.011107254958817212,0.30247656270146206,0.27993112603917253,0.35120649353227845,0.017085307662871294,0.3361390382656592,0.035184028447786925,0.326923513593035,0.1679484622595933,0.3512298265693088,0.3361037382443157,0.29884085602714017,0.31553670050244953,0.22309641128929467,0.33596314916845527,0.1392181922613296,0.3766113477797292,0.017096004599825406,0.011107722267035311,0.2720751905225798,0.3021411158649217,0.0622157745794803,0.2663487574074436,0.20913108861627336,0.01709573484417429,0.1392126961944147,0.2785838670315807,0.35122360097512234,0.2096930045521388,0.3352276757228237,0.3049849865548277,0.3049873747060514,0.434184047613792,0.01109433494825807,0.27992561417552175,0.2799431307747121,0.17691674105186644,0.20968316712973994,-0.04471476527010215,0.20966969069081107,0.004596562074908484,0.14782212768323294,0.30452359064214923,0.010884262454735802,0.2096905953514784,0.0017691044099448468,0.14470429882781763,0.011108115246410541,0.01108321824898326,0.23192351182928947,0.37959765485525976,0.3040281493857322,0.3358510374816518,0.27994742309554815],\"type\":\"scatter3d\"},{\"customdata\":[[1772091549.88818,\"5200000000\",\"Proof-of-BibleHash\",\"POBh\"],[638382332.208514,\"840000000\",\"SHA-256 + Hive\",\"PoW + Hive\"],[204479039.0,\"252460800\",\"Proof-of-Authority\",\"PoA\"]],\"hovertemplate\":\"<b>%{hovertext}</b><br><br>Class=%{marker.color}<br>principal component 1=%{x}<br>principal component 2=%{y}<br>principal component 3=%{z}<br>TotalCoinsMined=%{customdata[0]}<br>TotalCoinSupply=%{customdata[1]}<br>Algorithm=%{customdata[2]}<br>ProofType=%{customdata[3]}<extra></extra>\",\"hovertext\":[\"BiblePay\",\"LitecoinCash\",\"Poa Network\"],\"legendgroup\":\"1\",\"marker\":{\"color\":[1,1,1],\"coloraxis\":\"coloraxis\",\"symbol\":\"square\"},\"mode\":\"markers\",\"name\":\"1\",\"scene\":\"scene\",\"showlegend\":true,\"x\":[-0.21160533751926025,-0.34544960203556174,-0.4072245786787384],\"y\":[3.3876261809369588,3.2031707888313514,3.3642744581114115],\"z\":[13.463945180021046,12.345239006423844,25.22600430530325],\"type\":\"scatter3d\"},{\"customdata\":[[989988713439.649,\"990000000000\",\"TRC10\",\"DPoS\"]],\"hovertemplate\":\"<b>%{hovertext}</b><br><br>Class=%{marker.color}<br>principal component 1=%{x}<br>principal component 2=%{y}<br>principal component 3=%{z}<br>TotalCoinsMined=%{customdata[0]}<br>TotalCoinSupply=%{customdata[1]}<br>Algorithm=%{customdata[2]}<br>ProofType=%{customdata[3]}<extra></extra>\",\"hovertext\":[\"BitTorrent\"],\"legendgroup\":\"2\",\"marker\":{\"color\":[2],\"coloraxis\":\"coloraxis\",\"symbol\":\"x\"},\"mode\":\"markers\",\"name\":\"2\",\"scene\":\"scene\",\"showlegend\":true,\"x\":[34.08786375277892],\"y\":[1.6385469965946202],\"z\":[-0.16420643707143545],\"type\":\"scatter3d\"}],                        {\"template\":{\"data\":{\"bar\":[{\"error_x\":{\"color\":\"#2a3f5f\"},\"error_y\":{\"color\":\"#2a3f5f\"},\"marker\":{\"line\":{\"color\":\"#E5ECF6\",\"width\":0.5},\"pattern\":{\"fillmode\":\"overlay\",\"size\":10,\"solidity\":0.2}},\"type\":\"bar\"}],\"barpolar\":[{\"marker\":{\"line\":{\"color\":\"#E5ECF6\",\"width\":0.5},\"pattern\":{\"fillmode\":\"overlay\",\"size\":10,\"solidity\":0.2}},\"type\":\"barpolar\"}],\"carpet\":[{\"aaxis\":{\"endlinecolor\":\"#2a3f5f\",\"gridcolor\":\"white\",\"linecolor\":\"white\",\"minorgridcolor\":\"white\",\"startlinecolor\":\"#2a3f5f\"},\"baxis\":{\"endlinecolor\":\"#2a3f5f\",\"gridcolor\":\"white\",\"linecolor\":\"white\",\"minorgridcolor\":\"white\",\"startlinecolor\":\"#2a3f5f\"},\"type\":\"carpet\"}],\"choropleth\":[{\"colorbar\":{\"outlinewidth\":0,\"ticks\":\"\"},\"type\":\"choropleth\"}],\"contour\":[{\"colorbar\":{\"outlinewidth\":0,\"ticks\":\"\"},\"colorscale\":[[0.0,\"#0d0887\"],[0.1111111111111111,\"#46039f\"],[0.2222222222222222,\"#7201a8\"],[0.3333333333333333,\"#9c179e\"],[0.4444444444444444,\"#bd3786\"],[0.5555555555555556,\"#d8576b\"],[0.6666666666666666,\"#ed7953\"],[0.7777777777777778,\"#fb9f3a\"],[0.8888888888888888,\"#fdca26\"],[1.0,\"#f0f921\"]],\"type\":\"contour\"}],\"contourcarpet\":[{\"colorbar\":{\"outlinewidth\":0,\"ticks\":\"\"},\"type\":\"contourcarpet\"}],\"heatmap\":[{\"colorbar\":{\"outlinewidth\":0,\"ticks\":\"\"},\"colorscale\":[[0.0,\"#0d0887\"],[0.1111111111111111,\"#46039f\"],[0.2222222222222222,\"#7201a8\"],[0.3333333333333333,\"#9c179e\"],[0.4444444444444444,\"#bd3786\"],[0.5555555555555556,\"#d8576b\"],[0.6666666666666666,\"#ed7953\"],[0.7777777777777778,\"#fb9f3a\"],[0.8888888888888888,\"#fdca26\"],[1.0,\"#f0f921\"]],\"type\":\"heatmap\"}],\"heatmapgl\":[{\"colorbar\":{\"outlinewidth\":0,\"ticks\":\"\"},\"colorscale\":[[0.0,\"#0d0887\"],[0.1111111111111111,\"#46039f\"],[0.2222222222222222,\"#7201a8\"],[0.3333333333333333,\"#9c179e\"],[0.4444444444444444,\"#bd3786\"],[0.5555555555555556,\"#d8576b\"],[0.6666666666666666,\"#ed7953\"],[0.7777777777777778,\"#fb9f3a\"],[0.8888888888888888,\"#fdca26\"],[1.0,\"#f0f921\"]],\"type\":\"heatmapgl\"}],\"histogram\":[{\"marker\":{\"pattern\":{\"fillmode\":\"overlay\",\"size\":10,\"solidity\":0.2}},\"type\":\"histogram\"}],\"histogram2d\":[{\"colorbar\":{\"outlinewidth\":0,\"ticks\":\"\"},\"colorscale\":[[0.0,\"#0d0887\"],[0.1111111111111111,\"#46039f\"],[0.2222222222222222,\"#7201a8\"],[0.3333333333333333,\"#9c179e\"],[0.4444444444444444,\"#bd3786\"],[0.5555555555555556,\"#d8576b\"],[0.6666666666666666,\"#ed7953\"],[0.7777777777777778,\"#fb9f3a\"],[0.8888888888888888,\"#fdca26\"],[1.0,\"#f0f921\"]],\"type\":\"histogram2d\"}],\"histogram2dcontour\":[{\"colorbar\":{\"outlinewidth\":0,\"ticks\":\"\"},\"colorscale\":[[0.0,\"#0d0887\"],[0.1111111111111111,\"#46039f\"],[0.2222222222222222,\"#7201a8\"],[0.3333333333333333,\"#9c179e\"],[0.4444444444444444,\"#bd3786\"],[0.5555555555555556,\"#d8576b\"],[0.6666666666666666,\"#ed7953\"],[0.7777777777777778,\"#fb9f3a\"],[0.8888888888888888,\"#fdca26\"],[1.0,\"#f0f921\"]],\"type\":\"histogram2dcontour\"}],\"mesh3d\":[{\"colorbar\":{\"outlinewidth\":0,\"ticks\":\"\"},\"type\":\"mesh3d\"}],\"parcoords\":[{\"line\":{\"colorbar\":{\"outlinewidth\":0,\"ticks\":\"\"}},\"type\":\"parcoords\"}],\"pie\":[{\"automargin\":true,\"type\":\"pie\"}],\"scatter\":[{\"marker\":{\"colorbar\":{\"outlinewidth\":0,\"ticks\":\"\"}},\"type\":\"scatter\"}],\"scatter3d\":[{\"line\":{\"colorbar\":{\"outlinewidth\":0,\"ticks\":\"\"}},\"marker\":{\"colorbar\":{\"outlinewidth\":0,\"ticks\":\"\"}},\"type\":\"scatter3d\"}],\"scattercarpet\":[{\"marker\":{\"colorbar\":{\"outlinewidth\":0,\"ticks\":\"\"}},\"type\":\"scattercarpet\"}],\"scattergeo\":[{\"marker\":{\"colorbar\":{\"outlinewidth\":0,\"ticks\":\"\"}},\"type\":\"scattergeo\"}],\"scattergl\":[{\"marker\":{\"colorbar\":{\"outlinewidth\":0,\"ticks\":\"\"}},\"type\":\"scattergl\"}],\"scattermapbox\":[{\"marker\":{\"colorbar\":{\"outlinewidth\":0,\"ticks\":\"\"}},\"type\":\"scattermapbox\"}],\"scatterpolar\":[{\"marker\":{\"colorbar\":{\"outlinewidth\":0,\"ticks\":\"\"}},\"type\":\"scatterpolar\"}],\"scatterpolargl\":[{\"marker\":{\"colorbar\":{\"outlinewidth\":0,\"ticks\":\"\"}},\"type\":\"scatterpolargl\"}],\"scatterternary\":[{\"marker\":{\"colorbar\":{\"outlinewidth\":0,\"ticks\":\"\"}},\"type\":\"scatterternary\"}],\"surface\":[{\"colorbar\":{\"outlinewidth\":0,\"ticks\":\"\"},\"colorscale\":[[0.0,\"#0d0887\"],[0.1111111111111111,\"#46039f\"],[0.2222222222222222,\"#7201a8\"],[0.3333333333333333,\"#9c179e\"],[0.4444444444444444,\"#bd3786\"],[0.5555555555555556,\"#d8576b\"],[0.6666666666666666,\"#ed7953\"],[0.7777777777777778,\"#fb9f3a\"],[0.8888888888888888,\"#fdca26\"],[1.0,\"#f0f921\"]],\"type\":\"surface\"}],\"table\":[{\"cells\":{\"fill\":{\"color\":\"#EBF0F8\"},\"line\":{\"color\":\"white\"}},\"header\":{\"fill\":{\"color\":\"#C8D4E3\"},\"line\":{\"color\":\"white\"}},\"type\":\"table\"}]},\"layout\":{\"annotationdefaults\":{\"arrowcolor\":\"#2a3f5f\",\"arrowhead\":0,\"arrowwidth\":1},\"autotypenumbers\":\"strict\",\"coloraxis\":{\"colorbar\":{\"outlinewidth\":0,\"ticks\":\"\"}},\"colorscale\":{\"diverging\":[[0,\"#8e0152\"],[0.1,\"#c51b7d\"],[0.2,\"#de77ae\"],[0.3,\"#f1b6da\"],[0.4,\"#fde0ef\"],[0.5,\"#f7f7f7\"],[0.6,\"#e6f5d0\"],[0.7,\"#b8e186\"],[0.8,\"#7fbc41\"],[0.9,\"#4d9221\"],[1,\"#276419\"]],\"sequential\":[[0.0,\"#0d0887\"],[0.1111111111111111,\"#46039f\"],[0.2222222222222222,\"#7201a8\"],[0.3333333333333333,\"#9c179e\"],[0.4444444444444444,\"#bd3786\"],[0.5555555555555556,\"#d8576b\"],[0.6666666666666666,\"#ed7953\"],[0.7777777777777778,\"#fb9f3a\"],[0.8888888888888888,\"#fdca26\"],[1.0,\"#f0f921\"]],\"sequentialminus\":[[0.0,\"#0d0887\"],[0.1111111111111111,\"#46039f\"],[0.2222222222222222,\"#7201a8\"],[0.3333333333333333,\"#9c179e\"],[0.4444444444444444,\"#bd3786\"],[0.5555555555555556,\"#d8576b\"],[0.6666666666666666,\"#ed7953\"],[0.7777777777777778,\"#fb9f3a\"],[0.8888888888888888,\"#fdca26\"],[1.0,\"#f0f921\"]]},\"colorway\":[\"#636efa\",\"#EF553B\",\"#00cc96\",\"#ab63fa\",\"#FFA15A\",\"#19d3f3\",\"#FF6692\",\"#B6E880\",\"#FF97FF\",\"#FECB52\"],\"font\":{\"color\":\"#2a3f5f\"},\"geo\":{\"bgcolor\":\"white\",\"lakecolor\":\"white\",\"landcolor\":\"#E5ECF6\",\"showlakes\":true,\"showland\":true,\"subunitcolor\":\"white\"},\"hoverlabel\":{\"align\":\"left\"},\"hovermode\":\"closest\",\"mapbox\":{\"style\":\"light\"},\"paper_bgcolor\":\"white\",\"plot_bgcolor\":\"#E5ECF6\",\"polar\":{\"angularaxis\":{\"gridcolor\":\"white\",\"linecolor\":\"white\",\"ticks\":\"\"},\"bgcolor\":\"#E5ECF6\",\"radialaxis\":{\"gridcolor\":\"white\",\"linecolor\":\"white\",\"ticks\":\"\"}},\"scene\":{\"xaxis\":{\"backgroundcolor\":\"#E5ECF6\",\"gridcolor\":\"white\",\"gridwidth\":2,\"linecolor\":\"white\",\"showbackground\":true,\"ticks\":\"\",\"zerolinecolor\":\"white\"},\"yaxis\":{\"backgroundcolor\":\"#E5ECF6\",\"gridcolor\":\"white\",\"gridwidth\":2,\"linecolor\":\"white\",\"showbackground\":true,\"ticks\":\"\",\"zerolinecolor\":\"white\"},\"zaxis\":{\"backgroundcolor\":\"#E5ECF6\",\"gridcolor\":\"white\",\"gridwidth\":2,\"linecolor\":\"white\",\"showbackground\":true,\"ticks\":\"\",\"zerolinecolor\":\"white\"}},\"shapedefaults\":{\"line\":{\"color\":\"#2a3f5f\"}},\"ternary\":{\"aaxis\":{\"gridcolor\":\"white\",\"linecolor\":\"white\",\"ticks\":\"\"},\"baxis\":{\"gridcolor\":\"white\",\"linecolor\":\"white\",\"ticks\":\"\"},\"bgcolor\":\"#E5ECF6\",\"caxis\":{\"gridcolor\":\"white\",\"linecolor\":\"white\",\"ticks\":\"\"}},\"title\":{\"x\":0.05},\"xaxis\":{\"automargin\":true,\"gridcolor\":\"white\",\"linecolor\":\"white\",\"ticks\":\"\",\"title\":{\"standoff\":15},\"zerolinecolor\":\"white\",\"zerolinewidth\":2},\"yaxis\":{\"automargin\":true,\"gridcolor\":\"white\",\"linecolor\":\"white\",\"ticks\":\"\",\"title\":{\"standoff\":15},\"zerolinecolor\":\"white\",\"zerolinewidth\":2}}},\"scene\":{\"domain\":{\"x\":[0.0,1.0],\"y\":[0.0,1.0]},\"xaxis\":{\"title\":{\"text\":\"principal component 1\"}},\"yaxis\":{\"title\":{\"text\":\"principal component 2\"}},\"zaxis\":{\"title\":{\"text\":\"principal component 3\"}}},\"coloraxis\":{\"colorbar\":{\"title\":{\"text\":\"Class\"}},\"colorscale\":[[0.0,\"#0d0887\"],[0.1111111111111111,\"#46039f\"],[0.2222222222222222,\"#7201a8\"],[0.3333333333333333,\"#9c179e\"],[0.4444444444444444,\"#bd3786\"],[0.5555555555555556,\"#d8576b\"],[0.6666666666666666,\"#ed7953\"],[0.7777777777777778,\"#fb9f3a\"],[0.8888888888888888,\"#fdca26\"],[1.0,\"#f0f921\"]]},\"legend\":{\"title\":{\"text\":\"Class\"},\"tracegroupgap\":0,\"x\":0,\"y\":1},\"margin\":{\"t\":60}},                        {\"responsive\": true}                    ).then(function(){\n                            \nvar gd = document.getElementById('97446c10-1df0-4afc-a3b1-0b3d15d709ec');\nvar x = new MutationObserver(function (mutations, observer) {{\n        var display = window.getComputedStyle(gd).display;\n        if (!display || display === 'none') {{\n            console.log([gd, 'removed!']);\n            Plotly.purge(gd);\n            observer.disconnect();\n        }}\n}});\n\n// Listen for the removal of the full notebook cells\nvar notebookContainer = gd.closest('#notebook-container');\nif (notebookContainer) {{\n    x.observe(notebookContainer, {childList: true});\n}}\n\n// Listen for the clearing of the current output cell\nvar outputEl = gd.closest('.output');\nif (outputEl) {{\n    x.observe(outputEl, {childList: true});\n}}\n\n                        })                };                });            </script>        </div>"
     },
     "metadata": {},
     "output_type": "display_data"
    }
   ],
   "source": [
    "# Creating a 3D-Scatter with the PCA data and the clusters\n",
    "\n",
    "fig = px.scatter_3d(\n",
    "    clustered_df,\n",
    "    x='principal component 1',\n",
    "    y='principal component 2',\n",
    "    z='principal component 3',\n",
    "    color='Class',\n",
    "    symbol='Class',\n",
    "    hover_name='CoinName',\n",
    "    hover_data=['TotalCoinsMined','TotalCoinSupply','Algorithm', 'ProofType']\n",
    ")\n",
    "\n",
    "fig.update_layout(legend=dict(x=0, y=1))\n",
    "fig.show()"
   ]
  },
  {
   "cell_type": "code",
   "execution_count": 47,
   "metadata": {},
   "outputs": [
    {
     "data": {},
     "metadata": {},
     "output_type": "display_data"
    },
    {
     "data": {
      "text/html": "<div id='2017'>\n\n\n\n\n\n  <div class=\"bk-root\" id=\"ee4bd525-b21c-41c7-bc9c-a8b3f4dacfe4\" data-root-id=\"2017\"></div>\n</div>\n<script type=\"application/javascript\">(function(root) {\n  function embed_document(root) {\n    var docs_json = {\"c3242a8d-fa12-4ff2-b725-664cad1b4499\":{\"defs\":[{\"extends\":null,\"module\":null,\"name\":\"ReactiveHTML1\",\"overrides\":[],\"properties\":[]},{\"extends\":null,\"module\":null,\"name\":\"FlexBox1\",\"overrides\":[],\"properties\":[{\"default\":\"flex-start\",\"kind\":null,\"name\":\"align_content\"},{\"default\":\"flex-start\",\"kind\":null,\"name\":\"align_items\"},{\"default\":\"row\",\"kind\":null,\"name\":\"flex_direction\"},{\"default\":\"wrap\",\"kind\":null,\"name\":\"flex_wrap\"},{\"default\":\"flex-start\",\"kind\":null,\"name\":\"justify_content\"}]},{\"extends\":null,\"module\":null,\"name\":\"TemplateActions1\",\"overrides\":[],\"properties\":[{\"default\":0,\"kind\":null,\"name\":\"open_modal\"},{\"default\":0,\"kind\":null,\"name\":\"close_modal\"}]},{\"extends\":null,\"module\":null,\"name\":\"MaterialTemplateActions1\",\"overrides\":[],\"properties\":[{\"default\":0,\"kind\":null,\"name\":\"open_modal\"},{\"default\":0,\"kind\":null,\"name\":\"close_modal\"}]}],\"roots\":{\"references\":[{\"attributes\":{\"format\":\"0,0.0[00000]\"},\"id\":\"2041\",\"type\":\"NumberFormatter\"},{\"attributes\":{\"margin\":[5,5,5,5],\"name\":\"HSpacer03638\",\"sizing_mode\":\"stretch_width\"},\"id\":\"2018\",\"type\":\"Spacer\"},{\"attributes\":{\"source\":{\"id\":\"2019\"}},\"id\":\"2053\",\"type\":\"CDSView\"},{\"attributes\":{\"editor\":{\"id\":\"2027\"},\"field\":\"Algorithm\",\"formatter\":{\"id\":\"2026\"},\"title\":\"Algorithm\"},\"id\":\"2028\",\"type\":\"TableColumn\"},{\"attributes\":{},\"id\":\"2032\",\"type\":\"StringEditor\"},{\"attributes\":{},\"id\":\"2047\",\"type\":\"IntEditor\"},{\"attributes\":{\"margin\":[5,5,5,5],\"name\":\"HSpacer03639\",\"sizing_mode\":\"stretch_width\"},\"id\":\"2058\",\"type\":\"Spacer\"},{\"attributes\":{\"editor\":{\"id\":\"2032\"},\"field\":\"ProofType\",\"formatter\":{\"id\":\"2031\"},\"title\":\"ProofType\"},\"id\":\"2033\",\"type\":\"TableColumn\"},{\"attributes\":{},\"id\":\"2054\",\"type\":\"UnionRenderers\"},{\"attributes\":{},\"id\":\"2037\",\"type\":\"StringEditor\"},{\"attributes\":{\"editor\":{\"id\":\"2042\"},\"field\":\"TotalCoinsMined\",\"formatter\":{\"id\":\"2041\"},\"title\":\"TotalCoinsMined\"},\"id\":\"2043\",\"type\":\"TableColumn\"},{\"attributes\":{},\"id\":\"2021\",\"type\":\"StringFormatter\"},{\"attributes\":{\"data\":{\"Algorithm\":[\"Scrypt\",\"Scrypt\",\"X13\",\"SHA-256\",\"Ethash\",\"Scrypt\",\"X11\",\"CryptoNight-V7\",\"Ethash\",\"Equihash\",\"SHA-512\",\"Multiple\",\"SHA-256\",\"SHA-256\",\"Scrypt\",\"X15\",\"X11\",\"Scrypt\",\"Scrypt\",\"Scrypt\",\"Multiple\",\"Scrypt\",\"SHA-256\",\"Scrypt\",\"Scrypt\",\"Scrypt\",\"Quark\",\"Groestl\",\"Scrypt\",\"Scrypt\",\"Scrypt\",\"Scrypt\",\"Scrypt\",\"X11\",\"Scrypt\",\"Groestl\",\"Multiple\",\"SHA-256\",\"Scrypt\",\"Scrypt\",\"Scrypt\",\"Scrypt\",\"PoS\",\"Scrypt\",\"Scrypt\",\"NeoScrypt\",\"Scrypt\",\"Scrypt\",\"Scrypt\",\"Scrypt\",\"X11\",\"Scrypt\",\"X11\",\"SHA-256\",\"Scrypt\",\"Scrypt\",\"Scrypt\",\"SHA3\",\"Scrypt\",\"HybridScryptHash256\",\"Scrypt\",\"Scrypt\",\"SHA-256\",\"Scrypt\",\"X13\",\"Scrypt\",\"SHA-256\",\"Scrypt\",\"X13\",\"NeoScrypt\",\"Scrypt\",\"Scrypt\",\"Scrypt\",\"Scrypt\",\"Scrypt\",\"Scrypt\",\"X11\",\"X11\",\"SHA-256\",\"Multiple\",\"SHA-256\",\"PHI1612\",\"X11\",\"SHA-256\",\"SHA-256\",\"SHA-256\",\"X11\",\"Scrypt\",\"Scrypt\",\"Scrypt\",\"Scrypt\",\"Lyra2REv2\",\"Scrypt\",\"X11\",\"Multiple\",\"SHA-256\",\"X13\",\"Scrypt\",\"CryptoNight\",\"CryptoNight\",\"Shabal256\",\"Counterparty\",\"Scrypt\",\"SHA-256\",\"Groestl\",\"Scrypt\",\"Scrypt\",\"Scrypt\",\"X13\",\"Scrypt\",\"Scrypt\",\"Scrypt\",\"Scrypt\",\"X13\",\"Scrypt\",\"Stanford Folding\",\"X11\",\"Multiple\",\"QuBit\",\"Scrypt\",\"Scrypt\",\"Scrypt\",\"M7 POW\",\"Scrypt\",\"SHA-256\",\"Scrypt\",\"X11\",\"SHA3\",\"X11\",\"Lyra2RE\",\"SHA-256\",\"QUAIT\",\"X11\",\"X11\",\"Scrypt\",\"Scrypt\",\"Scrypt\",\"Ethash\",\"X13\",\"Blake2b\",\"SHA-256\",\"X15\",\"X11\",\"SHA-256\",\"BLAKE256\",\"Scrypt\",\"1GB AES Pattern Search\",\"SHA-256\",\"X11\",\"Scrypt\",\"SHA-256\",\"SHA-256\",\"NIST5\",\"Scrypt\",\"Scrypt\",\"X11\",\"Dagger\",\"Scrypt\",\"X11GOST\",\"X11\",\"Scrypt\",\"SHA-256\",\"Scrypt\",\"PoS\",\"Scrypt\",\"X11\",\"X11\",\"SHA-256\",\"SHA-256\",\"NIST5\",\"X11\",\"Scrypt\",\"POS 3.0\",\"Scrypt\",\"Scrypt\",\"Scrypt\",\"X13\",\"X11\",\"X11\",\"Equihash\",\"X11\",\"Scrypt\",\"CryptoNight\",\"SHA-256\",\"SHA-256\",\"X11\",\"Scrypt\",\"Multiple\",\"Scrypt\",\"Scrypt\",\"Scrypt\",\"SHA-256\",\"Scrypt\",\"Scrypt\",\"SHA-256D\",\"PoS\",\"Scrypt\",\"X11\",\"Lyra2Z\",\"PoS\",\"X13\",\"X14\",\"PoS\",\"SHA-256D\",\"Ethash\",\"Equihash\",\"DPoS\",\"X11\",\"Scrypt\",\"X11\",\"X13\",\"X11\",\"PoS\",\"Scrypt\",\"Scrypt\",\"X11\",\"PoS\",\"X11\",\"SHA-256\",\"Scrypt\",\"X11\",\"Scrypt\",\"Scrypt\",\"X11\",\"CryptoNight\",\"Scrypt\",\"Scrypt\",\"Scrypt\",\"Scrypt\",\"Quark\",\"QuBit\",\"Scrypt\",\"CryptoNight\",\"Lyra2RE\",\"Scrypt\",\"SHA-256\",\"X11\",\"Scrypt\",\"X11\",\"Scrypt\",\"CryptoNight-V7\",\"Scrypt\",\"Scrypt\",\"Scrypt\",\"X13\",\"X11\",\"Equihash\",\"Scrypt\",\"Scrypt\",\"Lyra2RE\",\"Scrypt\",\"Dagger-Hashimoto\",\"X11\",\"Blake2S\",\"X11\",\"Scrypt\",\"PoS\",\"X11\",\"NIST5\",\"PoS\",\"X11\",\"Scrypt\",\"Scrypt\",\"Scrypt\",\"SHA-256\",\"X11\",\"Scrypt\",\"Scrypt\",\"SHA-256\",\"PoS\",\"Scrypt\",\"X15\",\"SHA-256\",\"Scrypt\",\"POS 3.0\",\"CryptoNight-V7\",\"536\",\"Argon2d\",\"Blake2b\",\"Cloverhash\",\"CryptoNight\",\"NIST5\",\"X11\",\"NIST5\",\"Skein\",\"Scrypt\",\"X13\",\"Scrypt\",\"X11\",\"X11\",\"Scrypt\",\"CryptoNight\",\"X13\",\"Time Travel\",\"Scrypt\",\"Keccak\",\"SkunkHash v2 Raptor\",\"X11\",\"Skein\",\"SHA-256\",\"X11\",\"Scrypt\",\"VeChainThor Authority\",\"Scrypt\",\"PoS\",\"Scrypt\",\"Scrypt\",\"Scrypt\",\"Scrypt\",\"Scrypt\",\"Scrypt\",\"Scrypt\",\"CryptoNight\",\"SHA-512\",\"Ouroboros\",\"X11\",\"Equihash\",\"NeoScrypt\",\"X11\",\"Scrypt\",\"NeoScrypt\",\"Lyra2REv2\",\"Equihash\",\"Scrypt\",\"SHA-256\",\"NIST5\",\"PHI1612\",\"Dagger\",\"Scrypt\",\"Quark\",\"Scrypt\",\"POS 2.0\",\"Scrypt\",\"SHA-256\",\"X11\",\"NeoScrypt\",\"Ethash\",\"NeoScrypt\",\"X11\",\"DPoS\",\"NIST5\",\"X13\",\"Multiple\",\"Scrypt\",\"CryptoNight\",\"CryptoNight\",\"Ethash\",\"NIST5\",\"Quark\",\"X11\",\"CryptoNight-V7\",\"Scrypt\",\"Scrypt\",\"Scrypt\",\"X11\",\"BLAKE256\",\"X11\",\"NeoScrypt\",\"Quark\",\"NeoScrypt\",\"Scrypt\",\"Scrypt\",\"Scrypt\",\"X11\",\"X11\",\"SHA-256\",\"C11\",\"POS 3.0\",\"Ethash\",\"Scrypt\",\"CryptoNight\",\"SkunkHash\",\"Scrypt\",\"CryptoNight\",\"Scrypt\",\"Dagger\",\"Lyra2REv2\",\"X13\",\"Proof-of-BibleHash\",\"SHA-256 + Hive\",\"Scrypt\",\"Scrypt\",\"X11\",\"C11\",\"Proof-of-Authority\",\"X11\",\"XEVAN\",\"Scrypt\",\"VBFT\",\"Ethash\",\"CryptoNight\",\"Scrypt\",\"IMesh\",\"NIST5\",\"Scrypt\",\"Scrypt\",\"Equihash\",\"Scrypt\",\"Lyra2Z\",\"Green Protocol\",\"PoS\",\"Scrypt\",\"Semux BFT consensus\",\"X11\",\"Quark\",\"PoS\",\"CryptoNight\",\"X16R\",\"Scrypt\",\"NIST5\",\"Lyra2RE\",\"XEVAN\",\"Tribus\",\"Scrypt\",\"Lyra2Z\",\"CryptoNight\",\"CryptoNight Heavy\",\"CryptoNight\",\"Scrypt\",\"Scrypt\",\"Jump Consistent Hash\",\"SHA-256D\",\"CryptoNight\",\"Scrypt\",\"X15\",\"Scrypt\",\"Quark\",\"SHA-256\",\"DPoS\",\"X16R\",\"HMQ1725\",\"X11\",\"X16R\",\"Quark\",\"Quark\",\"Scrypt\",\"Lyra2REv2\",\"Quark\",\"Scrypt\",\"Scrypt\",\"CryptoNight-V7\",\"Cryptonight-GPU\",\"XEVAN\",\"CryptoNight Heavy\",\"X11\",\"X11\",\"Scrypt\",\"PoS\",\"SHA-256\",\"Keccak\",\"X11\",\"X11\",\"Scrypt\",\"SHA-512\",\"X16R\",\"ECC 256K1\",\"Equihash\",\"XEVAN\",\"Lyra2Z\",\"SHA-256\",\"XEVAN\",\"X11\",\"CryptoNight\",\"Quark\",\"Blake\",\"Blake\",\"Equihash\",\"Exosis\",\"Scrypt\",\"Scrypt\",\"Equihash\",\"Quark\",\"Equihash\",\"Quark\",\"Scrypt\",\"QuBit\",\"X11\",\"Scrypt\",\"XEVAN\",\"SHA-256D\",\"X11\",\"SHA-256\",\"X13\",\"SHA-256\",\"X11\",\"DPoS\",\"Scrypt\",\"Scrypt\",\"X11\",\"NeoScrypt\",\"Scrypt\",\"Blake\",\"Scrypt\",\"SHA-256\",\"Scrypt\",\"X11\",\"Scrypt\",\"Scrypt\",\"SHA-256\",\"X11\",\"SHA-256\",\"Scrypt\",\"Scrypt\",\"Scrypt\",\"Groestl\",\"X11\",\"Scrypt\",\"PoS\",\"Scrypt\",\"Scrypt\",\"X11\",\"SHA-256\",\"DPoS\",\"Scrypt\",\"Scrypt\",\"NeoScrypt\",\"Multiple\",\"X13\",\"Equihash+Scrypt\",\"DPoS\",\"Ethash\",\"DPoS\",\"SHA-256\",\"Leased POS\",\"PoS\",\"TRC10\",\"PoS\",\"SHA-256\",\"Scrypt\",\"CryptoNight\",\"Equihash\",\"Scrypt\"],\"Class\":{\"__ndarray__\":\"AAAAAAAAAAAAAAAAAwAAAAMAAAADAAAAAAAAAAMAAAADAAAAAwAAAAAAAAADAAAAAAAAAAAAAAADAAAAAAAAAAMAAAADAAAAAAAAAAAAAAADAAAAAwAAAAMAAAADAAAAAwAAAAAAAAADAAAAAwAAAAMAAAAAAAAAAwAAAAAAAAADAAAAAwAAAAAAAAAAAAAAAwAAAAMAAAADAAAAAwAAAAMAAAADAAAAAAAAAAAAAAADAAAAAwAAAAMAAAADAAAAAwAAAAAAAAAAAAAAAwAAAAAAAAADAAAAAwAAAAMAAAADAAAAAAAAAAMAAAADAAAAAAAAAAMAAAAAAAAAAAAAAAAAAAADAAAAAwAAAAMAAAAAAAAAAAAAAAAAAAAAAAAAAAAAAAMAAAADAAAAAwAAAAAAAAAAAAAAAwAAAAAAAAADAAAAAAAAAAAAAAADAAAAAwAAAAMAAAADAAAAAAAAAAAAAAADAAAAAAAAAAMAAAADAAAAAAAAAAAAAAADAAAAAAAAAAAAAAADAAAAAwAAAAAAAAAAAAAAAwAAAAAAAAAAAAAAAwAAAAAAAAADAAAAAAAAAAMAAAAAAAAAAwAAAAAAAAAAAAAAAwAAAAMAAAAAAAAAAwAAAAMAAAADAAAAAAAAAAMAAAADAAAAAwAAAAMAAAADAAAAAAAAAAAAAAADAAAAAwAAAAMAAAAAAAAAAwAAAAAAAAADAAAAAwAAAAAAAAADAAAAAAAAAAMAAAAAAAAAAAAAAAMAAAADAAAAAAAAAAMAAAADAAAAAAAAAAAAAAADAAAAAAAAAAMAAAAAAAAAAAAAAAAAAAADAAAAAwAAAAMAAAADAAAAAAAAAAAAAAAAAAAAAAAAAAAAAAADAAAAAwAAAAAAAAAAAAAAAAAAAAAAAAAAAAAAAwAAAAAAAAAAAAAAAAAAAAAAAAAAAAAAAwAAAAAAAAADAAAAAAAAAAAAAAADAAAAAAAAAAMAAAAAAAAAAAAAAAMAAAAAAAAAAwAAAAAAAAADAAAAAAAAAAMAAAAAAAAAAAAAAAAAAAAAAAAAAwAAAAAAAAAAAAAAAAAAAAAAAAAAAAAAAwAAAAMAAAAAAAAAAAAAAAMAAAADAAAAAAAAAAAAAAAAAAAAAAAAAAAAAAADAAAAAAAAAAAAAAAAAAAAAAAAAAAAAAAAAAAAAAAAAAAAAAADAAAAAAAAAAAAAAAAAAAAAAAAAAAAAAAAAAAAAwAAAAMAAAADAAAAAAAAAAAAAAAAAAAAAAAAAAMAAAAAAAAAAwAAAAAAAAAAAAAAAwAAAAAAAAADAAAAAwAAAAAAAAADAAAAAwAAAAAAAAADAAAAAAAAAAAAAAAAAAAAAwAAAAAAAAAAAAAAAwAAAAAAAAAAAAAAAAAAAAAAAAAAAAAAAAAAAAAAAAADAAAAAAAAAAMAAAAAAAAAAAAAAAAAAAAAAAAAAwAAAAAAAAADAAAAAAAAAAMAAAADAAAAAwAAAAMAAAAAAAAAAwAAAAAAAAAAAAAAAwAAAAAAAAADAAAAAwAAAAMAAAAAAAAAAwAAAAAAAAADAAAAAwAAAAMAAAAAAAAAAwAAAAAAAAADAAAAAAAAAAAAAAAAAAAAAwAAAAAAAAADAAAAAwAAAAMAAAADAAAAAwAAAAAAAAAAAAAAAwAAAAAAAAAAAAAAAAAAAAMAAAAAAAAAAwAAAAAAAAADAAAAAAAAAAMAAAAAAAAAAAAAAAAAAAAAAAAAAwAAAAAAAAAAAAAAAwAAAAAAAAAAAAAAAAAAAAMAAAADAAAAAwAAAAMAAAAAAAAAAAAAAAAAAAAAAAAAAwAAAAAAAAADAAAAAwAAAAMAAAAAAAAAAAAAAAMAAAADAAAAAAAAAAAAAAADAAAAAAAAAAMAAAADAAAAAwAAAAAAAAADAAAAAwAAAAAAAAAAAAAAAAAAAAMAAAADAAAAAwAAAAAAAAAAAAAAAAAAAAMAAAADAAAAAAAAAAMAAAADAAAAAwAAAAMAAAAAAAAAAQAAAAEAAAADAAAAAwAAAAMAAAAAAAAAAQAAAAAAAAAAAAAAAAAAAAAAAAADAAAAAwAAAAMAAAADAAAAAAAAAAAAAAAAAAAAAwAAAAAAAAADAAAAAAAAAAAAAAAAAAAAAAAAAAMAAAAAAAAAAAAAAAMAAAAAAAAAAAAAAAMAAAADAAAAAAAAAAMAAAAAAAAAAwAAAAMAAAADAAAAAwAAAAAAAAAAAAAAAwAAAAAAAAADAAAAAAAAAAAAAAAAAAAAAAAAAAAAAAAAAAAAAwAAAAMAAAADAAAAAAAAAAAAAAAAAAAAAAAAAAAAAAAAAAAAAwAAAAAAAAADAAAAAwAAAAMAAAADAAAAAAAAAAAAAAAAAAAAAAAAAAMAAAAAAAAAAAAAAAMAAAAAAAAAAAAAAAMAAAAAAAAAAwAAAAAAAAADAAAAAwAAAAAAAAAAAAAAAwAAAAAAAAADAAAAAwAAAAAAAAADAAAAAwAAAAAAAAADAAAAAAAAAAMAAAAAAAAAAAAAAAMAAAAAAAAAAAAAAAAAAAAAAAAAAAAAAAMAAAADAAAAAwAAAAAAAAAAAAAAAAAAAAMAAAAAAAAAAwAAAAAAAAADAAAAAAAAAAAAAAAAAAAAAAAAAAMAAAAAAAAAAAAAAAAAAAADAAAAAAAAAAMAAAAAAAAAAwAAAAAAAAAAAAAAAAAAAAMAAAADAAAAAAAAAAAAAAAAAAAAAAAAAAAAAAAAAAAAAwAAAAAAAAADAAAAAAAAAAMAAAAAAAAAAAAAAAAAAAAAAAAAAgAAAAAAAAAAAAAAAAAAAAMAAAADAAAAAAAAAA==\",\"dtype\":\"int32\",\"order\":\"little\",\"shape\":[532]},\"CoinName\":[\"42 Coin\",\"404Coin\",\"EliteCoin\",\"Bitcoin\",\"Ethereum\",\"Litecoin\",\"Dash\",\"Monero\",\"Ethereum Classic\",\"ZCash\",\"Bitshares\",\"DigiByte\",\"BitcoinDark\",\"PayCoin\",\"ProsperCoin\",\"KoboCoin\",\"Spreadcoin\",\"Argentum\",\"Aurora Coin\",\"BlueCoin\",\"MyriadCoin\",\"MoonCoin\",\"ZetaCoin\",\"SexCoin\",\"Quatloo\",\"EnergyCoin\",\"QuarkCoin\",\"Riecoin\",\"Digitalcoin \",\"BitBar\",\"Catcoin\",\"CryptoBullion\",\"CannaCoin\",\"CryptCoin\",\"CasinoCoin\",\"Diamond\",\"Verge\",\"DevCoin\",\"EarthCoin\",\"E-Gulden\",\"Einsteinium\",\"Emerald\",\"Exclusive Coin\",\"FlutterCoin\",\"Franko\",\"FeatherCoin\",\"GrandCoin\",\"GlobalCoin\",\"GoldCoin\",\"HoboNickels\",\"HyperStake\",\"Infinite Coin\",\"IOCoin\",\"IXcoin\",\"KrugerCoin\",\"LuckyCoin\",\"Litebar \",\"MaxCoin\",\"MegaCoin\",\"MediterraneanCoin\",\"MintCoin\",\"MinCoin\",\"MazaCoin\",\"Nautilus Coin\",\"NavCoin\",\"NobleCoin\",\"Namecoin\",\"NyanCoin\",\"OpalCoin\",\"Orbitcoin\",\"PotCoin\",\"PhoenixCoin\",\"Reddcoin\",\"RonPaulCoin\",\"StableCoin\",\"SmartCoin\",\"SuperCoin\",\"SyncCoin\",\"SysCoin\",\"TeslaCoin\",\"TigerCoin\",\"TittieCoin\",\"TorCoin\",\"TerraCoin\",\"UnbreakableCoin\",\"Unobtanium\",\"UroCoin\",\"UnitaryStatus Dollar\",\"UltraCoin\",\"ViaCoin\",\"VeriCoin\",\"Vertcoin\",\"WorldCoin\",\"X11 Coin\",\"Crypti\",\"JouleCoin\",\"StealthCoin\",\"ZCC Coin\",\"ByteCoin\",\"DigitalNote \",\"BurstCoin\",\"StorjCoin\",\"MonaCoin\",\"Neutron\",\"FairCoin\",\"Gulden\",\"RubyCoin\",\"PesetaCoin\",\"Kore\",\"Wild Beast Coin\",\"Dnotes\",\"Flo\",\"8BIT Coin\",\"Sativa Coin\",\"ArtByte\",\"Folding Coin\",\"Ucoin\",\"Unitus\",\"CypherPunkCoin\",\"OmniCron\",\"Vtorrent\",\"GreenCoin\",\"Cryptonite\",\"MasterCoin\",\"SoonCoin\",\"1Credit\",\"IslaCoin\",\"Nexus\",\"MarsCoin \",\"Crypto\",\"Anarchists Prime\",\"Droidz\",\"BowsCoin\",\"Squall Coin\",\"Song Coin\",\"BitZeny\",\"Diggits\",\"Expanse\",\"Paycon\",\"Siacoin\",\"Emercoin\",\"EverGreenCoin\",\"MindCoin\",\"I0coin\",\"Decred\",\"Revolution VR\",\"HOdlcoin\",\"EDRCoin\",\"Hitcoin\",\"Gamecredits\",\"DubaiCoin\",\"CarpeDiemCoin\",\"PWR Coin\",\"BillaryCoin\",\"GPU Coin\",\"Adzcoin\",\"SoilCoin\",\"YoCoin\",\"SibCoin\",\"EuropeCoin\",\"ZeitCoin\",\"SwingCoin\",\"SafeExchangeCoin\",\"Nebuchadnezzar\",\"Francs\",\"BolivarCoin\",\"Ratecoin\",\"Revenu\",\"Clockcoin\",\"VIP Tokens\",\"BitSend\",\"Omni\",\"Let it Ride\",\"PutinCoin\",\"iBankCoin\",\"Frankywillcoin\",\"MudraCoin\",\"PizzaCoin\",\"Lutetium Coin\",\"Komodo\",\"GoldBlocks\",\"CarterCoin\",\"Karbo\",\"BitTokens\",\"ZayedCoin\",\"MustangCoin\",\"ZoneCoin\",\"Circuits of Value\",\"RootCoin\",\"DopeCoin\",\"BitCurrency\",\"DollarCoin\",\"Swiscoin\",\"Shilling\",\"BuzzCoin\",\"Opair\",\"PesoBit\",\"Halloween Coin\",\"ZCoin\",\"CoffeeCoin\",\"RoyalCoin\",\"GanjaCoin V2\",\"TeamUP\",\"LanaCoin\",\"Elementrem\",\"ZClassic\",\"ARK\",\"InsaneCoin\",\"KiloCoin\",\"ArtexCoin\",\"EmberCoin\",\"XenixCoin\",\"FreeCoin\",\"PLNCoin\",\"AquariusCoin\",\"Kurrent\",\"Creatio\",\"Eternity\",\"Eurocoin\",\"BitcoinFast\",\"Stakenet\",\"BitConnect Coin\",\"MoneyCoin\",\"Enigma\",\"Cannabis Industry Coin\",\"Russiacoin\",\"PandaCoin\",\"GameUnits\",\"GAKHcoin\",\"Allsafe\",\"LiteCreed\",\"OsmiumCoin\",\"Bikercoins\",\"HexxCoin\",\"Klingon Empire Darsek\",\"Internet of People\",\"KushCoin\",\"Printerium\",\"PacCoin\",\"Impeach\",\"Citadel\",\"Zilbercoin\",\"FirstCoin\",\"BeaverCoin\",\"FindCoin\",\"VaultCoin\",\"Zero\",\"OpenChat\",\"Canada eCoin\",\"Zoin\",\"RenosCoin\",\"DubaiCoin\",\"VirtacoinPlus\",\"TajCoin\",\"Impact\",\"EB3coin\",\"Atmos\",\"HappyCoin\",\"Coinonat\",\"MacronCoin\",\"Condensate\",\"Independent Money System\",\"ArgusCoin\",\"LomoCoin\",\"ProCurrency\",\"GoldReserve\",\"BenjiRolls\",\"GrowthCoin\",\"ILCoin\",\"Phreak\",\"Degas Coin\",\"HTML5 Coin\",\"Ultimate Secure Cash\",\"EquiTrader\",\"QTUM\",\"Quantum Resistant Ledger\",\"Espers\",\"Dynamic\",\"Nano\",\"ChanCoin\",\"Dinastycoin\",\"Denarius\",\"DigitalPrice\",\"Virta Unique Coin\",\"Bitcoin Planet\",\"Unify\",\"BritCoin\",\"SocialCoin\",\"ArcticCoin\",\"DAS\",\"Linda\",\"LeviarCoin\",\"DeepOnion\",\"Bitcore\",\"gCn Coin\",\"SmartCash\",\"Signatum\",\"Onix\",\"Cream\",\"Bitcoin Cash\",\"Monoeci\",\"Draftcoin\",\"Vechain\",\"Sojourn Coin\",\"Stakecoin\",\"NewYorkCoin\",\"FrazCoin\",\"Kronecoin\",\"AdCoin\",\"Linx\",\"CoinonatX\",\"Ethereum Dark\",\"Sumokoin\",\"Obsidian\",\"Cardano\",\"Regalcoin\",\"BitcoinZ\",\"TrezarCoin\",\"Elements\",\"TerraNovaCoin\",\"VIVO Coin\",\"Rupee\",\"Bitcoin Gold\",\"WomenCoin\",\"Theresa May Coin\",\"NamoCoin\",\"LUXCoin\",\"Pirl\",\"Xios\",\"Bitcloud 2.0\",\"eBoost\",\"KekCoin\",\"BlackholeCoin\",\"Infinity Economics\",\"Pura\",\"Innova\",\"Ellaism\",\"GoByte\",\"Magnet\",\"Lamden Tau\",\"Electra\",\"Bitcoin Diamond\",\"SHIELD\",\"Cash & Back Coin\",\"UltraNote\",\"BitCoal\",\"DaxxCoin\",\"Bulwark\",\"Kalkulus\",\"AC3\",\"Lethean\",\"GermanCoin\",\"LiteCoin Ultra\",\"PopularCoin\",\"PhantomX\",\"Photon\",\"Sucre\",\"SparksPay\",\"Digiwage\",\"GunCoin\",\"IrishCoin\",\"Trollcoin\",\"Litecoin Plus\",\"Monkey Project\",\"Pioneer Coin\",\"UnitedBitcoin\",\"Interzone\",\"TokenPay\",\"1717 Masonic Commemorative Token\",\"My Big Coin\",\"TurtleCoin\",\"MUNcoin\",\"Unified Society USDEX\",\"Niobio Cash\",\"ShareChain\",\"Travelflex\",\"KREDS\",\"Tokyo Coin\",\"BiblePay\",\"LitecoinCash\",\"BitFlip\",\"LottoCoin\",\"Crypto Improvement Fund\",\"Stipend\",\"Poa Network\",\"Pushi\",\"Ellerium\",\"Velox\",\"Ontology\",\"Callisto Network\",\"BitTube\",\"Poseidon\",\"Aidos Kuneen\",\"Bitspace\",\"Briacoin\",\"Ignition\",\"Bitrolium\",\"MedicCoin\",\"Alpenschillling\",\"Bitcoin Green\",\"Deviant Coin\",\"Abjcoin\",\"Semux\",\"FuturoCoin\",\"Carebit\",\"Zealium\",\"Monero Classic\",\"Proton\",\"iDealCash\",\"Jumpcoin\",\"Infinex\",\"Bitcoin Incognito\",\"KEYCO\",\"HollyWoodCoin\",\"GINcoin\",\"PlatinCoin\",\"Loki\",\"Newton Coin\",\"Swisscoin\",\"Xt3ch\",\"MassGrid\",\"TheVig\",\"PluraCoin\",\"EmaratCoin\",\"Dekado\",\"Lynx\",\"Poseidon Quark\",\"BitcoinWSpectrum\",\"Muse\",\"Motion\",\"PlusOneCoin\",\"Axe\",\"Trivechain\",\"Dystem\",\"Giant\",\"Peony Coin\",\"Absolute Coin\",\"Vitae\",\"HexCoin\",\"TPCash\",\"Webchain\",\"Ryo\",\"Urals Coin\",\"Qwertycoin\",\"ARENON\",\"EUNO\",\"MMOCoin\",\"Ketan\",\"Project Pai\",\"XDNA\",\"PAXEX\",\"Azart\",\"ThunderStake\",\"Kcash\",\"Xchange\",\"Acute Angle Cloud\",\"CrypticCoin\",\"Bettex coin\",\"Actinium\",\"Bitcoin SV\",\"BitMoney\",\"Junson Ming Chan Coin\",\"FREDEnergy\",\"HerbCoin\",\"Universal Molecule\",\"Lithium\",\"PirateCash\",\"Exosis\",\"Block-Logic\",\"Oduwa\",\"Beam\",\"Galilel\",\"Bithereum\",\"Crypto Sports\",\"Credit\",\"SLICE\",\"Dash Platinum\",\"Nasdacoin\",\"Beetle Coin\",\"Titan Coin\",\"Award\",\"BLAST\",\"Bitcoin Rhodium\",\"GlobalToken\",\"Insane Coin\",\"ALAX\",\"LiteDoge\",\"SolarCoin\",\"TruckCoin\",\"UFO Coin\",\"OrangeCoin\",\"BlakeCoin\",\"BitstarCoin\",\"NeosCoin\",\"HyperCoin\",\"PinkCoin\",\"Crypto Escudo\",\"AudioCoin\",\"IncaKoin\",\"Piggy Coin\",\"Crown Coin\",\"Genstake\",\"SmileyCoin\",\"XiaoMiCoin\",\"Groestlcoin\",\"CapriCoin\",\" ClubCoin\",\"Radium\",\"Bata\",\"Pakcoin\",\"Creditbit \",\"OKCash\",\"Lisk\",\"HiCoin\",\"WhiteCoin\",\"FriendshipCoin\",\"JoinCoin\",\"Triangles Coin\",\"Vollar\",\"EOS\",\"Reality Clash\",\"Oxycoin\",\"TigerCash\",\"Waves\",\"Particl\",\"BitTorrent\",\"Nxt\",\"ZEPHYR\",\"Gapcoin\",\"Beldex\",\"Horizen\",\"BitcoinPlus\"],\"ProofType\":[\"PoW/PoS\",\"PoW/PoS\",\"PoW/PoS\",\"PoW\",\"PoW\",\"PoW\",\"PoW/PoS\",\"PoW\",\"PoW\",\"PoW\",\"PoS\",\"PoW\",\"PoW/PoS\",\"PoS\",\"PoW\",\"PoW/PoS\",\"PoW\",\"PoW\",\"PoW/PoS\",\"PoW/PoS\",\"PoW\",\"PoW\",\"PoW\",\"PoW\",\"PoW\",\"PoW/PoS\",\"PoW\",\"PoW\",\"PoW\",\"PoW/PoS\",\"PoW\",\"PoW/PoS\",\"PoW\",\"PoW\",\"PoC\",\"PoW/PoS\",\"PoW\",\"PoW\",\"PoW\",\"PoW\",\"PoW\",\"PoW\",\"PoS\",\"PoS/PoW/PoT\",\"PoW\",\"PoW\",\"PoW\",\"PoW\",\"PoW\",\"PoW/PoS\",\"PoS\",\"PoW\",\"PoW/PoS\",\"PoW\",\"PoW\",\"PoW\",\"PoW\",\"PoW/PoS\",\"PoW\",\"PoW\",\"PoS\",\"PoW\",\"PoW/PoS\",\"PoS\",\"PoW/PoS\",\"PoW\",\"PoW\",\"PoW\",\"PoW/PoS\",\"PoW/PoS\",\"PoW/PoS\",\"PoW/PoS\",\"PoW/PoS\",\"PoW\",\"PoW\",\"PoW\",\"PoS\",\"PoW/PoS\",\"PoW\",\"PoS\",\"PoW\",\"PoS\",\"PoW/PoS\",\"PoW\",\"PoW\",\"PoW\",\"PoW\",\"PoW/PoS\",\"PoW/PoS\",\"PoW\",\"PoST\",\"PoW\",\"PoW\",\"PoW/PoS\",\"PoS\",\"PoW\",\"PoW/PoS\",\"PoW/PoS\",\"PoW\",\"PoW\",\"PoC\",\"PoS\",\"PoW\",\"PoW/PoS\",\"PoW/PoS\",\"PoW\",\"PoS\",\"PoW\",\"PoW/PoS\",\"PoW\",\"PoS\",\"PoW\",\"PoW/PoS\",\"PoW/PoS\",\"PoW\",\"PoW\",\"PoS\",\"PoW\",\"PoW\",\"PoW\",\"PoW/PoS\",\"PoW\",\"PoW\",\"PoW\",\"PoW\",\"PoW\",\"PoW/PoS\",\"PoW/nPoS\",\"PoW\",\"PoW\",\"PoW\",\"PoW/PoS\",\"PoW\",\"PoS/PoW\",\"PoW\",\"PoW\",\"PoS\",\"PoW\",\"PoW/PoS\",\"PoW\",\"PoW/PoS\",\"PoW/PoS\",\"PoW\",\"PoW\",\"PoW/PoS\",\"PoW\",\"PoW\",\"PoW/PoS\",\"PoW/PoS\",\"PoW\",\"PoW/PoS\",\"PoW\",\"PoW/PoS\",\"PoW/PoS\",\"PoS\",\"PoW\",\"PoW\",\"PoW\",\"PoW\",\"PoW/PoS\",\"PoS\",\"PoW/PoS\",\"PoC\",\"PoS\",\"PoW\",\"PoW\",\"PoW/PoS\",\"PoW/PoS\",\"PoW/PoS\",\"PoW/PoS\",\"PoW/PoS\",\"PoW\",\"PoS\",\"PoW/PoS\",\"PoW/PoS\",\"PoW/PoS\",\"PoS\",\"PoW\",\"PoS\",\"dPoW/PoW\",\"PoW/PoS\",\"PoW/PoS\",\"PoW\",\"PoW/PoS\",\"PoW\",\"PoW/PoS\",\"PoW/PoS\",\"PoW\",\"PoW/PoS\",\"PoW\",\"PoS\",\"PoW\",\"PoW/PoW\",\"PoW\",\"PoW/PoS\",\"PoS\",\"PoW/PoS\",\"PoW/PoS\",\"PoW\",\"PoS\",\"PoS\",\"PoW/PoS\",\"PoS\",\"PoW/PoS\",\"PoW\",\"PoW\",\"DPoS\",\"PoW/PoS\",\"PoW\",\"PoW\",\"PoW/PoS\",\"PoW/PoS\",\"PoS\",\"PoW/PoS\",\"PoW/PoS\",\"PoW\",\"PoS\",\"PoW/PoS\",\"PoW/PoS\",\"PoW/PoS\",\"TPoS\",\"PoW/PoS\",\"PoW/PoS\",\"PoW/PoS\",\"PoW\",\"PoW/PoS\",\"PoS\",\"PoW/PoS\",\"PoW/PoS\",\"PoS\",\"PoW/PoS\",\"PoW\",\"PoW\",\"PoW\",\"PoW/PoS\",\"PoW/PoS\",\"PoW/PoS\",\"PoW/PoS\",\"PoW\",\"PoW/PoS\",\"PoW\",\"PoS\",\"PoW/PoS \",\"PoW\",\"PoS\",\"PoW\",\"PoW\",\"PoW/PoS\",\"PoW\",\"PoW\",\"PoS\",\"PoW\",\"PoW/PoS\",\"PoW/PoS\",\"PoW/PoS\",\"PoW\",\"PoS\",\"PoW/PoS\",\"PoW\",\"PoS\",\"PoW/PoS\",\"PoW/PoS\",\"PoW/PoS\",\"PoW/PoS\",\"PoS\",\"PoW/PoS\",\"PoW\",\"PoS\",\"PoW\",\"PoS\",\"PoW/PoS\",\"PoW/PoS\",\"PoS\",\"PoW\",\"PoS\",\"PoW\",\"PoW/PoS\",\"PoW\",\"PoW\",\"PoW\",\"PoW\",\"PoW/PoS\",\"PoW\",\"PoW/PoS\",\"PoW/PoS\",\"PoW\",\"PoW/PoS\",\"PoW\",\"PoW\",\"PoW\",\"PoW/PoS\",\"PoW\",\"PoW/PoS\",\"PoW\",\"PoW\",\"PoW\",\"PoS\",\"PoW\",\"PoW/PoS\",\"PoW\",\"PoW/PoS\",\"PoS\",\"Proof of Authority\",\"PoW\",\"PoS\",\"PoW\",\"PoW\",\"PoW\",\"PoW\",\"PoW\",\"PoW/PoS\",\"PoW/PoS\",\"PoW\",\"PoS\",\"PoS\",\"PoW/PoS\",\"PoW\",\"PoW/PoS\",\"PoW\",\"PoW/PoS\",\"PoW\",\"PoS\",\"PoW\",\"PoW/PoS\",\"PoW/PoS\",\"PoW/PoS\",\"PoW/PoS\",\"PoW\",\"PoW/PoS\",\"PoW/PoS\",\"PoW\",\"PoS\",\"PoW/PoS\",\"PoS\",\"PoW\",\"PoW\",\"PoW\",\"PoW\",\"PoW/PoS\",\"DPoS\",\"PoW/PoS\",\"PoW/PoS\",\"PoW\",\"PoW/PoS\",\"PoW\",\"PoW\",\"PoW\",\"PoS\",\"PoS\",\"PoW\",\"PoW\",\"PoW/PoS\",\"PoW/PoS\",\"PoW\",\"PoW/PoS\",\"PoW\",\"PoW\",\"PoW\",\"PoS\",\"PoW\",\"PoW\",\"PoW/PoS\",\"PoW/PoS\",\"PoS\",\"PoW\",\"PoW\",\"PoW\",\"PoS\",\"PoS\",\"PoW and PoS\",\"PoW\",\"PoW\",\"PoW/PoS\",\"PoW\",\"PoW\",\"PoW\",\"PoW\",\"PoS\",\"POBh\",\"PoW + Hive\",\"PoW\",\"PoW\",\"PoW\",\"PoW/PoS\",\"PoA\",\"PoW/PoS\",\"PoW/PoS\",\"PoS\",\"PoS\",\"PoW\",\"PoW\",\"PoW\",\"PoW\",\"PoW/PoS\",\"PoW/PoS\",\"PoW/PoS\",\"PoW\",\"PoS\",\"PoW\",\"PoS\",\"PoS\",\"PoW/PoS\",\"DPoS\",\"PoW\",\"PoW/PoS\",\"PoS\",\"PoW\",\"PoS\",\"PoW/PoS\",\"PoW\",\"PoW\",\"PoS/PoW\",\"PoW\",\"PoS\",\"PoW\",\"PoW\",\"PoW\",\"PoW\",\"PoW/PoS\",\"PoS\",\"PoW\",\"PoW/PoS\",\"PoW\",\"PoW/PoS\",\"PoS\",\"HPoW\",\"PoS\",\"PoS\",\"PoS\",\"PoW\",\"PoW\",\"PoW\",\"PoW/PoS\",\"PoS\",\"PoW/PoS\",\"PoS\",\"PoW/PoS\",\"PoS\",\"PoW\",\"PoW/PoS\",\"PoW\",\"PoW\",\"PoW\",\"PoW\",\"PoS\",\"PoW/PoS\",\"PoS\",\"PoS\",\"PoW\",\"PoW/PoS\",\"PoS\",\"PoW\",\"PoW/PoS\",\"Zero-Knowledge Proof\",\"PoW\",\"DPOS\",\"PoW\",\"PoS\",\"PoW\",\"PoW\",\"Pos\",\"PoS\",\"PoW\",\"PoW/PoS\",\"PoW\",\"PoW\",\"PoS\",\"PoW\",\"PoW\",\"PoW/PoS\",\"PoW\",\"PoW/PoS\",\"PoW\",\"PoS\",\"PoW/PoS\",\"PoW\",\"PoS\",\"PoW/PoS\",\"PoW/PoS\",\"PoW/PoS\",\"PoW/PoS\",\"PoW\",\"PoW\",\"PoW\",\"PoW/PoS\",\"DPoS\",\"PoW/PoS\",\"PoW\",\"PoW/PoS\",\"PoW\",\"PoW/PoS\",\"PoW\",\"PoW/PoS\",\"PoS\",\"PoW/PoS\",\"PoW/PoS\",\"PoW\",\"PoW/PoS\",\"PoW/PoS\",\"PoW/PoS\",\"PoW\",\"PoW/PoS\",\"PoW\",\"PoW/PoS\",\"PoW\",\"PoW/PoS\",\"PoW/PoS\",\"PoS\",\"PoW\",\"PoW\",\"Proof of Trust\",\"PoW/PoS\",\"DPoS\",\"PoS\",\"PoW/PoS\",\"PoW/PoS\",\"PoW\",\"PoW/PoS\",\"PoW\",\"DPoS\",\"PoW\",\"DPoS\",\"PoS\",\"LPoS\",\"PoS\",\"DPoS\",\"PoS/LPoS\",\"DPoS\",\"PoW/PoS\",\"PoW\",\"PoW\",\"PoS\"],\"TotalCoinSupply\":[\"42\",\"532000000\",\"314159265359\",\"21000000\",\"0\",\"84000000\",\"22000000\",\"0\",\"210000000\",\"21000000\",\"3600570502\",\"21000000000\",\"22000000\",\"12500000\",\"21000000\",\"350000000\",\"20000000\",\"64000000\",\"16768584\",\"0\",\"2000000000\",\"384000000000\",\"169795588\",\"250000000\",\"100000000\",\"0\",\"247000000\",\"84000000\",\"48166000\",\"500000\",\"21000000 \",\"1000000\",\"13140000\",\"18000000\",\"40000000000\",\"4380000\",\"16555000000\",\"21000000000\",\"13500000000\",\"21000000 \",\"299792458\",\"32000000\",\"0\",\"0\",\"11235813\",\"336000000\",\"1420609614\",\"70000000\",\"72245700\",\"120000000\",\"0\",\"90600000000\",\"22000000\",\"21000000\",\"265420800\",\"20000000\",\"1350000\",\"100000000\",\"42000000\",\"200000000\",\"0\",\"10000000\",\"2419200000\",\"16180000\",\"0\",\"15000000000\",\"21000000\",\"337000000\",\"0\",\"3770000\",\"420000000\",\"98000000\",\"0\",\"21000000\",\"250000000\",\"51200000\",\"0\",\"1000\",\"888000000\",\"100000000\",\"47011968\",\"2300000000\",\"10000000\",\"42000000\",\"80000000\",\"250000\",\"0\",\"1600000000\",\"100000000\",\"23000000\",\"0\",\"84000000\",\"265420800\",\"5500000\",\"0\",\"45000000\",\"0\",\"1000000000\",\"184467440735\",\"10000000000\",\"2158812800\",\"500000000\",\"105120000\",\"68000000\",\"0\",\"1680000000\",\"0\",\"166386000\",\"12000000\",\"2628000\",\"500000000\",\"160000000\",\"0\",\"10000000\",\"1000000000\",\"1000000000\",\"20000000\",\"0\",\"0\",\"3371337\",\"20000000\",\"10000000000\",\"1840000000\",\"619478\",\"21000000\",\"92000000000\",\"0\",\"78000000\",\"33000000\",\"65789100\",\"53760000\",\"5060000\",\"21000000\",\"0\",\"210240000\",\"250000000\",\"100000000\",\"16906397\",\"50000000\",\"0\",\"1000000000\",\"26298000\",\"16000000\",\"21000000\",\"21000000\",\"210000000\",\"81962100\",\"22000000\",\"26550000000\",\"84000000\",\"10500000\",\"21626280000 \",\"0\",\"42000000\",\"221052632\",\"84000000\",\"30000000\",\"168351300\",\"24000000\",\"384000000\",\" 99000000000\",\"40000000\",\"2147483647\",\"20000000\",\"20000000\",\"25000000\",\"75000000\",\"222725000\",\"525000000\",\"90000000\",\"139000000\",\"616448\",\"33500000\",\"2000000000\",\"44333333\",\"100000000\",\"200000000\",\"25000000\",\"657000000\",\"200000000\",\"50000000\",\"90000000\",\"10000000\",\"21000000\",\"9736000\",\"3000000\",\"21000000\",\"1200000000\",\"0\",\"200000000\",\"0\",\"10638298\",\"3100000000\",\"30000000\",\"20000000000\",\"74000000\",\"0\",\"1500000000\",\"21400000\",\"39999898\",\"2500124\",\"100000000\",\"301000000\",\"7506000000\",\"26205539\",\"21000000\",\"125000000\",\"30000000\",\"10000000000\",\"500000000\",\"850000000\",\"3853326.77707314\",\"50000000\",\"38540000 \",\"42000000\",\"228000000\",\"20000000\",\"60000000\",\"20000000\",\"33000000\",\"76500000\",\"28000000\",\"650659833\",\"5000000\",\"21000000\",\"144000000\",\"32514916898\",\"13000000\",\"3315789\",\"15000000\",\"78835200\",\"2714286\",\"25000000\",\"9999999\",\"500000000\",\"21000000\",\"9354000\",\"20000000\",\"100000000000\",\"21933333\",\"185000000\",\"55000000\",\"110000000\",\"3360000\",\"14524851.4827\",\"1000000000\",\"17000000\",\"1000000000\",\"100000000 \",\"21000000\",\"34426423\",\"2232901\",\"100000000\",\"36900000\",\"110000000\",\"4000000000\",\"110290030\",\"100000000\",\"48252000\",\"400000000\",\"500000000\",\"21212121\",\"28600000\",\"1000000000\",\"75000000000\",\"40000000\",\"35520400\",\"2000000000\",\"2500000000\",\"30000000\",\"105000000\",\"90000000000\",\"200084200\",\"72000000\",\"100000000\",\"105000000\",\"50000000000\",\"0\",\"340282367\",\"30000000\",\"2000000000\",\"10000000\",\"100000000\",\"120000000\",\"100000000\",\"19276800\",\"30000000\",\" 75000000\",\"60000000\",\"18900000\",\"50000000000\",\"54000000\",\"18898187.6216583\",\"21000000\",\"200000000000\",\"5000000000\",\"137500000\",\"1100000000\",\"100000000\",\"21000000\",\"9507271\",\"17405891.19707116\",\"86712634466\",\"10500000000\",\"61599965\",\"0\",\"20000000\",\"84000000\",\"100000000\",\"100000000\",\"48252000\",\"4200000\",\"88888888\",\"91388946\",\"45000000000\",\"27000000\",\"21000000000\",\"400000000\",\"1800000000\",\"15733333\",\"27000000\",\"24000000\",\"21000000\",\"25000000000\",\"100000000\",\"1200000000\",\"60000000\",\"156306732.71\",\"21000000\",\"200000000\",\"100000000\",\"21000000\",\"14788275.991\",\"9000000000\",\"350000000\",\"45000000\",\"280000000\",\"31800000\",\"144000000\",\"500000000\",\"30000000000\",\"210000000\",\"660000000\",\"210000000\",\"85000000000\",\"12500000\",\"10000000000\",\"27716121\",\"20000000\",\"550000000\",\"999481516\",\"50000000000\",\"150000000\",\"4999999999\",\"50000000\",\" 90000000000\",\"19800000\",\"21000000\",\"120000000\",\"500000000\",\"64000000\",\"900000000\",\"4000000\",\"21000000\",\"23000000\",\"20166000\",\"23000000\",\"25000000\",\"1618033\",\"30000000\",\"1000000000000\",\"16600000\",\"232000000\",\"336000000\",\"10000000000\",\"100000000\",\"1100000000\",\"800000000\",\"5200000000\",\"840000000\",\"40000000\",\"18406979840\",\"500000000\",\"19340594\",\"252460800\",\"25000000\",\"60000000\",\"124000000\",\"1000000000\",\"6500000000\",\"1000000000\",\"21000000\",\"25000000\",\"50000000\",\"3000000\",\"5000000\",\"70000000\",\"500000000\",\"300000000\",\"21000000\",\"88000000\",\"30000000\",\"100000000\",\"100000000\",\"200000000\",\"80000000\",\"18400000\",\"45000000\",\"5121951220\",\"21000000\",\"26280000\",\"21000000\",\"18000000\",\"26000000\",\"10500000\",\"600000518\",\"150000000\",\"184000000000\",\"10200000000\",\"44000000\",\"168000000\",\"100000000\",\"1000000000\",\"84000000\",\"90000000\",\"92000000000\",\"650000000 \",\"100262205\",\"18081806 \",\"22075700\",\"21000000\",\"21000000\",\"82546564\",\"21000000\",\"5151000\",\"16880000000\",\"52500000\",\"100000000\",\"22105263\",\"1000000000\",\"1750000000\",\"88188888\",\"210000000\",\"184470000000\",\"55000000\",\"50000000\",\"260000000\",\"210000000\",\"2100000000\",\"366000000\",\"100000000\",\"25000000\",\"18000000000\",\"1000000000\",\"100000000\",\"1000000000\",\"7600000000\",\"50000000\",\"84000000\",\"21000000\",\"70000000000\",\"0\",\"8080000000\",\"54000000\",\"105120001.44\",\"25228800\",\"105000000\",\"21000000\",\"120000000\",\"21000000\",\"262800000\",\"19035999\",\"30886000\",\"13370000\",\"74800000000\",\"100000000\",\"19700000\",\"84000000\",\"500000000\",\"5000000000\",\"420000000\",\"64000000\",\"2100000\",\"168000000\",\"30000000\",\"1000000000\",\"35000000000\",\"98100000000\",\"0\",\"4000000000\",\"200000000\",\"7000000000\",\"54256119\",\"21000000\",\"0\",\"500000000\",\"1000000000\",\"10500000000\",\"190000000\",\"1000000000\",\"42000000\",\"15000000\",\"50000000000\",\"400000000\",\"105000000\",\"208000000\",\"160000000\",\"9000000\",\"5000000\",\"182000000\",\"16504333\",\"105000000\",\"159918400\",\"10008835635\",\"300000000\",\"60168145\",\"2800000\",\"120000\",\"2100000000\",\"0\",\"24487944\",\"0\",\"1000000000\",\"100000000\",\"8634140\",\"990000000000\",\"1000000000\",\"2000000000\",\"250000000\",\"1400222610\",\"21000000\",\"1000000\"],\"TotalCoinsMined\":{\"__ndarray__\":\"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\",\"dtype\":\"float64\",\"order\":\"little\",\"shape\":[532]}},\"selected\":{\"id\":\"2020\"},\"selection_policy\":{\"id\":\"2054\"}},\"id\":\"2019\",\"type\":\"ColumnDataSource\"},{\"attributes\":{\"editor\":{\"id\":\"2037\"},\"field\":\"TotalCoinSupply\",\"formatter\":{\"id\":\"2036\"},\"title\":\"TotalCoinSupply\"},\"id\":\"2038\",\"type\":\"TableColumn\"},{\"attributes\":{},\"id\":\"2042\",\"type\":\"NumberEditor\"},{\"attributes\":{},\"id\":\"2046\",\"type\":\"NumberFormatter\"},{\"attributes\":{},\"id\":\"2020\",\"type\":\"Selection\"},{\"attributes\":{\"editor\":{\"id\":\"2022\"},\"field\":\"CoinName\",\"formatter\":{\"id\":\"2021\"},\"title\":\"CoinName\"},\"id\":\"2023\",\"type\":\"TableColumn\"},{\"attributes\":{\"editor\":{\"id\":\"2047\"},\"field\":\"Class\",\"formatter\":{\"id\":\"2046\"},\"title\":\"Class\"},\"id\":\"2048\",\"type\":\"TableColumn\"},{\"attributes\":{},\"id\":\"2022\",\"type\":\"StringEditor\"},{\"attributes\":{},\"id\":\"2027\",\"type\":\"StringEditor\"},{\"attributes\":{\"columns\":[{\"id\":\"2023\"},{\"id\":\"2028\"},{\"id\":\"2033\"},{\"id\":\"2038\"},{\"id\":\"2043\"},{\"id\":\"2048\"}],\"height\":300,\"reorderable\":false,\"source\":{\"id\":\"2019\"},\"view\":{\"id\":\"2053\"},\"width\":700},\"id\":\"2051\",\"type\":\"DataTable\"},{\"attributes\":{\"children\":[{\"id\":\"2018\"},{\"id\":\"2051\"},{\"id\":\"2058\"}],\"margin\":[0,0,0,0],\"name\":\"Row03634\",\"tags\":[\"embedded\"]},\"id\":\"2017\",\"type\":\"Row\"},{\"attributes\":{},\"id\":\"2026\",\"type\":\"StringFormatter\"},{\"attributes\":{},\"id\":\"2031\",\"type\":\"StringFormatter\"},{\"attributes\":{},\"id\":\"2036\",\"type\":\"StringFormatter\"}],\"root_ids\":[\"2017\"]},\"title\":\"Bokeh Application\",\"version\":\"2.4.1\"}};\n    var render_items = [{\"docid\":\"c3242a8d-fa12-4ff2-b725-664cad1b4499\",\"root_ids\":[\"2017\"],\"roots\":{\"2017\":\"ee4bd525-b21c-41c7-bc9c-a8b3f4dacfe4\"}}];\n    root.Bokeh.embed.embed_items_notebook(docs_json, render_items);\n  }\n  if (root.Bokeh !== undefined && root.Bokeh.Panel !== undefined) {\n    embed_document(root);\n  } else {\n    var attempts = 0;\n    var timer = setInterval(function(root) {\n      if (root.Bokeh !== undefined && root.Bokeh.Panel !== undefined) {\n        clearInterval(timer);\n        embed_document(root);\n      } else if (document.readyState == \"complete\") {\n        attempts++;\n        if (attempts > 200) {\n          clearInterval(timer);\n          console.log(\"Bokeh: ERROR: Unable to run BokehJS code because BokehJS library is missing\");\n        }\n      }\n    }, 25, root)\n  }\n})(window);</script>",
      "application/vnd.holoviews_exec.v0+json": "",
      "text/plain": ":Table   [CoinName,Algorithm,ProofType,TotalCoinSupply,TotalCoinsMined,Class]"
     },
     "execution_count": 47,
     "metadata": {
      "application/vnd.holoviews_exec.v0+json": {
       "id": "2017"
      }
     },
     "output_type": "execute_result"
    }
   ],
   "source": [
    "# Creating a table with tradable cryptocurrencies.\n",
    "clustered_df.hvplot.table(columns=['CoinName','Algorithm','ProofType','TotalCoinSupply','TotalCoinsMined','Class'])"
   ]
  },
  {
   "cell_type": "code",
   "execution_count": 48,
   "metadata": {},
   "outputs": [
    {
     "data": {
      "text/plain": "532"
     },
     "execution_count": 48,
     "metadata": {},
     "output_type": "execute_result"
    }
   ],
   "source": [
    "# Print the total number of tradable cryptocurrencies.\n",
    "clustered_df['CoinName'].count()"
   ]
  },
  {
   "cell_type": "code",
   "execution_count": 49,
   "metadata": {},
   "outputs": [
    {
     "data": {
      "text/plain": "array([[4.20000000e-11, 0.00000000e+00],\n       [5.32000000e-04, 1.06585544e-03],\n       [3.14159265e-01, 2.95755135e-02],\n       ...,\n       [1.40022261e-03, 9.90135079e-04],\n       [2.10000000e-05, 7.37028150e-06],\n       [1.00000000e-06, 1.29582282e-07]])"
     },
     "execution_count": 49,
     "metadata": {},
     "output_type": "execute_result"
    }
   ],
   "source": [
    "# Scaling data to create the scatter plot with tradable cryptocurrencies.\n",
    "clustDf = clustered_df[['TotalCoinSupply','TotalCoinsMined']]\n",
    "minMax = MinMaxScaler().fit_transform(clustDf)\n",
    "minMax"
   ]
  },
  {
   "cell_type": "code",
   "execution_count": 50,
   "metadata": {},
   "outputs": [
    {
     "data": {
      "text/plain": "      TotalCoinSupplyScaled  TotalCoinsMinedScaled          CoinName  Class\n42             4.200000e-11               0.000000           42 Coin      0\n404            5.320000e-04               0.001066           404Coin      0\n1337           3.141593e-01               0.029576         EliteCoin      0\nBTC            2.100000e-05               0.000018           Bitcoin      3\nETH            0.000000e+00               0.000109          Ethereum      3\nLTC            8.400000e-05               0.000064          Litecoin      3\nDASH           2.200000e-05               0.000009              Dash      0\nXMR            0.000000e+00               0.000017            Monero      3\nETC            2.100000e-04               0.000115  Ethereum Classic      3\nZEC            2.100000e-05               0.000007             ZCash      3",
      "text/html": "<div>\n<style scoped>\n    .dataframe tbody tr th:only-of-type {\n        vertical-align: middle;\n    }\n\n    .dataframe tbody tr th {\n        vertical-align: top;\n    }\n\n    .dataframe thead th {\n        text-align: right;\n    }\n</style>\n<table border=\"1\" class=\"dataframe\">\n  <thead>\n    <tr style=\"text-align: right;\">\n      <th></th>\n      <th>TotalCoinSupplyScaled</th>\n      <th>TotalCoinsMinedScaled</th>\n      <th>CoinName</th>\n      <th>Class</th>\n    </tr>\n  </thead>\n  <tbody>\n    <tr>\n      <th>42</th>\n      <td>4.200000e-11</td>\n      <td>0.000000</td>\n      <td>42 Coin</td>\n      <td>0</td>\n    </tr>\n    <tr>\n      <th>404</th>\n      <td>5.320000e-04</td>\n      <td>0.001066</td>\n      <td>404Coin</td>\n      <td>0</td>\n    </tr>\n    <tr>\n      <th>1337</th>\n      <td>3.141593e-01</td>\n      <td>0.029576</td>\n      <td>EliteCoin</td>\n      <td>0</td>\n    </tr>\n    <tr>\n      <th>BTC</th>\n      <td>2.100000e-05</td>\n      <td>0.000018</td>\n      <td>Bitcoin</td>\n      <td>3</td>\n    </tr>\n    <tr>\n      <th>ETH</th>\n      <td>0.000000e+00</td>\n      <td>0.000109</td>\n      <td>Ethereum</td>\n      <td>3</td>\n    </tr>\n    <tr>\n      <th>LTC</th>\n      <td>8.400000e-05</td>\n      <td>0.000064</td>\n      <td>Litecoin</td>\n      <td>3</td>\n    </tr>\n    <tr>\n      <th>DASH</th>\n      <td>2.200000e-05</td>\n      <td>0.000009</td>\n      <td>Dash</td>\n      <td>0</td>\n    </tr>\n    <tr>\n      <th>XMR</th>\n      <td>0.000000e+00</td>\n      <td>0.000017</td>\n      <td>Monero</td>\n      <td>3</td>\n    </tr>\n    <tr>\n      <th>ETC</th>\n      <td>2.100000e-04</td>\n      <td>0.000115</td>\n      <td>Ethereum Classic</td>\n      <td>3</td>\n    </tr>\n    <tr>\n      <th>ZEC</th>\n      <td>2.100000e-05</td>\n      <td>0.000007</td>\n      <td>ZCash</td>\n      <td>3</td>\n    </tr>\n  </tbody>\n</table>\n</div>"
     },
     "execution_count": 50,
     "metadata": {},
     "output_type": "execute_result"
    }
   ],
   "source": [
    "# Create a new DataFrame that has the scaled data with the clustered_df DataFrame index.\n",
    "scatterDf = pd.DataFrame(\n",
    "    data=minMax,\n",
    "    columns=['TotalCoinSupplyScaled', 'TotalCoinsMinedScaled'],\n",
    "    index= clustered_df.index.tolist()\n",
    ")\n",
    "scatterDf.head()\n",
    "\n",
    "# Adding the \"CoinName\" column from the clustered_df DataFrame to the new DataFrame.\n",
    "scatterDf = scatterDf.join(cryptoNameDf,how='inner')\n",
    "\n",
    "# Adding the \"Class\" column from the clustered_df DataFrame to the new DataFrame.\n",
    "classColumn = clustered_df['Class']\n",
    "scatterDf = scatterDf.join(classColumn, how='inner')\n",
    "\n",
    "scatterDf.head(10)"
   ]
  },
  {
   "cell_type": "code",
   "execution_count": 51,
   "metadata": {},
   "outputs": [
    {
     "data": {},
     "metadata": {},
     "output_type": "display_data"
    },
    {
     "data": {
      "text/html": "<div id='2070'>\n\n\n\n\n\n  <div class=\"bk-root\" id=\"8b950796-185f-4582-98ee-0b962ae70f55\" data-root-id=\"2070\"></div>\n</div>\n<script type=\"application/javascript\">(function(root) {\n  function embed_document(root) {\n    var docs_json = {\"78e237c0-88e2-4704-ac76-38c7dcaeca6b\":{\"defs\":[{\"extends\":null,\"module\":null,\"name\":\"ReactiveHTML1\",\"overrides\":[],\"properties\":[]},{\"extends\":null,\"module\":null,\"name\":\"FlexBox1\",\"overrides\":[],\"properties\":[{\"default\":\"flex-start\",\"kind\":null,\"name\":\"align_content\"},{\"default\":\"flex-start\",\"kind\":null,\"name\":\"align_items\"},{\"default\":\"row\",\"kind\":null,\"name\":\"flex_direction\"},{\"default\":\"wrap\",\"kind\":null,\"name\":\"flex_wrap\"},{\"default\":\"flex-start\",\"kind\":null,\"name\":\"justify_content\"}]},{\"extends\":null,\"module\":null,\"name\":\"TemplateActions1\",\"overrides\":[],\"properties\":[{\"default\":0,\"kind\":null,\"name\":\"open_modal\"},{\"default\":0,\"kind\":null,\"name\":\"close_modal\"}]},{\"extends\":null,\"module\":null,\"name\":\"MaterialTemplateActions1\",\"overrides\":[],\"properties\":[{\"default\":0,\"kind\":null,\"name\":\"open_modal\"},{\"default\":0,\"kind\":null,\"name\":\"close_modal\"}]}],\"roots\":{\"references\":[{\"attributes\":{},\"id\":\"2202\",\"type\":\"UnionRenderers\"},{\"attributes\":{\"source\":{\"id\":\"2181\"}},\"id\":\"2188\",\"type\":\"CDSView\"},{\"attributes\":{\"label\":{\"value\":\"0\"},\"renderers\":[{\"id\":\"2120\"}]},\"id\":\"2133\",\"type\":\"LegendItem\"},{\"attributes\":{\"label\":{\"value\":\"3\"},\"renderers\":[{\"id\":\"2187\"}]},\"id\":\"2205\",\"type\":\"LegendItem\"},{\"attributes\":{\"fill_alpha\":{\"value\":0.2},\"fill_color\":{\"value\":\"#30a2da\"},\"hatch_alpha\":{\"value\":0.2},\"hatch_color\":{\"value\":\"#30a2da\"},\"line_alpha\":{\"value\":0.2},\"line_color\":{\"value\":\"#30a2da\"},\"size\":{\"value\":5.477225575051661},\"x\":{\"field\":\"TotalCoinsMinedScaled\"},\"y\":{\"field\":\"TotalCoinSupplyScaled\"}},\"id\":\"2119\",\"type\":\"Scatter\"},{\"attributes\":{\"callback\":null,\"renderers\":[{\"id\":\"2120\"},{\"id\":\"2141\"},{\"id\":\"2163\"},{\"id\":\"2187\"}],\"tags\":[\"hv_created\"],\"tooltips\":[[\"Class\",\"@{Class}\"],[\"TotalCoinsMinedScaled\",\"@{TotalCoinsMinedScaled}\"],[\"TotalCoinSupplyScaled\",\"@{TotalCoinSupplyScaled}\"],[\"CoinName\",\"@{CoinName}\"]]},\"id\":\"2074\",\"type\":\"HoverTool\"},{\"attributes\":{\"angle\":{\"value\":0.0},\"fill_alpha\":{\"value\":1.0},\"fill_color\":{\"value\":\"#30a2da\"},\"hatch_alpha\":{\"value\":1.0},\"hatch_color\":{\"value\":\"#30a2da\"},\"hatch_scale\":{\"value\":12.0},\"hatch_weight\":{\"value\":1.0},\"line_alpha\":{\"value\":1.0},\"line_cap\":{\"value\":\"butt\"},\"line_color\":{\"value\":\"#30a2da\"},\"line_dash\":{\"value\":[]},\"line_dash_offset\":{\"value\":0},\"line_join\":{\"value\":\"bevel\"},\"line_width\":{\"value\":1},\"marker\":{\"value\":\"circle\"},\"size\":{\"value\":5.477225575051661},\"x\":{\"field\":\"TotalCoinsMinedScaled\"},\"y\":{\"field\":\"TotalCoinSupplyScaled\"}},\"id\":\"2134\",\"type\":\"Scatter\"},{\"attributes\":{\"coordinates\":null,\"data_source\":{\"id\":\"2181\"},\"glyph\":{\"id\":\"2184\"},\"group\":null,\"hover_glyph\":null,\"muted_glyph\":{\"id\":\"2186\"},\"nonselection_glyph\":{\"id\":\"2185\"},\"selection_glyph\":{\"id\":\"2206\"},\"view\":{\"id\":\"2188\"}},\"id\":\"2187\",\"type\":\"GlyphRenderer\"},{\"attributes\":{\"source\":{\"id\":\"2114\"}},\"id\":\"2121\",\"type\":\"CDSView\"},{\"attributes\":{\"data\":{\"Class\":[2],\"CoinName\":[\"BitTorrent\"],\"TotalCoinSupplyScaled\":{\"__ndarray__\":\"rkfhehSu7z8=\",\"dtype\":\"float64\",\"order\":\"little\",\"shape\":[1]},\"TotalCoinsMinedScaled\":{\"__ndarray__\":\"AAAAAAAA8D8=\",\"dtype\":\"float64\",\"order\":\"little\",\"shape\":[1]}},\"selected\":{\"id\":\"2158\"},\"selection_policy\":{\"id\":\"2176\"}},\"id\":\"2157\",\"type\":\"ColumnDataSource\"},{\"attributes\":{},\"id\":\"2115\",\"type\":\"Selection\"},{\"attributes\":{},\"id\":\"2085\",\"type\":\"LinearScale\"},{\"attributes\":{},\"id\":\"2083\",\"type\":\"LinearScale\"},{\"attributes\":{\"coordinates\":null,\"group\":null,\"text\":\"Crypto Scatter\",\"text_color\":\"black\",\"text_font_size\":\"12pt\"},\"id\":\"2079\",\"type\":\"Title\"},{\"attributes\":{},\"id\":\"2088\",\"type\":\"BasicTicker\"},{\"attributes\":{\"axis\":{\"id\":\"2087\"},\"coordinates\":null,\"grid_line_color\":null,\"group\":null,\"ticker\":null},\"id\":\"2090\",\"type\":\"Grid\"},{\"attributes\":{\"data\":{\"Class\":[0,0,0,0,0,0,0,0,0,0,0,0,0,0,0,0,0,0,0,0,0,0,0,0,0,0,0,0,0,0,0,0,0,0,0,0,0,0,0,0,0,0,0,0,0,0,0,0,0,0,0,0,0,0,0,0,0,0,0,0,0,0,0,0,0,0,0,0,0,0,0,0,0,0,0,0,0,0,0,0,0,0,0,0,0,0,0,0,0,0,0,0,0,0,0,0,0,0,0,0,0,0,0,0,0,0,0,0,0,0,0,0,0,0,0,0,0,0,0,0,0,0,0,0,0,0,0,0,0,0,0,0,0,0,0,0,0,0,0,0,0,0,0,0,0,0,0,0,0,0,0,0,0,0,0,0,0,0,0,0,0,0,0,0,0,0,0,0,0,0,0,0,0,0,0,0,0,0,0,0,0,0,0,0,0,0,0,0,0,0,0,0,0,0,0,0,0,0,0,0,0,0,0,0,0,0,0,0,0,0,0,0,0,0,0,0,0,0,0,0,0,0,0,0,0,0,0,0,0,0,0,0,0,0,0,0,0,0,0,0,0,0,0,0,0,0,0,0,0,0,0,0,0,0,0,0,0,0,0,0,0,0,0,0,0,0,0,0,0,0,0,0,0,0,0,0,0,0,0,0,0,0,0,0,0,0,0,0,0,0],\"CoinName\":[\"42 Coin\",\"404Coin\",\"EliteCoin\",\"Dash\",\"Bitshares\",\"BitcoinDark\",\"PayCoin\",\"KoboCoin\",\"Aurora Coin\",\"BlueCoin\",\"EnergyCoin\",\"BitBar\",\"CryptoBullion\",\"CasinoCoin\",\"Diamond\",\"Exclusive Coin\",\"FlutterCoin\",\"HoboNickels\",\"HyperStake\",\"IOCoin\",\"MaxCoin\",\"MintCoin\",\"MazaCoin\",\"Nautilus Coin\",\"NavCoin\",\"OpalCoin\",\"Orbitcoin\",\"PotCoin\",\"PhoenixCoin\",\"Reddcoin\",\"SuperCoin\",\"SyncCoin\",\"TeslaCoin\",\"TittieCoin\",\"TorCoin\",\"UnitaryStatus Dollar\",\"UltraCoin\",\"VeriCoin\",\"X11 Coin\",\"Crypti\",\"StealthCoin\",\"ZCC Coin\",\"BurstCoin\",\"StorjCoin\",\"Neutron\",\"FairCoin\",\"RubyCoin\",\"Kore\",\"Dnotes\",\"8BIT Coin\",\"Sativa Coin\",\"Ucoin\",\"Vtorrent\",\"IslaCoin\",\"Nexus\",\"Droidz\",\"Squall Coin\",\"Diggits\",\"Paycon\",\"Emercoin\",\"EverGreenCoin\",\"Decred\",\"EDRCoin\",\"Hitcoin\",\"DubaiCoin\",\"PWR Coin\",\"BillaryCoin\",\"GPU Coin\",\"EuropeCoin\",\"ZeitCoin\",\"SwingCoin\",\"SafeExchangeCoin\",\"Nebuchadnezzar\",\"Ratecoin\",\"Revenu\",\"Clockcoin\",\"VIP Tokens\",\"BitSend\",\"Let it Ride\",\"PutinCoin\",\"iBankCoin\",\"Frankywillcoin\",\"MudraCoin\",\"Lutetium Coin\",\"GoldBlocks\",\"CarterCoin\",\"BitTokens\",\"MustangCoin\",\"ZoneCoin\",\"RootCoin\",\"BitCurrency\",\"Swiscoin\",\"BuzzCoin\",\"Opair\",\"PesoBit\",\"Halloween Coin\",\"CoffeeCoin\",\"RoyalCoin\",\"GanjaCoin V2\",\"TeamUP\",\"LanaCoin\",\"ARK\",\"InsaneCoin\",\"EmberCoin\",\"XenixCoin\",\"FreeCoin\",\"PLNCoin\",\"AquariusCoin\",\"Creatio\",\"Eternity\",\"Eurocoin\",\"BitcoinFast\",\"Stakenet\",\"BitConnect Coin\",\"MoneyCoin\",\"Enigma\",\"Russiacoin\",\"PandaCoin\",\"GameUnits\",\"GAKHcoin\",\"Allsafe\",\"LiteCreed\",\"Klingon Empire Darsek\",\"Internet of People\",\"KushCoin\",\"Printerium\",\"Impeach\",\"Zilbercoin\",\"FirstCoin\",\"FindCoin\",\"OpenChat\",\"RenosCoin\",\"VirtacoinPlus\",\"TajCoin\",\"Impact\",\"Atmos\",\"HappyCoin\",\"MacronCoin\",\"Condensate\",\"Independent Money System\",\"ArgusCoin\",\"LomoCoin\",\"ProCurrency\",\"GoldReserve\",\"GrowthCoin\",\"Phreak\",\"Degas Coin\",\"HTML5 Coin\",\"Ultimate Secure Cash\",\"QTUM\",\"Espers\",\"Denarius\",\"Virta Unique Coin\",\"Bitcoin Planet\",\"BritCoin\",\"Linda\",\"DeepOnion\",\"Signatum\",\"Cream\",\"Monoeci\",\"Draftcoin\",\"Vechain\",\"Stakecoin\",\"CoinonatX\",\"Ethereum Dark\",\"Obsidian\",\"Cardano\",\"Regalcoin\",\"TrezarCoin\",\"TerraNovaCoin\",\"Rupee\",\"WomenCoin\",\"Theresa May Coin\",\"NamoCoin\",\"LUXCoin\",\"Xios\",\"Bitcloud 2.0\",\"KekCoin\",\"BlackholeCoin\",\"Infinity Economics\",\"Magnet\",\"Lamden Tau\",\"Electra\",\"Bitcoin Diamond\",\"Cash & Back Coin\",\"Bulwark\",\"Kalkulus\",\"GermanCoin\",\"LiteCoin Ultra\",\"PhantomX\",\"Digiwage\",\"Trollcoin\",\"Litecoin Plus\",\"Monkey Project\",\"TokenPay\",\"1717 Masonic Commemorative Token\",\"My Big Coin\",\"Unified Society USDEX\",\"Tokyo Coin\",\"Stipend\",\"Pushi\",\"Ellerium\",\"Velox\",\"Ontology\",\"Bitspace\",\"Briacoin\",\"Ignition\",\"MedicCoin\",\"Bitcoin Green\",\"Deviant Coin\",\"Abjcoin\",\"Semux\",\"Carebit\",\"Zealium\",\"Proton\",\"iDealCash\",\"Bitcoin Incognito\",\"HollyWoodCoin\",\"Swisscoin\",\"Xt3ch\",\"TheVig\",\"EmaratCoin\",\"Dekado\",\"Lynx\",\"Poseidon Quark\",\"BitcoinWSpectrum\",\"Muse\",\"Trivechain\",\"Dystem\",\"Giant\",\"Peony Coin\",\"Absolute Coin\",\"Vitae\",\"TPCash\",\"ARENON\",\"EUNO\",\"MMOCoin\",\"Ketan\",\"XDNA\",\"PAXEX\",\"ThunderStake\",\"Kcash\",\"Acute Angle Cloud\",\"Bettex coin\",\"BitMoney\",\"Junson Ming Chan Coin\",\"HerbCoin\",\"PirateCash\",\"Oduwa\",\"Galilel\",\"Crypto Sports\",\"Credit\",\"Dash Platinum\",\"Nasdacoin\",\"Beetle Coin\",\"Titan Coin\",\"Award\",\"Insane Coin\",\"ALAX\",\"LiteDoge\",\"TruckCoin\",\"OrangeCoin\",\"BitstarCoin\",\"NeosCoin\",\"HyperCoin\",\"PinkCoin\",\"AudioCoin\",\"IncaKoin\",\"Piggy Coin\",\"Genstake\",\"XiaoMiCoin\",\"CapriCoin\",\" ClubCoin\",\"Radium\",\"Creditbit \",\"OKCash\",\"Lisk\",\"HiCoin\",\"WhiteCoin\",\"FriendshipCoin\",\"Triangles Coin\",\"EOS\",\"Oxycoin\",\"TigerCash\",\"Waves\",\"Particl\",\"Nxt\",\"ZEPHYR\",\"Gapcoin\",\"BitcoinPlus\"],\"TotalCoinSupplyScaled\":{\"__ndarray__\":\"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\",\"dtype\":\"float64\",\"order\":\"little\",\"shape\":[290]},\"TotalCoinsMinedScaled\":{\"__ndarray__\":\"AAAAAAAAAADVQ6eRhXZRP0gFXx0LSZ4/fb2YAaYh4z6ruJV6oa9mP4fxacJq17U+W7PlNwxp6T7W0pn52A37PoFADD9SNfM+Y2BMhDkIRT+TanQDD0sgP35ukl9tEWc+7S9W9+ubsT49x1z95a+kP28YHhABAMw+ye+KsSkQ2D76DhvNkpI+P1ecpQYuoxc/Ypyz9GrHWz/7kyPDCLLyPpO8/kFBRRA/0/9nDoYGlj/8i/ixXrVaP7x4IiUyI/E+j6uxX+B/ET9yUL0Vow3wPvxfgvURSss+cvkNgl17LT+LzHsEg5UTPwaytCCdUp4/8TiBm6/aCj9doxA1Q7ITPkOS6FanQBU/dL+NX1fZWj+VBQyzwkO4PlcDUAL0L1I/fTIxK6KaCj/j5byfQfUAPxuOVInTct0++0V+YL96Gj9FarAorYYBPzHwJWnxlyM/L/f3qVABXj+Tp6kxyxkLP8ZkQxXrtwQ/ibYLlr8rDD876RpKEMv8PqXMCj0KI8E+Y9QbIWkfJz/NWTdK5t+4PhEtw1ouEd4+SuSuQabKxj5dOKHlN5XoPj9ykiLfprk+IXp/RSnbED9yRrm5bCbiPvbV3K8TUJY++0V+YL96Gj+usZO2/Wf4PjQmLIvTzQY/1efNMZmp7D5+56xI8fTlPuaDOXY0GM8+uMNU6Ym/hj8I144k4rrVPosWSaGt1IQ/AkyV+P4P4z7jP4drq28FPzwUggjXC+Y+7L0e6OUeoz9rTh5jVovSPvn/Em4kxWE/kQBSK/0u9T7vjyYFktAhP3lc7dd7QrQ+QPXFzhym8T4+Nd5F5BgWP9J6jnO41Pk+ObDN1M5vBD+HQ9Dqr+lKP3YCdaw0LdM++0V+YL96Gj/CsEps9C7VPlS9UGUMv0U/pqRxDiJ88D7oqXRGKNwGP54PeOINLqQ+9FiPodBJpj5CAX3zt+DFPsR5KJfqb8A+T/4f/1R0Jj9wy+L1hwRGP4Iw9VQZQJQ/QVxHa5CaEz9q4x6W3sABP+anRel4hTE//jSGyJGwIz9a3dieLS/FPvtFfmC/eho/0CaSSobf8j7om9ie0ehRP4yfDBK/phw/2bdahaRt8z5pi0xWDNe3PzoFWd5FU9A+qVTopb56Cj8Kl7V81RnyPnWw/lSIwcQ+kQBSK/0u9T4WN5ZE6rbZPjz585B5Teo+mJbD7Cdx9T4t+OpgFAQUP+s1WKcNeec+4Jew0N0e5z5bwhuTX5yrPv5ylEtMv+E+qgjVT8Z8oT9eSCgLgW3NPrZMGtKEGMw+gWG4BsRH5j7bwMkrHwIAP/7gqRozYvk+ycQ2iXpnxT4Swqe2z/nXPmWo1pTmCuk+NMilXEnjlD75z9m7pMPIPrZ+M2OfIB0/oIVe/s3E7j56Q0MFuIxQP8DjwNiFFwM/Yojc8CLi6z6/xleSd8/pPjaSA+NaSx0/RxRsP55tHT8TzIbUfsv2PvWgsIfWkjo/vX+hfbIbID9qIh3CGb/WPtzbifm0dbM+ClzCLAnyoD4HdZcEvp8aP4T+AFYCMPI+MqZkmp+JMz9Xk1ir5SDoPkAjePZqn/Y+EiXgvSYHpT8A2wc5DOnlPvtFfmC/eho/PAT7udKVlz/kKuRSPKzRPvzVMe6uqhA/LSuoRvfT3D741RgF1Yb2PjQa6ZQatoI/cEzD1ck29z5MptGTM5ccP79RNfoAEQk/A/IJ6Umg6j460UXAisTzPs2g4AcRrqw/mO9bzlry0D6EUc3xJbL0PqB8WFRGy9E+B3K8ML16+j57/PtlW9GaP8LmK5XBxN4+Bh/umUwuKD8wD8hOyFSzPrzBQMmWa/k+rp7aV+kPqT9CUqMh5F8YP74vR7jljUI/McZWDzOY4T6jQtQrAzfCPh9wp4i2QwA/xDTgUPke6j4Qs5xlsVTxPkgxPBFPnoI/fiLM5MQ6BD+6ihEDPBIzP7lLXILzX50/YrqCwqdMKD/hujF22WIdP2ulizrsD+w+x4lPZ4v18T5woSpeKVJ0P4cZ6sLR1eE+fhwrH33sBz9y9oQbTOr8Pnc7MYj+j0M/CEcxCKQ4xT7hpgdtD6zSPrvcymHip/U+bnHiGX5ruz5EiFexPenjPhJgttbRFy8/7udFeLF9Lj/nOkeZlNXnPrvl+hZcXsI+vca2dTVrnD7QEgJQTBX7PhibEdXsikU/2hcymSE17T7w5ZzyEKmsPnSoVAx5CLQ+uGecINyxMT/aDqH1hMTkPudS3lPTK/c+kN9ciizu5D6aEdS4Bt20PlUpjj1MgCI/om+TfxZ25z7Dc6nzUKjSPkY1wU0FPVc/khOeM70Z5z6hJAmaq38EPy7wHhTRGYU/9Mfa+rkp4D4qKRjnQpoBP7ykOGGm4PY+cjI/RMYJAD98JpgkCCO0PyvK//sHBMc+Nkl3o7idDj/AqyC6i0XzPoY/nsDYjQM/NenvfYQB3j6sMcXCOxTZPkaEeyF8qLE+Oa21oUE+7D6HoWrpn30RP30oAUPr5NY+Vm0Mo+po9D6Kjxo7yksAP5v6hHEKiRw/xGg1vBTC4z7uib9lw8vTPoubEauvFdM+621cOLqKUT96Q0MFuIxQP3pDQwW4jFA/j6T3FZPB3D7l66IyYpsrP6sg48UZzZE/yLfFtXGzAj+YRvIV+IvsPiJpWr7XTe8+4/ds9YtY8z4H2XD9qWTAPooq7/B94p8/4tbNEUVBqD5AVloZLsP1PqJsVzvCVio/IzBMrEKrTT8owWx6L1XwPguSjTTXLvk+ekNDBbiMUD9g9aU8urCPP8wjSmHfDjA/rR3J9LH4zT5jrGXLUMv1Pn9hyEvMm9I+ZGM0MPpm5D4jGGd/1OI8P5zTLIUWO1A/nEPLLlmOkj+JwbXT6ltAPx/GUqt+xg8/OLivhebDOj9jAAG9/agqPxgklPhDcBs/S/YcU3ow0D7D6UYWs+bxPpiSLOkZxhM/MuMfElLHHz/xsMY/B7CEP1uh+dK0rjA/pPRgE3/8sj6rSTdTixSDPkVvlJzC41A/EcJq2jeTUj96Q0MFuIxQP/tFfmC/eho/s0VJGDmq4z56Q0MFuIxQPwcccQq4jGA/OcIUhBWh7z5CDuXNaWSBPg==\",\"dtype\":\"float64\",\"order\":\"little\",\"shape\":[290]}},\"selected\":{\"id\":\"2115\"},\"selection_policy\":{\"id\":\"2129\"}},\"id\":\"2114\",\"type\":\"ColumnDataSource\"},{\"attributes\":{},\"id\":\"2158\",\"type\":\"Selection\"},{\"attributes\":{\"source\":{\"id\":\"2157\"}},\"id\":\"2164\",\"type\":\"CDSView\"},{\"attributes\":{\"axis_label\":\"Total Coins Mined\",\"coordinates\":null,\"formatter\":{\"id\":\"2109\"},\"group\":null,\"major_label_policy\":{\"id\":\"2110\"},\"ticker\":{\"id\":\"2088\"}},\"id\":\"2087\",\"type\":\"LinearAxis\"},{\"attributes\":{},\"id\":\"2129\",\"type\":\"UnionRenderers\"},{\"attributes\":{\"fill_color\":{\"value\":\"#e5ae38\"},\"hatch_color\":{\"value\":\"#e5ae38\"},\"line_color\":{\"value\":\"#e5ae38\"},\"size\":{\"value\":5.477225575051661},\"x\":{\"field\":\"TotalCoinsMinedScaled\"},\"y\":{\"field\":\"TotalCoinSupplyScaled\"}},\"id\":\"2160\",\"type\":\"Scatter\"},{\"attributes\":{},\"id\":\"2097\",\"type\":\"WheelZoomTool\"},{\"attributes\":{},\"id\":\"2176\",\"type\":\"UnionRenderers\"},{\"attributes\":{\"fill_alpha\":{\"value\":0.1},\"fill_color\":{\"value\":\"#e5ae38\"},\"hatch_alpha\":{\"value\":0.1},\"hatch_color\":{\"value\":\"#e5ae38\"},\"line_alpha\":{\"value\":0.1},\"line_color\":{\"value\":\"#e5ae38\"},\"size\":{\"value\":5.477225575051661},\"x\":{\"field\":\"TotalCoinsMinedScaled\"},\"y\":{\"field\":\"TotalCoinSupplyScaled\"}},\"id\":\"2161\",\"type\":\"Scatter\"},{\"attributes\":{},\"id\":\"2096\",\"type\":\"PanTool\"},{\"attributes\":{},\"id\":\"2136\",\"type\":\"Selection\"},{\"attributes\":{\"coordinates\":null,\"data_source\":{\"id\":\"2157\"},\"glyph\":{\"id\":\"2160\"},\"group\":null,\"hover_glyph\":null,\"muted_glyph\":{\"id\":\"2162\"},\"nonselection_glyph\":{\"id\":\"2161\"},\"selection_glyph\":{\"id\":\"2180\"},\"view\":{\"id\":\"2164\"}},\"id\":\"2163\",\"type\":\"GlyphRenderer\"},{\"attributes\":{},\"id\":\"2110\",\"type\":\"AllLabels\"},{\"attributes\":{\"axis_label\":\"Total Coin Supply\",\"coordinates\":null,\"formatter\":{\"id\":\"2112\"},\"group\":null,\"major_label_policy\":{\"id\":\"2113\"},\"ticker\":{\"id\":\"2092\"}},\"id\":\"2091\",\"type\":\"LinearAxis\"},{\"attributes\":{\"axis\":{\"id\":\"2091\"},\"coordinates\":null,\"dimension\":1,\"grid_line_color\":null,\"group\":null,\"ticker\":null},\"id\":\"2094\",\"type\":\"Grid\"},{\"attributes\":{},\"id\":\"2092\",\"type\":\"BasicTicker\"},{\"attributes\":{},\"id\":\"2095\",\"type\":\"SaveTool\"},{\"attributes\":{\"fill_alpha\":{\"value\":0.2},\"fill_color\":{\"value\":\"#e5ae38\"},\"hatch_alpha\":{\"value\":0.2},\"hatch_color\":{\"value\":\"#e5ae38\"},\"line_alpha\":{\"value\":0.2},\"line_color\":{\"value\":\"#e5ae38\"},\"size\":{\"value\":5.477225575051661},\"x\":{\"field\":\"TotalCoinsMinedScaled\"},\"y\":{\"field\":\"TotalCoinSupplyScaled\"}},\"id\":\"2162\",\"type\":\"Scatter\"},{\"attributes\":{\"overlay\":{\"id\":\"2100\"}},\"id\":\"2098\",\"type\":\"BoxZoomTool\"},{\"attributes\":{\"data\":{\"Class\":[1,1,1],\"CoinName\":[\"BiblePay\",\"LitecoinCash\",\"Poa Network\"],\"TotalCoinSupplyScaled\":{\"__ndarray__\":\"lPYGX5hMdT+8eapDboZLP4RaKOGWizA/\",\"dtype\":\"float64\",\"order\":\"little\",\"shape\":[3]},\"TotalCoinsMinedScaled\":{\"__ndarray__\":\"j1gNkdpTXT+QpMXySiFFP5wZJXiPEis/\",\"dtype\":\"float64\",\"order\":\"little\",\"shape\":[3]}},\"selected\":{\"id\":\"2136\"},\"selection_policy\":{\"id\":\"2152\"}},\"id\":\"2135\",\"type\":\"ColumnDataSource\"},{\"attributes\":{},\"id\":\"2099\",\"type\":\"ResetTool\"},{\"attributes\":{\"data\":{\"Class\":[3,3,3,3,3,3,3,3,3,3,3,3,3,3,3,3,3,3,3,3,3,3,3,3,3,3,3,3,3,3,3,3,3,3,3,3,3,3,3,3,3,3,3,3,3,3,3,3,3,3,3,3,3,3,3,3,3,3,3,3,3,3,3,3,3,3,3,3,3,3,3,3,3,3,3,3,3,3,3,3,3,3,3,3,3,3,3,3,3,3,3,3,3,3,3,3,3,3,3,3,3,3,3,3,3,3,3,3,3,3,3,3,3,3,3,3,3,3,3,3,3,3,3,3,3,3,3,3,3,3,3,3,3,3,3,3,3,3,3,3,3,3,3,3,3,3,3,3,3,3,3,3,3,3,3,3,3,3,3,3,3,3,3,3,3,3,3,3,3,3,3,3,3,3,3,3,3,3,3,3,3,3,3,3,3,3,3,3,3,3,3,3,3,3,3,3,3,3,3,3,3,3,3,3,3,3,3,3,3,3,3,3,3,3,3,3,3,3,3,3,3,3,3,3,3,3,3,3,3,3,3,3,3,3,3,3,3,3],\"CoinName\":[\"Bitcoin\",\"Ethereum\",\"Litecoin\",\"Monero\",\"Ethereum Classic\",\"ZCash\",\"DigiByte\",\"ProsperCoin\",\"Spreadcoin\",\"Argentum\",\"MyriadCoin\",\"MoonCoin\",\"ZetaCoin\",\"SexCoin\",\"Quatloo\",\"QuarkCoin\",\"Riecoin\",\"Digitalcoin \",\"Catcoin\",\"CannaCoin\",\"CryptCoin\",\"Verge\",\"DevCoin\",\"EarthCoin\",\"E-Gulden\",\"Einsteinium\",\"Emerald\",\"Franko\",\"FeatherCoin\",\"GrandCoin\",\"GlobalCoin\",\"GoldCoin\",\"Infinite Coin\",\"IXcoin\",\"KrugerCoin\",\"LuckyCoin\",\"Litebar \",\"MegaCoin\",\"MediterraneanCoin\",\"MinCoin\",\"NobleCoin\",\"Namecoin\",\"NyanCoin\",\"RonPaulCoin\",\"StableCoin\",\"SmartCoin\",\"SysCoin\",\"TigerCoin\",\"TerraCoin\",\"UnbreakableCoin\",\"Unobtanium\",\"UroCoin\",\"ViaCoin\",\"Vertcoin\",\"WorldCoin\",\"JouleCoin\",\"ByteCoin\",\"DigitalNote \",\"MonaCoin\",\"Gulden\",\"PesetaCoin\",\"Wild Beast Coin\",\"Flo\",\"ArtByte\",\"Folding Coin\",\"Unitus\",\"CypherPunkCoin\",\"OmniCron\",\"GreenCoin\",\"Cryptonite\",\"MasterCoin\",\"SoonCoin\",\"1Credit\",\"MarsCoin \",\"Crypto\",\"Anarchists Prime\",\"BowsCoin\",\"Song Coin\",\"BitZeny\",\"Expanse\",\"Siacoin\",\"MindCoin\",\"I0coin\",\"Revolution VR\",\"HOdlcoin\",\"Gamecredits\",\"CarpeDiemCoin\",\"Adzcoin\",\"SoilCoin\",\"YoCoin\",\"SibCoin\",\"Francs\",\"BolivarCoin\",\"Omni\",\"PizzaCoin\",\"Komodo\",\"Karbo\",\"ZayedCoin\",\"Circuits of Value\",\"DopeCoin\",\"DollarCoin\",\"Shilling\",\"ZCoin\",\"Elementrem\",\"ZClassic\",\"KiloCoin\",\"ArtexCoin\",\"Kurrent\",\"Cannabis Industry Coin\",\"OsmiumCoin\",\"Bikercoins\",\"HexxCoin\",\"PacCoin\",\"Citadel\",\"BeaverCoin\",\"VaultCoin\",\"Zero\",\"Canada eCoin\",\"Zoin\",\"DubaiCoin\",\"EB3coin\",\"Coinonat\",\"BenjiRolls\",\"ILCoin\",\"EquiTrader\",\"Quantum Resistant Ledger\",\"Dynamic\",\"Nano\",\"ChanCoin\",\"Dinastycoin\",\"DigitalPrice\",\"Unify\",\"SocialCoin\",\"ArcticCoin\",\"DAS\",\"LeviarCoin\",\"Bitcore\",\"gCn Coin\",\"SmartCash\",\"Onix\",\"Bitcoin Cash\",\"Sojourn Coin\",\"NewYorkCoin\",\"FrazCoin\",\"Kronecoin\",\"AdCoin\",\"Linx\",\"Sumokoin\",\"BitcoinZ\",\"Elements\",\"VIVO Coin\",\"Bitcoin Gold\",\"Pirl\",\"eBoost\",\"Pura\",\"Innova\",\"Ellaism\",\"GoByte\",\"SHIELD\",\"UltraNote\",\"BitCoal\",\"DaxxCoin\",\"AC3\",\"Lethean\",\"PopularCoin\",\"Photon\",\"Sucre\",\"SparksPay\",\"GunCoin\",\"IrishCoin\",\"Pioneer Coin\",\"UnitedBitcoin\",\"Interzone\",\"TurtleCoin\",\"MUNcoin\",\"Niobio Cash\",\"ShareChain\",\"Travelflex\",\"KREDS\",\"BitFlip\",\"LottoCoin\",\"Crypto Improvement Fund\",\"Callisto Network\",\"BitTube\",\"Poseidon\",\"Aidos Kuneen\",\"Bitrolium\",\"Alpenschillling\",\"FuturoCoin\",\"Monero Classic\",\"Jumpcoin\",\"Infinex\",\"KEYCO\",\"GINcoin\",\"PlatinCoin\",\"Loki\",\"Newton Coin\",\"MassGrid\",\"PluraCoin\",\"Motion\",\"PlusOneCoin\",\"Axe\",\"HexCoin\",\"Webchain\",\"Ryo\",\"Urals Coin\",\"Qwertycoin\",\"Project Pai\",\"Azart\",\"Xchange\",\"CrypticCoin\",\"Actinium\",\"Bitcoin SV\",\"FREDEnergy\",\"Universal Molecule\",\"Lithium\",\"Exosis\",\"Block-Logic\",\"Beam\",\"Bithereum\",\"SLICE\",\"BLAST\",\"Bitcoin Rhodium\",\"GlobalToken\",\"SolarCoin\",\"UFO Coin\",\"BlakeCoin\",\"Crypto Escudo\",\"Crown Coin\",\"SmileyCoin\",\"Groestlcoin\",\"Bata\",\"Pakcoin\",\"JoinCoin\",\"Vollar\",\"Reality Clash\",\"Beldex\",\"Horizen\"],\"TotalCoinSupplyScaled\":{\"__ndarray__\":\"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\",\"dtype\":\"float64\",\"order\":\"little\",\"shape\":[238]},\"TotalCoinsMinedScaled\":{\"__ndarray__\":\"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\",\"dtype\":\"float64\",\"order\":\"little\",\"shape\":[238]}},\"selected\":{\"id\":\"2182\"},\"selection_policy\":{\"id\":\"2202\"}},\"id\":\"2181\",\"type\":\"ColumnDataSource\"},{\"attributes\":{\"fill_color\":{\"value\":\"#fc4f30\"},\"hatch_color\":{\"value\":\"#fc4f30\"},\"line_color\":{\"value\":\"#fc4f30\"},\"size\":{\"value\":5.477225575051661},\"x\":{\"field\":\"TotalCoinsMinedScaled\"},\"y\":{\"field\":\"TotalCoinSupplyScaled\"}},\"id\":\"2138\",\"type\":\"Scatter\"},{\"attributes\":{\"angle\":{\"value\":0.0},\"fill_alpha\":{\"value\":1.0},\"fill_color\":{\"value\":\"#6d904f\"},\"hatch_alpha\":{\"value\":1.0},\"hatch_color\":{\"value\":\"#6d904f\"},\"hatch_scale\":{\"value\":12.0},\"hatch_weight\":{\"value\":1.0},\"line_alpha\":{\"value\":1.0},\"line_cap\":{\"value\":\"butt\"},\"line_color\":{\"value\":\"#6d904f\"},\"line_dash\":{\"value\":[]},\"line_dash_offset\":{\"value\":0},\"line_join\":{\"value\":\"bevel\"},\"line_width\":{\"value\":1},\"marker\":{\"value\":\"circle\"},\"size\":{\"value\":5.477225575051661},\"x\":{\"field\":\"TotalCoinsMinedScaled\"},\"y\":{\"field\":\"TotalCoinSupplyScaled\"}},\"id\":\"2206\",\"type\":\"Scatter\"},{\"attributes\":{\"fill_alpha\":{\"value\":0.1},\"fill_color\":{\"value\":\"#fc4f30\"},\"hatch_alpha\":{\"value\":0.1},\"hatch_color\":{\"value\":\"#fc4f30\"},\"line_alpha\":{\"value\":0.1},\"line_color\":{\"value\":\"#fc4f30\"},\"size\":{\"value\":5.477225575051661},\"x\":{\"field\":\"TotalCoinsMinedScaled\"},\"y\":{\"field\":\"TotalCoinSupplyScaled\"}},\"id\":\"2139\",\"type\":\"Scatter\"},{\"attributes\":{\"bottom_units\":\"screen\",\"coordinates\":null,\"fill_alpha\":0.5,\"fill_color\":\"lightgrey\",\"group\":null,\"left_units\":\"screen\",\"level\":\"overlay\",\"line_alpha\":1.0,\"line_color\":\"black\",\"line_dash\":[4,4],\"line_width\":2,\"right_units\":\"screen\",\"syncable\":false,\"top_units\":\"screen\"},\"id\":\"2100\",\"type\":\"BoxAnnotation\"},{\"attributes\":{\"coordinates\":null,\"data_source\":{\"id\":\"2135\"},\"glyph\":{\"id\":\"2138\"},\"group\":null,\"hover_glyph\":null,\"muted_glyph\":{\"id\":\"2140\"},\"nonselection_glyph\":{\"id\":\"2139\"},\"selection_glyph\":{\"id\":\"2156\"},\"view\":{\"id\":\"2142\"}},\"id\":\"2141\",\"type\":\"GlyphRenderer\"},{\"attributes\":{},\"id\":\"2152\",\"type\":\"UnionRenderers\"},{\"attributes\":{\"tools\":[{\"id\":\"2074\"},{\"id\":\"2095\"},{\"id\":\"2096\"},{\"id\":\"2097\"},{\"id\":\"2098\"},{\"id\":\"2099\"}]},\"id\":\"2101\",\"type\":\"Toolbar\"},{\"attributes\":{\"margin\":[5,5,5,5],\"name\":\"HSpacer03829\",\"sizing_mode\":\"stretch_width\"},\"id\":\"2071\",\"type\":\"Spacer\"},{\"attributes\":{\"fill_alpha\":{\"value\":0.2},\"fill_color\":{\"value\":\"#fc4f30\"},\"hatch_alpha\":{\"value\":0.2},\"hatch_color\":{\"value\":\"#fc4f30\"},\"line_alpha\":{\"value\":0.2},\"line_color\":{\"value\":\"#fc4f30\"},\"size\":{\"value\":5.477225575051661},\"x\":{\"field\":\"TotalCoinsMinedScaled\"},\"y\":{\"field\":\"TotalCoinSupplyScaled\"}},\"id\":\"2140\",\"type\":\"Scatter\"},{\"attributes\":{\"children\":[{\"id\":\"2071\"},{\"id\":\"2078\"},{\"id\":\"2351\"}],\"margin\":[0,0,0,0],\"name\":\"Row03825\",\"tags\":[\"embedded\"]},\"id\":\"2070\",\"type\":\"Row\"},{\"attributes\":{},\"id\":\"2113\",\"type\":\"AllLabels\"},{\"attributes\":{\"source\":{\"id\":\"2135\"}},\"id\":\"2142\",\"type\":\"CDSView\"},{\"attributes\":{\"label\":{\"value\":\"1\"},\"renderers\":[{\"id\":\"2141\"}]},\"id\":\"2155\",\"type\":\"LegendItem\"},{\"attributes\":{\"click_policy\":\"mute\",\"coordinates\":null,\"group\":null,\"items\":[{\"id\":\"2133\"},{\"id\":\"2155\"},{\"id\":\"2179\"},{\"id\":\"2205\"}],\"location\":[0,0],\"title\":\"Class\"},\"id\":\"2132\",\"type\":\"Legend\"},{\"attributes\":{},\"id\":\"2112\",\"type\":\"BasicTickFormatter\"},{\"attributes\":{\"angle\":{\"value\":0.0},\"fill_alpha\":{\"value\":1.0},\"fill_color\":{\"value\":\"#e5ae38\"},\"hatch_alpha\":{\"value\":1.0},\"hatch_color\":{\"value\":\"#e5ae38\"},\"hatch_scale\":{\"value\":12.0},\"hatch_weight\":{\"value\":1.0},\"line_alpha\":{\"value\":1.0},\"line_cap\":{\"value\":\"butt\"},\"line_color\":{\"value\":\"#e5ae38\"},\"line_dash\":{\"value\":[]},\"line_dash_offset\":{\"value\":0},\"line_join\":{\"value\":\"bevel\"},\"line_width\":{\"value\":1},\"marker\":{\"value\":\"circle\"},\"size\":{\"value\":5.477225575051661},\"x\":{\"field\":\"TotalCoinsMinedScaled\"},\"y\":{\"field\":\"TotalCoinSupplyScaled\"}},\"id\":\"2180\",\"type\":\"Scatter\"},{\"attributes\":{\"margin\":[5,5,5,5],\"name\":\"HSpacer03830\",\"sizing_mode\":\"stretch_width\"},\"id\":\"2351\",\"type\":\"Spacer\"},{\"attributes\":{},\"id\":\"2109\",\"type\":\"BasicTickFormatter\"},{\"attributes\":{},\"id\":\"2182\",\"type\":\"Selection\"},{\"attributes\":{\"fill_color\":{\"value\":\"#6d904f\"},\"hatch_color\":{\"value\":\"#6d904f\"},\"line_color\":{\"value\":\"#6d904f\"},\"size\":{\"value\":5.477225575051661},\"x\":{\"field\":\"TotalCoinsMinedScaled\"},\"y\":{\"field\":\"TotalCoinSupplyScaled\"}},\"id\":\"2184\",\"type\":\"Scatter\"},{\"attributes\":{\"coordinates\":null,\"data_source\":{\"id\":\"2114\"},\"glyph\":{\"id\":\"2117\"},\"group\":null,\"hover_glyph\":null,\"muted_glyph\":{\"id\":\"2119\"},\"nonselection_glyph\":{\"id\":\"2118\"},\"selection_glyph\":{\"id\":\"2134\"},\"view\":{\"id\":\"2121\"}},\"id\":\"2120\",\"type\":\"GlyphRenderer\"},{\"attributes\":{\"end\":1.042857142857143,\"reset_end\":1.042857142857143,\"reset_start\":-0.04285714285714286,\"start\":-0.04285714285714286,\"tags\":[[[\"TotalCoinsMinedScaled\",\"TotalCoinsMinedScaled\",null]]]},\"id\":\"2072\",\"type\":\"Range1d\"},{\"attributes\":{\"fill_alpha\":{\"value\":0.1},\"fill_color\":{\"value\":\"#6d904f\"},\"hatch_alpha\":{\"value\":0.1},\"hatch_color\":{\"value\":\"#6d904f\"},\"line_alpha\":{\"value\":0.1},\"line_color\":{\"value\":\"#6d904f\"},\"size\":{\"value\":5.477225575051661},\"x\":{\"field\":\"TotalCoinsMinedScaled\"},\"y\":{\"field\":\"TotalCoinSupplyScaled\"}},\"id\":\"2185\",\"type\":\"Scatter\"},{\"attributes\":{\"fill_color\":{\"value\":\"#30a2da\"},\"hatch_color\":{\"value\":\"#30a2da\"},\"line_color\":{\"value\":\"#30a2da\"},\"size\":{\"value\":5.477225575051661},\"x\":{\"field\":\"TotalCoinsMinedScaled\"},\"y\":{\"field\":\"TotalCoinSupplyScaled\"}},\"id\":\"2117\",\"type\":\"Scatter\"},{\"attributes\":{\"angle\":{\"value\":0.0},\"fill_alpha\":{\"value\":1.0},\"fill_color\":{\"value\":\"#fc4f30\"},\"hatch_alpha\":{\"value\":1.0},\"hatch_color\":{\"value\":\"#fc4f30\"},\"hatch_scale\":{\"value\":12.0},\"hatch_weight\":{\"value\":1.0},\"line_alpha\":{\"value\":1.0},\"line_cap\":{\"value\":\"butt\"},\"line_color\":{\"value\":\"#fc4f30\"},\"line_dash\":{\"value\":[]},\"line_dash_offset\":{\"value\":0},\"line_join\":{\"value\":\"bevel\"},\"line_width\":{\"value\":1},\"marker\":{\"value\":\"circle\"},\"size\":{\"value\":5.477225575051661},\"x\":{\"field\":\"TotalCoinsMinedScaled\"},\"y\":{\"field\":\"TotalCoinSupplyScaled\"}},\"id\":\"2156\",\"type\":\"Scatter\"},{\"attributes\":{\"fill_alpha\":{\"value\":0.1},\"fill_color\":{\"value\":\"#30a2da\"},\"hatch_alpha\":{\"value\":0.1},\"hatch_color\":{\"value\":\"#30a2da\"},\"line_alpha\":{\"value\":0.1},\"line_color\":{\"value\":\"#30a2da\"},\"size\":{\"value\":5.477225575051661},\"x\":{\"field\":\"TotalCoinsMinedScaled\"},\"y\":{\"field\":\"TotalCoinSupplyScaled\"}},\"id\":\"2118\",\"type\":\"Scatter\"},{\"attributes\":{\"below\":[{\"id\":\"2087\"}],\"center\":[{\"id\":\"2090\"},{\"id\":\"2094\"}],\"height\":300,\"left\":[{\"id\":\"2091\"}],\"margin\":[5,5,5,5],\"min_border_bottom\":10,\"min_border_left\":10,\"min_border_right\":10,\"min_border_top\":10,\"renderers\":[{\"id\":\"2120\"},{\"id\":\"2141\"},{\"id\":\"2163\"},{\"id\":\"2187\"}],\"right\":[{\"id\":\"2132\"}],\"sizing_mode\":\"fixed\",\"title\":{\"id\":\"2079\"},\"toolbar\":{\"id\":\"2101\"},\"width\":700,\"x_range\":{\"id\":\"2072\"},\"x_scale\":{\"id\":\"2083\"},\"y_range\":{\"id\":\"2073\"},\"y_scale\":{\"id\":\"2085\"}},\"id\":\"2078\",\"subtype\":\"Figure\",\"type\":\"Plot\"},{\"attributes\":{\"fill_alpha\":{\"value\":0.2},\"fill_color\":{\"value\":\"#6d904f\"},\"hatch_alpha\":{\"value\":0.2},\"hatch_color\":{\"value\":\"#6d904f\"},\"line_alpha\":{\"value\":0.2},\"line_color\":{\"value\":\"#6d904f\"},\"size\":{\"value\":5.477225575051661},\"x\":{\"field\":\"TotalCoinsMinedScaled\"},\"y\":{\"field\":\"TotalCoinSupplyScaled\"}},\"id\":\"2186\",\"type\":\"Scatter\"},{\"attributes\":{\"end\":1.1,\"reset_end\":1.1,\"reset_start\":-0.1,\"start\":-0.1,\"tags\":[[[\"TotalCoinSupplyScaled\",\"TotalCoinSupplyScaled\",null]]]},\"id\":\"2073\",\"type\":\"Range1d\"},{\"attributes\":{\"label\":{\"value\":\"2\"},\"renderers\":[{\"id\":\"2163\"}]},\"id\":\"2179\",\"type\":\"LegendItem\"}],\"root_ids\":[\"2070\"]},\"title\":\"Bokeh Application\",\"version\":\"2.4.1\"}};\n    var render_items = [{\"docid\":\"78e237c0-88e2-4704-ac76-38c7dcaeca6b\",\"root_ids\":[\"2070\"],\"roots\":{\"2070\":\"8b950796-185f-4582-98ee-0b962ae70f55\"}}];\n    root.Bokeh.embed.embed_items_notebook(docs_json, render_items);\n  }\n  if (root.Bokeh !== undefined && root.Bokeh.Panel !== undefined) {\n    embed_document(root);\n  } else {\n    var attempts = 0;\n    var timer = setInterval(function(root) {\n      if (root.Bokeh !== undefined && root.Bokeh.Panel !== undefined) {\n        clearInterval(timer);\n        embed_document(root);\n      } else if (document.readyState == \"complete\") {\n        attempts++;\n        if (attempts > 200) {\n          clearInterval(timer);\n          console.log(\"Bokeh: ERROR: Unable to run BokehJS code because BokehJS library is missing\");\n        }\n      }\n    }, 25, root)\n  }\n})(window);</script>",
      "application/vnd.holoviews_exec.v0+json": "",
      "text/plain": ":NdOverlay   [Class]\n   :Scatter   [TotalCoinsMinedScaled]   (TotalCoinSupplyScaled,CoinName)"
     },
     "execution_count": 51,
     "metadata": {
      "application/vnd.holoviews_exec.v0+json": {
       "id": "2070"
      }
     },
     "output_type": "execute_result"
    }
   ],
   "source": [
    "# Create a hvplot.scatter plot using x=\"TotalCoinsMined\" and y=\"TotalCoinSupply\".\n",
    "scatterDf.hvplot.scatter(x='TotalCoinsMinedScaled',\n",
    "                         y='TotalCoinSupplyScaled',\n",
    "                         by='Class',\n",
    "                         xlabel='Total Coins Mined',\n",
    "                         ylabel='Total Coin Supply',\n",
    "                         title='Crypto Scatter',\n",
    "                         hover_cols=['CoinName']\n",
    "                         )\n"
   ]
  },
  {
   "cell_type": "code",
   "execution_count": 51,
   "metadata": {},
   "outputs": [],
   "source": []
  }
 ],
 "metadata": {
  "file_extension": ".py",
  "kernelspec": {
   "display_name": "mlenve",
   "language": "python",
   "name": "mlenve"
  },
  "language_info": {
   "codemirror_mode": {
    "name": "ipython",
    "version": 3
   },
   "file_extension": ".py",
   "mimetype": "text/x-python",
   "name": "python",
   "nbconvert_exporter": "python",
   "pygments_lexer": "ipython3",
   "version": "3.10.0"
  },
  "latex_envs": {
   "LaTeX_envs_menu_present": true,
   "autoclose": false,
   "autocomplete": true,
   "bibliofile": "biblio.bib",
   "cite_by": "apalike",
   "current_citInitial": 1,
   "eqLabelWithNumbers": true,
   "eqNumInitial": 1,
   "hotkeys": {
    "equation": "Ctrl-E",
    "itemize": "Ctrl-I"
   },
   "labels_anchors": false,
   "latex_user_defs": false,
   "report_style_numbering": false,
   "user_envs_cfg": false
  },
  "mimetype": "text/x-python",
  "name": "python",
  "npconvert_exporter": "python",
  "pygments_lexer": "ipython3",
  "version": 3
 },
 "nbformat": 4,
 "nbformat_minor": 2
}